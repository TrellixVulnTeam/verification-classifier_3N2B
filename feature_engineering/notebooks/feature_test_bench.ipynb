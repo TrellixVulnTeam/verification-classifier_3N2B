{
 "cells": [
  {
   "cell_type": "markdown",
   "metadata": {},
   "source": [
    "# Import libraries"
   ]
  },
  {
   "cell_type": "code",
   "execution_count": null,
   "metadata": {},
   "outputs": [],
   "source": [
    "import sys\n",
    "import glob, os\n",
    "import pandas as pd\n",
    "import numpy as np\n",
    "import plotly.plotly as py\n",
    "import plotly.graph_objs as go\n",
    "import plotly.offline as offline\n",
    "from plotly import tools\n",
    "import time\n",
    "\n",
    "from scipy.spatial import distance\n",
    "from scipy import linalg\n",
    "from scipy import signal\n",
    "import matplotlib.pyplot as plt\n",
    "\n",
    "%matplotlib inline\n",
    "offline.init_notebook_mode()\n",
    "pd.options.display.float_format = '{:.6f}'.format\n",
    "pd.options.display.max_rows = 999\n",
    "pd.options.display.max_columns = 999\n",
    "\n",
    "sys.path.insert(0, '../../scripts/asset_processor/')\n",
    "# load the autoreload extension\n",
    "%load_ext autoreload\n",
    "# Set extension to reload modules every time before executing code\n",
    "%autoreload 2\n",
    "\n",
    "from video_asset_processor import video_asset_processor\n",
    "from video_metrics import video_metrics\n"
   ]
  },
  {
   "cell_type": "markdown",
   "metadata": {},
   "source": [
    "# Computes a list of metrics for some assets"
   ]
  },
  {
   "cell_type": "code",
   "execution_count": null,
   "metadata": {
    "scrolled": true
   },
   "outputs": [],
   "source": [
    "path = '../../stream/'\n",
    "\n",
    "resolutions = [\n",
    "               144, \n",
    "               240, \n",
    "               360,\n",
    "               480,\n",
    "               720,\n",
    "               1080\n",
    "              ]\n",
    "\n",
    "attacks = [\n",
    "           'watermark',\n",
    "           'watermark-345x114',\n",
    "           'watermark-856x856',\n",
    "           'vignette',\n",
    "           'low_bitrate_4',\n",
    "           'low_bitrate_8',\n",
    "           'black_and_white',\n",
    "#            'flip_vertical',\n",
    "           'rotate_90_clockwise'\n",
    "          ]\n",
    "\n",
    "seconds = 2\n",
    "max_samples = 10\n",
    "total_videos = 5\n",
    "\n",
    "assets = np.random.choice(os.listdir(path + '1080p'), total_videos, replace=False)\n",
    "\n",
    "metrics_list = ['temporal_texture',\n",
    "                'temporal_gaussian',\n",
    "                'temporal_gaussian_difference_threshold', \n",
    "                'temporal_dct'\n",
    "               ]\n",
    "\n",
    "metrics_df = pd.DataFrame()\n",
    "init = time.time()\n",
    "\n",
    "for asset in assets:\n",
    "    original_asset = path + '1080p/' + asset\n",
    "    renditions_list = [path + str(res) + 'p/' + asset for res in resolutions]\n",
    "    attack_list = [path + str(res) + 'p_' + attk + '/' + asset for res in resolutions for attk in attacks]\n",
    "    renditions_list += attack_list\n",
    "    asset_processor = video_asset_processor(original_asset, renditions_list, metrics_list, seconds,\n",
    "                                            max_samples)\n",
    "    metrics = asset_processor.process()\n",
    "    metrics_df = metrics_df.append(metrics)\n",
    "\n",
    "print('That took {0:.2f} seconds to compute'.format(time.time() - init))"
   ]
  },
  {
   "cell_type": "code",
   "execution_count": null,
   "metadata": {
    "scrolled": true
   },
   "outputs": [],
   "source": [
    "metrics_df = metrics_df.reset_index()\n",
    "metrics_df = metrics_df.drop('index', axis=1)\n"
   ]
  },
  {
   "cell_type": "code",
   "execution_count": null,
   "metadata": {},
   "outputs": [],
   "source": [
    "features = [metric + '-mean' for metric in metrics_list]\n",
    "columns = ['dimension', 'size', 'title', 'attack'] + features\n",
    "metrics_df = metrics_df.filter(columns)\n",
    "attacks = metrics_df['attack'].unique()\n",
    "metrics_df.head()"
   ]
  },
  {
   "cell_type": "code",
   "execution_count": null,
   "metadata": {},
   "outputs": [],
   "source": [
    "legit_df = metrics_df[~metrics_df['attack'].str.contains('_')]\n",
    "attacks_df = metrics_df[metrics_df['attack'].str.contains('_')]\n",
    "display(legit_df.head())\n",
    "display(attacks_df.head())"
   ]
  },
  {
   "cell_type": "markdown",
   "metadata": {},
   "source": [
    "# Feature analysis"
   ]
  },
  {
   "cell_type": "code",
   "execution_count": null,
   "metadata": {},
   "outputs": [],
   "source": [
    "print('Legit assets description:')\n",
    "display(legit_df[features].astype(float).describe())\n",
    "print('Attack assets description:')\n",
    "display(attacks_df[features].astype(float).describe())"
   ]
  },
  {
   "cell_type": "code",
   "execution_count": null,
   "metadata": {
    "scrolled": false
   },
   "outputs": [],
   "source": [
    "for feat in features: \n",
    "    data = []\n",
    "    data.append(go.Box(y=attacks_df[feat], name='Attacks', boxpoints='all',\n",
    "                       text=attacks_df['title'] + '-' + attacks_df['attack']))\n",
    "    data.append(go.Box(y=legit_df[feat], name='Legit', boxpoints='all',\n",
    "                       text=attacks_df['title'] + '-' + attacks_df['attack']))\n",
    "    layout = go.Layout(\n",
    "            title=feat,\n",
    "            yaxis = go.layout.YAxis(title = feat),\n",
    "            xaxis = go.layout.XAxis(\n",
    "                title = 'Type of asset',\n",
    "                )\n",
    "            )\n",
    "    fig = go.Figure(data=data, layout=layout)\n",
    "\n",
    "    offline.iplot(fig)"
   ]
  },
  {
   "cell_type": "code",
   "execution_count": null,
   "metadata": {},
   "outputs": [],
   "source": [
    "df_corr = attacks_df[features].astype(float).corr()\n",
    "plt.figure(figsize=(10,10))\n",
    "corr = df_corr.corr('pearson')\n",
    "corr.style.background_gradient().set_precision(2)"
   ]
  },
  {
   "cell_type": "code",
   "execution_count": null,
   "metadata": {},
   "outputs": [],
   "source": [
    "df_corr = legit_df[features].astype(float).corr()\n",
    "plt.figure(figsize=(10,10))\n",
    "corr = df_corr.corr('pearson')\n",
    "corr.style.background_gradient().set_precision(2)"
   ]
  }
 ],
 "metadata": {
  "kernelspec": {
   "display_name": "Python 3",
   "language": "python",
   "name": "python3"
  },
  "language_info": {
   "codemirror_mode": {
    "name": "ipython",
    "version": 3
   },
   "file_extension": ".py",
   "mimetype": "text/x-python",
   "name": "python",
   "nbconvert_exporter": "python",
   "pygments_lexer": "ipython3",
   "version": "3.6.7"
  }
 },
 "nbformat": 4,
 "nbformat_minor": 2
}
