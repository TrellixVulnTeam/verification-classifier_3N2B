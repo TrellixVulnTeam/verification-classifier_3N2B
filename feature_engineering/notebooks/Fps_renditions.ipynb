{
 "cells": [
  {
   "cell_type": "markdown",
   "metadata": {
    "pycharm": {
     "name": "#%% md\n"
    }
   },
   "source": [
    "# Classification metrics for FPS-adjusted renditions\n",
    "#### Data is generated with testing/test_var_fps_classification.py script"
   ]
  },
  {
   "cell_type": "code",
   "execution_count": 44,
   "metadata": {},
   "outputs": [],
   "source": [
    "import pandas as pd\n",
    "import numpy as np\n",
    "from sklearn.metrics import classification_report\n",
    "pd.options.display.width = 0\n",
    "pd.set_option('display.max_columns', None)\n",
    "from IPython.display import display"
   ]
  },
  {
   "cell_type": "code",
   "execution_count": 45,
   "metadata": {
    "pycharm": {
     "name": "#%%\n"
    }
   },
   "outputs": [],
   "source": [
    "# load data\n",
    "df = pd.read_csv('test_fps_renditions.csv')\n",
    "df.set_index(['master_filename', 'rendition_type'], inplace=True)\n",
    "df.sort_index(inplace=True)"
   ]
  },
  {
   "cell_type": "code",
   "execution_count": 46,
   "metadata": {
    "pycharm": {
     "name": "#%%\n"
    }
   },
   "outputs": [],
   "source": [
    "# estimate classification metrics\n",
    "df['ground_truth'] = np.where(df['is_correct'], 'Correct', 'Tamper')\n",
    "df['prediction'] = np.where(df['score']>0, 'Correct', 'Tamper')"
   ]
  },
  {
   "cell_type": "code",
   "execution_count": 47,
   "metadata": {
    "pycharm": {
     "name": "#%%\n"
    },
    "scrolled": true
   },
   "outputs": [
    {
     "name": "stdout",
     "output_type": "stream",
     "text": [
      "Non-framerate adjusted renditions:\n",
      "              precision    recall  f1-score   support\n",
      "\n",
      "     Correct       0.74      0.94      0.83        64\n",
      "      Tamper       0.91      0.67      0.77        64\n",
      "\n",
      "    accuracy                           0.80       128\n",
      "   macro avg       0.83      0.80      0.80       128\n",
      "weighted avg       0.83      0.80      0.80       128\n",
      "\n"
     ]
    }
   ],
   "source": [
    "print('Non-framerate adjusted renditions:')\n",
    "df_non_fps = df.query('not rendition_type.str.contains(\"fps\")')\n",
    "print(classification_report(df_non_fps['ground_truth'], df_non_fps['prediction']))"
   ]
  },
  {
   "cell_type": "code",
   "execution_count": 48,
   "metadata": {
    "pycharm": {
     "name": "#%%\n"
    }
   },
   "outputs": [
    {
     "name": "stdout",
     "output_type": "stream",
     "text": [
      "All FPS-adjusted renditions report:\n",
      "              precision    recall  f1-score   support\n",
      "\n",
      "     Correct       0.85      0.72      0.78        88\n",
      "      Tamper       0.75      0.88      0.81        88\n",
      "\n",
      "    accuracy                           0.80       176\n",
      "   macro avg       0.80      0.80      0.79       176\n",
      "weighted avg       0.80      0.80      0.79       176\n",
      "\n"
     ]
    }
   ],
   "source": [
    "print('All FPS-adjusted renditions report:')\n",
    "df_fps = df.query('rendition_type.str.contains(\"fps\")')\n",
    "df_fps\n",
    "print(classification_report(df_fps['ground_truth'], df_fps['prediction']))"
   ]
  },
  {
   "cell_type": "code",
   "execution_count": 49,
   "metadata": {
    "pycharm": {
     "name": "#%%\n"
    },
    "scrolled": true
   },
   "outputs": [
    {
     "name": "stdout",
     "output_type": "stream",
     "text": [
      "FPS-adjusted 30-60 FPS renditions report:\n",
      "              precision    recall  f1-score   support\n",
      "\n",
      "     Correct       0.81      0.90      0.85        39\n",
      "      Tamper       0.89      0.79      0.84        39\n",
      "\n",
      "    accuracy                           0.85        78\n",
      "   macro avg       0.85      0.85      0.85        78\n",
      "weighted avg       0.85      0.85      0.85        78\n",
      "\n"
     ]
    }
   ],
   "source": [
    "print('FPS-adjusted 30-60 FPS renditions report:')\n",
    "df_fps = df.query('rendition_type.str.contains(\"30-60fps\") or rendition_type.str.contains(\"60-30fps\")')\n",
    "print(classification_report(df_fps['ground_truth'], df_fps['prediction']))"
   ]
  },
  {
   "cell_type": "code",
   "execution_count": 50,
   "metadata": {},
   "outputs": [
    {
     "name": "stdout",
     "output_type": "stream",
     "text": [
      "Non-divisible FPS-adjusted renditions report:\n",
      "              precision    recall  f1-score   support\n",
      "\n",
      "     Correct       0.79      0.78      0.78       113\n",
      "      Tamper       0.78      0.79      0.78       113\n",
      "\n",
      "    accuracy                           0.78       226\n",
      "   macro avg       0.78      0.78      0.78       226\n",
      "weighted avg       0.78      0.78      0.78       226\n",
      "\n"
     ]
    }
   ],
   "source": [
    "print('Non-divisible FPS-adjusted renditions report:')\n",
    "df_fps = df.query('not rendition_type.str.contains(\"30-60fps\") and not rendition_type.str.contains(\"60-30fps\")')\n",
    "print(classification_report(df_fps['ground_truth'], df_fps['prediction']))"
   ]
  },
  {
   "cell_type": "code",
   "execution_count": null,
   "outputs": [],
   "source": [],
   "metadata": {
    "collapsed": false,
    "pycharm": {
     "name": "#%%\n"
    }
   }
  },
  {
   "cell_type": "code",
   "execution_count": null,
   "metadata": {},
   "outputs": [],
   "source": []
  },
  {
   "cell_type": "code",
   "execution_count": null,
   "metadata": {},
   "outputs": [],
   "source": []
  }
 ],
 "metadata": {
  "kernelspec": {
   "display_name": "Python 3",
   "language": "python",
   "name": "python3"
  },
  "language_info": {
   "codemirror_mode": {
    "name": "ipython",
    "version": 3
   },
   "file_extension": ".py",
   "mimetype": "text/x-python",
   "name": "python",
   "nbconvert_exporter": "python",
   "pygments_lexer": "ipython3",
   "version": "3.6.7"
  },
  "widgets": {
   "application/vnd.jupyter.widget-state+json": {
    "state": {},
    "version_major": 2,
    "version_minor": 0
   }
  }
 },
 "nbformat": 4,
 "nbformat_minor": 1
}