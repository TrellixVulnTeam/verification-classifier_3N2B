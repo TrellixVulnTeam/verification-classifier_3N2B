{
 "cells": [
  {
   "cell_type": "markdown",
   "metadata": {
    "pycharm": {
     "name": "#%% md\n"
    }
   },
   "source": [
    "# Classification metrics for FPS-adjusted renditions\n",
    "#### Data is generated with testing/test_var_fps_classification.py script"
   ]
  },
  {
   "cell_type": "code",
   "execution_count": 17,
   "metadata": {},
   "outputs": [],
   "source": [
    "import pandas as pd\n",
    "import numpy as np\n",
    "from sklearn.metrics import classification_report"
   ]
  },
  {
   "cell_type": "code",
   "execution_count": 18,
   "metadata": {
    "pycharm": {
     "name": "#%%\n"
    }
   },
   "outputs": [],
   "source": [
    "# load data\n",
    "df = pd.read_csv('test_fps_renditions.csv')\n",
    "df.set_index(['master_filename', 'rendition_type'], inplace=True)\n",
    "df.sort_index(inplace=True)"
   ]
  },
  {
   "cell_type": "code",
   "execution_count": 19,
   "metadata": {
    "pycharm": {
     "name": "#%%\n"
    }
   },
   "outputs": [],
   "source": [
    "# estimate classification metrics\n",
    "df['ground_truth'] = np.where(df['is_correct'], 'Correct', 'Tamper')\n",
    "df['prediction'] = np.where(df['score']>0, 'Correct', 'Tamper')\n",
    "df['prediction_old'] = np.where(df['score_old']>0, 'Correct', 'Tamper')"
   ]
  },
  {
   "cell_type": "code",
   "execution_count": 21,
   "metadata": {
    "pycharm": {
     "name": "#%%\n"
    },
    "scrolled": true
   },
   "outputs": [
    {
     "name": "stdout",
     "output_type": "stream",
     "text": [
      "Non-framerate adjusted renditions:\n",
      "Timestamp-based frame selection:\n",
      "              precision    recall  f1-score   support\n",
      "\n",
      "     Correct       0.74      0.94      0.83        64\n",
      "      Tamper       0.91      0.67      0.77        64\n",
      "\n",
      "    accuracy                           0.80       128\n",
      "   macro avg       0.83      0.80      0.80       128\n",
      "weighted avg       0.83      0.80      0.80       128\n",
      "\n",
      "Index-based frame selection:\n",
      "              precision    recall  f1-score   support\n",
      "\n",
      "     Correct       0.73      0.95      0.83        64\n",
      "      Tamper       0.93      0.66      0.77        64\n",
      "\n",
      "    accuracy                           0.80       128\n",
      "   macro avg       0.83      0.80      0.80       128\n",
      "weighted avg       0.83      0.80      0.80       128\n",
      "\n"
     ]
    }
   ],
   "source": [
    "print('Non-framerate adjusted renditions:')\n",
    "df_non_fps = df.query('not rendition_type.str.contains(\"fps\")')\n",
    "print('Timestamp-based frame selection:')\n",
    "print(classification_report(df_non_fps['ground_truth'], df_non_fps['prediction']))\n",
    "print('Index-based frame selection:')\n",
    "print(classification_report(df_non_fps['ground_truth'], df_non_fps['prediction_old']))"
   ]
  },
  {
   "cell_type": "code",
   "execution_count": 22,
   "metadata": {},
   "outputs": [
    {
     "name": "stdout",
     "output_type": "stream",
     "text": [
      "Non-matching Index-based and TS-based predictions\n",
      "                                is_correct     score  score_old  time_sec  \\\n",
      "master_filename rendition_type                                              \n",
      "u05F29jXYNE.mp4 720p                  True -1.468984   0.341502  2.425891   \n",
      "                720p_watermark       False -1.687979   0.579660  2.531694   \n",
      "\n",
      "                                time_sec_old ground_truth prediction  \\\n",
      "master_filename rendition_type                                         \n",
      "u05F29jXYNE.mp4 720p                1.834705      Correct     Tamper   \n",
      "                720p_watermark      1.904839       Tamper     Tamper   \n",
      "\n",
      "                               prediction_old  \n",
      "master_filename rendition_type                 \n",
      "u05F29jXYNE.mp4 720p                  Correct  \n",
      "                720p_watermark        Correct  \n"
     ]
    }
   ],
   "source": [
    "print('Non-matching Index-based and TS-based predictions')\n",
    "print(df_non_fps[df_non_fps['prediction']!=df_non_fps['prediction_old']])"
   ]
  },
  {
   "cell_type": "code",
   "execution_count": 23,
   "metadata": {
    "pycharm": {
     "name": "#%%\n"
    }
   },
   "outputs": [
    {
     "name": "stdout",
     "output_type": "stream",
     "text": [
      "FPS-adjusted renditions report:\n",
      "              precision    recall  f1-score   support\n",
      "\n",
      "     Correct       0.91      0.59      0.72        88\n",
      "      Tamper       0.49      0.87      0.62        39\n",
      "\n",
      "    accuracy                           0.68       127\n",
      "   macro avg       0.70      0.73      0.67       127\n",
      "weighted avg       0.78      0.68      0.69       127\n",
      "\n"
     ]
    }
   ],
   "source": [
    "print('FPS-adjusted renditions report:')\n",
    "df_fps = df.query('rendition_type.str.contains(\"fps\")')\n",
    "df_fps\n",
    "print(classification_report(df_fps['ground_truth'], df_fps['prediction']))"
   ]
  },
  {
   "cell_type": "code",
   "execution_count": 24,
   "metadata": {
    "pycharm": {
     "name": "#%%\n"
    },
    "scrolled": true
   },
   "outputs": [
    {
     "name": "stdout",
     "output_type": "stream",
     "text": [
      "FPS-adjusted 30-60 FPS renditions report:\n",
      "              precision    recall  f1-score   support\n",
      "\n",
      "     Correct       0.87      0.69      0.77        39\n",
      "      Tamper       0.59      0.81      0.68        21\n",
      "\n",
      "    accuracy                           0.73        60\n",
      "   macro avg       0.73      0.75      0.73        60\n",
      "weighted avg       0.77      0.73      0.74        60\n",
      "\n"
     ]
    }
   ],
   "source": [
    "print('FPS-adjusted 30-60 FPS renditions report:')\n",
    "df_fps = df.query('rendition_type.str.contains(\"30-60fps\") or rendition_type.str.contains(\"60-30fps\")')\n",
    "df_fps\n",
    "print(classification_report(df_fps['ground_truth'], df_fps['prediction']))"
   ]
  }
 ],
 "metadata": {
  "kernelspec": {
   "display_name": "Python 3",
   "language": "python",
   "name": "python3"
  },
  "language_info": {
   "codemirror_mode": {
    "name": "ipython",
    "version": 3
   },
   "file_extension": ".py",
   "mimetype": "text/x-python",
   "name": "python",
   "nbconvert_exporter": "python",
   "pygments_lexer": "ipython3",
   "version": "3.6.7"
  },
  "widgets": {
   "application/vnd.jupyter.widget-state+json": {
    "state": {},
    "version_major": 2,
    "version_minor": 0
   }
  }
 },
 "nbformat": 4,
 "nbformat_minor": 1
}
