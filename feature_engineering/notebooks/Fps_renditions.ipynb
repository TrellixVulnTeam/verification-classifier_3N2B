{
 "cells": [
  {
   "cell_type": "markdown",
   "metadata": {
    "pycharm": {
     "name": "#%% md\n"
    }
   },
   "source": [
    "# Classification metrics for FPS-adjusted renditions\n",
    "#### Data is generated with testing/test_var_fps_classification.py script"
   ]
  },
  {
   "cell_type": "code",
   "execution_count": 1,
   "metadata": {},
   "outputs": [],
   "source": [
    "import pandas as pd\n",
    "import numpy as np\n",
    "from sklearn.metrics import classification_report\n",
    "pd.options.display.width = 0\n",
    "pd.set_option('display.max_columns', None)\n",
    "from IPython.display import display"
   ]
  },
  {
   "cell_type": "code",
   "execution_count": 2,
   "metadata": {
    "pycharm": {
     "name": "#%%\n"
    }
   },
   "outputs": [],
   "source": [
    "# load data\n",
    "df = pd.read_csv('test_fps_renditions_nm.csv')\n",
    "df.set_index(['master_filename', 'rendition_type'], inplace=True)\n",
    "df.sort_index(inplace=True)"
   ]
  },
  {
   "cell_type": "code",
   "execution_count": 12,
   "metadata": {
    "pycharm": {
     "name": "#%%\n"
    }
   },
   "outputs": [],
   "source": [
    "# estimate classification metrics\n",
    "df['ground_truth'] = np.where(df['is_correct'], 'Correct', 'Tamper')\n",
    "df['prediction'] = np.where(df['score']<0.5, 'Correct', 'Tamper')"
   ]
  },
  {
   "cell_type": "code",
   "execution_count": 13,
   "metadata": {
    "pycharm": {
     "name": "#%%\n"
    },
    "scrolled": true
   },
   "outputs": [
    {
     "name": "stdout",
     "output_type": "stream",
     "text": [
      "Non-framerate adjusted renditions:\n"
     ]
    },
    {
     "ename": "ValueError",
     "evalue": "max() arg is an empty sequence",
     "output_type": "error",
     "traceback": [
      "\u001B[0;31m---------------------------------------------------------------------------\u001B[0m",
      "\u001B[0;31mValueError\u001B[0m                                Traceback (most recent call last)",
      "\u001B[0;32m<ipython-input-13-c095466f73f9>\u001B[0m in \u001B[0;36m<module>\u001B[0;34m\u001B[0m\n\u001B[1;32m      1\u001B[0m \u001B[0mprint\u001B[0m\u001B[0;34m(\u001B[0m\u001B[0;34m'Non-framerate adjusted renditions:'\u001B[0m\u001B[0;34m)\u001B[0m\u001B[0;34m\u001B[0m\u001B[0;34m\u001B[0m\u001B[0m\n\u001B[1;32m      2\u001B[0m \u001B[0mdf_non_fps\u001B[0m \u001B[0;34m=\u001B[0m \u001B[0mdf\u001B[0m\u001B[0;34m.\u001B[0m\u001B[0mquery\u001B[0m\u001B[0;34m(\u001B[0m\u001B[0;34m'not rendition_type.str.contains(\"fps\")'\u001B[0m\u001B[0;34m)\u001B[0m\u001B[0;34m\u001B[0m\u001B[0;34m\u001B[0m\u001B[0m\n\u001B[0;32m----> 3\u001B[0;31m \u001B[0mprint\u001B[0m\u001B[0;34m(\u001B[0m\u001B[0mclassification_report\u001B[0m\u001B[0;34m(\u001B[0m\u001B[0mdf_non_fps\u001B[0m\u001B[0;34m[\u001B[0m\u001B[0;34m'ground_truth'\u001B[0m\u001B[0;34m]\u001B[0m\u001B[0;34m,\u001B[0m \u001B[0mdf_non_fps\u001B[0m\u001B[0;34m[\u001B[0m\u001B[0;34m'prediction'\u001B[0m\u001B[0;34m]\u001B[0m\u001B[0;34m)\u001B[0m\u001B[0;34m)\u001B[0m\u001B[0;34m\u001B[0m\u001B[0;34m\u001B[0m\u001B[0m\n\u001B[0m",
      "\u001B[0;32m~/.pyenv/versions/3.6.7/lib/python3.6/site-packages/sklearn/metrics/_classification.py\u001B[0m in \u001B[0;36mclassification_report\u001B[0;34m(y_true, y_pred, labels, target_names, sample_weight, digits, output_dict, zero_division)\u001B[0m\n\u001B[1;32m   2019\u001B[0m     \u001B[0;32melse\u001B[0m\u001B[0;34m:\u001B[0m\u001B[0;34m\u001B[0m\u001B[0;34m\u001B[0m\u001B[0m\n\u001B[1;32m   2020\u001B[0m         \u001B[0mlongest_last_line_heading\u001B[0m \u001B[0;34m=\u001B[0m \u001B[0;34m'weighted avg'\u001B[0m\u001B[0;34m\u001B[0m\u001B[0;34m\u001B[0m\u001B[0m\n\u001B[0;32m-> 2021\u001B[0;31m         \u001B[0mname_width\u001B[0m \u001B[0;34m=\u001B[0m \u001B[0mmax\u001B[0m\u001B[0;34m(\u001B[0m\u001B[0mlen\u001B[0m\u001B[0;34m(\u001B[0m\u001B[0mcn\u001B[0m\u001B[0;34m)\u001B[0m \u001B[0;32mfor\u001B[0m \u001B[0mcn\u001B[0m \u001B[0;32min\u001B[0m \u001B[0mtarget_names\u001B[0m\u001B[0;34m)\u001B[0m\u001B[0;34m\u001B[0m\u001B[0;34m\u001B[0m\u001B[0m\n\u001B[0m\u001B[1;32m   2022\u001B[0m         \u001B[0mwidth\u001B[0m \u001B[0;34m=\u001B[0m \u001B[0mmax\u001B[0m\u001B[0;34m(\u001B[0m\u001B[0mname_width\u001B[0m\u001B[0;34m,\u001B[0m \u001B[0mlen\u001B[0m\u001B[0;34m(\u001B[0m\u001B[0mlongest_last_line_heading\u001B[0m\u001B[0;34m)\u001B[0m\u001B[0;34m,\u001B[0m \u001B[0mdigits\u001B[0m\u001B[0;34m)\u001B[0m\u001B[0;34m\u001B[0m\u001B[0;34m\u001B[0m\u001B[0m\n\u001B[1;32m   2023\u001B[0m         \u001B[0mhead_fmt\u001B[0m \u001B[0;34m=\u001B[0m \u001B[0;34m'{:>{width}s} '\u001B[0m \u001B[0;34m+\u001B[0m \u001B[0;34m' {:>9}'\u001B[0m \u001B[0;34m*\u001B[0m \u001B[0mlen\u001B[0m\u001B[0;34m(\u001B[0m\u001B[0mheaders\u001B[0m\u001B[0;34m)\u001B[0m\u001B[0;34m\u001B[0m\u001B[0;34m\u001B[0m\u001B[0m\n",
      "\u001B[0;31mValueError\u001B[0m: max() arg is an empty sequence"
     ]
    }
   ],
   "source": [
    "print('Non-framerate adjusted renditions:')\n",
    "df_non_fps = df.query('not rendition_type.str.contains(\"fps\")')\n",
    "print(classification_report(df_non_fps['ground_truth'], df_non_fps['prediction']))"
   ]
  },
  {
   "cell_type": "code",
   "execution_count": 14,
   "metadata": {
    "pycharm": {
     "name": "#%%\n"
    }
   },
   "outputs": [
    {
     "name": "stdout",
     "output_type": "stream",
     "text": [
      "All FPS-adjusted renditions report:\n",
      "              precision    recall  f1-score   support\n",
      "\n",
      "     Correct       0.95      0.42      0.58        88\n",
      "      Tamper       0.63      0.98      0.76        88\n",
      "\n",
      "    accuracy                           0.70       176\n",
      "   macro avg       0.79      0.70      0.67       176\n",
      "weighted avg       0.79      0.70      0.67       176\n",
      "\n"
     ]
    }
   ],
   "source": [
    "print('All FPS-adjusted renditions report:')\n",
    "df_fps = df.query('rendition_type.str.contains(\"fps\")')\n",
    "df_fps\n",
    "print(classification_report(df_fps['ground_truth'], df_fps['prediction']))"
   ]
  },
  {
   "cell_type": "code",
   "execution_count": 15,
   "metadata": {
    "pycharm": {
     "name": "#%%\n"
    },
    "scrolled": true
   },
   "outputs": [
    {
     "name": "stdout",
     "output_type": "stream",
     "text": [
      "FPS-adjusted 30-60 FPS renditions report:\n",
      "              precision    recall  f1-score   support\n",
      "\n",
      "     Correct       0.93      0.69      0.79        39\n",
      "      Tamper       0.76      0.95      0.84        39\n",
      "\n",
      "    accuracy                           0.82        78\n",
      "   macro avg       0.84      0.82      0.82        78\n",
      "weighted avg       0.84      0.82      0.82        78\n",
      "\n"
     ]
    }
   ],
   "source": [
    "print('FPS-adjusted 30-60 FPS renditions report:')\n",
    "df_fps = df.query('rendition_type.str.contains(\"30-60fps\") or rendition_type.str.contains(\"60-30fps\")')\n",
    "print(classification_report(df_fps['ground_truth'], df_fps['prediction']))"
   ]
  },
  {
   "cell_type": "code",
   "execution_count": 16,
   "metadata": {},
   "outputs": [
    {
     "name": "stdout",
     "output_type": "stream",
     "text": [
      "Non-divisible FPS-adjusted renditions report:\n",
      "              precision    recall  f1-score   support\n",
      "\n",
      "     Correct       1.00      0.20      0.34        49\n",
      "      Tamper       0.56      1.00      0.72        49\n",
      "\n",
      "    accuracy                           0.60        98\n",
      "   macro avg       0.78      0.60      0.53        98\n",
      "weighted avg       0.78      0.60      0.53        98\n",
      "\n"
     ]
    }
   ],
   "source": [
    "print('Non-divisible FPS-adjusted renditions report:')\n",
    "df_fps = df.query('not rendition_type.str.contains(\"30-60fps\") and not rendition_type.str.contains(\"60-30fps\")')\n",
    "print(classification_report(df_fps['ground_truth'], df_fps['prediction']))"
   ]
  },
  {
   "cell_type": "code",
   "execution_count": null,
   "metadata": {},
   "outputs": [],
   "source": []
  }
 ],
 "metadata": {
  "kernelspec": {
   "display_name": "Python 3",
   "language": "python",
   "name": "python3"
  },
  "language_info": {
   "codemirror_mode": {
    "name": "ipython",
    "version": 3
   },
   "file_extension": ".py",
   "mimetype": "text/x-python",
   "name": "python",
   "nbconvert_exporter": "python",
   "pygments_lexer": "ipython3",
   "version": "3.6.7"
  },
  "widgets": {
   "application/vnd.jupyter.widget-state+json": {
    "state": {},
    "version_major": 2,
    "version_minor": 0
   }
  }
 },
 "nbformat": 4,
 "nbformat_minor": 1
}