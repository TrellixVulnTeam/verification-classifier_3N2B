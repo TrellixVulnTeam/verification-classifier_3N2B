{
 "cells": [
  {
   "cell_type": "markdown",
   "metadata": {},
   "source": [
    "## Background:\n",
    "\n",
    "Following on this github issue (https://github.com/livepeer/research/issues/17), particularly on the Video Quality Checking topic:\n",
    "> There are various easily checkable properties that can be extracted from the video itself such as the codec, the resolution, timestamps, and perhaps certain other bitstream features. However those properties alone do not ensure an important aspect of verification: that the transcoded content itself is a reasonable match for the original source given a good-faith effort at transcoding.\n",
    "\n",
    "> What is a \"reasonable match\" and what is a \"good-faith effort at transcoding\"? Some problems with the video may include:\n",
    "   -  Watermarking or other manipulation of the source content\n",
    "   -  Uncalled for resolution changes mid-stream\n",
    "   -  Excessive frame dropping\n",
    "   -  Low quality encoder or inappropriate encoding settings\n",
    "\n",
    "> What criteria should we be checking addition to video quality?\n",
    "   -  Codec and container itself\n",
    "   -  Timestamps\n",
    "   -  Any metadata?\n",
    "\n",
    "\n",
    "The aim of this notebook is to give an answer to the following set of questions raised in the context of finding an objective metric to assess the quality of stream videos:\n",
    "\n",
    "-  How to use these per-frame scores for video\n",
    "-  How to incorporate these scores into a pass/fail classifier?\n",
    "-  What does each contribute towards the classifier?\n",
    "-  How are these affected by variations in input and output?\n",
    "-  How is verification affected if either metric is removed from the equation?\n",
    "-  Can we extrapolate the behavior of these metrics across unknown inputs? What are the boundaries?\n",
    "-  What is the performance/computational impact of incorporating these metrics into the classifier? Can this be run online within our sub-2s latency budget?\n",
    "\n"
   ]
  },
  {
   "cell_type": "markdown",
   "metadata": {},
   "source": [
    "## Methodology:\n",
    "\n",
    "We have created a dataset with 140 videos collected from the YT8M dataset using our tool from previous research (https://github.com/epiclabs-io/YT8M).\n",
    "\n",
    "These 140 are basically those with a set of at least four renditions codified in H264 (240, 360, 480, 720 and 1080).\n",
    "In order to depart from the null hypothesis that video is transcoded correctly, this seems like a very good assumption as it is in YouTube's own interest to be so.\n",
    "\n",
    "In order to extend the list of possible metrics, we have researched a few candidates based on the perceptual hashing of the original and the codified videos: cosine distance, euclidean distance and Hamming distance.\n"
   ]
  },
  {
   "cell_type": "markdown",
   "metadata": {},
   "source": [
    "# CODE"
   ]
  },
  {
   "cell_type": "markdown",
   "metadata": {},
   "source": [
    "### Import necessary libraries"
   ]
  },
  {
   "cell_type": "code",
   "execution_count": null,
   "metadata": {},
   "outputs": [],
   "source": [
    "import pandas as pd\n",
    "import plotly.plotly as py\n",
    "import plotly.offline as offline\n",
    "import plotly.graph_objs as go\n",
    "offline.init_notebook_mode()"
   ]
  },
  {
   "cell_type": "markdown",
   "metadata": {},
   "source": [
    "### Retrieve data, group it and normalize it"
   ]
  },
  {
   "cell_type": "code",
   "execution_count": null,
   "metadata": {},
   "outputs": [],
   "source": [
    "# Retrieve data from repo\n",
    "metrics_df = pd.read_csv('../output/metrics.csv')\n",
    "metrics_df = metrics_df.drop(['Unnamed: 0'], axis=1)\n",
    "metrics_df['title'] = metrics_df['level_0']\n",
    "# Group values for each title\n",
    "metrics = ['cosine', 'euclidean', 'hamming', 'psnr', 'ssim', 'vmaf', 'ms-ssim']\n",
    "grouped_df = metrics_df.groupby(['level_1'] + metrics + ['title'], as_index=False).count()\n",
    "\n",
    "# Normalize the values between 0 and 1\n",
    "#for metric in metrics:\n",
    "#    grouped_df[metric] = (grouped_df[metric]-grouped_df[metric].min())/(grouped_df[metric].max()-grouped_df[metric].min())"
   ]
  },
  {
   "cell_type": "code",
   "execution_count": null,
   "metadata": {},
   "outputs": [],
   "source": [
    "# Function to create a plot from columns of a pandas DataFrame\n",
    "def plot_metric(metric, grouped_df):\n",
    "    x_data = grouped_df['level_1']\n",
    "    y_data = grouped_df[metric]\n",
    "\n",
    "    trace1 = go.Histogram2dContour(x=x_data,\n",
    "                                   y=y_data,\n",
    "                                   contours=dict(coloring='heatmap'))\n",
    "    trace2 = go.Scatter(x=x_data,\n",
    "                        y=y_data,\n",
    "                        mode='markers',\n",
    "                        marker=dict(color='blue',\n",
    "                                    size=3,\n",
    "                                    opacity=0.3),\n",
    "                        text=grouped_df['title'],\n",
    "                       hoverinfo='text')\n",
    "    data = [trace1,trace2]\n",
    "    layout = {\"title\": \"Video metrics disparity: {}\".format(metric), \n",
    "          \"xaxis\": {\"title\": \"Rendition\", }, \n",
    "          \"yaxis\": {\"title\": \"Metric value\"},\n",
    "             \"hovermode\":\"closest\"}\n",
    "    fig = go.Figure(data=data, layout=layout)\n",
    "    offline.iplot(fig)"
   ]
  },
  {
   "cell_type": "code",
   "execution_count": null,
   "metadata": {
    "scrolled": false
   },
   "outputs": [],
   "source": [
    "# Iterate through each metric and obtain the respective charts\n",
    "for metric in metrics:\n",
    "    plot_metric(metric, grouped_df)"
   ]
  },
  {
   "cell_type": "markdown",
   "metadata": {},
   "source": [
    "# DISCUSSION"
   ]
  },
  {
   "cell_type": "markdown",
   "metadata": {},
   "source": [
    "## Cosine distance\n",
    "\n",
    "This distance is measured over the hash created by reducing a grayscale version (luminance space) of each frame (original and codified) to a 16x16 pixel image, then obtaining a 15 bit hash and computing their cosine distance."
   ]
  },
  {
   "cell_type": "markdown",
   "metadata": {},
   "source": [
    "## Euclidean distance\n",
    "\n",
    "This distance is measured over the hash created by reducing a grayscale version (luminance space) of each frame (original and codified) to a 16x16 pixel image, then obtaining a 15 bit hash and computing their euclidean distance."
   ]
  },
  {
   "cell_type": "markdown",
   "metadata": {},
   "source": [
    "## Hamming distance\n",
    "This distance is measured over the hash created by reducing a grayscale version (luminance space) of each frame (original and codified) to a 16x16 pixel image, then obtaining a 15 bit hash and computing their euclidean distance."
   ]
  },
  {
   "cell_type": "markdown",
   "metadata": {},
   "source": [
    "## PSNR\n",
    "\n",
    "PSNR is computed over the grayscale of both reference and codified using the psnr function in the video_asset_processor.py module."
   ]
  },
  {
   "cell_type": "markdown",
   "metadata": {},
   "source": [
    "## SSIM\n",
    "This metric is obtained using the implementation available in skimage.measure over the luminance space (grayscale) of both the origin and the codified version."
   ]
  },
  {
   "cell_type": "markdown",
   "metadata": {},
   "source": [
    "# CONCLUSIONS"
   ]
  },
  {
   "cell_type": "markdown",
   "metadata": {},
   "source": [
    "As it is explained here: https://link.springer.com/article/10.1007/s11042-017-4831-6,\n",
    "the metrics above can be categorized as objective Full Reference metrics for Video Quality Assessment.\n",
    "We would reccomend to use other type of metrics, as described in the above reference, and use an unsupervised approach given the complexity of the problem at hand.\n"
   ]
  },
  {
   "attachments": {
    "image.png": {
     "image/png": "[encoded data removed]"
    }
   },
   "cell_type": "markdown",
   "metadata": {},
   "source": [
    "#### How to use PSNR / SSIM (per-frame scores) for video (sequence of frames)?\n",
    "\n",
    "Good characterization of time series is achieved by wisely using statistical techniques (average, histograms, wavelets, etc.) that can summarize the properties of a sequence. In this case we have extracted the mean value for all metrics.\n",
    "However, the main issue will not be just the extrapolation of a per frame metric (PSNR, MS-SSIM, MSE, entropy, etc.) to a time series sequence of frames.\n",
    "The most complicated part comes when we need to define what is a \"good\" configuration of those time series.  \n",
    "\n",
    "#### How to incorporate these scores into a pass/fail classifier? What does each contribute towards the classifier?\n",
    "\n",
    "As pointed out above, by simple measurement of different instantaneous metrics there is no way one can do this. We could potentially define acceptable thresholds for that ratio for given renditions and bitrates / encoding parameters, but they would remain arbitrary.\n",
    "\n",
    "#### How are these affected by variations in input and output?\n",
    "\n",
    "In the figures above, we can appreciate that different sequences of frames (186 assets extracted from YouTube) with different configurations give slightly different results, although SSIM seems to be the one with the least dispersion.\n",
    "\n",
    "\n",
    "#### How is verification affected if either metric is removed from the equation? Can we extrapolate the behavior of these metrics across unknown inputs? What are the boundaries?\n",
    "\n",
    "As it is shown in the charts, the mean values for each metric are sensitive to different kinds of encoding and video characteristics. This leads one to think that (as it is explained in literature) different metrics are sensitive to different kinds of inputs. This renders them unsuitable for actual training of a supervised machine learning algorithm, given the amplitude of the space of possible ground truths.\n",
    "\n",
    "\n",
    "#### What is the performance/computational impact of incorporating these metrics into the classifier? Can this be run online within our sub-2s latency budget?\n",
    "\n",
    "\n",
    "Figure below shows the (more or less) constant elapsed time required to compute both PSNR and SSIM between the original frame and the frames generated at 500Kbps and 250Kbps.\n",
    "\n",
    "This gives an overhead (in our implementation, using skimage's compare_ssim) of about 0.172s per frame (=4s for 24 frames) for Big Buck Bunny.\n",
    "\n",
    "Obviously, there is no particular need to catch every single frame, and more efficient implementations could be found.\n",
    "\n",
    "\n",
    "Big Buck Bunny:\n",
    "\n",
    "![image.png](attachment:image.png)\n",
    "\n",
    "\n"
   ]
  },
  {
   "cell_type": "code",
   "execution_count": null,
   "metadata": {},
   "outputs": [],
   "source": [
    "import matplotlib.pyplot as plt\n",
    "import numpy as np\n",
    "# From https://medium.com/@sebastiannorena/finding-correlation-between-many-variables-multidimensional-dataset-with-python-5deb3f39ffb3\n",
    "cmap = cmap=sns.diverging_palette(5, 250, as_cmap=True)\n",
    "data = grouped_df[metrics]\n",
    "corr = data.corr('spearman')\n",
    "corr.style.background_gradient().set_precision(2)\n",
    "corr.style.background_gradient(cmap, axis=1)\n"
   ]
  },
  {
   "cell_type": "code",
   "execution_count": null,
   "metadata": {
    "scrolled": false
   },
   "outputs": [],
   "source": [
    "import scipy.stats as stats\n",
    "from sklearn.cluster import KMeans\n",
    "import seaborn as sns\n",
    "\n",
    "\n",
    "sns.pairplot(metrics_df[metrics])"
   ]
  },
  {
   "cell_type": "code",
   "execution_count": null,
   "metadata": {},
   "outputs": [],
   "source": [
    "from matplotlib.mlab import PCA\n",
    "\n",
    "def biplot(score,coeff,labels=None):\n",
    "    xs = score[:,0]\n",
    "    ys = score[:,1]\n",
    "    n=coeff.shape[0]\n",
    "    scalex = 1.0/(xs.max()- xs.min())\n",
    "    scaley = 1.0/(ys.max()- ys.min())\n",
    "    plt.scatter(xs*scalex,ys*scaley)\n",
    "    for i in range(n):\n",
    "        plt.arrow(0, 0, coeff[i,0], coeff[i,1],color='r',alpha=0.5)\n",
    "        if labels is None:\n",
    "            plt.text(coeff[i,0]* 1.15, coeff[i,1] * 1.15, \"Var\"+str(i+1), color='g', ha='center', va='center')\n",
    "        else:\n",
    "            plt.text(coeff[i,0]* 1.15, coeff[i,1] * 1.15, labels[i], color='g', ha='center', va='center')\n",
    "\n",
    "plt.figure(figsize=(15, 10))\n",
    "plt.xlim(-1,1)\n",
    "plt.ylim(-1,1)\n",
    "plt.xlabel(\"PC{}\".format(1))\n",
    "plt.ylabel(\"PC{}\".format(2))\n",
    "plt.grid()\n",
    "\n",
    "# test\n",
    "pca_out=PCA(metrics_df[metrics])\n",
    "biplot(pca_out.Y[:,0:2],pca_out.Wt[:,0:2], labels=metrics_df[metrics].columns)\n",
    "plt.show()\n",
    "\n",
    "\n"
   ]
  },
  {
   "cell_type": "code",
   "execution_count": null,
   "metadata": {},
   "outputs": [],
   "source": [
    "import scipy.stats as stats\n",
    "from sklearn.cluster import KMeans\n",
    "from sklearn.datasets import load_iris\n",
    "from sklearn.decomposition import PCA, IncrementalPCA\n",
    "from plotly import tools\n",
    "\n",
    "df_tr_std = stats.zscore(metrics_df[metrics])\n",
    "#Cluster the data\n",
    "kmeans = KMeans(n_clusters=2, random_state=0).fit(df_tr_std)\n",
    "labels = kmeans.labels_\n",
    "metrics_df['clusters'] = labels\n",
    "\n",
    "X = metrics_df[metrics]\n",
    "y = labels\n",
    "\n",
    "n_components = 2\n",
    "\n",
    "pca = PCA(n_components=n_components)\n",
    "X_pca = pca.fit_transform(X)\n",
    "\n",
    "colors = ['navy', 'turquoise', 'darkorange', 'green', 'red', 'yellow']\n",
    "\n",
    "col = 1\n",
    "legend = True\n",
    "\n",
    "data = []\n",
    "for color, i in zip(colors, [0, 1]):\n",
    "\n",
    "    pca = go.Scatter(x=X_pca[y == i, 0], \n",
    "                     y=X_pca[y == i, 1],\n",
    "                     showlegend=True,\n",
    "                     mode='markers',\n",
    "                     marker=dict(color=color), \n",
    "                     text=grouped_df['title'],\n",
    "                    hoverinfo='text'\n",
    "                    )\n",
    "    data.append(pca)\n",
    "    \n",
    "    layout = {\"title\": \"Video metrics PCA\", \n",
    "          \"xaxis\": {\"title\": \"Principal Component 1\", }, \n",
    "          \"yaxis\": {\"title\": \"Principal Component 2\"},\n",
    "             \"hovermode\":\"closest\"}\n",
    "fig = go.Figure(data=data, layout=layout)\n",
    "    \n",
    "\n",
    "    \n",
    "offline.iplot(fig)"
   ]
  },
  {
   "cell_type": "code",
   "execution_count": null,
   "metadata": {},
   "outputs": [],
   "source": [
    "pd.set_option('display.max_rows', 1000)\n",
    "pd.set_option('display.max_columns', 500)\n",
    "pd.set_option('display.max_colwidth', -1)\n",
    "pd.set_option('display.width', 1000)\n",
    "display(metrics_df)"
   ]
  },
  {
   "cell_type": "code",
   "execution_count": null,
   "metadata": {},
   "outputs": [],
   "source": []
  }
 ],
 "metadata": {
  "kernelspec": {
   "display_name": "Python 3",
   "language": "python",
   "name": "python3"
  },
  "language_info": {
   "codemirror_mode": {
    "name": "ipython",
    "version": 3
   },
   "file_extension": ".py",
   "mimetype": "text/x-python",
   "name": "python",
   "nbconvert_exporter": "python",
   "pygments_lexer": "ipython3",
   "version": "3.6.7"
  }
 },
 "nbformat": 4,
 "nbformat_minor": 2
}
