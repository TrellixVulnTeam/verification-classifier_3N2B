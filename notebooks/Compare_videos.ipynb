{
 "cells": [
  {
   "cell_type": "code",
   "execution_count": null,
   "metadata": {},
   "outputs": [],
   "source": [
    "import glob, os\n",
    "import pandas as pd"
   ]
  },
  {
   "cell_type": "code",
   "execution_count": null,
   "metadata": {},
   "outputs": [],
   "source": [
    "%run -i '../scripts/video_asset_processor.py' "
   ]
  },
  {
   "cell_type": "code",
   "execution_count": null,
   "metadata": {
    "scrolled": true
   },
   "outputs": [],
   "source": [
    "metrics_dict = {}\n",
    "originals_path = '../data/{}/'\n",
    "for original_asset in glob.iglob(originals_path.format(7) + '**', recursive=False):\n",
    "    if os.path.isfile(original_asset): # filter dirs\n",
    "        try:\n",
    "            start_time = time.time()\n",
    "            renditions_list = []\n",
    "            \n",
    "            #renditions_list.append(original_asset)\n",
    "            for i in range(3,7):\n",
    "                rendition_folder = originals_path.format(i)\n",
    "                renditions_list.append(rendition_folder + os.path.basename(original_asset))\n",
    "            asset_processor = video_asset_processor(original_asset, renditions_list)\n",
    "            asset_processor.display = False\n",
    "            asset_metrics_dict = asset_processor.process()\n",
    "\n",
    "            dict_of_df = {k: pd.DataFrame(v) for k,v in asset_metrics_dict.items()}\n",
    "            df = pd.concat(dict_of_df, axis=1).transpose()\n",
    "            metrics = ['cosine', 'euclidean', 'hamming', 'psnr', 'ssim']\n",
    "            grouped_df = df.groupby(['dimensions'] + metrics, as_index=False).count()\n",
    "            renditions_dict = {}\n",
    "            for rendition in df['dimensions'].unique():\n",
    "                rendition_dict = {}\n",
    "                for metric in metrics:\n",
    "                    rendition_dict[metric] = grouped_df[grouped_df['dimensions']==rendition][metric].mean()\n",
    "                renditions_dict[rendition] = rendition_dict\n",
    "            metrics_dict[original_asset] = renditions_dict   \n",
    "            \n",
    "            elapsed_time = time.time() - start_time \n",
    "            print('Elapsed time:', elapsed_time)\n",
    "        except:\n",
    "            print('Failed to process asset:', original_asset)"
   ]
  },
  {
   "cell_type": "code",
   "execution_count": null,
   "metadata": {},
   "outputs": [],
   "source": [
    "dict_of_df = {k: pd.DataFrame(v) for k,v in metrics_dict.items()}\n",
    "df = pd.concat(dict_of_df, axis=1).transpose().reset_index(inplace=False)\n",
    "df.to_csv('../output/metrics.csv')\n"
   ]
  },
  {
   "cell_type": "code",
   "execution_count": null,
   "metadata": {},
   "outputs": [],
   "source": []
  }
 ],
 "metadata": {
  "kernelspec": {
   "display_name": "Python 3",
   "language": "python",
   "name": "python3"
  },
  "language_info": {
   "codemirror_mode": {
    "name": "ipython",
    "version": 3
   },
   "file_extension": ".py",
   "mimetype": "text/x-python",
   "name": "python",
   "nbconvert_exporter": "python",
   "pygments_lexer": "ipython3",
   "version": "3.6.7"
  }
 },
 "nbformat": 4,
 "nbformat_minor": 2
}
