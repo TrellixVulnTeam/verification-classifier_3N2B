{
 "cells": [
  {
   "cell_type": "code",
   "execution_count": null,
   "metadata": {},
   "outputs": [],
   "source": [
    "import sys\n",
    "import pandas as pd\n",
    "import numpy as np\n",
    "from sklearn import preprocessing\n",
    "import matplotlib.pyplot as plt\n",
    "import matplotlib.mlab as mlab\n",
    "import plotly.plotly as py\n",
    "import plotly.graph_objs as go\n",
    "import plotly.offline as offline\n",
    "\n",
    "from sklearn.metrics import mean_squared_error\n",
    "from sklearn.preprocessing import StandardScaler\n",
    "from scipy import signal\n",
    "\n",
    "from keras import Sequential\n",
    "from keras.layers import LSTM, RepeatVector, TimeDistributed, Dense, Dropout, Input\n",
    "from keras.optimizers import Adam \n",
    "\n",
    "offline.init_notebook_mode(connected=True)\n",
    "\n",
    "sys.path.insert(0, '../../scripts/modeling_toolbox/')\n",
    "# load the autoreload extension\n",
    "%load_ext autoreload\n",
    "# Set extension to reload modules every time before executing code\n",
    "%autoreload 2\n",
    "\n",
    "from metric_processor import MetricProcessor\n",
    "import evaluation"
   ]
  },
  {
   "cell_type": "markdown",
   "metadata": {},
   "source": [
    "## Background\n",
    "\n",
    "This notebook explores the influence of using a reduced number of frames to aggregate the features used in the model (temporal_dct and temporal_gaussian).\n",
    "The experiment evaluates the F20 score for different number of samples frames"
   ]
  },
  {
   "cell_type": "code",
   "execution_count": null,
   "metadata": {},
   "outputs": [],
   "source": [
    "path = '../../machine_learning/cloud_functions/data-large.csv'\n",
    "data = pd.read_csv(path)\n",
    "df = pd.DataFrame(data)\n",
    "\n",
    "columns = ['attack',\n",
    "           'dimension',\n",
    "           'size',\n",
    "           'title',\n",
    "           'temporal_dct-series',\n",
    "           'temporal_gaussian_mse-series']\n",
    "\n",
    "\n",
    "df = df[columns]\n",
    "df = df.dropna()\n",
    "        \n",
    "df['attack_ID'] = df.apply(lambda row: row['attack'] in ['1080p', '720p', '480p', '360p', '240p', '144p'] , axis=1)\n",
    "for column in columns:\n",
    "    if 'series' in column:\n",
    "        df[column] = df.apply(lambda row: np.fromstring(row[column].replace('[', '').replace(']', ''), \n",
    "                                                dtype=np.float, sep=' '), axis=1)\n",
    "        df['{}-len'.format(column)] = df.apply(lambda row: len(row[column]), axis=1)"
   ]
  },
  {
   "cell_type": "code",
   "execution_count": null,
   "metadata": {},
   "outputs": [],
   "source": [
    "display(df.head())\n",
    "df.describe()"
   ]
  },
  {
   "cell_type": "markdown",
   "metadata": {},
   "source": [
    "# OCSVM\n",
    "\n",
    "We will be conducting the experiments on the model with the best results achieved so far: One Class Support Vector Machine"
   ]
  },
  {
   "cell_type": "code",
   "execution_count": null,
   "metadata": {},
   "outputs": [],
   "source": [
    "# Helper function to evaluate models with different data sets\n",
    "\n",
    "def evaluate_data_set(df, X_train_120):\n",
    "    features = df.columns\n",
    "    metric_processor = MetricProcessor(features,'UL', path)\n",
    "    (X_train, X_test, X_attacks), (df_train, df_test, df_attacks) = metric_processor.split_test_and_train(df)\n",
    "    \n",
    "    # Scaling the data\n",
    "    ss = StandardScaler()\n",
    "    x_train = ss.fit_transform(X_train_120)\n",
    "    x_test = ss.transform(X_test)\n",
    "    x_attacks = ss.transform(X_attacks)\n",
    "    # Dataframe to store results\n",
    "    svm_results = pd.DataFrame(columns=['gamma', 'nu', 'n_components', 'TPR_test',\n",
    "                                        'TNR', 'model', 'auc', 'f_beta', 'projection'])\n",
    "\n",
    "    # Train the models\n",
    "    svm_results = evaluation.one_class_svm(x_train, x_test, x_attacks, svm_results)\n",
    "    display(svm_results.sort_values('f_beta', ascending=False).head(1))\n",
    "    return svm_results.sort_values('f_beta', ascending=False).head(1)"
   ]
  },
  {
   "cell_type": "code",
   "execution_count": null,
   "metadata": {
    "scrolled": true
   },
   "outputs": [],
   "source": [
    "frame_nums = [1, 5, 10, 15, 30, 60, 90, 120]\n",
    "features = df.columns\n",
    "df_samples = df.copy()\n",
    "print(df_samples.shape)\n",
    "metric_processor = MetricProcessor(features,'UL', path)\n",
    "df_results = pd.DataFrame(columns=['frames','gamma', 'nu', 'n_components', 'TPR_test',\n",
    "                                        'TNR', 'model', 'auc', 'f_beta', 'projection'])\n",
    "        \n",
    "for column in columns:\n",
    "    if 'series' in column:\n",
    "        df_samples[column] = df_samples.apply(lambda row: np.mean(row[column][:120]), axis=1)\n",
    "\n",
    "(X_train_120, X_test, X_attacks), (df_train, df_test, df_attacks) = metric_processor.split_test_and_train(df_samples)\n",
    "\n",
    "for frame_num in frame_nums:\n",
    "    df_samples = df[df['temporal_dct-series-len']>100].copy()\n",
    "    \n",
    "    print('**********************************')\n",
    "    print('Frame number:', frame_num)\n",
    "    for column in columns:\n",
    "        if 'series' in column:\n",
    "            df_samples[column] = df_samples.apply(lambda row: np.mean(np.random.choice(row[column], frame_num)), axis=1)\n",
    "            \n",
    "            \n",
    "    df_results = pd.concat([df_results, evaluate_data_set(df_samples, X_train_120)], axis=0, sort=False)\n"
   ]
  },
  {
   "cell_type": "code",
   "execution_count": null,
   "metadata": {},
   "outputs": [],
   "source": [
    "df_results['frames'] = frame_nums\n",
    "display(df_results)"
   ]
  },
  {
   "cell_type": "markdown",
   "metadata": {},
   "source": [
    "## Plot results"
   ]
  },
  {
   "cell_type": "code",
   "execution_count": null,
   "metadata": {},
   "outputs": [],
   "source": [
    "list_dct = []\n",
    "list_gaussian = []\n",
    "n_frames = 100\n",
    "for index, row in df.iterrows():\n",
    "    if len(row['temporal_dct-series'])>=n_frames:\n",
    "        list_dct.append(row['temporal_dct-series'][:n_frames])\n",
    "        list_gaussian.append(row['temporal_gaussian_mse-series'][:n_frames])\n",
    "print(len(list_gaussian))\n",
    "df_dct = pd.DataFrame(data=list_dct)\n",
    "df_gaussian = pd.DataFrame(data=list_gaussian)\n",
    "\n"
   ]
  },
  {
   "cell_type": "code",
   "execution_count": null,
   "metadata": {},
   "outputs": [],
   "source": [
    "df_gaussian.mean().plot(title='Mean gaussian')"
   ]
  },
  {
   "cell_type": "code",
   "execution_count": null,
   "metadata": {},
   "outputs": [],
   "source": [
    "df_dct.mean().plot(title='Mean DCT')"
   ]
  }
 ],
 "metadata": {
  "kernelspec": {
   "display_name": "Python 3",
   "language": "python",
   "name": "python3"
  },
  "language_info": {
   "codemirror_mode": {
    "name": "ipython",
    "version": 3
   },
   "file_extension": ".py",
   "mimetype": "text/x-python",
   "name": "python",
   "nbconvert_exporter": "python",
   "pygments_lexer": "ipython3",
   "version": "3.6.8"
  }
 },
 "nbformat": 4,
 "nbformat_minor": 2
}
