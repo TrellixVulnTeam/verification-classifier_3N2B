{
 "cells": [
  {
   "cell_type": "code",
   "execution_count": null,
   "metadata": {},
   "outputs": [],
   "source": [
    "import pandas as pd\n",
    "import numpy as np\n",
    "from sklearn.decomposition import PCA\n",
    "from sklearn.preprocessing import MinMaxScaler, StandardScaler\n",
    "from sklearn import random_projection\n",
    "from sklearn import svm\n",
    "import xgboost as xgb\n",
    "import matplotlib.pyplot as plt\n",
    "import matplotlib.mlab as mlab\n",
    "import time\n",
    "import pickle\n",
    "import json\n",
    "import sys\n",
    "\n",
    "sys.path.insert(0, '../../scripts/modeling_toolbox/')\n",
    "# load the autoreload extension\n",
    "%load_ext autoreload\n",
    "# Set extension to reload modules every time before executing code\n",
    "%autoreload 2\n",
    "\n",
    "from metric_processor import MetricProcessor\n",
    "import evaluation\n",
    "\n",
    "%matplotlib inline"
   ]
  },
  {
   "cell_type": "markdown",
   "metadata": {},
   "source": [
    "# Metamodel"
   ]
  },
  {
   "cell_type": "code",
   "execution_count": null,
   "metadata": {},
   "outputs": [],
   "source": [
    "UL_features = ['temporal_canny-euclidean', 'temporal_cross_correlation-euclidean',\n",
    "               'temporal_difference-euclidean', 'temporal_histogram_distance-euclidean',\n",
    "               'temporal_dct-euclidean', 'size', 'dimension', 'fps',\n",
    "               'temporal_dct-std', 'temporal_dct-manhattan', 'temporal_gaussian-euclidean']\n",
    "\n",
    "SL_features = ['dimension', 'fps', 'size', 'temporal_canny-euclidean',\n",
    "               'temporal_canny-manhattan', 'temporal_canny-max', 'temporal_canny-mean',\n",
    "               'temporal_canny-std', 'temporal_cross_correlation-euclidean',\n",
    "               'temporal_cross_correlation-manhattan',\n",
    "               'temporal_cross_correlation-max', 'temporal_cross_correlation-mean',\n",
    "               'temporal_cross_correlation-std', 'temporal_dct-euclidean',\n",
    "               'temporal_dct-manhattan', 'temporal_dct-max', 'temporal_dct-mean',\n",
    "               'temporal_dct-std', 'temporal_difference-euclidean',\n",
    "               'temporal_difference-manhattan', 'temporal_difference-max',\n",
    "               'temporal_difference-mean', 'temporal_difference-std',\n",
    "               'temporal_gaussian-euclidean', 'temporal_gaussian-manhattan',\n",
    "               'temporal_gaussian-max', 'temporal_gaussian-mean',\n",
    "               'temporal_gaussian-std', 'temporal_histogram_distance-euclidean',\n",
    "               'temporal_histogram_distance-manhattan',\n",
    "               'temporal_histogram_distance-max', 'temporal_histogram_distance-mean',\n",
    "               'temporal_histogram_distance-std']\n",
    "\n",
    "\n",
    "path = '../../machine_learning/cloud_functions/data-large.csv'"
   ]
  },
  {
   "cell_type": "code",
   "execution_count": null,
   "metadata": {},
   "outputs": [],
   "source": [
    "data = pd.read_csv(path)\n",
    "df = pd.DataFrame(data)\n",
    "df.head()"
   ]
  },
  {
   "cell_type": "code",
   "execution_count": null,
   "metadata": {},
   "outputs": [],
   "source": [
    "attack_IDs = []\n",
    "\n",
    "for row_index, row in df.iterrows():\n",
    "\n",
    "    if row['attack'] in ['1080p', '720p', '480p', '360p', '240p', '144p']:\n",
    "        attack_IDs.append(1)\n",
    "    elif 'bitrate' in row['attack'] or 'watermark' in row['attack']:\n",
    "        attack_IDs.append(2)\n",
    "    else:\n",
    "        attack_IDs.append(0)\n",
    "        \n",
    "df['attack_ID'] = attack_IDs\n"
   ]
  },
  {
   "cell_type": "code",
   "execution_count": null,
   "metadata": {},
   "outputs": [],
   "source": [
    "df.head()"
   ]
  },
  {
   "cell_type": "code",
   "execution_count": null,
   "metadata": {},
   "outputs": [],
   "source": [
    "df = df.drop(['Unnamed: 0', 'path', 'kind'], axis=1)\n",
    "print(df.shape)\n",
    "df = df.dropna()\n",
    "print(df.shape)"
   ]
  },
  {
   "cell_type": "code",
   "execution_count": null,
   "metadata": {},
   "outputs": [],
   "source": [
    "train_prop = 0.8"
   ]
  },
  {
   "cell_type": "code",
   "execution_count": null,
   "metadata": {},
   "outputs": [],
   "source": [
    "num_train = int(df.shape[0]*train_prop)\n",
    "\n",
    "df_attacks = df[df['attack_ID'] == 0] # All attacks except Watermarks and Lowbitrates\n",
    "df_train_all = df[0:num_train]\n",
    "df_test_all = df[num_train:]"
   ]
  },
  {
   "cell_type": "code",
   "execution_count": null,
   "metadata": {},
   "outputs": [],
   "source": [
    "df_train_1 = df_train_all[df_train_all['attack_ID'] == 2] # Watermarks and Lowbitrates\n",
    "df_train_0 = df_train_all[df_train_all['attack_ID'] == 1] # Legit assets\n",
    "\n",
    "\n",
    "df_test_1 = df_test_all[df_test_all['attack_ID'] == 2] # Watermarks and Lowbitrates\n",
    "df_test_0 = df_test_all[df_test_all['attack_ID'] == 1] # Legit assets"
   ]
  },
  {
   "cell_type": "code",
   "execution_count": null,
   "metadata": {},
   "outputs": [],
   "source": [
    "df_train_1 = df_train_1.sample(frac=1)\n",
    "df_train_0 = df_train_0.sample(frac=1)\n",
    "\n",
    "df_test_1 = df_test_1.sample(frac=1)\n",
    "df_test_0 = df_test_0.sample(frac=1)"
   ]
  },
  {
   "cell_type": "code",
   "execution_count": null,
   "metadata": {},
   "outputs": [],
   "source": [
    "df_sample_train = df_train_1.sample(df_train_0.shape[0])\n",
    "df_train = df_train_0.append(df_sample_train)\n",
    "df_train = df_train.sample(frac=1)\n",
    "\n",
    "df_sample_test = df_test_1.sample(df_test_0.shape[0])\n",
    "df_test = df_test_0.append(df_sample_test)\n",
    "df_test = df_test.sample(frac=1)\n"
   ]
  },
  {
   "cell_type": "code",
   "execution_count": null,
   "metadata": {},
   "outputs": [],
   "source": [
    "X_train = df_train[SL_features]\n",
    "\n",
    "X_test = df_test[SL_features]\n",
    "Y_train = df_train['attack_ID']\n",
    "Y_test = df_test['attack_ID']\n",
    "\n",
    "X_attacks = df_attacks[SL_features]\n",
    "Y_attacks = df_attacks['attack_ID']\n",
    "\n",
    "UL_x_train = df_train[UL_features][(~df_train['attack'].str.contains('bitrate')) &\n",
    "                      (~df_train['attack'].str.contains('watermark'))]\n",
    "\n",
    "UL_x_test = df_test[UL_features][(~df_test['attack'].str.contains('bitrate')) &\n",
    "                      (~df_test['attack'].str.contains('watermark'))]\n",
    "\n",
    "UL_x_attacks = df_attacks[UL_features]\n"
   ]
  },
  {
   "cell_type": "code",
   "execution_count": null,
   "metadata": {},
   "outputs": [],
   "source": [
    "print(X_train.shape, X_test.shape, X_attacks.shape, UL_x_train.shape,\n",
    "     UL_x_test.shape, UL_x_attacks.shape)"
   ]
  },
  {
   "cell_type": "code",
   "execution_count": null,
   "metadata": {},
   "outputs": [],
   "source": [
    "x_train = np.array(X_train)\n",
    "x_test = np.array(X_test)\n",
    "\n",
    "y_train = np.array(Y_train)\n",
    "y_test = np.array(Y_test)\n",
    "\n",
    "x_attacks = np.array(X_attacks)\n",
    "y_attacks = np.array(Y_attacks)\n",
    "\n",
    "ul_train = np.array(UL_x_train)\n",
    "ul_test = np.array(UL_x_test)\n",
    "ul_attacks = np.array(UL_x_attacks)"
   ]
  },
  {
   "cell_type": "code",
   "execution_count": null,
   "metadata": {},
   "outputs": [],
   "source": [
    "mM = MinMaxScaler()\n",
    "sl_x_train = mM.fit_transform(x_train)\n",
    "sl_x_test = mM.transform(x_test)\n",
    "sl_x_attacks = mM.transform(x_attacks)\n",
    "\n",
    "\n",
    "ss = StandardScaler()\n",
    "ul_x_train = ss.fit_transform(UL_x_train)\n",
    "ul_x_test = ss.transform(UL_x_test)\n",
    "ul_x_attacks = ss.transform(UL_x_attacks)\n"
   ]
  },
  {
   "cell_type": "code",
   "execution_count": null,
   "metadata": {},
   "outputs": [],
   "source": [
    "print(sl_x_train.shape, y_train.shape)"
   ]
  },
  {
   "cell_type": "code",
   "execution_count": null,
   "metadata": {},
   "outputs": [],
   "source": [
    "sl_rp = random_projection.SparseRandomProjection(n_components=33, random_state=7)\n",
    "\n",
    "sl_x_train = sl_rp.fit_transform(sl_x_train)\n",
    "sl_x_test = sl_rp.transform(sl_x_test)\n",
    "sl_x_attacks = sl_rp.transform(sl_x_attacks)\n",
    "\n",
    "ul_rp = random_projection.SparseRandomProjection(n_components=10, random_state=7)\n",
    "ul_x_train = ul_rp.fit_transform(ul_x_train)\n",
    "ul_x_test = ul_rp.transform(ul_x_test)\n",
    "ul_x_attacks = ul_rp.transform(ul_x_attacks)"
   ]
  },
  {
   "cell_type": "code",
   "execution_count": null,
   "metadata": {},
   "outputs": [],
   "source": [
    "xgb_classifier = xgb.XGBClassifier()\n",
    "grid = {'max_depth': 10}\n",
    "xgb_classifier.set_params(**grid)\n",
    "\n",
    "xgb_classifier.fit(sl_x_train, -y_train+2)"
   ]
  },
  {
   "cell_type": "code",
   "execution_count": null,
   "metadata": {},
   "outputs": [],
   "source": [
    "fb, area, tnr, tpr = evaluation.supervised_evaluation(xgb_classifier,\n",
    "                                                      sl_x_test, -y_test+2)"
   ]
  },
  {
   "cell_type": "code",
   "execution_count": null,
   "metadata": {},
   "outputs": [],
   "source": [
    "fb, area, tnr, tpr"
   ]
  },
  {
   "cell_type": "code",
   "execution_count": null,
   "metadata": {},
   "outputs": [],
   "source": [
    "ocsvm_classifier = svm.OneClassSVM(kernel='rbf', gamma='auto', nu=0.01, cache_size=7000)\n",
    "ocsvm_classifier.fit(ul_x_train)"
   ]
  },
  {
   "cell_type": "code",
   "execution_count": null,
   "metadata": {},
   "outputs": [],
   "source": [
    "fb, area, tnr, tpr_train, tpr_test = evaluation.unsupervised_evaluation(ocsvm_classifier,\n",
    "                                                                        ul_x_train,\n",
    "                                                                        ul_x_test,\n",
    "                                                                        ul_x_attacks)"
   ]
  },
  {
   "cell_type": "code",
   "execution_count": null,
   "metadata": {},
   "outputs": [],
   "source": [
    "fb, area, tnr, tpr_train, tpr_test"
   ]
  },
  {
   "cell_type": "code",
   "execution_count": null,
   "metadata": {},
   "outputs": [],
   "source": [
    "df_test_all.head()"
   ]
  },
  {
   "cell_type": "code",
   "execution_count": null,
   "metadata": {},
   "outputs": [],
   "source": [
    "test_UL_0 = df_test_all[df_test_all['attack_ID'] != 1][UL_features]\n",
    "test_UL_1 = df_test_all[df_test_all['attack_ID'] == 1][UL_features]\n",
    "\n",
    "test_SL_0 = df_test_all[df_test_all['attack_ID'] != 1][SL_features]\n",
    "test_SL_1 = df_test_all[df_test_all['attack_ID'] == 1][SL_features]"
   ]
  },
  {
   "cell_type": "code",
   "execution_count": null,
   "metadata": {},
   "outputs": [],
   "source": [
    "test_SL_0 = mM.transform(test_SL_0)\n",
    "test_SL_1 = mM.transform(test_SL_1)\n",
    "\n",
    "test_UL_0 = ss.transform(test_UL_0)\n",
    "test_UL_1 = ss.transform(test_UL_1)"
   ]
  },
  {
   "cell_type": "code",
   "execution_count": null,
   "metadata": {},
   "outputs": [],
   "source": [
    "test_SL_0 = sl_rp.transform(test_SL_0)\n",
    "test_SL_1 = sl_rp.transform(test_SL_1)\n",
    "\n",
    "test_UL_0 = ul_rp.transform(test_UL_0)\n",
    "test_UL_1 = ul_rp.transform(test_UL_1)"
   ]
  },
  {
   "cell_type": "code",
   "execution_count": null,
   "metadata": {},
   "outputs": [],
   "source": [
    "pred_SL_0 = xgb_classifier.predict(test_SL_0)\n",
    "pred_SL_1 = xgb_classifier.predict(test_SL_1)\n",
    "\n",
    "pred_UL_0 = ocsvm_classifier.predict(test_UL_0)\n",
    "pred_UL_1 = ocsvm_classifier.predict(test_UL_1)"
   ]
  },
  {
   "cell_type": "code",
   "execution_count": null,
   "metadata": {},
   "outputs": [],
   "source": [
    "tnr_sl = sum(pred_SL_0 == 0)/pred_SL_0.shape[0]\n",
    "tpr_sl = sum(pred_SL_1 == 1)/pred_SL_1.shape[0]\n",
    "print('The SL TNR is {} and the TPR is {}'.format(tnr_sl, tpr_sl))"
   ]
  },
  {
   "cell_type": "code",
   "execution_count": null,
   "metadata": {},
   "outputs": [],
   "source": [
    "tnr_ul = sum(pred_UL_0 == -1)/pred_UL_0.shape[0]\n",
    "tpr_ul = sum(pred_UL_1 == 1)/pred_UL_1.shape[0]\n",
    "print('The UL TNR is {} and the TPR is {}'.format(tnr_ul, tpr_ul))"
   ]
  },
  {
   "cell_type": "code",
   "execution_count": null,
   "metadata": {},
   "outputs": [],
   "source": [
    "# From [-1, 1] to [0, 1] \n",
    "pred_UL_0 = (pred_UL_0 + 1)/2\n",
    "pred_UL_1 = (pred_UL_1 + 1)/2"
   ]
  },
  {
   "cell_type": "code",
   "execution_count": null,
   "metadata": {},
   "outputs": [],
   "source": [
    "# Metamodel is just a logic OR of both outputs:\n",
    "pred_metamodel_0 = np.logical_or(pred_UL_0, pred_SL_0)\n",
    "pred_metamodel_1 = np.logical_or(pred_UL_1, pred_SL_1)\n"
   ]
  },
  {
   "cell_type": "code",
   "execution_count": null,
   "metadata": {},
   "outputs": [],
   "source": [
    "tnr_ul = sum(pred_metamodel_0 == 0)/pred_metamodel_0.shape[0]\n",
    "tpr_ul = sum(pred_metamodel_1 == 1)/pred_metamodel_1.shape[0]\n",
    "print('The metamodel TNR is {} and the TPR is {}'.format(tnr_ul, tpr_ul))"
   ]
  },
  {
   "cell_type": "code",
   "execution_count": null,
   "metadata": {},
   "outputs": [],
   "source": [
    "# Metamodel is just a logic AND of both outputs:\n",
    "pred_metamodel_0 = np.logical_and(pred_UL_0, pred_SL_0)\n",
    "pred_metamodel_1 = np.logical_and(pred_UL_1, pred_SL_1)\n"
   ]
  },
  {
   "cell_type": "code",
   "execution_count": null,
   "metadata": {},
   "outputs": [],
   "source": [
    "tnr_ul = sum(pred_metamodel_0 == 0)/pred_metamodel_0.shape[0]\n",
    "tpr_ul = sum(pred_metamodel_1 == 1)/pred_metamodel_1.shape[0]\n",
    "print('The metamodel TNR is {} and the TPR is {}'.format(tnr_ul, tpr_ul))"
   ]
  }
 ],
 "metadata": {
  "kernelspec": {
   "display_name": "Python 3",
   "language": "python",
   "name": "python3"
  },
  "language_info": {
   "codemirror_mode": {
    "name": "ipython",
    "version": 3
   },
   "file_extension": ".py",
   "mimetype": "text/x-python",
   "name": "python",
   "nbconvert_exporter": "python",
   "pygments_lexer": "ipython3",
   "version": "3.6.7"
  }
 },
 "nbformat": 4,
 "nbformat_minor": 2
}
