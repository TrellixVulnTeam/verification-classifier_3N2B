{
 "cells": [
  {
   "cell_type": "code",
   "execution_count": 1,
   "metadata": {},
   "outputs": [
    {
     "name": "stderr",
     "output_type": "stream",
     "text": [
      "Using TensorFlow backend.\n"
     ]
    }
   ],
   "source": [
    "import pandas as pd\n",
    "import numpy as np\n",
    "from sklearn.decomposition import PCA\n",
    "from sklearn.preprocessing import MinMaxScaler, StandardScaler\n",
    "from sklearn import random_projection\n",
    "from sklearn import svm\n",
    "import xgboost as xgb\n",
    "import matplotlib.pyplot as plt\n",
    "import matplotlib.mlab as mlab\n",
    "import time\n",
    "import pickle\n",
    "import json\n",
    "import sys\n",
    "\n",
    "sys.path.insert(0, '../../scripts/modeling_toolbox/')\n",
    "# load the autoreload extension\n",
    "%load_ext autoreload\n",
    "# Set extension to reload modules every time before executing code\n",
    "%autoreload 2\n",
    "\n",
    "from metric_processor import MetricProcessor\n",
    "import evaluation\n",
    "\n",
    "%matplotlib inline"
   ]
  },
  {
   "cell_type": "markdown",
   "metadata": {},
   "source": [
    "# Metamodel"
   ]
  },
  {
   "cell_type": "code",
   "execution_count": 2,
   "metadata": {},
   "outputs": [],
   "source": [
    "UL_features = ['temporal_canny-euclidean', 'temporal_cross_correlation-euclidean',\n",
    "               'temporal_difference-euclidean', 'temporal_histogram_distance-euclidean',\n",
    "               'temporal_dct-euclidean', 'size', 'dimension', 'fps',\n",
    "               'temporal_dct-std', 'temporal_dct-manhattan', 'temporal_gaussian-euclidean']\n",
    "\n",
    "SL_features = ['dimension', 'fps', 'size', 'temporal_canny-euclidean',\n",
    "               'temporal_canny-manhattan', 'temporal_canny-max', 'temporal_canny-mean',\n",
    "               'temporal_canny-std', 'temporal_cross_correlation-euclidean',\n",
    "               'temporal_cross_correlation-manhattan',\n",
    "               'temporal_cross_correlation-max', 'temporal_cross_correlation-mean',\n",
    "               'temporal_cross_correlation-std', 'temporal_dct-euclidean',\n",
    "               'temporal_dct-manhattan', 'temporal_dct-max', 'temporal_dct-mean',\n",
    "               'temporal_dct-std', 'temporal_difference-euclidean',\n",
    "               'temporal_difference-manhattan', 'temporal_difference-max',\n",
    "               'temporal_difference-mean', 'temporal_difference-std',\n",
    "               'temporal_gaussian-euclidean', 'temporal_gaussian-manhattan',\n",
    "               'temporal_gaussian-max', 'temporal_gaussian-mean',\n",
    "               'temporal_gaussian-std', 'temporal_histogram_distance-euclidean',\n",
    "               'temporal_histogram_distance-manhattan',\n",
    "               'temporal_histogram_distance-max', 'temporal_histogram_distance-mean',\n",
    "               'temporal_histogram_distance-std']\n",
    "\n",
    "\n",
    "path = '../../machine_learning/cloud_functions/data-large.csv'"
   ]
  },
  {
   "cell_type": "code",
   "execution_count": 3,
   "metadata": {},
   "outputs": [
    {
     "data": {
      "text/html": [
       "<div>\n",
       "<style scoped>\n",
       "    .dataframe tbody tr th:only-of-type {\n",
       "        vertical-align: middle;\n",
       "    }\n",
       "\n",
       "    .dataframe tbody tr th {\n",
       "        vertical-align: top;\n",
       "    }\n",
       "\n",
       "    .dataframe thead th {\n",
       "        text-align: right;\n",
       "    }\n",
       "</style>\n",
       "<table border=\"1\" class=\"dataframe\">\n",
       "  <thead>\n",
       "    <tr style=\"text-align: right;\">\n",
       "      <th></th>\n",
       "      <th>Unnamed: 0</th>\n",
       "      <th>attack</th>\n",
       "      <th>dimension</th>\n",
       "      <th>fps</th>\n",
       "      <th>kind</th>\n",
       "      <th>path</th>\n",
       "      <th>size</th>\n",
       "      <th>temporal_canny-euclidean</th>\n",
       "      <th>temporal_canny-manhattan</th>\n",
       "      <th>temporal_canny-max</th>\n",
       "      <th>...</th>\n",
       "      <th>temporal_gaussian-mean</th>\n",
       "      <th>temporal_gaussian-series</th>\n",
       "      <th>temporal_gaussian-std</th>\n",
       "      <th>temporal_histogram_distance-euclidean</th>\n",
       "      <th>temporal_histogram_distance-manhattan</th>\n",
       "      <th>temporal_histogram_distance-max</th>\n",
       "      <th>temporal_histogram_distance-mean</th>\n",
       "      <th>temporal_histogram_distance-series</th>\n",
       "      <th>temporal_histogram_distance-std</th>\n",
       "      <th>title</th>\n",
       "    </tr>\n",
       "  </thead>\n",
       "  <tbody>\n",
       "    <tr>\n",
       "      <th>0</th>\n",
       "      <td>0</td>\n",
       "      <td>1080p_black_and_white</td>\n",
       "      <td>1080</td>\n",
       "      <td>29</td>\n",
       "      <td>asset_input</td>\n",
       "      <td>/tmp/1080p_black_and_white/-3MYFnEaYu4.mp4</td>\n",
       "      <td>5264133</td>\n",
       "      <td>7.167590</td>\n",
       "      <td>0.013203</td>\n",
       "      <td>0.130887</td>\n",
       "      <td>...</td>\n",
       "      <td>1.514054</td>\n",
       "      <td>[1.86029 1.87435 1.89874 1.86723 1.88355 1.911...</td>\n",
       "      <td>0.285477</td>\n",
       "      <td>3.340637</td>\n",
       "      <td>0.028868</td>\n",
       "      <td>0.385370</td>\n",
       "      <td>0.309919</td>\n",
       "      <td>[0.29224 0.29607 0.29938 0.29908 0.3001  0.310...</td>\n",
       "      <td>0.031505</td>\n",
       "      <td>/tmp/-3MYFnEaYu4.mp4</td>\n",
       "    </tr>\n",
       "    <tr>\n",
       "      <th>1</th>\n",
       "      <td>1</td>\n",
       "      <td>1080p_low_bitrate_4</td>\n",
       "      <td>1080</td>\n",
       "      <td>29</td>\n",
       "      <td>asset_input</td>\n",
       "      <td>/tmp/1080p_low_bitrate_4/-3MYFnEaYu4.mp4</td>\n",
       "      <td>1194152</td>\n",
       "      <td>7.732898</td>\n",
       "      <td>0.012222</td>\n",
       "      <td>0.064453</td>\n",
       "      <td>...</td>\n",
       "      <td>0.030526</td>\n",
       "      <td>[0.01059 0.01044 0.01212 0.00831 0.00823 0.009...</td>\n",
       "      <td>0.018843</td>\n",
       "      <td>0.366303</td>\n",
       "      <td>0.394302</td>\n",
       "      <td>0.062149</td>\n",
       "      <td>0.030749</td>\n",
       "      <td>[0.01043 0.0098  0.01126 0.01094 0.00974 0.009...</td>\n",
       "      <td>0.014875</td>\n",
       "      <td>/tmp/-3MYFnEaYu4.mp4</td>\n",
       "    </tr>\n",
       "    <tr>\n",
       "      <th>2</th>\n",
       "      <td>2</td>\n",
       "      <td>1080p_rotate_90_clockwise</td>\n",
       "      <td>1080</td>\n",
       "      <td>29</td>\n",
       "      <td>asset_input</td>\n",
       "      <td>/tmp/1080p_rotate_90_clockwise/-3MYFnEaYu4.mp4</td>\n",
       "      <td>5978909</td>\n",
       "      <td>5.940646</td>\n",
       "      <td>0.016015</td>\n",
       "      <td>0.274441</td>\n",
       "      <td>...</td>\n",
       "      <td>208.458241</td>\n",
       "      <td>[218.2681  213.59853 216.40738 216.20153 217.3...</td>\n",
       "      <td>20.621722</td>\n",
       "      <td>0.046587</td>\n",
       "      <td>1.976843</td>\n",
       "      <td>0.006103</td>\n",
       "      <td>0.004297</td>\n",
       "      <td>[0.00477 0.00423 0.0037  0.00391 0.00474 0.004...</td>\n",
       "      <td>0.000639</td>\n",
       "      <td>/tmp/-3MYFnEaYu4.mp4</td>\n",
       "    </tr>\n",
       "    <tr>\n",
       "      <th>3</th>\n",
       "      <td>3</td>\n",
       "      <td>1080p_vignette</td>\n",
       "      <td>1080</td>\n",
       "      <td>29</td>\n",
       "      <td>asset_input</td>\n",
       "      <td>/tmp/1080p_vignette/-3MYFnEaYu4.mp4</td>\n",
       "      <td>5526314</td>\n",
       "      <td>7.290457</td>\n",
       "      <td>0.012975</td>\n",
       "      <td>0.117133</td>\n",
       "      <td>...</td>\n",
       "      <td>11.046699</td>\n",
       "      <td>[10.59078 10.40433 10.5296  10.54755 10.62077 ...</td>\n",
       "      <td>0.847564</td>\n",
       "      <td>3.906239</td>\n",
       "      <td>0.024558</td>\n",
       "      <td>0.466188</td>\n",
       "      <td>0.362786</td>\n",
       "      <td>[0.33418 0.32359 0.33261 0.33229 0.33937 0.349...</td>\n",
       "      <td>0.032724</td>\n",
       "      <td>/tmp/-3MYFnEaYu4.mp4</td>\n",
       "    </tr>\n",
       "    <tr>\n",
       "      <th>4</th>\n",
       "      <td>4</td>\n",
       "      <td>1080p_watermark</td>\n",
       "      <td>1080</td>\n",
       "      <td>29</td>\n",
       "      <td>asset_input</td>\n",
       "      <td>/tmp/1080p_watermark/-3MYFnEaYu4.mp4</td>\n",
       "      <td>4815850</td>\n",
       "      <td>7.570566</td>\n",
       "      <td>0.012493</td>\n",
       "      <td>0.109890</td>\n",
       "      <td>...</td>\n",
       "      <td>0.805858</td>\n",
       "      <td>[0.82355 0.81863 0.81722 0.81286 0.81449 0.819...</td>\n",
       "      <td>0.030146</td>\n",
       "      <td>0.236711</td>\n",
       "      <td>0.651023</td>\n",
       "      <td>0.024057</td>\n",
       "      <td>0.022053</td>\n",
       "      <td>[0.02078 0.02065 0.0212  0.02081 0.0213  0.020...</td>\n",
       "      <td>0.000959</td>\n",
       "      <td>/tmp/-3MYFnEaYu4.mp4</td>\n",
       "    </tr>\n",
       "  </tbody>\n",
       "</table>\n",
       "<p>5 rows × 44 columns</p>\n",
       "</div>"
      ],
      "text/plain": [
       "   Unnamed: 0                     attack  dimension  fps         kind  \\\n",
       "0           0      1080p_black_and_white       1080   29  asset_input   \n",
       "1           1        1080p_low_bitrate_4       1080   29  asset_input   \n",
       "2           2  1080p_rotate_90_clockwise       1080   29  asset_input   \n",
       "3           3             1080p_vignette       1080   29  asset_input   \n",
       "4           4            1080p_watermark       1080   29  asset_input   \n",
       "\n",
       "                                             path     size  \\\n",
       "0      /tmp/1080p_black_and_white/-3MYFnEaYu4.mp4  5264133   \n",
       "1        /tmp/1080p_low_bitrate_4/-3MYFnEaYu4.mp4  1194152   \n",
       "2  /tmp/1080p_rotate_90_clockwise/-3MYFnEaYu4.mp4  5978909   \n",
       "3             /tmp/1080p_vignette/-3MYFnEaYu4.mp4  5526314   \n",
       "4            /tmp/1080p_watermark/-3MYFnEaYu4.mp4  4815850   \n",
       "\n",
       "   temporal_canny-euclidean  temporal_canny-manhattan  temporal_canny-max  \\\n",
       "0                  7.167590                  0.013203            0.130887   \n",
       "1                  7.732898                  0.012222            0.064453   \n",
       "2                  5.940646                  0.016015            0.274441   \n",
       "3                  7.290457                  0.012975            0.117133   \n",
       "4                  7.570566                  0.012493            0.109890   \n",
       "\n",
       "   ...  temporal_gaussian-mean  \\\n",
       "0  ...                1.514054   \n",
       "1  ...                0.030526   \n",
       "2  ...              208.458241   \n",
       "3  ...               11.046699   \n",
       "4  ...                0.805858   \n",
       "\n",
       "                            temporal_gaussian-series  temporal_gaussian-std  \\\n",
       "0  [1.86029 1.87435 1.89874 1.86723 1.88355 1.911...               0.285477   \n",
       "1  [0.01059 0.01044 0.01212 0.00831 0.00823 0.009...               0.018843   \n",
       "2  [218.2681  213.59853 216.40738 216.20153 217.3...              20.621722   \n",
       "3  [10.59078 10.40433 10.5296  10.54755 10.62077 ...               0.847564   \n",
       "4  [0.82355 0.81863 0.81722 0.81286 0.81449 0.819...               0.030146   \n",
       "\n",
       "   temporal_histogram_distance-euclidean  \\\n",
       "0                               3.340637   \n",
       "1                               0.366303   \n",
       "2                               0.046587   \n",
       "3                               3.906239   \n",
       "4                               0.236711   \n",
       "\n",
       "   temporal_histogram_distance-manhattan  temporal_histogram_distance-max  \\\n",
       "0                               0.028868                         0.385370   \n",
       "1                               0.394302                         0.062149   \n",
       "2                               1.976843                         0.006103   \n",
       "3                               0.024558                         0.466188   \n",
       "4                               0.651023                         0.024057   \n",
       "\n",
       "   temporal_histogram_distance-mean  \\\n",
       "0                          0.309919   \n",
       "1                          0.030749   \n",
       "2                          0.004297   \n",
       "3                          0.362786   \n",
       "4                          0.022053   \n",
       "\n",
       "                  temporal_histogram_distance-series  \\\n",
       "0  [0.29224 0.29607 0.29938 0.29908 0.3001  0.310...   \n",
       "1  [0.01043 0.0098  0.01126 0.01094 0.00974 0.009...   \n",
       "2  [0.00477 0.00423 0.0037  0.00391 0.00474 0.004...   \n",
       "3  [0.33418 0.32359 0.33261 0.33229 0.33937 0.349...   \n",
       "4  [0.02078 0.02065 0.0212  0.02081 0.0213  0.020...   \n",
       "\n",
       "   temporal_histogram_distance-std                 title  \n",
       "0                         0.031505  /tmp/-3MYFnEaYu4.mp4  \n",
       "1                         0.014875  /tmp/-3MYFnEaYu4.mp4  \n",
       "2                         0.000639  /tmp/-3MYFnEaYu4.mp4  \n",
       "3                         0.032724  /tmp/-3MYFnEaYu4.mp4  \n",
       "4                         0.000959  /tmp/-3MYFnEaYu4.mp4  \n",
       "\n",
       "[5 rows x 44 columns]"
      ]
     },
     "execution_count": 3,
     "metadata": {},
     "output_type": "execute_result"
    }
   ],
   "source": [
    "data = pd.read_csv(path)\n",
    "df = pd.DataFrame(data)\n",
    "df.head()"
   ]
  },
  {
   "cell_type": "code",
   "execution_count": 4,
   "metadata": {},
   "outputs": [],
   "source": [
    "attack_IDs = []\n",
    "\n",
    "for row_index, row in df.iterrows():\n",
    "\n",
    "    if row['attack'] in ['1080p', '720p', '480p', '360p', '240p', '144p']:\n",
    "        attack_IDs.append(1)\n",
    "    elif 'bitrate' in row['attack'] or 'watermark' in row['attack']:\n",
    "        attack_IDs.append(2)\n",
    "    else:\n",
    "        attack_IDs.append(0)\n",
    "        \n",
    "df['attack_ID'] = attack_IDs\n"
   ]
  },
  {
   "cell_type": "code",
   "execution_count": 5,
   "metadata": {},
   "outputs": [
    {
     "data": {
      "text/html": [
       "<div>\n",
       "<style scoped>\n",
       "    .dataframe tbody tr th:only-of-type {\n",
       "        vertical-align: middle;\n",
       "    }\n",
       "\n",
       "    .dataframe tbody tr th {\n",
       "        vertical-align: top;\n",
       "    }\n",
       "\n",
       "    .dataframe thead th {\n",
       "        text-align: right;\n",
       "    }\n",
       "</style>\n",
       "<table border=\"1\" class=\"dataframe\">\n",
       "  <thead>\n",
       "    <tr style=\"text-align: right;\">\n",
       "      <th></th>\n",
       "      <th>Unnamed: 0</th>\n",
       "      <th>attack</th>\n",
       "      <th>dimension</th>\n",
       "      <th>fps</th>\n",
       "      <th>kind</th>\n",
       "      <th>path</th>\n",
       "      <th>size</th>\n",
       "      <th>temporal_canny-euclidean</th>\n",
       "      <th>temporal_canny-manhattan</th>\n",
       "      <th>temporal_canny-max</th>\n",
       "      <th>...</th>\n",
       "      <th>temporal_gaussian-series</th>\n",
       "      <th>temporal_gaussian-std</th>\n",
       "      <th>temporal_histogram_distance-euclidean</th>\n",
       "      <th>temporal_histogram_distance-manhattan</th>\n",
       "      <th>temporal_histogram_distance-max</th>\n",
       "      <th>temporal_histogram_distance-mean</th>\n",
       "      <th>temporal_histogram_distance-series</th>\n",
       "      <th>temporal_histogram_distance-std</th>\n",
       "      <th>title</th>\n",
       "      <th>attack_ID</th>\n",
       "    </tr>\n",
       "  </thead>\n",
       "  <tbody>\n",
       "    <tr>\n",
       "      <th>0</th>\n",
       "      <td>0</td>\n",
       "      <td>1080p_black_and_white</td>\n",
       "      <td>1080</td>\n",
       "      <td>29</td>\n",
       "      <td>asset_input</td>\n",
       "      <td>/tmp/1080p_black_and_white/-3MYFnEaYu4.mp4</td>\n",
       "      <td>5264133</td>\n",
       "      <td>7.167590</td>\n",
       "      <td>0.013203</td>\n",
       "      <td>0.130887</td>\n",
       "      <td>...</td>\n",
       "      <td>[1.86029 1.87435 1.89874 1.86723 1.88355 1.911...</td>\n",
       "      <td>0.285477</td>\n",
       "      <td>3.340637</td>\n",
       "      <td>0.028868</td>\n",
       "      <td>0.385370</td>\n",
       "      <td>0.309919</td>\n",
       "      <td>[0.29224 0.29607 0.29938 0.29908 0.3001  0.310...</td>\n",
       "      <td>0.031505</td>\n",
       "      <td>/tmp/-3MYFnEaYu4.mp4</td>\n",
       "      <td>0</td>\n",
       "    </tr>\n",
       "    <tr>\n",
       "      <th>1</th>\n",
       "      <td>1</td>\n",
       "      <td>1080p_low_bitrate_4</td>\n",
       "      <td>1080</td>\n",
       "      <td>29</td>\n",
       "      <td>asset_input</td>\n",
       "      <td>/tmp/1080p_low_bitrate_4/-3MYFnEaYu4.mp4</td>\n",
       "      <td>1194152</td>\n",
       "      <td>7.732898</td>\n",
       "      <td>0.012222</td>\n",
       "      <td>0.064453</td>\n",
       "      <td>...</td>\n",
       "      <td>[0.01059 0.01044 0.01212 0.00831 0.00823 0.009...</td>\n",
       "      <td>0.018843</td>\n",
       "      <td>0.366303</td>\n",
       "      <td>0.394302</td>\n",
       "      <td>0.062149</td>\n",
       "      <td>0.030749</td>\n",
       "      <td>[0.01043 0.0098  0.01126 0.01094 0.00974 0.009...</td>\n",
       "      <td>0.014875</td>\n",
       "      <td>/tmp/-3MYFnEaYu4.mp4</td>\n",
       "      <td>2</td>\n",
       "    </tr>\n",
       "    <tr>\n",
       "      <th>2</th>\n",
       "      <td>2</td>\n",
       "      <td>1080p_rotate_90_clockwise</td>\n",
       "      <td>1080</td>\n",
       "      <td>29</td>\n",
       "      <td>asset_input</td>\n",
       "      <td>/tmp/1080p_rotate_90_clockwise/-3MYFnEaYu4.mp4</td>\n",
       "      <td>5978909</td>\n",
       "      <td>5.940646</td>\n",
       "      <td>0.016015</td>\n",
       "      <td>0.274441</td>\n",
       "      <td>...</td>\n",
       "      <td>[218.2681  213.59853 216.40738 216.20153 217.3...</td>\n",
       "      <td>20.621722</td>\n",
       "      <td>0.046587</td>\n",
       "      <td>1.976843</td>\n",
       "      <td>0.006103</td>\n",
       "      <td>0.004297</td>\n",
       "      <td>[0.00477 0.00423 0.0037  0.00391 0.00474 0.004...</td>\n",
       "      <td>0.000639</td>\n",
       "      <td>/tmp/-3MYFnEaYu4.mp4</td>\n",
       "      <td>0</td>\n",
       "    </tr>\n",
       "    <tr>\n",
       "      <th>3</th>\n",
       "      <td>3</td>\n",
       "      <td>1080p_vignette</td>\n",
       "      <td>1080</td>\n",
       "      <td>29</td>\n",
       "      <td>asset_input</td>\n",
       "      <td>/tmp/1080p_vignette/-3MYFnEaYu4.mp4</td>\n",
       "      <td>5526314</td>\n",
       "      <td>7.290457</td>\n",
       "      <td>0.012975</td>\n",
       "      <td>0.117133</td>\n",
       "      <td>...</td>\n",
       "      <td>[10.59078 10.40433 10.5296  10.54755 10.62077 ...</td>\n",
       "      <td>0.847564</td>\n",
       "      <td>3.906239</td>\n",
       "      <td>0.024558</td>\n",
       "      <td>0.466188</td>\n",
       "      <td>0.362786</td>\n",
       "      <td>[0.33418 0.32359 0.33261 0.33229 0.33937 0.349...</td>\n",
       "      <td>0.032724</td>\n",
       "      <td>/tmp/-3MYFnEaYu4.mp4</td>\n",
       "      <td>0</td>\n",
       "    </tr>\n",
       "    <tr>\n",
       "      <th>4</th>\n",
       "      <td>4</td>\n",
       "      <td>1080p_watermark</td>\n",
       "      <td>1080</td>\n",
       "      <td>29</td>\n",
       "      <td>asset_input</td>\n",
       "      <td>/tmp/1080p_watermark/-3MYFnEaYu4.mp4</td>\n",
       "      <td>4815850</td>\n",
       "      <td>7.570566</td>\n",
       "      <td>0.012493</td>\n",
       "      <td>0.109890</td>\n",
       "      <td>...</td>\n",
       "      <td>[0.82355 0.81863 0.81722 0.81286 0.81449 0.819...</td>\n",
       "      <td>0.030146</td>\n",
       "      <td>0.236711</td>\n",
       "      <td>0.651023</td>\n",
       "      <td>0.024057</td>\n",
       "      <td>0.022053</td>\n",
       "      <td>[0.02078 0.02065 0.0212  0.02081 0.0213  0.020...</td>\n",
       "      <td>0.000959</td>\n",
       "      <td>/tmp/-3MYFnEaYu4.mp4</td>\n",
       "      <td>2</td>\n",
       "    </tr>\n",
       "  </tbody>\n",
       "</table>\n",
       "<p>5 rows × 45 columns</p>\n",
       "</div>"
      ],
      "text/plain": [
       "   Unnamed: 0                     attack  dimension  fps         kind  \\\n",
       "0           0      1080p_black_and_white       1080   29  asset_input   \n",
       "1           1        1080p_low_bitrate_4       1080   29  asset_input   \n",
       "2           2  1080p_rotate_90_clockwise       1080   29  asset_input   \n",
       "3           3             1080p_vignette       1080   29  asset_input   \n",
       "4           4            1080p_watermark       1080   29  asset_input   \n",
       "\n",
       "                                             path     size  \\\n",
       "0      /tmp/1080p_black_and_white/-3MYFnEaYu4.mp4  5264133   \n",
       "1        /tmp/1080p_low_bitrate_4/-3MYFnEaYu4.mp4  1194152   \n",
       "2  /tmp/1080p_rotate_90_clockwise/-3MYFnEaYu4.mp4  5978909   \n",
       "3             /tmp/1080p_vignette/-3MYFnEaYu4.mp4  5526314   \n",
       "4            /tmp/1080p_watermark/-3MYFnEaYu4.mp4  4815850   \n",
       "\n",
       "   temporal_canny-euclidean  temporal_canny-manhattan  temporal_canny-max  \\\n",
       "0                  7.167590                  0.013203            0.130887   \n",
       "1                  7.732898                  0.012222            0.064453   \n",
       "2                  5.940646                  0.016015            0.274441   \n",
       "3                  7.290457                  0.012975            0.117133   \n",
       "4                  7.570566                  0.012493            0.109890   \n",
       "\n",
       "   ...                           temporal_gaussian-series  \\\n",
       "0  ...  [1.86029 1.87435 1.89874 1.86723 1.88355 1.911...   \n",
       "1  ...  [0.01059 0.01044 0.01212 0.00831 0.00823 0.009...   \n",
       "2  ...  [218.2681  213.59853 216.40738 216.20153 217.3...   \n",
       "3  ...  [10.59078 10.40433 10.5296  10.54755 10.62077 ...   \n",
       "4  ...  [0.82355 0.81863 0.81722 0.81286 0.81449 0.819...   \n",
       "\n",
       "  temporal_gaussian-std  temporal_histogram_distance-euclidean  \\\n",
       "0              0.285477                               3.340637   \n",
       "1              0.018843                               0.366303   \n",
       "2             20.621722                               0.046587   \n",
       "3              0.847564                               3.906239   \n",
       "4              0.030146                               0.236711   \n",
       "\n",
       "   temporal_histogram_distance-manhattan  temporal_histogram_distance-max  \\\n",
       "0                               0.028868                         0.385370   \n",
       "1                               0.394302                         0.062149   \n",
       "2                               1.976843                         0.006103   \n",
       "3                               0.024558                         0.466188   \n",
       "4                               0.651023                         0.024057   \n",
       "\n",
       "   temporal_histogram_distance-mean  \\\n",
       "0                          0.309919   \n",
       "1                          0.030749   \n",
       "2                          0.004297   \n",
       "3                          0.362786   \n",
       "4                          0.022053   \n",
       "\n",
       "                  temporal_histogram_distance-series  \\\n",
       "0  [0.29224 0.29607 0.29938 0.29908 0.3001  0.310...   \n",
       "1  [0.01043 0.0098  0.01126 0.01094 0.00974 0.009...   \n",
       "2  [0.00477 0.00423 0.0037  0.00391 0.00474 0.004...   \n",
       "3  [0.33418 0.32359 0.33261 0.33229 0.33937 0.349...   \n",
       "4  [0.02078 0.02065 0.0212  0.02081 0.0213  0.020...   \n",
       "\n",
       "  temporal_histogram_distance-std                 title  attack_ID  \n",
       "0                        0.031505  /tmp/-3MYFnEaYu4.mp4          0  \n",
       "1                        0.014875  /tmp/-3MYFnEaYu4.mp4          2  \n",
       "2                        0.000639  /tmp/-3MYFnEaYu4.mp4          0  \n",
       "3                        0.032724  /tmp/-3MYFnEaYu4.mp4          0  \n",
       "4                        0.000959  /tmp/-3MYFnEaYu4.mp4          2  \n",
       "\n",
       "[5 rows x 45 columns]"
      ]
     },
     "execution_count": 5,
     "metadata": {},
     "output_type": "execute_result"
    }
   ],
   "source": [
    "df.head()"
   ]
  },
  {
   "cell_type": "code",
   "execution_count": 6,
   "metadata": {},
   "outputs": [
    {
     "name": "stdout",
     "output_type": "stream",
     "text": [
      "(138069, 42)\n",
      "(128164, 42)\n"
     ]
    }
   ],
   "source": [
    "df = df.drop(['Unnamed: 0', 'path', 'kind'], axis=1)\n",
    "print(df.shape)\n",
    "df = df.dropna()\n",
    "print(df.shape)"
   ]
  },
  {
   "cell_type": "code",
   "execution_count": 7,
   "metadata": {},
   "outputs": [],
   "source": [
    "train_prop = 0.8"
   ]
  },
  {
   "cell_type": "code",
   "execution_count": 8,
   "metadata": {},
   "outputs": [],
   "source": [
    "num_train = int(df.shape[0]*train_prop)\n",
    "\n",
    "df_attacks = df[df['attack_ID'] == 0] # All attacks except Watermarks and Lowbitrates\n",
    "df_train_all = df[0:num_train]\n",
    "df_test_all = df[num_train:]"
   ]
  },
  {
   "cell_type": "code",
   "execution_count": 9,
   "metadata": {},
   "outputs": [],
   "source": [
    "df_train_1 = df_train_all[df_train_all['attack_ID'] == 2] # Watermarks and Lowbitrates\n",
    "df_train_0 = df_train_all[df_train_all['attack_ID'] == 1] # Legit assets\n",
    "\n",
    "\n",
    "df_test_1 = df_test_all[df_test_all['attack_ID'] == 2] # Watermarks and Lowbitrates\n",
    "df_test_0 = df_test_all[df_test_all['attack_ID'] == 1] # Legit assets"
   ]
  },
  {
   "cell_type": "code",
   "execution_count": 10,
   "metadata": {},
   "outputs": [],
   "source": [
    "df_train_1 = df_train_1.sample(frac=1)\n",
    "df_train_0 = df_train_0.sample(frac=1)\n",
    "\n",
    "df_test_1 = df_test_1.sample(frac=1)\n",
    "df_test_0 = df_test_0.sample(frac=1)"
   ]
  },
  {
   "cell_type": "code",
   "execution_count": 11,
   "metadata": {},
   "outputs": [],
   "source": [
    "df_sample_train = df_train_1.sample(df_train_0.shape[0])\n",
    "df_train = df_train_0.append(df_sample_train)\n",
    "df_train = df_train.sample(frac=1)\n",
    "\n",
    "df_sample_test = df_test_1.sample(df_test_0.shape[0])\n",
    "df_test = df_test_0.append(df_sample_test)\n",
    "df_test = df_test.sample(frac=1)\n"
   ]
  },
  {
   "cell_type": "code",
   "execution_count": 12,
   "metadata": {},
   "outputs": [],
   "source": [
    "X_train = df_train[SL_features]\n",
    "\n",
    "X_test = df_test[SL_features]\n",
    "Y_train = df_train['attack_ID']\n",
    "Y_test = df_test['attack_ID']\n",
    "\n",
    "X_attacks = df_attacks[SL_features]\n",
    "Y_attacks = df_attacks['attack_ID']\n",
    "\n",
    "UL_x_train = df_train[UL_features][(~df_train['attack'].str.contains('bitrate')) &\n",
    "                      (~df_train['attack'].str.contains('watermark'))]\n",
    "\n",
    "UL_x_test = df_test[UL_features][(~df_test['attack'].str.contains('bitrate')) &\n",
    "                      (~df_test['attack'].str.contains('watermark'))]\n",
    "\n",
    "UL_x_attacks = df_attacks[UL_features]\n"
   ]
  },
  {
   "cell_type": "code",
   "execution_count": 13,
   "metadata": {},
   "outputs": [
    {
     "name": "stdout",
     "output_type": "stream",
     "text": [
      "(29100, 33) (7276, 33) (66259, 33) (14550, 11) (3638, 11) (66259, 11)\n"
     ]
    }
   ],
   "source": [
    "print(X_train.shape, X_test.shape, X_attacks.shape, UL_x_train.shape,\n",
    "     UL_x_test.shape, UL_x_attacks.shape)"
   ]
  },
  {
   "cell_type": "code",
   "execution_count": 14,
   "metadata": {},
   "outputs": [],
   "source": [
    "x_train = np.array(X_train)\n",
    "x_test = np.array(X_test)\n",
    "\n",
    "y_train = np.array(Y_train)\n",
    "y_test = np.array(Y_test)\n",
    "\n",
    "x_attacks = np.array(X_attacks)\n",
    "y_attacks = np.array(Y_attacks)\n",
    "\n",
    "ul_train = np.array(UL_x_train)\n",
    "ul_test = np.array(UL_x_test)\n",
    "ul_attacks = np.array(UL_x_attacks)"
   ]
  },
  {
   "cell_type": "code",
   "execution_count": 15,
   "metadata": {},
   "outputs": [
    {
     "name": "stderr",
     "output_type": "stream",
     "text": [
      "/home/ignacio/Projects/livepeer/env/lib/python3.6/site-packages/sklearn/preprocessing/data.py:645: DataConversionWarning: Data with input dtype int64, float64 were all converted to float64 by StandardScaler.\n",
      "  return self.partial_fit(X, y)\n",
      "/home/ignacio/Projects/livepeer/env/lib/python3.6/site-packages/sklearn/base.py:464: DataConversionWarning: Data with input dtype int64, float64 were all converted to float64 by StandardScaler.\n",
      "  return self.fit(X, **fit_params).transform(X)\n",
      "/home/ignacio/Projects/livepeer/env/lib/python3.6/site-packages/ipykernel_launcher.py:9: DataConversionWarning: Data with input dtype int64, float64 were all converted to float64 by StandardScaler.\n",
      "  if __name__ == '__main__':\n",
      "/home/ignacio/Projects/livepeer/env/lib/python3.6/site-packages/ipykernel_launcher.py:10: DataConversionWarning: Data with input dtype int64, float64 were all converted to float64 by StandardScaler.\n",
      "  # Remove the CWD from sys.path while we load stuff.\n"
     ]
    }
   ],
   "source": [
    "mM = MinMaxScaler()\n",
    "sl_x_train = mM.fit_transform(x_train)\n",
    "sl_x_test = mM.transform(x_test)\n",
    "sl_x_attacks = mM.transform(x_attacks)\n",
    "\n",
    "\n",
    "ss = StandardScaler()\n",
    "ul_x_train = ss.fit_transform(UL_x_train)\n",
    "ul_x_test = ss.transform(UL_x_test)\n",
    "ul_x_attacks = ss.transform(UL_x_attacks)\n"
   ]
  },
  {
   "cell_type": "code",
   "execution_count": 16,
   "metadata": {},
   "outputs": [
    {
     "name": "stdout",
     "output_type": "stream",
     "text": [
      "(29100, 33) (29100,)\n"
     ]
    }
   ],
   "source": [
    "print(sl_x_train.shape, y_train.shape)"
   ]
  },
  {
   "cell_type": "code",
   "execution_count": 17,
   "metadata": {},
   "outputs": [],
   "source": [
    "sl_rp = random_projection.SparseRandomProjection(n_components=33, random_state=7)\n",
    "\n",
    "sl_x_train = sl_rp.fit_transform(sl_x_train)\n",
    "sl_x_test = sl_rp.transform(sl_x_test)\n",
    "sl_x_attacks = sl_rp.transform(sl_x_attacks)\n",
    "\n",
    "ul_rp = random_projection.SparseRandomProjection(n_components=10, random_state=7)\n",
    "ul_x_train = ul_rp.fit_transform(ul_x_train)\n",
    "ul_x_test = ul_rp.transform(ul_x_test)\n",
    "ul_x_attacks = ul_rp.transform(ul_x_attacks)"
   ]
  },
  {
   "cell_type": "code",
   "execution_count": 18,
   "metadata": {},
   "outputs": [
    {
     "data": {
      "text/plain": [
       "XGBClassifier(base_score=0.5, booster='gbtree', colsample_bylevel=1,\n",
       "       colsample_bytree=1, gamma=0, learning_rate=0.1, max_delta_step=0,\n",
       "       max_depth=10, min_child_weight=1, missing=None, n_estimators=100,\n",
       "       n_jobs=1, nthread=None, objective='binary:logistic', random_state=0,\n",
       "       reg_alpha=0, reg_lambda=1, scale_pos_weight=1, seed=None,\n",
       "       silent=True, subsample=1)"
      ]
     },
     "execution_count": 18,
     "metadata": {},
     "output_type": "execute_result"
    }
   ],
   "source": [
    "xgb_classifier = xgb.XGBClassifier()\n",
    "grid = {'max_depth': 10}\n",
    "xgb_classifier.set_params(**grid)\n",
    "\n",
    "xgb_classifier.fit(sl_x_train, -y_train+2)"
   ]
  },
  {
   "cell_type": "code",
   "execution_count": 19,
   "metadata": {},
   "outputs": [],
   "source": [
    "fb, area, tnr, tpr = evaluation.supervised_evaluation(xgb_classifier,\n",
    "                                                      sl_x_test, -y_test+2)"
   ]
  },
  {
   "cell_type": "code",
   "execution_count": 20,
   "metadata": {},
   "outputs": [
    {
     "data": {
      "text/plain": [
       "(0.9650840937506855,\n",
       " 0.9637163276525563,\n",
       " 0.9623419461242441,\n",
       " 0.9650907091808686)"
      ]
     },
     "execution_count": 20,
     "metadata": {},
     "output_type": "execute_result"
    }
   ],
   "source": [
    "fb, area, tnr, tpr"
   ]
  },
  {
   "cell_type": "code",
   "execution_count": 21,
   "metadata": {},
   "outputs": [
    {
     "data": {
      "text/plain": [
       "OneClassSVM(cache_size=7000, coef0=0.0, degree=3, gamma='auto', kernel='rbf',\n",
       "      max_iter=-1, nu=0.01, random_state=None, shrinking=True, tol=0.001,\n",
       "      verbose=False)"
      ]
     },
     "execution_count": 21,
     "metadata": {},
     "output_type": "execute_result"
    }
   ],
   "source": [
    "ocsvm_classifier = svm.OneClassSVM(kernel='rbf', gamma='auto', nu=0.01, cache_size=7000)\n",
    "ocsvm_classifier.fit(ul_x_train)"
   ]
  },
  {
   "cell_type": "code",
   "execution_count": 22,
   "metadata": {},
   "outputs": [],
   "source": [
    "fb, area, tnr, tpr_train, tpr_test = evaluation.unsupervised_evaluation(ocsvm_classifier,\n",
    "                                                                        ul_x_train,\n",
    "                                                                        ul_x_test,\n",
    "                                                                        ul_x_attacks)"
   ]
  },
  {
   "cell_type": "code",
   "execution_count": 23,
   "metadata": {},
   "outputs": [
    {
     "data": {
      "text/plain": [
       "(0.9835690433157346,\n",
       " 0.9861275020001847,\n",
       " 0.9881978297287916,\n",
       " 0.9900343642611684,\n",
       " 0.9840571742715778)"
      ]
     },
     "execution_count": 23,
     "metadata": {},
     "output_type": "execute_result"
    }
   ],
   "source": [
    "fb, area, tnr, tpr_train, tpr_test"
   ]
  },
  {
   "cell_type": "code",
   "execution_count": 24,
   "metadata": {},
   "outputs": [
    {
     "data": {
      "text/html": [
       "<div>\n",
       "<style scoped>\n",
       "    .dataframe tbody tr th:only-of-type {\n",
       "        vertical-align: middle;\n",
       "    }\n",
       "\n",
       "    .dataframe tbody tr th {\n",
       "        vertical-align: top;\n",
       "    }\n",
       "\n",
       "    .dataframe thead th {\n",
       "        text-align: right;\n",
       "    }\n",
       "</style>\n",
       "<table border=\"1\" class=\"dataframe\">\n",
       "  <thead>\n",
       "    <tr style=\"text-align: right;\">\n",
       "      <th></th>\n",
       "      <th>attack</th>\n",
       "      <th>dimension</th>\n",
       "      <th>fps</th>\n",
       "      <th>size</th>\n",
       "      <th>temporal_canny-euclidean</th>\n",
       "      <th>temporal_canny-manhattan</th>\n",
       "      <th>temporal_canny-max</th>\n",
       "      <th>temporal_canny-mean</th>\n",
       "      <th>temporal_canny-series</th>\n",
       "      <th>temporal_canny-std</th>\n",
       "      <th>...</th>\n",
       "      <th>temporal_gaussian-series</th>\n",
       "      <th>temporal_gaussian-std</th>\n",
       "      <th>temporal_histogram_distance-euclidean</th>\n",
       "      <th>temporal_histogram_distance-manhattan</th>\n",
       "      <th>temporal_histogram_distance-max</th>\n",
       "      <th>temporal_histogram_distance-mean</th>\n",
       "      <th>temporal_histogram_distance-series</th>\n",
       "      <th>temporal_histogram_distance-std</th>\n",
       "      <th>title</th>\n",
       "      <th>attack_ID</th>\n",
       "    </tr>\n",
       "  </thead>\n",
       "  <tbody>\n",
       "    <tr>\n",
       "      <th>110297</th>\n",
       "      <td>240p_black_and_white</td>\n",
       "      <td>240</td>\n",
       "      <td>29</td>\n",
       "      <td>316036</td>\n",
       "      <td>6.759143</td>\n",
       "      <td>0.014136</td>\n",
       "      <td>0.254123</td>\n",
       "      <td>0.159917</td>\n",
       "      <td>[0.18772 0.13859 0.20858 0.12728 0.13745 0.145...</td>\n",
       "      <td>0.042924</td>\n",
       "      <td>...</td>\n",
       "      <td>[13.46098 13.3865  13.4334  13.37493 13.29295 ...</td>\n",
       "      <td>6.639035</td>\n",
       "      <td>20.995767</td>\n",
       "      <td>0.004463</td>\n",
       "      <td>2.076829</td>\n",
       "      <td>1.957038</td>\n",
       "      <td>[1.94013 1.9393  1.9631  1.95279 1.9565  1.960...</td>\n",
       "      <td>0.056915</td>\n",
       "      <td>/tmp/nZo2aqM1WLA.mp4</td>\n",
       "      <td>0</td>\n",
       "    </tr>\n",
       "    <tr>\n",
       "      <th>110298</th>\n",
       "      <td>240p_low_bitrate_4</td>\n",
       "      <td>240</td>\n",
       "      <td>29</td>\n",
       "      <td>75433</td>\n",
       "      <td>6.688808</td>\n",
       "      <td>0.014293</td>\n",
       "      <td>0.249566</td>\n",
       "      <td>0.166703</td>\n",
       "      <td>[0.18991 0.13837 0.20888 0.12674 0.13618 0.143...</td>\n",
       "      <td>0.043495</td>\n",
       "      <td>...</td>\n",
       "      <td>[0.40349 0.39298 0.40838 0.45251 0.47301 0.488...</td>\n",
       "      <td>0.077633</td>\n",
       "      <td>2.866402</td>\n",
       "      <td>0.033861</td>\n",
       "      <td>0.322376</td>\n",
       "      <td>0.265502</td>\n",
       "      <td>[0.29704 0.29349 0.29764 0.29988 0.29999 0.299...</td>\n",
       "      <td>0.030892</td>\n",
       "      <td>/tmp/nZo2aqM1WLA.mp4</td>\n",
       "      <td>2</td>\n",
       "    </tr>\n",
       "    <tr>\n",
       "      <th>110299</th>\n",
       "      <td>240p_rotate_90_clockwise</td>\n",
       "      <td>240</td>\n",
       "      <td>29</td>\n",
       "      <td>355590</td>\n",
       "      <td>6.190281</td>\n",
       "      <td>0.015538</td>\n",
       "      <td>0.310818</td>\n",
       "      <td>0.215431</td>\n",
       "      <td>[0.25727 0.20535 0.2755  0.21102 0.20543 0.229...</td>\n",
       "      <td>0.050422</td>\n",
       "      <td>...</td>\n",
       "      <td>[71.91643 71.47779 71.19989 70.92352 71.09838 ...</td>\n",
       "      <td>2.920170</td>\n",
       "      <td>1.508558</td>\n",
       "      <td>0.066075</td>\n",
       "      <td>0.160927</td>\n",
       "      <td>0.140298</td>\n",
       "      <td>[0.13777 0.14152 0.14164 0.14358 0.14031 0.139...</td>\n",
       "      <td>0.010280</td>\n",
       "      <td>/tmp/nZo2aqM1WLA.mp4</td>\n",
       "      <td>0</td>\n",
       "    </tr>\n",
       "    <tr>\n",
       "      <th>110300</th>\n",
       "      <td>240p_vignette</td>\n",
       "      <td>240</td>\n",
       "      <td>29</td>\n",
       "      <td>313250</td>\n",
       "      <td>6.780251</td>\n",
       "      <td>0.014090</td>\n",
       "      <td>0.248589</td>\n",
       "      <td>0.157930</td>\n",
       "      <td>[0.18435 0.13384 0.20283 0.1231  0.13729 0.144...</td>\n",
       "      <td>0.042682</td>\n",
       "      <td>...</td>\n",
       "      <td>[18.42755 18.24399 18.20767 18.08262 18.12104 ...</td>\n",
       "      <td>0.744284</td>\n",
       "      <td>6.359597</td>\n",
       "      <td>0.014901</td>\n",
       "      <td>0.639582</td>\n",
       "      <td>0.592273</td>\n",
       "      <td>[0.63692 0.63164 0.63958 0.62809 0.62193 0.623...</td>\n",
       "      <td>0.030061</td>\n",
       "      <td>/tmp/nZo2aqM1WLA.mp4</td>\n",
       "      <td>0</td>\n",
       "    </tr>\n",
       "    <tr>\n",
       "      <th>110301</th>\n",
       "      <td>240p_watermark</td>\n",
       "      <td>240</td>\n",
       "      <td>29</td>\n",
       "      <td>288171</td>\n",
       "      <td>6.555434</td>\n",
       "      <td>0.014609</td>\n",
       "      <td>0.267524</td>\n",
       "      <td>0.179849</td>\n",
       "      <td>[0.2034  0.15245 0.22217 0.15945 0.14993 0.174...</td>\n",
       "      <td>0.045044</td>\n",
       "      <td>...</td>\n",
       "      <td>[0.6658  0.65717 0.65073 0.66724 0.66387 0.680...</td>\n",
       "      <td>0.158152</td>\n",
       "      <td>2.365951</td>\n",
       "      <td>0.041118</td>\n",
       "      <td>0.247919</td>\n",
       "      <td>0.220175</td>\n",
       "      <td>[0.23004 0.23161 0.22889 0.22861 0.21624 0.223...</td>\n",
       "      <td>0.014100</td>\n",
       "      <td>/tmp/nZo2aqM1WLA.mp4</td>\n",
       "      <td>2</td>\n",
       "    </tr>\n",
       "  </tbody>\n",
       "</table>\n",
       "<p>5 rows × 42 columns</p>\n",
       "</div>"
      ],
      "text/plain": [
       "                          attack  dimension  fps    size  \\\n",
       "110297      240p_black_and_white        240   29  316036   \n",
       "110298        240p_low_bitrate_4        240   29   75433   \n",
       "110299  240p_rotate_90_clockwise        240   29  355590   \n",
       "110300             240p_vignette        240   29  313250   \n",
       "110301            240p_watermark        240   29  288171   \n",
       "\n",
       "        temporal_canny-euclidean  temporal_canny-manhattan  \\\n",
       "110297                  6.759143                  0.014136   \n",
       "110298                  6.688808                  0.014293   \n",
       "110299                  6.190281                  0.015538   \n",
       "110300                  6.780251                  0.014090   \n",
       "110301                  6.555434                  0.014609   \n",
       "\n",
       "        temporal_canny-max  temporal_canny-mean  \\\n",
       "110297            0.254123             0.159917   \n",
       "110298            0.249566             0.166703   \n",
       "110299            0.310818             0.215431   \n",
       "110300            0.248589             0.157930   \n",
       "110301            0.267524             0.179849   \n",
       "\n",
       "                                    temporal_canny-series  temporal_canny-std  \\\n",
       "110297  [0.18772 0.13859 0.20858 0.12728 0.13745 0.145...            0.042924   \n",
       "110298  [0.18991 0.13837 0.20888 0.12674 0.13618 0.143...            0.043495   \n",
       "110299  [0.25727 0.20535 0.2755  0.21102 0.20543 0.229...            0.050422   \n",
       "110300  [0.18435 0.13384 0.20283 0.1231  0.13729 0.144...            0.042682   \n",
       "110301  [0.2034  0.15245 0.22217 0.15945 0.14993 0.174...            0.045044   \n",
       "\n",
       "        ...                           temporal_gaussian-series  \\\n",
       "110297  ...  [13.46098 13.3865  13.4334  13.37493 13.29295 ...   \n",
       "110298  ...  [0.40349 0.39298 0.40838 0.45251 0.47301 0.488...   \n",
       "110299  ...  [71.91643 71.47779 71.19989 70.92352 71.09838 ...   \n",
       "110300  ...  [18.42755 18.24399 18.20767 18.08262 18.12104 ...   \n",
       "110301  ...  [0.6658  0.65717 0.65073 0.66724 0.66387 0.680...   \n",
       "\n",
       "        temporal_gaussian-std  temporal_histogram_distance-euclidean  \\\n",
       "110297               6.639035                              20.995767   \n",
       "110298               0.077633                               2.866402   \n",
       "110299               2.920170                               1.508558   \n",
       "110300               0.744284                               6.359597   \n",
       "110301               0.158152                               2.365951   \n",
       "\n",
       "        temporal_histogram_distance-manhattan temporal_histogram_distance-max  \\\n",
       "110297                               0.004463                        2.076829   \n",
       "110298                               0.033861                        0.322376   \n",
       "110299                               0.066075                        0.160927   \n",
       "110300                               0.014901                        0.639582   \n",
       "110301                               0.041118                        0.247919   \n",
       "\n",
       "        temporal_histogram_distance-mean  \\\n",
       "110297                          1.957038   \n",
       "110298                          0.265502   \n",
       "110299                          0.140298   \n",
       "110300                          0.592273   \n",
       "110301                          0.220175   \n",
       "\n",
       "                       temporal_histogram_distance-series  \\\n",
       "110297  [1.94013 1.9393  1.9631  1.95279 1.9565  1.960...   \n",
       "110298  [0.29704 0.29349 0.29764 0.29988 0.29999 0.299...   \n",
       "110299  [0.13777 0.14152 0.14164 0.14358 0.14031 0.139...   \n",
       "110300  [0.63692 0.63164 0.63958 0.62809 0.62193 0.623...   \n",
       "110301  [0.23004 0.23161 0.22889 0.22861 0.21624 0.223...   \n",
       "\n",
       "        temporal_histogram_distance-std                 title  attack_ID  \n",
       "110297                         0.056915  /tmp/nZo2aqM1WLA.mp4          0  \n",
       "110298                         0.030892  /tmp/nZo2aqM1WLA.mp4          2  \n",
       "110299                         0.010280  /tmp/nZo2aqM1WLA.mp4          0  \n",
       "110300                         0.030061  /tmp/nZo2aqM1WLA.mp4          0  \n",
       "110301                         0.014100  /tmp/nZo2aqM1WLA.mp4          2  \n",
       "\n",
       "[5 rows x 42 columns]"
      ]
     },
     "execution_count": 24,
     "metadata": {},
     "output_type": "execute_result"
    }
   ],
   "source": [
    "df_test_all.head()"
   ]
  },
  {
   "cell_type": "code",
   "execution_count": 25,
   "metadata": {},
   "outputs": [],
   "source": [
    "test_UL_0 = df_test_all[df_test_all['attack_ID'] != 1][UL_features]\n",
    "test_UL_1 = df_test_all[df_test_all['attack_ID'] == 1][UL_features]\n",
    "\n",
    "test_SL_0 = df_test_all[df_test_all['attack_ID'] != 1][SL_features]\n",
    "test_SL_1 = df_test_all[df_test_all['attack_ID'] == 1][SL_features]"
   ]
  },
  {
   "cell_type": "code",
   "execution_count": 26,
   "metadata": {},
   "outputs": [
    {
     "name": "stderr",
     "output_type": "stream",
     "text": [
      "/home/ignacio/Projects/livepeer/env/lib/python3.6/site-packages/ipykernel_launcher.py:4: DataConversionWarning: Data with input dtype int64, float64 were all converted to float64 by StandardScaler.\n",
      "  after removing the cwd from sys.path.\n",
      "/home/ignacio/Projects/livepeer/env/lib/python3.6/site-packages/ipykernel_launcher.py:5: DataConversionWarning: Data with input dtype int64, float64 were all converted to float64 by StandardScaler.\n",
      "  \"\"\"\n"
     ]
    }
   ],
   "source": [
    "test_SL_0 = mM.transform(test_SL_0)\n",
    "test_SL_1 = mM.transform(test_SL_1)\n",
    "\n",
    "test_UL_0 = ss.transform(test_UL_0)\n",
    "test_UL_1 = ss.transform(test_UL_1)"
   ]
  },
  {
   "cell_type": "code",
   "execution_count": 27,
   "metadata": {},
   "outputs": [],
   "source": [
    "test_SL_0 = sl_rp.transform(test_SL_0)\n",
    "test_SL_1 = sl_rp.transform(test_SL_1)\n",
    "\n",
    "test_UL_0 = ul_rp.transform(test_UL_0)\n",
    "test_UL_1 = ul_rp.transform(test_UL_1)"
   ]
  },
  {
   "cell_type": "code",
   "execution_count": 28,
   "metadata": {},
   "outputs": [],
   "source": [
    "pred_SL_0 = xgb_classifier.predict(test_SL_0)\n",
    "pred_SL_1 = xgb_classifier.predict(test_SL_1)\n",
    "\n",
    "pred_UL_0 = ocsvm_classifier.predict(test_UL_0)\n",
    "pred_UL_1 = ocsvm_classifier.predict(test_UL_1)"
   ]
  },
  {
   "cell_type": "code",
   "execution_count": 29,
   "metadata": {},
   "outputs": [
    {
     "name": "stdout",
     "output_type": "stream",
     "text": [
      "The SL TNR is 0.9824505569447601 and the TPR is 0.9650907091808686\n"
     ]
    }
   ],
   "source": [
    "tnr_sl = sum(pred_SL_0 == 0)/pred_SL_0.shape[0]\n",
    "tpr_sl = sum(pred_SL_1 == 1)/pred_SL_1.shape[0]\n",
    "print('The SL TNR is {} and the TPR is {}'.format(tnr_sl, tpr_sl))"
   ]
  },
  {
   "cell_type": "code",
   "execution_count": 30,
   "metadata": {},
   "outputs": [
    {
     "name": "stdout",
     "output_type": "stream",
     "text": [
      "The UL TNR is 0.7778131393498522 and the TPR is 0.9840571742715778\n"
     ]
    }
   ],
   "source": [
    "tnr_ul = sum(pred_UL_0 == -1)/pred_UL_0.shape[0]\n",
    "tpr_ul = sum(pred_UL_1 == 1)/pred_UL_1.shape[0]\n",
    "print('The UL TNR is {} and the TPR is {}'.format(tnr_ul, tpr_ul))"
   ]
  },
  {
   "cell_type": "code",
   "execution_count": 31,
   "metadata": {},
   "outputs": [],
   "source": [
    "# From [-1, 1] to [0, 1] \n",
    "pred_UL_0 = (pred_UL_0 + 1)/2\n",
    "pred_UL_1 = (pred_UL_1 + 1)/2"
   ]
  },
  {
   "cell_type": "code",
   "execution_count": 32,
   "metadata": {},
   "outputs": [],
   "source": [
    "# Metamodel is just a logic OR of both outputs:\n",
    "pred_metamodel_0 = np.logical_or(pred_UL_0, pred_SL_0)\n",
    "pred_metamodel_1 = np.logical_or(pred_UL_1, pred_SL_1)\n"
   ]
  },
  {
   "cell_type": "code",
   "execution_count": 33,
   "metadata": {},
   "outputs": [
    {
     "name": "stdout",
     "output_type": "stream",
     "text": [
      "The metamodel TNR is 0.7759490793362128 and the TPR is 0.997526113249038\n"
     ]
    }
   ],
   "source": [
    "tnr_ul = sum(pred_metamodel_0 == 0)/pred_metamodel_0.shape[0]\n",
    "tpr_ul = sum(pred_metamodel_1 == 1)/pred_metamodel_1.shape[0]\n",
    "print('The metamodel TNR is {} and the TPR is {}'.format(tnr_ul, tpr_ul))"
   ]
  },
  {
   "cell_type": "code",
   "execution_count": 34,
   "metadata": {},
   "outputs": [],
   "source": [
    "# Metamodel is just a logic AND of both outputs:\n",
    "pred_metamodel_0 = np.logical_and(pred_UL_0, pred_SL_0)\n",
    "pred_metamodel_1 = np.logical_and(pred_UL_1, pred_SL_1)\n"
   ]
  },
  {
   "cell_type": "code",
   "execution_count": 35,
   "metadata": {},
   "outputs": [
    {
     "name": "stdout",
     "output_type": "stream",
     "text": [
      "The metamodel TNR is 0.9843146169583996 and the TPR is 0.9516217702034084\n"
     ]
    }
   ],
   "source": [
    "tnr_ul = sum(pred_metamodel_0 == 0)/pred_metamodel_0.shape[0]\n",
    "tpr_ul = sum(pred_metamodel_1 == 1)/pred_metamodel_1.shape[0]\n",
    "print('The metamodel TNR is {} and the TPR is {}'.format(tnr_ul, tpr_ul))"
   ]
  },
  {
   "cell_type": "code",
   "execution_count": null,
   "metadata": {},
   "outputs": [],
   "source": []
  }
 ],
 "metadata": {
  "kernelspec": {
   "display_name": "Python 3",
   "language": "python",
   "name": "python3"
  },
  "language_info": {
   "codemirror_mode": {
    "name": "ipython",
    "version": 3
   },
   "file_extension": ".py",
   "mimetype": "text/x-python",
   "name": "python",
   "nbconvert_exporter": "python",
   "pygments_lexer": "ipython3",
   "version": "3.6.7"
  }
 },
 "nbformat": 4,
 "nbformat_minor": 2
}
