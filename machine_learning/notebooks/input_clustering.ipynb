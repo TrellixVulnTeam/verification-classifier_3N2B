{
 "cells": [
  {
   "cell_type": "code",
   "execution_count": null,
   "metadata": {},
   "outputs": [],
   "source": [
    "import sys\n",
    "import pandas as pd\n",
    "import numpy as np\n",
    "from sklearn import preprocessing\n",
    "import matplotlib.pyplot as plt\n",
    "import matplotlib.mlab as mlab\n",
    "import plotly.plotly as py\n",
    "import plotly.graph_objs as go\n",
    "import plotly.offline as offline\n",
    "from sklearn.manifold import TSNE\n",
    "\n",
    "\n",
    "offline.init_notebook_mode(connected=False)\n",
    "\n",
    "sys.path.insert(0, '../../scripts/modeling_toolbox/')\n",
    "# load the autoreload extension\n",
    "%load_ext autoreload\n",
    "# Set extension to reload modules every time before executing code\n",
    "%autoreload 2\n",
    "\n",
    "from metric_processor import MetricProcessor\n",
    "import evaluation\n"
   ]
  },
  {
   "cell_type": "markdown",
   "metadata": {},
   "source": [
    "# Source videos analysis"
   ]
  },
  {
   "cell_type": "code",
   "execution_count": null,
   "metadata": {},
   "outputs": [],
   "source": [
    "path = '../../machine_learning/cloud_functions/data-temporal-large.csv'\n",
    "data = pd.read_csv(path)\n",
    "sources_df = data[data['path'] == data['title']]\n",
    "sources_df = sources_df.loc[:, (sources_df != 0).any(axis=0)]\n",
    "sources_df = sources_df.drop(['Unnamed: 0', 'attack', 'kind', 'path', 'dimension'], axis=1)\n",
    "sources_df.head()"
   ]
  },
  {
   "cell_type": "code",
   "execution_count": null,
   "metadata": {},
   "outputs": [],
   "source": [
    "non_series_sources_df = sources_df.filter(regex = '^((?!series).)*$').filter(regex = '^((?!ssim).)*$') \n",
    "\n",
    "print(non_series_sources_df.shape)\n",
    "non_series_sources_df.head()"
   ]
  },
  {
   "cell_type": "markdown",
   "metadata": {},
   "source": [
    "## Clustering algorithm analysis"
   ]
  },
  {
   "cell_type": "code",
   "execution_count": null,
   "metadata": {},
   "outputs": [],
   "source": [
    "import time\n",
    "import warnings\n",
    "\n",
    "from sklearn.preprocessing import StandardScaler\n",
    "from sklearn import cluster, mixture\n",
    "from sklearn.neighbors import kneighbors_graph\n",
    "from itertools import cycle, islice\n",
    "\n",
    "#X = np.asarray(non_series_sources_df.drop(['title', 'fps'], axis=1))\n",
    "X = np.asarray(non_series_sources_df[[#'temporal_difference-mean', \n",
    "                                      'temporal_spatial_complexity-mean', \n",
    "                                      #'temporal_difference-std', \n",
    "                                      'temporal_spatial_complexity-std'\n",
    "                                      ]])\n",
    "X = StandardScaler().fit_transform(X)"
   ]
  },
  {
   "cell_type": "code",
   "execution_count": null,
   "metadata": {},
   "outputs": [],
   "source": [
    "# ============\n",
    "# Create cluster object\n",
    "# ============\n",
    "gmm = mixture.GaussianMixture(\n",
    "    n_components=5, covariance_type='full')\n",
    "\n",
    "clustering_algorithms = [\n",
    "    ('GaussianMixture', gmm)\n",
    "]\n",
    "\n",
    "# ============\n",
    "# Create TSNE reduction\n",
    "# ============\n",
    "tsne = TSNE(n_components=2, verbose=1, perplexity=50, learning_rate=200, n_iter=2000)\n",
    "tsne_results = tsne.fit_transform(X)"
   ]
  },
  {
   "cell_type": "code",
   "execution_count": null,
   "metadata": {},
   "outputs": [],
   "source": [
    "offline.init_notebook_mode(connected=False)\n",
    "gmm.fit(X)\n",
    "\n",
    "traceTSNE = go.Scatter(\n",
    "    x = tsne_results[:,0],\n",
    "    y = tsne_results[:,1],\n",
    "    mode = 'markers',\n",
    "    text = non_series_sources_df['title'].values,\n",
    "    showlegend = True,\n",
    "     marker = dict(\n",
    "         color = gmm.predict(X),\n",
    "         size=non_series_sources_df['size']/(50000 * non_series_sources_df['fps']),\n",
    "         line= dict(\n",
    "                  color= 'rgb(255, 255, 255)',\n",
    "                  width= 0\n",
    "                 ),\n",
    "        showscale = False,\n",
    "        opacity = 0.8\n",
    "    )\n",
    ")\n",
    "data = [traceTSNE]\n",
    "\n",
    "layout = dict(title = 'TSNE (T-Distributed Stochastic Neighbour Embedding)',\n",
    "              hovermode= 'closest',\n",
    "              yaxis = dict(zeroline = False),\n",
    "              xaxis = dict(zeroline = False),\n",
    "              showlegend= True,\n",
    "             )\n",
    "\n",
    "fig = dict(data=data, layout=layout)\n",
    "\n",
    "offline.iplot(fig)"
   ]
  },
  {
   "cell_type": "code",
   "execution_count": null,
   "metadata": {},
   "outputs": [],
   "source": [
    "# Retrieve the dataset and attach the clustering information\n",
    "features = ['temporal_dct-mean', 'temporal_gaussian-mean', 'size',\n",
    "            'dimension', 'temporal_gaussian_difference-mean', 'temporal_difference-mean']\n",
    "\n",
    "\n",
    "path = '../../machine_learning/cloud_functions/data-large.csv'\n",
    "\n",
    "data = pd.read_csv(path)\n",
    "attacks_df = data[data['path'] != data['title']]\n",
    "attacks_df = attacks_df.loc[:, (attacks_df != 0).any(axis=0)]\n",
    "display(attacks_df.head())\n",
    "attacks_df = attacks_df[features]\n",
    "\n",
    "attacks_df.head(100)"
   ]
  },
  {
   "cell_type": "code",
   "execution_count": null,
   "metadata": {},
   "outputs": [],
   "source": [
    "non_series_sources_df['gauss_cluster'] = gmm.predict(X)\n",
    "non_series_sources_df['tsne_x'] = tsne_results[:,0]\n",
    "non_series_sources_df['tsne_y'] = tsne_results[:,1]\n",
    "display(non_series_sources_df.head())\n",
    "attacks_df['gauss_cluster'] = attacks_df.groupby('path')['path'].transform(\n",
    "    lambda x : x['path'] == non_series_sources_df['path']\n",
    ")\n",
    "attacks_df['gauss_cluster'] = attacks_df.apply(lambda x: if x['path']== )"
   ]
  },
  {
   "cell_type": "code",
   "execution_count": null,
   "metadata": {},
   "outputs": [],
   "source": [
    "# Dataframe to store results\n",
    "svm_results = pd.DataFrame(columns=['gamma', 'nu', 'n_components', 'TPR_test',\n",
    "                                    'TNR', 'model', 'auc', 'f_beta', 'projection'])\n",
    "\n",
    "# Train the models\n",
    "svm_results = evaluation.one_class_svm(x_train, x_test, x_attacks, svm_results)\n",
    "\n"
   ]
  },
  {
   "cell_type": "code",
   "execution_count": null,
   "metadata": {},
   "outputs": [],
   "source": []
  }
 ],
 "metadata": {
  "kernelspec": {
   "display_name": "Python 3",
   "language": "python",
   "name": "python3"
  },
  "language_info": {
   "codemirror_mode": {
    "name": "ipython",
    "version": 3
   },
   "file_extension": ".py",
   "mimetype": "text/x-python",
   "name": "python",
   "nbconvert_exporter": "python",
   "pygments_lexer": "ipython3",
   "version": "3.6.8"
  }
 },
 "nbformat": 4,
 "nbformat_minor": 2
}
