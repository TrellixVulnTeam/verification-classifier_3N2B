{
 "cells": [
  {
   "cell_type": "code",
   "execution_count": 7,
   "metadata": {},
   "outputs": [
    {
     "data": {
      "text/html": [
       "<script type=\"text/javascript\">window.PlotlyConfig = {MathJaxConfig: 'local'};</script><script type=\"text/javascript\">if (window.MathJax) {MathJax.Hub.Config({SVG: {font: \"STIX-Web\"}});}</script><script>requirejs.config({paths: { 'plotly': ['https://cdn.plot.ly/plotly-latest.min']},});if(!window._Plotly) {require(['plotly'],function(plotly) {window._Plotly=plotly;});}</script>"
      ],
      "text/vnd.plotly.v1+html": [
       "<script type=\"text/javascript\">window.PlotlyConfig = {MathJaxConfig: 'local'};</script><script type=\"text/javascript\">if (window.MathJax) {MathJax.Hub.Config({SVG: {font: \"STIX-Web\"}});}</script><script>requirejs.config({paths: { 'plotly': ['https://cdn.plot.ly/plotly-latest.min']},});if(!window._Plotly) {require(['plotly'],function(plotly) {window._Plotly=plotly;});}</script>"
      ]
     },
     "metadata": {},
     "output_type": "display_data"
    }
   ],
   "source": [
    "import plotly.plotly as py\n",
    "import plotly.graph_objs as go\n",
    "import plotly.offline as offline\n",
    "\n",
    "import pandas as pd\n",
    "offline.init_notebook_mode(connected=True)"
   ]
  },
  {
   "cell_type": "code",
   "execution_count": 38,
   "metadata": {},
   "outputs": [
    {
     "data": {
      "text/html": [
       "<div>\n",
       "<style scoped>\n",
       "    .dataframe tbody tr th:only-of-type {\n",
       "        vertical-align: middle;\n",
       "    }\n",
       "\n",
       "    .dataframe tbody tr th {\n",
       "        vertical-align: top;\n",
       "    }\n",
       "\n",
       "    .dataframe thead th {\n",
       "        text-align: right;\n",
       "    }\n",
       "</style>\n",
       "<table border=\"1\" class=\"dataframe\">\n",
       "  <thead>\n",
       "    <tr style=\"text-align: right;\">\n",
       "      <th></th>\n",
       "      <th>Random Forest</th>\n",
       "      <th>Adaboost</th>\n",
       "      <th>SVM</th>\n",
       "      <th>XGboost</th>\n",
       "      <th>OCSVM</th>\n",
       "      <th>Isolation Forest</th>\n",
       "      <th>Autoencoder</th>\n",
       "      <th>Metamodel</th>\n",
       "      <th>100%</th>\n",
       "    </tr>\n",
       "  </thead>\n",
       "  <tbody>\n",
       "    <tr>\n",
       "      <th>0</th>\n",
       "      <td>96.83</td>\n",
       "      <td>96.04</td>\n",
       "      <td>96.00</td>\n",
       "      <td>95.63</td>\n",
       "      <td>94.89</td>\n",
       "      <td>96.85</td>\n",
       "      <td>95.89</td>\n",
       "      <td>nan</td>\n",
       "      <td>100</td>\n",
       "    </tr>\n",
       "    <tr>\n",
       "      <th>1</th>\n",
       "      <td>97.41</td>\n",
       "      <td>97.41</td>\n",
       "      <td>95.48</td>\n",
       "      <td>97.49</td>\n",
       "      <td>93.46</td>\n",
       "      <td>97.83</td>\n",
       "      <td>93.46</td>\n",
       "      <td>nan</td>\n",
       "      <td>100</td>\n",
       "    </tr>\n",
       "    <tr>\n",
       "      <th>2</th>\n",
       "      <td>97.31</td>\n",
       "      <td>97.35</td>\n",
       "      <td>97.96</td>\n",
       "      <td>98.14</td>\n",
       "      <td>96.70</td>\n",
       "      <td>97.57</td>\n",
       "      <td>96.14</td>\n",
       "      <td>nan</td>\n",
       "      <td>100</td>\n",
       "    </tr>\n",
       "    <tr>\n",
       "      <th>3</th>\n",
       "      <td>96.86</td>\n",
       "      <td>96.58</td>\n",
       "      <td>98.70</td>\n",
       "      <td>97.68</td>\n",
       "      <td>95.99</td>\n",
       "      <td>96.52</td>\n",
       "      <td>96.14</td>\n",
       "      <td>99.42</td>\n",
       "      <td>100</td>\n",
       "    </tr>\n",
       "    <tr>\n",
       "      <th>4</th>\n",
       "      <td>96.86</td>\n",
       "      <td>96.58</td>\n",
       "      <td>98.70</td>\n",
       "      <td>97.68</td>\n",
       "      <td>95.99</td>\n",
       "      <td>96.52</td>\n",
       "      <td>96.14</td>\n",
       "      <td>99.42</td>\n",
       "      <td>100</td>\n",
       "    </tr>\n",
       "    <tr>\n",
       "      <th>5</th>\n",
       "      <td>96.10</td>\n",
       "      <td>95.80</td>\n",
       "      <td>99.80</td>\n",
       "      <td>95.80</td>\n",
       "      <td>97.30</td>\n",
       "      <td>97.30</td>\n",
       "      <td>97.40</td>\n",
       "      <td>89.4</td>\n",
       "      <td>100</td>\n",
       "    </tr>\n",
       "  </tbody>\n",
       "</table>\n",
       "</div>"
      ],
      "text/plain": [
       "   Random Forest  Adaboost    SVM  XGboost  OCSVM  Isolation Forest  \\\n",
       "0          96.83     96.04  96.00    95.63  94.89             96.85   \n",
       "1          97.41     97.41  95.48    97.49  93.46             97.83   \n",
       "2          97.31     97.35  97.96    98.14  96.70             97.57   \n",
       "3          96.86     96.58  98.70    97.68  95.99             96.52   \n",
       "4          96.86     96.58  98.70    97.68  95.99             96.52   \n",
       "5          96.10     95.80  99.80    95.80  97.30             97.30   \n",
       "\n",
       "   Autoencoder Metamodel  100%  \n",
       "0        95.89       nan   100  \n",
       "1        93.46       nan   100  \n",
       "2        96.14       nan   100  \n",
       "3        96.14     99.42   100  \n",
       "4        96.14     99.42   100  \n",
       "5        97.40      89.4   100  "
      ]
     },
     "metadata": {},
     "output_type": "display_data"
    }
   ],
   "source": [
    "df = pd.DataFrame()\n",
    "\n",
    "df['Random Forest'] = [96.83, 97.41, 97.31, 96.86, 96.86, 96.1]\n",
    "df['Adaboost'] = [96.04, 97.41, 97.35, 96.58, 96.58, 95.8]\n",
    "df['SVM'] = [96.00, 95.48, 97.96, 98.7, 98.7, 99.8]\n",
    "df['XGboost'] = [95.63, 97.49, 98.14, 97.68, 97.68, 95.8]\n",
    "df['OCSVM'] = [94.89, 93.46, 96.70, 95.99, 95.99, 97.3]\n",
    "df['Isolation Forest'] = [96.85, 97.83, 97.57, 96.52, 96.52, 97.3]\n",
    "df['Autoencoder'] = [95.89, 93.46, 96.14, 96.14, 96.14, 97.4]\n",
    "df['Metamodel'] = ['nan', 'nan', 'nan', 99.42, 99.42, 89.4] \n",
    "df['100%'] = [100, 100, 100, 100, 100, 100]\n",
    "\n",
    "ticks = ['Sprint 6', 'Sprint 7', 'Sprint 8', 'Sprint 9', 'Sprint 10', 'Sprint 11']\n",
    "display(df)"
   ]
  },
  {
   "cell_type": "code",
   "execution_count": 40,
   "metadata": {},
   "outputs": [
    {
     "data": {
      "application/vnd.plotly.v1+json": {
       "config": {
        "linkText": "Export to plot.ly",
        "plotlyServerURL": "https://plot.ly",
        "showLink": false
       },
       "data": [
        {
         "name": "Random Forest",
         "type": "scatter",
         "uid": "1c93d1d4-0681-4c1f-b564-b58fad0a28c7",
         "x": [
          "Sprint 6",
          "Sprint 7",
          "Sprint 8",
          "Sprint 9",
          "Sprint 10",
          "Sprint 11"
         ],
         "y": [
          96.83,
          97.41,
          97.31,
          96.86,
          96.86,
          96.1
         ]
        },
        {
         "name": "Adaboost",
         "type": "scatter",
         "uid": "1cba5950-dad6-49a6-a126-ced45242dc53",
         "x": [
          "Sprint 6",
          "Sprint 7",
          "Sprint 8",
          "Sprint 9",
          "Sprint 10",
          "Sprint 11"
         ],
         "y": [
          96.04,
          97.41,
          97.35,
          96.58,
          96.58,
          95.8
         ]
        },
        {
         "name": "SVM",
         "type": "scatter",
         "uid": "b8f89c3e-16f6-4289-8dad-361ab40ecf36",
         "x": [
          "Sprint 6",
          "Sprint 7",
          "Sprint 8",
          "Sprint 9",
          "Sprint 10",
          "Sprint 11"
         ],
         "y": [
          96,
          95.48,
          97.96,
          98.7,
          98.7,
          99.8
         ]
        },
        {
         "name": "XGboost",
         "type": "scatter",
         "uid": "6ecdd613-6f38-48cc-bc3b-20025b1a97db",
         "x": [
          "Sprint 6",
          "Sprint 7",
          "Sprint 8",
          "Sprint 9",
          "Sprint 10",
          "Sprint 11"
         ],
         "y": [
          95.63,
          97.49,
          98.14,
          97.68,
          97.68,
          95.8
         ]
        },
        {
         "name": "OCSVM",
         "type": "scatter",
         "uid": "8c2dbc59-e3e5-435b-b6c8-7d4e0511ae7b",
         "x": [
          "Sprint 6",
          "Sprint 7",
          "Sprint 8",
          "Sprint 9",
          "Sprint 10",
          "Sprint 11"
         ],
         "y": [
          94.89,
          93.46,
          96.7,
          95.99,
          95.99,
          97.3
         ]
        },
        {
         "name": "Isolation Forest",
         "type": "scatter",
         "uid": "cadeb788-3f4a-4669-b4e4-3555a7fa5a17",
         "x": [
          "Sprint 6",
          "Sprint 7",
          "Sprint 8",
          "Sprint 9",
          "Sprint 10",
          "Sprint 11"
         ],
         "y": [
          96.85,
          97.83,
          97.57,
          96.52,
          96.52,
          97.3
         ]
        },
        {
         "name": "Autoencoder",
         "type": "scatter",
         "uid": "b864d386-7be3-4446-a286-bc59a141842d",
         "x": [
          "Sprint 6",
          "Sprint 7",
          "Sprint 8",
          "Sprint 9",
          "Sprint 10",
          "Sprint 11"
         ],
         "y": [
          95.89,
          93.46,
          96.14,
          96.14,
          96.14,
          97.4
         ]
        },
        {
         "name": "Metamodel",
         "type": "scatter",
         "uid": "acd770e9-cb87-4cc2-b349-70143746fd9f",
         "x": [
          "Sprint 6",
          "Sprint 7",
          "Sprint 8",
          "Sprint 9",
          "Sprint 10",
          "Sprint 11"
         ],
         "y": [
          "nan",
          "nan",
          "nan",
          99.42,
          99.42,
          89.4
         ]
        },
        {
         "name": "100%",
         "type": "scatter",
         "uid": "c0d4dd1d-1d6c-455d-98b2-3ce34e9e7b8b",
         "x": [
          "Sprint 6",
          "Sprint 7",
          "Sprint 8",
          "Sprint 9",
          "Sprint 10",
          "Sprint 11"
         ],
         "y": [
          100,
          100,
          100,
          100,
          100,
          100
         ]
        }
       ],
       "layout": {
        "title": {
         "text": "F20 score"
        },
        "yaxis": {
         "title": {
          "text": "F20 score"
         }
        }
       }
      },
      "text/html": [
       "<div id=\"fdccfd8f-fd8b-4245-b853-fc99df9a7f5f\" style=\"height: 525px; width: 100%;\" class=\"plotly-graph-div\"></div><script type=\"text/javascript\">require([\"plotly\"], function(Plotly) { window.PLOTLYENV=window.PLOTLYENV || {};window.PLOTLYENV.BASE_URL=\"https://plot.ly\";\n",
       "if (document.getElementById(\"fdccfd8f-fd8b-4245-b853-fc99df9a7f5f\")) {\n",
       "    Plotly.newPlot(\"fdccfd8f-fd8b-4245-b853-fc99df9a7f5f\", [{\"name\": \"Random Forest\", \"x\": [\"Sprint 6\", \"Sprint 7\", \"Sprint 8\", \"Sprint 9\", \"Sprint 10\", \"Sprint 11\"], \"y\": [96.83, 97.41, 97.31, 96.86, 96.86, 96.1], \"type\": \"scatter\", \"uid\": \"1c93d1d4-0681-4c1f-b564-b58fad0a28c7\"}, {\"name\": \"Adaboost\", \"x\": [\"Sprint 6\", \"Sprint 7\", \"Sprint 8\", \"Sprint 9\", \"Sprint 10\", \"Sprint 11\"], \"y\": [96.04, 97.41, 97.35, 96.58, 96.58, 95.8], \"type\": \"scatter\", \"uid\": \"1cba5950-dad6-49a6-a126-ced45242dc53\"}, {\"name\": \"SVM\", \"x\": [\"Sprint 6\", \"Sprint 7\", \"Sprint 8\", \"Sprint 9\", \"Sprint 10\", \"Sprint 11\"], \"y\": [96.0, 95.48, 97.96, 98.7, 98.7, 99.8], \"type\": \"scatter\", \"uid\": \"b8f89c3e-16f6-4289-8dad-361ab40ecf36\"}, {\"name\": \"XGboost\", \"x\": [\"Sprint 6\", \"Sprint 7\", \"Sprint 8\", \"Sprint 9\", \"Sprint 10\", \"Sprint 11\"], \"y\": [95.63, 97.49, 98.14, 97.68, 97.68, 95.8], \"type\": \"scatter\", \"uid\": \"6ecdd613-6f38-48cc-bc3b-20025b1a97db\"}, {\"name\": \"OCSVM\", \"x\": [\"Sprint 6\", \"Sprint 7\", \"Sprint 8\", \"Sprint 9\", \"Sprint 10\", \"Sprint 11\"], \"y\": [94.89, 93.46, 96.7, 95.99, 95.99, 97.3], \"type\": \"scatter\", \"uid\": \"8c2dbc59-e3e5-435b-b6c8-7d4e0511ae7b\"}, {\"name\": \"Isolation Forest\", \"x\": [\"Sprint 6\", \"Sprint 7\", \"Sprint 8\", \"Sprint 9\", \"Sprint 10\", \"Sprint 11\"], \"y\": [96.85, 97.83, 97.57, 96.52, 96.52, 97.3], \"type\": \"scatter\", \"uid\": \"cadeb788-3f4a-4669-b4e4-3555a7fa5a17\"}, {\"name\": \"Autoencoder\", \"x\": [\"Sprint 6\", \"Sprint 7\", \"Sprint 8\", \"Sprint 9\", \"Sprint 10\", \"Sprint 11\"], \"y\": [95.89, 93.46, 96.14, 96.14, 96.14, 97.4], \"type\": \"scatter\", \"uid\": \"b864d386-7be3-4446-a286-bc59a141842d\"}, {\"name\": \"Metamodel\", \"x\": [\"Sprint 6\", \"Sprint 7\", \"Sprint 8\", \"Sprint 9\", \"Sprint 10\", \"Sprint 11\"], \"y\": [\"nan\", \"nan\", \"nan\", 99.42, 99.42, 89.4], \"type\": \"scatter\", \"uid\": \"acd770e9-cb87-4cc2-b349-70143746fd9f\"}, {\"name\": \"100%\", \"x\": [\"Sprint 6\", \"Sprint 7\", \"Sprint 8\", \"Sprint 9\", \"Sprint 10\", \"Sprint 11\"], \"y\": [100, 100, 100, 100, 100, 100], \"type\": \"scatter\", \"uid\": \"c0d4dd1d-1d6c-455d-98b2-3ce34e9e7b8b\"}], {\"title\": {\"text\": \"F20 score\"}, \"yaxis\": {\"title\": {\"text\": \"F20 score\"}}}, {\"showLink\": false, \"linkText\": \"Export to plot.ly\", \"plotlyServerURL\": \"https://plot.ly\"}); \n",
       "}\n",
       "});</script><script type=\"text/javascript\">window.addEventListener(\"resize\", function(){if (document.getElementById(\"fdccfd8f-fd8b-4245-b853-fc99df9a7f5f\")) {window._Plotly.Plots.resize(document.getElementById(\"fdccfd8f-fd8b-4245-b853-fc99df9a7f5f\"));};})</script>"
      ],
      "text/vnd.plotly.v1+html": [
       "<div id=\"fdccfd8f-fd8b-4245-b853-fc99df9a7f5f\" style=\"height: 525px; width: 100%;\" class=\"plotly-graph-div\"></div><script type=\"text/javascript\">require([\"plotly\"], function(Plotly) { window.PLOTLYENV=window.PLOTLYENV || {};window.PLOTLYENV.BASE_URL=\"https://plot.ly\";\n",
       "if (document.getElementById(\"fdccfd8f-fd8b-4245-b853-fc99df9a7f5f\")) {\n",
       "    Plotly.newPlot(\"fdccfd8f-fd8b-4245-b853-fc99df9a7f5f\", [{\"name\": \"Random Forest\", \"x\": [\"Sprint 6\", \"Sprint 7\", \"Sprint 8\", \"Sprint 9\", \"Sprint 10\", \"Sprint 11\"], \"y\": [96.83, 97.41, 97.31, 96.86, 96.86, 96.1], \"type\": \"scatter\", \"uid\": \"1c93d1d4-0681-4c1f-b564-b58fad0a28c7\"}, {\"name\": \"Adaboost\", \"x\": [\"Sprint 6\", \"Sprint 7\", \"Sprint 8\", \"Sprint 9\", \"Sprint 10\", \"Sprint 11\"], \"y\": [96.04, 97.41, 97.35, 96.58, 96.58, 95.8], \"type\": \"scatter\", \"uid\": \"1cba5950-dad6-49a6-a126-ced45242dc53\"}, {\"name\": \"SVM\", \"x\": [\"Sprint 6\", \"Sprint 7\", \"Sprint 8\", \"Sprint 9\", \"Sprint 10\", \"Sprint 11\"], \"y\": [96.0, 95.48, 97.96, 98.7, 98.7, 99.8], \"type\": \"scatter\", \"uid\": \"b8f89c3e-16f6-4289-8dad-361ab40ecf36\"}, {\"name\": \"XGboost\", \"x\": [\"Sprint 6\", \"Sprint 7\", \"Sprint 8\", \"Sprint 9\", \"Sprint 10\", \"Sprint 11\"], \"y\": [95.63, 97.49, 98.14, 97.68, 97.68, 95.8], \"type\": \"scatter\", \"uid\": \"6ecdd613-6f38-48cc-bc3b-20025b1a97db\"}, {\"name\": \"OCSVM\", \"x\": [\"Sprint 6\", \"Sprint 7\", \"Sprint 8\", \"Sprint 9\", \"Sprint 10\", \"Sprint 11\"], \"y\": [94.89, 93.46, 96.7, 95.99, 95.99, 97.3], \"type\": \"scatter\", \"uid\": \"8c2dbc59-e3e5-435b-b6c8-7d4e0511ae7b\"}, {\"name\": \"Isolation Forest\", \"x\": [\"Sprint 6\", \"Sprint 7\", \"Sprint 8\", \"Sprint 9\", \"Sprint 10\", \"Sprint 11\"], \"y\": [96.85, 97.83, 97.57, 96.52, 96.52, 97.3], \"type\": \"scatter\", \"uid\": \"cadeb788-3f4a-4669-b4e4-3555a7fa5a17\"}, {\"name\": \"Autoencoder\", \"x\": [\"Sprint 6\", \"Sprint 7\", \"Sprint 8\", \"Sprint 9\", \"Sprint 10\", \"Sprint 11\"], \"y\": [95.89, 93.46, 96.14, 96.14, 96.14, 97.4], \"type\": \"scatter\", \"uid\": \"b864d386-7be3-4446-a286-bc59a141842d\"}, {\"name\": \"Metamodel\", \"x\": [\"Sprint 6\", \"Sprint 7\", \"Sprint 8\", \"Sprint 9\", \"Sprint 10\", \"Sprint 11\"], \"y\": [\"nan\", \"nan\", \"nan\", 99.42, 99.42, 89.4], \"type\": \"scatter\", \"uid\": \"acd770e9-cb87-4cc2-b349-70143746fd9f\"}, {\"name\": \"100%\", \"x\": [\"Sprint 6\", \"Sprint 7\", \"Sprint 8\", \"Sprint 9\", \"Sprint 10\", \"Sprint 11\"], \"y\": [100, 100, 100, 100, 100, 100], \"type\": \"scatter\", \"uid\": \"c0d4dd1d-1d6c-455d-98b2-3ce34e9e7b8b\"}], {\"title\": {\"text\": \"F20 score\"}, \"yaxis\": {\"title\": {\"text\": \"F20 score\"}}}, {\"showLink\": false, \"linkText\": \"Export to plot.ly\", \"plotlyServerURL\": \"https://plot.ly\"}); \n",
       "}\n",
       "});</script><script type=\"text/javascript\">window.addEventListener(\"resize\", function(){if (document.getElementById(\"fdccfd8f-fd8b-4245-b853-fc99df9a7f5f\")) {window._Plotly.Plots.resize(document.getElementById(\"fdccfd8f-fd8b-4245-b853-fc99df9a7f5f\"));};})</script>"
      ]
     },
     "metadata": {},
     "output_type": "display_data"
    }
   ],
   "source": [
    "data = []\n",
    "for column in df.columns:\n",
    "    trace = go.Scatter(\n",
    "    name = column,\n",
    "    x = ticks,\n",
    "    y = df[column].values)\n",
    "\n",
    "    data.append(trace)\n",
    "\n",
    "layout = {'title': 'F20 score', \n",
    "      'yaxis': {'title': 'F20 score'},\n",
    "      }\n",
    "\n",
    "fig = go.Figure(data=data, layout=layout)\n",
    "offline.iplot(fig)"
   ]
  },
  {
   "cell_type": "code",
   "execution_count": null,
   "metadata": {},
   "outputs": [],
   "source": []
  },
  {
   "cell_type": "code",
   "execution_count": null,
   "metadata": {},
   "outputs": [],
   "source": []
  }
 ],
 "metadata": {
  "kernelspec": {
   "display_name": "Python 3",
   "language": "python",
   "name": "python3"
  },
  "language_info": {
   "codemirror_mode": {
    "name": "ipython",
    "version": 3
   },
   "file_extension": ".py",
   "mimetype": "text/x-python",
   "name": "python",
   "nbconvert_exporter": "python",
   "pygments_lexer": "ipython3",
   "version": "3.6.8"
  }
 },
 "nbformat": 4,
 "nbformat_minor": 2
}
