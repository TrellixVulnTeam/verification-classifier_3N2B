{
 "cells": [
  {
   "cell_type": "code",
   "execution_count": null,
   "metadata": {},
   "outputs": [],
   "source": [
    "import pandas as pd\n",
    "import numpy as np\n",
    "from keras.models import Sequential\n",
    "from keras.layers import Dense, Dropout\n",
    "from keras.optimizers import Adam\n",
    "import keras.backend as K\n",
    "from sklearn import preprocessing\n",
    "from sklearn.metrics import confusion_matrix\n",
    "from sklearn.ensemble import RandomForestClassifier\n",
    "from sklearn.ensemble import AdaBoostClassifier\n",
    "from sklearn import svm\n",
    "from sklearn.metrics import roc_curve, auc, fbeta_score\n",
    "import xgboost as xgb\n",
    "from itertools import product\n",
    "import matplotlib.pyplot as plt\n",
    "import matplotlib.mlab as mlab\n",
    "import seaborn\n",
    "import time\n",
    "\n",
    "pd.options.display.max_columns = 999\n",
    "\n",
    "%matplotlib inline"
   ]
  },
  {
   "cell_type": "code",
   "execution_count": null,
   "metadata": {},
   "outputs": [],
   "source": [
    "data = pd.read_csv('../../feature_engineering/output/metrics-large.csv')\n",
    "df = pd.DataFrame(data)\n",
    "df['title'] = df['level_0']\n",
    "attack_series = []\n",
    "attack_IDs = []\n",
    "dimensions_series = []\n",
    "for _, row in df.iterrows():\n",
    "    attack_series.append(row['level_1'].split('/')[-2])\n",
    "\n",
    "df['attack'] = attack_series\n",
    "\n",
    "for _, row in df.iterrows():\n",
    "    dimension = int(row['attack'].split('_')[0].replace('p',''))\n",
    "    dimensions_series.append(dimension)\n",
    "\n",
    "    if row['attack'] in ['1080p', '720p', '480p', '360p', '240p', '144p']:\n",
    "            attack_IDs.append(1)\n",
    "    else:\n",
    "        attack_IDs.append(0)\n",
    "\n",
    "df['attack_ID'] = attack_IDs\n",
    "df['dimension'] = dimensions_series\n",
    "df = df.drop(['Unnamed: 0',\n",
    "         'temporal_canny-series',\n",
    "         'temporal_canny-cosine',\n",
    "         'temporal_canny-cross-correlation',\n",
    "         'temporal_cross_correlation-series',\n",
    "         'temporal_cross_correlation-cosine',\n",
    "         'temporal_cross_correlation-cross-correlation',\n",
    "         'temporal_difference-series',\n",
    "         'temporal_difference-cosine',\n",
    "         'temporal_difference-cross-correlation',\n",
    "         'temporal_histogram_distance-series', \n",
    "         'temporal_histogram_distance-cosine',\n",
    "         'temporal_histogram_distance-cross-correlation',\n",
    "         'temporal_dct-series', \n",
    "         'temporal_dct-cosine',\n",
    "         'temporal_dct-cross-correlation',\n",
    "         'level_0',\n",
    "              #'vmaf',\n",
    "         'level_1'],axis=1)\n",
    "print('Number of attacks:',df[df['attack_ID']==0].shape)\n",
    "print('Number of legit renditions:',df[df['attack_ID']==1].shape)"
   ]
  },
  {
   "cell_type": "markdown",
   "metadata": {},
   "source": [
    "# Data Visualization"
   ]
  },
  {
   "cell_type": "code",
   "execution_count": null,
   "metadata": {
    "scrolled": true
   },
   "outputs": [],
   "source": [
    "df.head(25)"
   ]
  },
  {
   "cell_type": "code",
   "execution_count": null,
   "metadata": {
    "scrolled": true
   },
   "outputs": [],
   "source": [
    "df.describe()"
   ]
  },
  {
   "cell_type": "code",
   "execution_count": null,
   "metadata": {},
   "outputs": [],
   "source": [
    "df_corr = df.corr()"
   ]
  },
  {
   "cell_type": "code",
   "execution_count": null,
   "metadata": {
    "scrolled": false
   },
   "outputs": [],
   "source": [
    "plt.figure(figsize=(10,10))\n",
    "corr = df_corr.drop(['attack_ID'],axis=1).corr('spearman')\n",
    "corr.style.background_gradient().set_precision(2)"
   ]
  },
  {
   "cell_type": "markdown",
   "metadata": {},
   "source": [
    "# Define input data (Keras neural network)"
   ]
  },
  {
   "cell_type": "markdown",
   "metadata": {},
   "source": [
    "We choose the input of our model (we try to make balanced dataset)"
   ]
  },
  {
   "cell_type": "code",
   "execution_count": null,
   "metadata": {},
   "outputs": [],
   "source": [
    "int(df.shape[0]*0.8)"
   ]
  },
  {
   "cell_type": "code",
   "execution_count": null,
   "metadata": {},
   "outputs": [],
   "source": [
    "num_train = int(df.shape[0]*0.8)\n",
    "\n",
    "df_train_all = df[0:num_train]\n",
    "df_train_1 = df_train_all[df_train_all['attack_ID'] == 1]\n",
    "df_train_0 = df_train_all[df_train_all['attack_ID'] == 0]\n",
    "df_sample = df_train_0.sample(df_train_1.shape[0])\n",
    "df_train = df_train_1.append(df_sample)\n",
    "df_train = df_train.sample(frac=1)\n",
    "\n",
    "df_test_all = df[num_train:]\n",
    "df_test_1 = df_test_all[df_test_all['attack_ID'] == 1]\n",
    "df_test_0 = df_test_all[df_test_all['attack_ID'] == 0]\n",
    "df_sample_test = df_test_0.sample(df_test_0.shape[0])\n",
    "df_test = df_test_1.append(df_sample_test)\n",
    "df_test = df_test.sample(frac=1)\n",
    "\n",
    "df_test_0_only = df_test_0.sample(100)\n",
    "\n",
    "X_test_all = df_test_all.drop(['title',  \n",
    "                     'attack', \n",
    "                     'attack_ID'],axis=1)\n",
    "y_test_all = df_test_all['attack_ID']\n",
    "y_test_all = np.asarray(y_test_all)\n",
    "\n",
    "X_train = df_train.drop(['title',\n",
    "                         'attack', \n",
    "                         'attack_ID'],axis=1)\n",
    "print(X_train.columns)\n",
    "\n",
    "print(X_test_all.columns)\n",
    "y_train = df_train['attack_ID']\n",
    "X_train = np.asarray(X_train)\n",
    "y_train = np.asarray(y_train)\n",
    "\n",
    "X_test = df_test.drop(['title',  \n",
    "                     'attack', \n",
    "                     'attack_ID'],axis=1)\n",
    "print(X_test.columns)\n",
    "\n",
    "y_test = df_test['attack_ID']\n",
    "X_test = np.asarray(X_test)\n",
    "y_test = np.asarray(y_test)\n",
    "\n",
    "X_test_0 = df_test_0_only.drop(['title', \n",
    "                                 'attack', \n",
    "                                 'attack_ID'], axis=1)\n",
    "y_test_0 = df_test_0_only['attack_ID']\n",
    "X_test_0 = np.asarray(X_test_0)\n",
    "y_test_0 = np.asanyarray(y_test_0)\n",
    "\n"
   ]
  },
  {
   "cell_type": "markdown",
   "metadata": {},
   "source": [
    "First we define a model where we take all variables :"
   ]
  },
  {
   "cell_type": "code",
   "execution_count": null,
   "metadata": {},
   "outputs": [],
   "source": [
    "print('TRAIN:', X_train.shape)\n",
    "print('TEST:', X_test.shape)"
   ]
  },
  {
   "cell_type": "markdown",
   "metadata": {},
   "source": [
    "# Define models\n",
    "We will explore results with different ML techniques\n",
    "\n",
    "## Keras neural network"
   ]
  },
  {
   "cell_type": "code",
   "execution_count": null,
   "metadata": {
    "scrolled": true
   },
   "outputs": [],
   "source": [
    "def model():\n",
    "    global network_history\n",
    "    model = Sequential()\n",
    "    model.add(Dense(64,input_shape=(X_train.shape[1],)))\n",
    "    model.add(Dropout(0.2))\n",
    "    model.add(Dense(128, kernel_initializer='glorot_uniform', activation='sigmoid'))\n",
    "    model.add(Dropout(0.2))\n",
    "    model.add(Dense(256, kernel_initializer='glorot_uniform'))\n",
    "    model.add(Dropout(0.5))\n",
    "    model.add(Dense(256, kernel_initializer='glorot_uniform'))\n",
    "    model.add(Dropout(0.4))\n",
    "    model.add(Dense(256, kernel_initializer='glorot_uniform'))\n",
    "    model.add(Dropout(0.3))\n",
    "    model.add(Dense(128, kernel_initializer='normal', activation='sigmoid'))\n",
    "    model.add(Dense(128,kernel_initializer= \"uniform\", bias_initializer=\"zeros\",activation= \"relu\"))\n",
    "    model.add(Dropout(0.2))\n",
    "    model.add(Dense(16,kernel_initializer= \"uniform\", bias_initializer=\"zeros\",activation= \"relu\"))\n",
    "    model.add(Dropout(0.3))\n",
    "    model.add(Dense(1, activation='sigmoid'))\n",
    "    \n",
    "    model.compile(loss='binary_crossentropy', optimizer=Adam(lr=0.001), metrics=['accuracy'])\n",
    "    \n",
    "    network_history = model.fit(X_train, y_train, batch_size=128, epochs=500, verbose=0)\n",
    "    return model\n",
    "\n",
    "NN_model = model()\n",
    "print(NN_model.metrics_names)\n",
    "NN_model.evaluate(X_test, y_test)"
   ]
  },
  {
   "cell_type": "markdown",
   "metadata": {},
   "source": [
    "visualization loss and accuracy"
   ]
  },
  {
   "cell_type": "code",
   "execution_count": null,
   "metadata": {
    "scrolled": false
   },
   "outputs": [],
   "source": [
    "def plot_history(network_history,title='Loss and accuracy (Keras model)'):\n",
    "    plt.figure(figsize=(15,10))\n",
    "    plt.subplot(211)\n",
    "    plt.title(title)\n",
    "    plt.xlabel('Epochs')\n",
    "    plt.ylabel('Loss')\n",
    "    plt.plot(network_history.history['loss'])\n",
    "    #plt.plot(network_history.history['val_loss'])\n",
    "    plt.legend(['Training', 'Validation'])\n",
    "\n",
    "    plt.subplot(212)\n",
    "    plt.xlabel('Epochs')\n",
    "    plt.ylabel('Accuracy')\n",
    "    plt.plot(network_history.history['acc'])\n",
    "    #plt.plot(network_history.history['val_acc'])\n",
    "    plt.legend(['Training', 'Validation'], loc='lower right')\n",
    "    plt.show()"
   ]
  },
  {
   "cell_type": "code",
   "execution_count": null,
   "metadata": {
    "scrolled": false
   },
   "outputs": [],
   "source": [
    "plot_history(network_history)"
   ]
  },
  {
   "cell_type": "code",
   "execution_count": null,
   "metadata": {},
   "outputs": [],
   "source": [
    "def plot_roc(fpr, tpr, title):\n",
    "    roc_auc = auc(fpr, tpr)\n",
    "    plt.figure()\n",
    "    lw = 2\n",
    "    plt.plot(fpr, tpr, color='darkorange',\n",
    "             lw=lw, label='ROC curve (area = %0.2f)' % roc_auc)\n",
    "    plt.plot([0, 1], [0, 1], color='navy', lw=lw, linestyle='--')\n",
    "    plt.xlim([0.0, 1.0])\n",
    "    plt.ylim([0.0, 1.05])\n",
    "    plt.xlabel('False Positive Rate')\n",
    "    plt.ylabel('True Positive Rate')\n",
    "    plt.title('Receiver operating characteristic {}'.format(title))\n",
    "    plt.legend(loc=\"lower right\")\n",
    "    plt.show()"
   ]
  },
  {
   "cell_type": "code",
   "execution_count": null,
   "metadata": {},
   "outputs": [],
   "source": [
    "prediction = NN_model.predict(X_test)"
   ]
  },
  {
   "cell_type": "code",
   "execution_count": null,
   "metadata": {
    "scrolled": true
   },
   "outputs": [],
   "source": [
    "prediction_bin = prediction > 0.5\n",
    "prediction_bin = prediction_bin.astype(int)\n",
    "confusion_matrix(y_test, prediction_bin)"
   ]
  },
  {
   "cell_type": "code",
   "execution_count": null,
   "metadata": {},
   "outputs": [],
   "source": [
    "fpr, tpr, _ = roc_curve(y_test, prediction_bin)\n",
    "fb = fbeta_score(y_test, prediction_bin, beta=20, pos_label=1) \n",
    "print('TNR={}, TPR={}, F20={}'.format(1-fpr[1],tpr[1], fb))\n",
    "plot_roc(fpr, tpr, 'Neural network')"
   ]
  },
  {
   "cell_type": "markdown",
   "metadata": {},
   "source": [
    "Test only with Class : 0"
   ]
  },
  {
   "cell_type": "code",
   "execution_count": null,
   "metadata": {},
   "outputs": [],
   "source": [
    "NN_model.evaluate(X_test_0, y_test_0)"
   ]
  },
  {
   "cell_type": "code",
   "execution_count": null,
   "metadata": {},
   "outputs": [],
   "source": [
    "prediction_0 = NN_model.predict(X_test_0)\n",
    "prediction_0_bin = prediction_0 > 0.5\n",
    "prediction_0_bin = prediction_0_bin.astype(int)\n",
    "confusion_matrix(y_test_0, prediction_0_bin)"
   ]
  },
  {
   "cell_type": "code",
   "execution_count": null,
   "metadata": {},
   "outputs": [],
   "source": [
    "NN_model.evaluate(X_test_all,y_test_all)"
   ]
  },
  {
   "cell_type": "code",
   "execution_count": null,
   "metadata": {},
   "outputs": [],
   "source": [
    "prediction_NN_all = NN_model.predict(X_test_all)\n",
    "prediction_NN_train = NN_model.predict(X_train)"
   ]
  },
  {
   "cell_type": "code",
   "execution_count": null,
   "metadata": {},
   "outputs": [],
   "source": [
    "prediction_all_bin = prediction_NN_all > 0.5\n",
    "prediction_NN_all_bin = prediction_NN_all.astype(int)\n",
    "confusion_matrix(y_test_all, prediction_NN_all_bin)"
   ]
  },
  {
   "cell_type": "code",
   "execution_count": null,
   "metadata": {},
   "outputs": [],
   "source": [
    "fpr, tpr, _ = roc_curve(y_test_all, prediction_NN_all_bin)\n",
    "fb = fbeta_score(y_test_all, prediction_NN_all_bin, beta=20, pos_label=1) \n",
    "print('TNR={}, TPR={}, F20={}'.format(1-fpr[1],tpr[1], fb))\n",
    "plot_roc(fpr, tpr, 'Neural network')"
   ]
  },
  {
   "cell_type": "markdown",
   "metadata": {},
   "source": [
    "# Random forest with scikit-learn"
   ]
  },
  {
   "cell_type": "code",
   "execution_count": null,
   "metadata": {},
   "outputs": [],
   "source": [
    "random_forest = RandomForestClassifier(n_estimators=15,)\n",
    "random_forest.fit(X_train,y_train)"
   ]
  },
  {
   "cell_type": "code",
   "execution_count": null,
   "metadata": {},
   "outputs": [],
   "source": [
    "random_forest.score(X_test,y_test)"
   ]
  },
  {
   "cell_type": "code",
   "execution_count": null,
   "metadata": {},
   "outputs": [],
   "source": [
    "prediction_RF = random_forest.predict(X_test)"
   ]
  },
  {
   "cell_type": "code",
   "execution_count": null,
   "metadata": {},
   "outputs": [],
   "source": [
    "confusion_matrix(y_test, prediction_RF)"
   ]
  },
  {
   "cell_type": "code",
   "execution_count": null,
   "metadata": {},
   "outputs": [],
   "source": [
    "random_forest.score(X_test_0,y_test_0)"
   ]
  },
  {
   "cell_type": "code",
   "execution_count": null,
   "metadata": {},
   "outputs": [],
   "source": [
    "prediction_RF_0 = random_forest.predict(X_test_0)\n",
    "confusion_matrix(y_test_0,prediction_RF_0)"
   ]
  },
  {
   "cell_type": "code",
   "execution_count": null,
   "metadata": {},
   "outputs": [],
   "source": [
    "random_forest.score(X_test_all,y_test_all)"
   ]
  },
  {
   "cell_type": "code",
   "execution_count": null,
   "metadata": {},
   "outputs": [],
   "source": [
    "prediction_RF_all = random_forest.predict(X_test_all)\n",
    "confusion_matrix(y_test_all, prediction_RF_all)"
   ]
  },
  {
   "cell_type": "code",
   "execution_count": null,
   "metadata": {},
   "outputs": [],
   "source": [
    "fpr, tpr, _ = roc_curve(y_test_all, prediction_RF_all)\n",
    "fb = fbeta_score(y_test_all, prediction_RF_all, beta=20, pos_label=1) \n",
    "print('TNR={}, TPR={}, F20={}'.format(1-fpr[1],tpr[1], fb))\n",
    "plot_roc(fpr, tpr, 'Random Forest')"
   ]
  },
  {
   "cell_type": "markdown",
   "metadata": {},
   "source": [
    "# AdaBoost with scikit-learn"
   ]
  },
  {
   "cell_type": "code",
   "execution_count": null,
   "metadata": {},
   "outputs": [],
   "source": [
    "AdaBoost = AdaBoostClassifier(learning_rate=0.1)\n",
    "AdaBoost.fit(X_train, y_train)"
   ]
  },
  {
   "cell_type": "code",
   "execution_count": null,
   "metadata": {},
   "outputs": [],
   "source": [
    "AdaBoost.score(X_test, y_test)"
   ]
  },
  {
   "cell_type": "code",
   "execution_count": null,
   "metadata": {},
   "outputs": [],
   "source": [
    "prediction_AdaBoost = AdaBoost.predict(X_test)"
   ]
  },
  {
   "cell_type": "code",
   "execution_count": null,
   "metadata": {},
   "outputs": [],
   "source": [
    "confusion_matrix(y_test, prediction_AdaBoost)"
   ]
  },
  {
   "cell_type": "code",
   "execution_count": null,
   "metadata": {},
   "outputs": [],
   "source": [
    "AdaBoost.score(X_test_0,y_test_0)"
   ]
  },
  {
   "cell_type": "code",
   "execution_count": null,
   "metadata": {},
   "outputs": [],
   "source": [
    "prediction_AdaBoost_0 = AdaBoost.predict(X_test_0)\n",
    "confusion_matrix(y_test_0,prediction_AdaBoost_0)"
   ]
  },
  {
   "cell_type": "code",
   "execution_count": null,
   "metadata": {},
   "outputs": [],
   "source": [
    "AdaBoost.score(X_test_all,y_test_all)"
   ]
  },
  {
   "cell_type": "code",
   "execution_count": null,
   "metadata": {},
   "outputs": [],
   "source": [
    "prediction_AdaBoost_all = AdaBoost.predict(X_test_all)\n",
    "confusion_matrix(y_test_all, prediction_AdaBoost_all)"
   ]
  },
  {
   "cell_type": "code",
   "execution_count": null,
   "metadata": {},
   "outputs": [],
   "source": [
    "fpr, tpr, _ = roc_curve(y_test_all, prediction_AdaBoost_all)\n",
    "fb = fbeta_score(y_test_all, prediction_AdaBoost_all, beta=20,pos_label=1) \n",
    "print('TNR={}, TPR={}, F20={}'.format(1-fpr[1],tpr[1], fb))\n",
    "plot_roc(fpr, tpr, 'AdaBoost')"
   ]
  },
  {
   "cell_type": "markdown",
   "metadata": {},
   "source": [
    "# SVM with scikit-learn"
   ]
  },
  {
   "cell_type": "code",
   "execution_count": null,
   "metadata": {},
   "outputs": [],
   "source": [
    "from sklearn.preprocessing import StandardScaler\n",
    "scaling = StandardScaler().fit(X_train)\n",
    "X_train_svm = scaling.transform(X_train)\n",
    "X_test_svm = scaling.transform(X_test)"
   ]
  },
  {
   "cell_type": "code",
   "execution_count": null,
   "metadata": {},
   "outputs": [],
   "source": [
    "classifier = svm.SVC(kernel='rbf')\n",
    "classifier.fit(X_train, y_train)\n",
    "prediction_SVM = classifier.predict(X_test_svm)"
   ]
  },
  {
   "cell_type": "code",
   "execution_count": null,
   "metadata": {},
   "outputs": [],
   "source": [
    "classifier.score(X_test_svm,y_test)"
   ]
  },
  {
   "cell_type": "code",
   "execution_count": null,
   "metadata": {},
   "outputs": [],
   "source": [
    "confusion_matrix(y_test, prediction_SVM)"
   ]
  },
  {
   "cell_type": "code",
   "execution_count": null,
   "metadata": {},
   "outputs": [],
   "source": [
    "classifier.score(X_test_0,y_test_0)"
   ]
  },
  {
   "cell_type": "code",
   "execution_count": null,
   "metadata": {},
   "outputs": [],
   "source": [
    "prediction_SVM_0 = classifier.predict(X_test_0)\n",
    "confusion_matrix(y_test_0,prediction_SVM_0)"
   ]
  },
  {
   "cell_type": "code",
   "execution_count": null,
   "metadata": {},
   "outputs": [],
   "source": [
    "classifier.score(X_test_all,y_test_all)"
   ]
  },
  {
   "cell_type": "code",
   "execution_count": null,
   "metadata": {},
   "outputs": [],
   "source": [
    "prediction_SVM_all = classifier.predict(X_test_all)\n",
    "confusion_matrix(y_test_all, prediction_SVM_all)"
   ]
  },
  {
   "cell_type": "code",
   "execution_count": null,
   "metadata": {},
   "outputs": [],
   "source": [
    "fpr, tpr, _ = roc_curve(y_test, prediction_SVM_all)\n",
    "fb = fbeta_score(y_test, prediction_SVM_all, beta=20, pos_label=1) \n",
    "print('TNR={}, TPR={}, F20={}'.format(1-fpr[1],tpr[1], fb))\n",
    "plot_roc(fpr, tpr, 'SVM')"
   ]
  },
  {
   "cell_type": "markdown",
   "metadata": {},
   "source": [
    "# XGBoost"
   ]
  },
  {
   "cell_type": "code",
   "execution_count": null,
   "metadata": {},
   "outputs": [],
   "source": [
    "classifier = xgb.XGBClassifier()\n",
    "classifier.fit(X_train, y_train)\n",
    "prediction_XGB = classifier.predict(X_test)"
   ]
  },
  {
   "cell_type": "code",
   "execution_count": null,
   "metadata": {},
   "outputs": [],
   "source": [
    "classifier.score(X_test,y_test)"
   ]
  },
  {
   "cell_type": "code",
   "execution_count": null,
   "metadata": {},
   "outputs": [],
   "source": [
    "confusion_matrix(y_test, prediction_XGB)"
   ]
  },
  {
   "cell_type": "code",
   "execution_count": null,
   "metadata": {},
   "outputs": [],
   "source": [
    "classifier.score(X_test_0,y_test_0)"
   ]
  },
  {
   "cell_type": "code",
   "execution_count": null,
   "metadata": {},
   "outputs": [],
   "source": [
    "start_time = time.time()\n",
    "prediction_XGB_0 = classifier.predict(X_test_0)\n",
    "elapsed_time = time.time() - start_time\n",
    "\n",
    "confusion_matrix(y_test_0,prediction_XGB_0)\n",
    "\n",
    "print('Prediction time:', elapsed_time)"
   ]
  },
  {
   "cell_type": "code",
   "execution_count": null,
   "metadata": {},
   "outputs": [],
   "source": [
    "classifier.score(X_test,y_test)"
   ]
  },
  {
   "cell_type": "code",
   "execution_count": null,
   "metadata": {},
   "outputs": [],
   "source": [
    "confusion_matrix(y_test, prediction_XGB)"
   ]
  },
  {
   "cell_type": "code",
   "execution_count": null,
   "metadata": {},
   "outputs": [],
   "source": [
    "fpr, tpr, _ = roc_curve(y_test, prediction_XGB)\n",
    "fb = fbeta_score(y_test, prediction_XGB, beta=20, pos_label=1) \n",
    "print('TNR={}, TPR={}, F20={}'.format(1-fpr[1],tpr[1], fb))\n",
    "plot_roc(fpr, tpr, 'XGB')"
   ]
  },
  {
   "cell_type": "code",
   "execution_count": null,
   "metadata": {},
   "outputs": [],
   "source": [
    "print(y_test.shape, y_test_all.shape)"
   ]
  },
  {
   "cell_type": "code",
   "execution_count": null,
   "metadata": {},
   "outputs": [],
   "source": [
    "pd.DataFrame([y_test,y_test_all])"
   ]
  },
  {
   "cell_type": "code",
   "execution_count": null,
   "metadata": {},
   "outputs": [],
   "source": []
  }
 ],
 "metadata": {
  "kernelspec": {
   "display_name": "Python 3",
   "language": "python",
   "name": "python3"
  },
  "language_info": {
   "codemirror_mode": {
    "name": "ipython",
    "version": 3
   },
   "file_extension": ".py",
   "mimetype": "text/x-python",
   "name": "python",
   "nbconvert_exporter": "python",
   "pygments_lexer": "ipython3",
   "version": "3.6.7"
  }
 },
 "nbformat": 4,
 "nbformat_minor": 1
}
