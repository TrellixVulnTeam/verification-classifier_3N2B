{
 "cells": [
  {
   "cell_type": "code",
   "execution_count": null,
   "metadata": {},
   "outputs": [],
   "source": [
    "import sys\n",
    "import glob, os\n",
    "import pandas as pd\n",
    "import numpy as np\n",
    "import plotly.plotly as py\n",
    "import plotly.graph_objs as go\n",
    "import plotly.offline as offline\n",
    "from plotly import tools\n",
    "\n",
    "from scipy.spatial import distance\n",
    "from scipy import linalg\n",
    "from scipy import signal\n",
    "\n",
    "%matplotlib inline\n",
    "offline.init_notebook_mode()"
   ]
  },
  {
   "cell_type": "code",
   "execution_count": null,
   "metadata": {},
   "outputs": [],
   "source": [
    "path = '../../machine_learning/cloud_functions/data-large.csv'\n",
    "data = pd.read_csv(path)\n",
    "df = pd.DataFrame(data)\n",
    "df.head()"
   ]
  },
  {
   "cell_type": "code",
   "execution_count": null,
   "metadata": {},
   "outputs": [],
   "source": [
    "columns = ['temporal_canny-series',\n",
    "           'temporal_cross_correlation-series',\n",
    "           'temporal_dct-series',\n",
    "           'temporal_difference-series',\n",
    "           'temporal_histogram_distance-series',\n",
    "           'temporal_gaussian-series',\n",
    "           'dimension',\n",
    "           'attack',\n",
    "           'title']\n",
    "\n",
    "df = df[columns]\n",
    "df.head()"
   ]
  },
  {
   "cell_type": "code",
   "execution_count": null,
   "metadata": {},
   "outputs": [],
   "source": [
    "def select_time_series(df, series_name, asset_name=None):\n",
    "    if not asset_name:\n",
    "        asset_name = df.sample(1)['title'].values[0]\n",
    "    else:\n",
    "        asset_name = '/tmp/' + asset_name \n",
    "    print('{} was selected'.format(str(asset_name)))\n",
    "    \n",
    "    series = []\n",
    "    asset_info = df[df['title'] == asset_name][[series_name, 'dimension', 'attack']]  \n",
    "    for i, row in asset_info.iterrows():\n",
    "        series.append(np.fromstring(row[series_name].replace('[', '').replace(']', ''), \n",
    "                                                    dtype=np.float, sep=' '))\n",
    "    asset_info['series'] = series\n",
    "    return asset_info\n"
   ]
  },
  {
   "cell_type": "markdown",
   "metadata": {},
   "source": [
    "# Series analysis"
   ]
  },
  {
   "cell_type": "code",
   "execution_count": null,
   "metadata": {},
   "outputs": [],
   "source": [
    "# Select series to study, if not specified a random video will be used\n",
    "\n",
    "series = 'temporal_gaussian-series'\n",
    "df_series = select_time_series(df, series)\n",
    "display(df_series.head())\n",
    "print(df_series.shape)\n"
   ]
  },
  {
   "cell_type": "code",
   "execution_count": null,
   "metadata": {},
   "outputs": [],
   "source": [
    "\n",
    "X = list(range(0, len(df_series['series'].values[0])))\n",
    "\n",
    "i = 0\n",
    "data = []\n",
    "scaling = True\n",
    "for _, row in df_series.iterrows():\n",
    "    \n",
    "    Y = df_series.iloc[i]['series']\n",
    "    if scaling:\n",
    "        Y /= df_series.iloc[i]['dimension']\n",
    "    \n",
    "    trace = go.Scatter(\n",
    "            x = X,\n",
    "            y = Y,\n",
    "            name = df_series.iloc[i]['attack'],\n",
    "            mode = 'lines'\n",
    "        )\n",
    "    data.append(trace)\n",
    "    i += 1\n",
    "\n",
    "layout = {\"title\": series, \n",
    "      \"legend\":{\"x\": 1, \"y\":.95},\n",
    "      \"xaxis\": {\"title\": \"Frame\", }, \n",
    "      \"yaxis\": {\"title\": series},\n",
    "      \"hovermode\":\"closest\"\n",
    "      }\n",
    "fig = go.Figure(data=data, layout=layout)\n",
    "offline.iplot(fig)\n"
   ]
  },
  {
   "cell_type": "markdown",
   "metadata": {},
   "source": [
    "# Autoencoder"
   ]
  },
  {
   "cell_type": "markdown",
   "metadata": {},
   "source": [
    "Let's try with a LSTM autoencoder to reconstruct the gaussian time-series  "
   ]
  },
  {
   "cell_type": "code",
   "execution_count": null,
   "metadata": {},
   "outputs": [],
   "source": [
    "path = '../../machine_learning/cloud_functions/data-large.csv'\n",
    "data = pd.read_csv(path)\n",
    "df = pd.DataFrame(data)"
   ]
  },
  {
   "cell_type": "code",
   "execution_count": null,
   "metadata": {},
   "outputs": [],
   "source": [
    "df = df[columns]\n",
    "df = df.dropna()"
   ]
  },
  {
   "cell_type": "code",
   "execution_count": null,
   "metadata": {},
   "outputs": [],
   "source": [
    "series = []\n",
    "attack_ID = []\n",
    "\n",
    "for i, row in df.iterrows():\n",
    "    time_series = np.fromstring(row['temporal_gaussian-series'].replace('[', '').replace(']', ''), \n",
    "                                                dtype=np.float, sep=' ')[:70]\n",
    "    if len(time_series) < 70:\n",
    "        time_series = np.append(time_series, np.zeros(70 - len(time_series)))\n",
    "        \n",
    "    series.append(time_series)\n",
    "    if row['attack'] in ['1080p', '720p', '480p', '360p', '240p', '144p']:\n",
    "        attack_ID.append(1)\n",
    "    else:\n",
    "        attack_ID.append(0)\n",
    "        \n",
    "df['series'] = series\n",
    "df['attack_ID'] = attack_ID\n"
   ]
  },
  {
   "cell_type": "code",
   "execution_count": null,
   "metadata": {},
   "outputs": [],
   "source": [
    "df_0 = df[df['attack_ID'] == 0]\n",
    "df_1 = df[df['attack_ID'] == 1]"
   ]
  },
  {
   "cell_type": "code",
   "execution_count": null,
   "metadata": {},
   "outputs": [],
   "source": [
    "df_train = df_1[:int(0.8*df_1.shape[0])]\n",
    "df_test = df_1[int(0.8*df_1.shape[0]):]\n",
    "df_attacks = df_0"
   ]
  },
  {
   "cell_type": "code",
   "execution_count": null,
   "metadata": {},
   "outputs": [],
   "source": [
    "train = np.empty(shape=(70,))\n",
    "for i, elem in df_train.iterrows():\n",
    "    train = np.vstack((train, elem['series']))\n",
    "    \n",
    "test = np.empty(shape=(70,))\n",
    "for i, elem in df_test.iterrows():\n",
    "    test = np.vstack((test, elem['series']))"
   ]
  },
  {
   "cell_type": "code",
   "execution_count": null,
   "metadata": {},
   "outputs": [],
   "source": [
    "attacks = np.empty(shape=(70,))\n",
    "for i, elem in df_attacks[:30000].iterrows():\n",
    "    attacks = np.vstack((attacks, elem['series']))"
   ]
  },
  {
   "cell_type": "code",
   "execution_count": null,
   "metadata": {},
   "outputs": [],
   "source": [
    "# Free memory\n",
    "del df, df_train, df_attacks, df_0, df_1"
   ]
  },
  {
   "cell_type": "code",
   "execution_count": null,
   "metadata": {},
   "outputs": [],
   "source": [
    "from keras.layers import Lambda, LSTM, RepeatVector, TimeDistributed, Dense\n",
    "from keras.optimizers import Adam \n",
    "from keras import backend as K\n",
    "from keras import Sequential\n",
    "from sklearn.preprocessing import StandardScaler, MinMaxScaler\n"
   ]
  },
  {
   "cell_type": "code",
   "execution_count": null,
   "metadata": {},
   "outputs": [],
   "source": [
    "train = train.reshape(train.shape[0], 70)\n",
    "test = test.reshape(test.shape[0], 70)\n",
    "attacks = attacks.reshape(attacks.shape[0], 70)"
   ]
  },
  {
   "cell_type": "code",
   "execution_count": null,
   "metadata": {},
   "outputs": [],
   "source": [
    "scaler = StandardScaler()\n",
    "train_ = train.copy()\n",
    "test_ = test.copy()\n",
    "attacks_ = attacks.copy()\n",
    "\n",
    "\n",
    "train_ = scaler.fit_transform(train_.reshape((train.shape[0]*train.shape[1], 1))).reshape((train.shape[0], train.shape[1]))\n",
    "test_ = scaler.transform(test_.reshape((test_.shape[0]*test.shape[1], 1))).reshape((test.shape[0], test.shape[1]))\n",
    "attacks_ = scaler.transform(attacks_.reshape((attacks_.shape[0]*attacks.shape[1], 1))).reshape((attacks.shape[0], attacks.shape[1]))"
   ]
  },
  {
   "cell_type": "code",
   "execution_count": null,
   "metadata": {},
   "outputs": [],
   "source": [
    "# define model\n",
    "n_in = 70\n",
    "latent_dim = 30\n",
    "model = Sequential()\n",
    "model.add(Dense(latent_dim, activation='linear', input_shape=(n_in,)))\n",
    "model.add(Dense(n_in, activation='linear'))\n",
    "adam = Adam(lr=0.001)\n",
    "model.compile(optimizer=adam, loss='mse')\n",
    "model.summary()\n",
    "\n",
    "# TODO: fine-tune the model\n",
    "# n_in = 70\n",
    "# latent_dim = 16\n",
    "# model = Sequential()\n",
    "# model.add(Dense(4 * latent_dim, activation='linear', input_shape=(n_in,)))\n",
    "# model.add(Dense(2 * latent_dim, activation='linear'))\n",
    "# model.add(Dense(latent_dim, activation='linear'))\n",
    "# model.add(Dense(2 * latent_dim, activation='linear'))\n",
    "# model.add(Dense(4 * latent_dim, activation='linear'))\n",
    "# model.add(Dense(n_in, activation='linear'))\n",
    "# adam = Adam(lr=0.001)\n",
    "# model.compile(optimizer=adam, loss='mse')\n",
    "# model.summary()"
   ]
  },
  {
   "cell_type": "code",
   "execution_count": null,
   "metadata": {},
   "outputs": [],
   "source": [
    "history = model.fit(train_, train_, epochs=100, verbose=1, \n",
    "                    batch_size=128, validation_data=(test_, test_), shuffle=True)"
   ]
  },
  {
   "cell_type": "code",
   "execution_count": null,
   "metadata": {},
   "outputs": [],
   "source": [
    "import matplotlib.pyplot as plt\n",
    "\n",
    "def plot_history(network_history, title):\n",
    "    plt.figure(figsize=(10, 5))\n",
    "    plt.title(title)\n",
    "    plt.xlabel('Epochs')\n",
    "    plt.ylabel('Loss')\n",
    "    plt.semilogy(network_history.history['loss'])\n",
    "    plt.semilogy(network_history.history['val_loss'])\n",
    "    plt.legend(['Training', 'Validation'])\n",
    "    plt.show()"
   ]
  },
  {
   "cell_type": "code",
   "execution_count": null,
   "metadata": {},
   "outputs": [],
   "source": [
    "plot_history(history, 'AE LSTM')"
   ]
  },
  {
   "cell_type": "code",
   "execution_count": null,
   "metadata": {},
   "outputs": [],
   "source": [
    "train_re = model.predict(train, batch_size=128)\n",
    "test_re = model.predict(test, batch_size=128)\n",
    "attacks_re = model.predict(attacks, batch_size=128)"
   ]
  },
  {
   "cell_type": "code",
   "execution_count": null,
   "metadata": {},
   "outputs": [],
   "source": [
    "from sklearn.metrics import mean_squared_error"
   ]
  },
  {
   "cell_type": "code",
   "execution_count": null,
   "metadata": {},
   "outputs": [],
   "source": [
    "mse_train = [mean_squared_error(train_[i], train_re[i]) for i,_ in enumerate(train_)]\n",
    "mse_test = [mean_squared_error(test_[i], test_re[i]) for i, _ in enumerate(test_)]\n",
    "mse_attacks = [mean_squared_error(attacks_[i], attacks_re[i]) for i, _ in enumerate(attacks_)]"
   ]
  },
  {
   "cell_type": "code",
   "execution_count": null,
   "metadata": {},
   "outputs": [],
   "source": [
    "np.mean(mse_train), np.mean(mse_test), np.mean(mse_attacks)"
   ]
  },
  {
   "cell_type": "code",
   "execution_count": null,
   "metadata": {},
   "outputs": [],
   "source": [
    "np.std(mse_train), np.std(mse_test), np.std(mse_attacks)"
   ]
  },
  {
   "cell_type": "code",
   "execution_count": null,
   "metadata": {},
   "outputs": [],
   "source": [
    "th = 10\n",
    "print(sum(np.array(mse_train) > th) / len(mse_train))\n",
    "print(sum(np.array(mse_test) > th) / len(mse_test))\n",
    "print(sum(np.array(mse_attacks) < th) / len(mse_attacks))"
   ]
  },
  {
   "cell_type": "code",
   "execution_count": null,
   "metadata": {},
   "outputs": [],
   "source": [
    "data = [go.Histogram(x=mse_train), go.Histogram(x=mse_test), go.Histogram(x=mse_attacks)]\n",
    "\n",
    "fig = go.Figure(data)\n",
    "offline.iplot(fig)"
   ]
  },
  {
   "cell_type": "code",
   "execution_count": null,
   "metadata": {},
   "outputs": [],
   "source": []
  }
 ],
 "metadata": {
  "kernelspec": {
   "display_name": "Python 3",
   "language": "python",
   "name": "python3"
  },
  "language_info": {
   "codemirror_mode": {
    "name": "ipython",
    "version": 3
   },
   "file_extension": ".py",
   "mimetype": "text/x-python",
   "name": "python",
   "nbconvert_exporter": "python",
   "pygments_lexer": "ipython3",
   "version": "3.6.7"
  }
 },
 "nbformat": 4,
 "nbformat_minor": 2
}
