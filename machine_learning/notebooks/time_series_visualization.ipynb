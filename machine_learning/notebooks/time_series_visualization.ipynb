{
 "cells": [
  {
   "cell_type": "markdown",
   "metadata": {},
   "source": [
    "# Import libraries"
   ]
  },
  {
   "cell_type": "code",
   "execution_count": null,
   "metadata": {},
   "outputs": [],
   "source": [
    "import sys\n",
    "import glob, os\n",
    "import pandas as pd\n",
    "import numpy as np\n",
    "import plotly.plotly as py\n",
    "import plotly.graph_objs as go\n",
    "import plotly.offline as offline\n",
    "from plotly import tools\n",
    "\n",
    "from scipy.spatial import distance\n",
    "from scipy import linalg\n",
    "from scipy import signal\n",
    "\n",
    "%matplotlib inline\n",
    "offline.init_notebook_mode()"
   ]
  },
  {
   "cell_type": "markdown",
   "metadata": {},
   "source": [
    "# Load data"
   ]
  },
  {
   "cell_type": "code",
   "execution_count": null,
   "metadata": {},
   "outputs": [],
   "source": [
    "path = '../../machine_learning/cloud_functions/data-large.csv'\n",
    "data = pd.read_csv(path)\n",
    "df = pd.DataFrame(data)\n",
    "df.head()"
   ]
  },
  {
   "cell_type": "code",
   "execution_count": null,
   "metadata": {},
   "outputs": [],
   "source": [
    "columns = ['temporal_canny-series',\n",
    "           'temporal_cross_correlation-series',\n",
    "           'temporal_dct-series',\n",
    "           'temporal_difference-series',\n",
    "           'temporal_histogram_distance-series',\n",
    "           'temporal_gaussian_mse-series',\n",
    "           'dimension',\n",
    "           'attack',\n",
    "           'title']\n",
    "\n",
    "df = df[columns]\n",
    "df.head()"
   ]
  },
  {
   "cell_type": "markdown",
   "metadata": {},
   "source": [
    "# Create functions"
   ]
  },
  {
   "cell_type": "code",
   "execution_count": null,
   "metadata": {},
   "outputs": [],
   "source": [
    "def select_time_series(df, series_name, asset_name=None):\n",
    "    if not asset_name:\n",
    "        asset_name = df.sample(1)['title'].values[0]\n",
    "    else:\n",
    "        asset_name = '/tmp/' + asset_name \n",
    "    print('{} was selected'.format(str(asset_name)))\n",
    "    \n",
    "    series = []\n",
    "    asset_info = df[df['title'] == asset_name][[series_name, 'dimension', 'attack']]  \n",
    "    for i, row in asset_info.iterrows():\n",
    "        series.append(np.fromstring(row[series_name].replace('[', '').replace(']', ''), \n",
    "                                                    dtype=np.float, sep=' '))\n",
    "    asset_info['series'] = series\n",
    "    return asset_info\n"
   ]
  },
  {
   "cell_type": "markdown",
   "metadata": {},
   "source": [
    "# Series analysis"
   ]
  },
  {
   "cell_type": "code",
   "execution_count": null,
   "metadata": {},
   "outputs": [],
   "source": [
    "# Select series to study, if not specified a random video will be used\n",
    "\n",
    "series = 'temporal_gaussian_mse-series'\n",
    "df_series = select_time_series(df, series)\n",
    "display(df_series.head())"
   ]
  },
  {
   "cell_type": "code",
   "execution_count": null,
   "metadata": {},
   "outputs": [],
   "source": [
    "\n",
    "X = list(range(0, len(df_series['series'].values[0] -1) ))\n",
    "\n",
    "data = []\n",
    "scaling = False\n",
    "i = 0\n",
    "for _, row in df_series.iterrows():\n",
    "    \n",
    "    Y = df_series.iloc[i]['series']\n",
    "    \n",
    "    if scaling:\n",
    "        Y /= df_series.iloc[i]['dimension']\n",
    "    \n",
    "    trace = go.Scatter(\n",
    "            x = X,\n",
    "            y = Y,\n",
    "            name = df_series.iloc[i]['attack'],\n",
    "            mode = 'lines'\n",
    "        )\n",
    "    data.append(trace)\n",
    "    i += 1\n",
    "\n",
    "layout = {'title': series, \n",
    "      'legend':{'x': 1, 'y':.95},\n",
    "      'xaxis': {'title': 'Frame', }, \n",
    "      'yaxis': {'title': series},\n",
    "      'hovermode':'closest'\n",
    "      }\n",
    "fig = go.Figure(data=data, layout=layout)\n",
    "offline.iplot(fig)\n"
   ]
  }
 ],
 "metadata": {
  "kernelspec": {
   "display_name": "Python 3",
   "language": "python",
   "name": "python3"
  },
  "language_info": {
   "codemirror_mode": {
    "name": "ipython",
    "version": 3
   },
   "file_extension": ".py",
   "mimetype": "text/x-python",
   "name": "python",
   "nbconvert_exporter": "python",
   "pygments_lexer": "ipython3",
   "version": "3.6.7"
  }
 },
 "nbformat": 4,
 "nbformat_minor": 2
}
