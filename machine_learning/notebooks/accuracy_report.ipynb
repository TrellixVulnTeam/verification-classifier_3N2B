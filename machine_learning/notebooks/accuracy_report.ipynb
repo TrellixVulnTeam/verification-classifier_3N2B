{
 "cells": [
  {
   "cell_type": "markdown",
   "metadata": {},
   "source": [
    "# Import Libraries"
   ]
  },
  {
   "cell_type": "code",
   "execution_count": 1,
   "metadata": {},
   "outputs": [
    {
     "name": "stderr",
     "output_type": "stream",
     "text": [
      "Using TensorFlow backend.\n"
     ]
    }
   ],
   "source": [
    "import sys\n",
    "import pandas as pd\n",
    "import numpy as np\n",
    "\n",
    "from sklearn import preprocessing\n",
    "from sklearn.decomposition import PCA\n",
    "from sklearn import random_projection\n",
    "from sklearn.preprocessing import StandardScaler\n",
    "from sklearn.metrics import fbeta_score, roc_curve, auc\n",
    "from sklearn import svm\n",
    "\n",
    "import pprint\n",
    "\n",
    "sys.path.insert(0, '../../scripts/modeling_toolbox/')\n",
    "# load the autoreload extension\n",
    "%load_ext autoreload\n",
    "# Set extension to reload modules every time before executing code\n",
    "%autoreload 2\n",
    "\n",
    "from metric_processor import MetricProcessor\n",
    "import evaluation\n",
    "\n",
    "%matplotlib inline"
   ]
  },
  {
   "cell_type": "markdown",
   "metadata": {},
   "source": [
    "# Data preparation"
   ]
  },
  {
   "cell_type": "code",
   "execution_count": 2,
   "metadata": {},
   "outputs": [
    {
     "name": "stdout",
     "output_type": "stream",
     "text": [
      "dimension\n",
      "size\n",
      "temporal_dct-mean\n",
      "temporal_gaussian_mse-mean\n",
      "temporal_gaussian_difference-mean\n",
      "temporal_threshold_gaussian_difference-mean\n"
     ]
    },
    {
     "data": {
      "text/plain": [
       "(201040, 9)"
      ]
     },
     "execution_count": 2,
     "metadata": {},
     "output_type": "execute_result"
    }
   ],
   "source": [
    "features = ['dimension',\n",
    "            'size',\n",
    "            'temporal_dct-mean', \n",
    "            'temporal_gaussian_mse-mean', \n",
    "            'temporal_gaussian_difference-mean',\n",
    "            'temporal_threshold_gaussian_difference-mean'\n",
    "           ]\n",
    "\n",
    "\n",
    "path = '../../machine_learning/cloud_functions/data-large.csv'\n",
    "\n",
    "metric_processor = MetricProcessor(features,'UL', path, reduced=False, bins=0)\n",
    "df = metric_processor.read_and_process_data()\n",
    "df.shape"
   ]
  },
  {
   "cell_type": "code",
   "execution_count": 3,
   "metadata": {},
   "outputs": [
    {
     "data": {
      "text/html": [
       "<div>\n",
       "<style scoped>\n",
       "    .dataframe tbody tr th:only-of-type {\n",
       "        vertical-align: middle;\n",
       "    }\n",
       "\n",
       "    .dataframe tbody tr th {\n",
       "        vertical-align: top;\n",
       "    }\n",
       "\n",
       "    .dataframe thead th {\n",
       "        text-align: right;\n",
       "    }\n",
       "</style>\n",
       "<table border=\"1\" class=\"dataframe\">\n",
       "  <thead>\n",
       "    <tr style=\"text-align: right;\">\n",
       "      <th></th>\n",
       "      <th>dimension</th>\n",
       "      <th>size</th>\n",
       "      <th>temporal_dct-mean</th>\n",
       "      <th>temporal_gaussian_mse-mean</th>\n",
       "      <th>temporal_gaussian_difference-mean</th>\n",
       "      <th>temporal_threshold_gaussian_difference-mean</th>\n",
       "      <th>attack_ID</th>\n",
       "      <th>title</th>\n",
       "      <th>attack</th>\n",
       "    </tr>\n",
       "  </thead>\n",
       "  <tbody>\n",
       "    <tr>\n",
       "      <th>0</th>\n",
       "      <td>1080</td>\n",
       "      <td>5841311</td>\n",
       "      <td>0.000000</td>\n",
       "      <td>0.000000</td>\n",
       "      <td>0.000000e+00</td>\n",
       "      <td>0.000000</td>\n",
       "      <td>1</td>\n",
       "      <td>/tmp/1080p/-3MYFnEaYu4.mp4</td>\n",
       "      <td>1080p</td>\n",
       "    </tr>\n",
       "    <tr>\n",
       "      <th>1</th>\n",
       "      <td>1080</td>\n",
       "      <td>5264133</td>\n",
       "      <td>11633.920898</td>\n",
       "      <td>1.402160</td>\n",
       "      <td>8.391589e+06</td>\n",
       "      <td>9367.222222</td>\n",
       "      <td>10</td>\n",
       "      <td>/tmp/1080p/-3MYFnEaYu4.mp4</td>\n",
       "      <td>1080p_black_and_white</td>\n",
       "    </tr>\n",
       "    <tr>\n",
       "      <th>2</th>\n",
       "      <td>1080</td>\n",
       "      <td>1194152</td>\n",
       "      <td>2241.402283</td>\n",
       "      <td>0.085664</td>\n",
       "      <td>3.293602e+06</td>\n",
       "      <td>0.000000</td>\n",
       "      <td>12</td>\n",
       "      <td>/tmp/1080p/-3MYFnEaYu4.mp4</td>\n",
       "      <td>1080p_low_bitrate_4</td>\n",
       "    </tr>\n",
       "    <tr>\n",
       "      <th>3</th>\n",
       "      <td>1080</td>\n",
       "      <td>599858</td>\n",
       "      <td>3447.552338</td>\n",
       "      <td>0.308670</td>\n",
       "      <td>6.842059e+06</td>\n",
       "      <td>5.333333</td>\n",
       "      <td>10</td>\n",
       "      <td>/tmp/1080p/-3MYFnEaYu4.mp4</td>\n",
       "      <td>1080p_low_bitrate_8</td>\n",
       "    </tr>\n",
       "    <tr>\n",
       "      <th>4</th>\n",
       "      <td>1920</td>\n",
       "      <td>5978909</td>\n",
       "      <td>314221.152344</td>\n",
       "      <td>424.608446</td>\n",
       "      <td>3.242569e+08</td>\n",
       "      <td>168671.666667</td>\n",
       "      <td>10</td>\n",
       "      <td>/tmp/1080p/-3MYFnEaYu4.mp4</td>\n",
       "      <td>1080p_rotate_90_clockwise</td>\n",
       "    </tr>\n",
       "  </tbody>\n",
       "</table>\n",
       "</div>"
      ],
      "text/plain": [
       "   dimension     size  temporal_dct-mean  temporal_gaussian_mse-mean  \\\n",
       "0       1080  5841311           0.000000                0.000000   \n",
       "1       1080  5264133       11633.920898                1.402160   \n",
       "2       1080  1194152        2241.402283                0.085664   \n",
       "3       1080   599858        3447.552338                0.308670   \n",
       "4       1920  5978909      314221.152344              424.608446   \n",
       "\n",
       "   temporal_gaussian_difference-mean  \\\n",
       "0                       0.000000e+00   \n",
       "1                       8.391589e+06   \n",
       "2                       3.293602e+06   \n",
       "3                       6.842059e+06   \n",
       "4                       3.242569e+08   \n",
       "\n",
       "   temporal_threshold_gaussian_difference-mean  attack_ID  \\\n",
       "0                                     0.000000          1   \n",
       "1                                  9367.222222         10   \n",
       "2                                     0.000000         12   \n",
       "3                                     5.333333         10   \n",
       "4                                168671.666667         10   \n",
       "\n",
       "                        title                     attack  \n",
       "0  /tmp/1080p/-3MYFnEaYu4.mp4                      1080p  \n",
       "1  /tmp/1080p/-3MYFnEaYu4.mp4      1080p_black_and_white  \n",
       "2  /tmp/1080p/-3MYFnEaYu4.mp4        1080p_low_bitrate_4  \n",
       "3  /tmp/1080p/-3MYFnEaYu4.mp4        1080p_low_bitrate_8  \n",
       "4  /tmp/1080p/-3MYFnEaYu4.mp4  1080p_rotate_90_clockwise  "
      ]
     },
     "metadata": {},
     "output_type": "display_data"
    }
   ],
   "source": [
    "display(df.head())"
   ]
  },
  {
   "cell_type": "code",
   "execution_count": 4,
   "metadata": {},
   "outputs": [],
   "source": [
    "# We remove the low bitrates since we are only focused on tampering attacks. The rotation attacks are also\n",
    "# removed since they will be detected by the pre-verifier just by checking output dimensions\n",
    "df = df[~(df['attack'].str.contains('low_bitrate')) & ~(df['attack'].str.contains('rotate'))]"
   ]
  },
  {
   "cell_type": "code",
   "execution_count": 5,
   "metadata": {},
   "outputs": [
    {
     "data": {
      "text/html": [
       "<div>\n",
       "<style scoped>\n",
       "    .dataframe tbody tr th:only-of-type {\n",
       "        vertical-align: middle;\n",
       "    }\n",
       "\n",
       "    .dataframe tbody tr th {\n",
       "        vertical-align: top;\n",
       "    }\n",
       "\n",
       "    .dataframe thead th {\n",
       "        text-align: right;\n",
       "    }\n",
       "</style>\n",
       "<table border=\"1\" class=\"dataframe\">\n",
       "  <thead>\n",
       "    <tr style=\"text-align: right;\">\n",
       "      <th></th>\n",
       "      <th>dimension</th>\n",
       "      <th>size</th>\n",
       "      <th>temporal_dct-mean</th>\n",
       "      <th>temporal_gaussian_mse-mean</th>\n",
       "      <th>temporal_gaussian_difference-mean</th>\n",
       "      <th>temporal_threshold_gaussian_difference-mean</th>\n",
       "      <th>attack_ID</th>\n",
       "      <th>title</th>\n",
       "      <th>attack</th>\n",
       "    </tr>\n",
       "  </thead>\n",
       "  <tbody>\n",
       "    <tr>\n",
       "      <th>0</th>\n",
       "      <td>1080</td>\n",
       "      <td>5841311</td>\n",
       "      <td>0.000000</td>\n",
       "      <td>0.000000</td>\n",
       "      <td>0.000000e+00</td>\n",
       "      <td>0.000000</td>\n",
       "      <td>1</td>\n",
       "      <td>/tmp/1080p/-3MYFnEaYu4.mp4</td>\n",
       "      <td>1080p</td>\n",
       "    </tr>\n",
       "    <tr>\n",
       "      <th>1</th>\n",
       "      <td>1080</td>\n",
       "      <td>5264133</td>\n",
       "      <td>11633.920898</td>\n",
       "      <td>1.402160</td>\n",
       "      <td>8.391589e+06</td>\n",
       "      <td>9367.222222</td>\n",
       "      <td>10</td>\n",
       "      <td>/tmp/1080p/-3MYFnEaYu4.mp4</td>\n",
       "      <td>1080p_black_and_white</td>\n",
       "    </tr>\n",
       "    <tr>\n",
       "      <th>5</th>\n",
       "      <td>1080</td>\n",
       "      <td>5526314</td>\n",
       "      <td>51759.428101</td>\n",
       "      <td>11.632621</td>\n",
       "      <td>3.717539e+07</td>\n",
       "      <td>81018.888889</td>\n",
       "      <td>10</td>\n",
       "      <td>/tmp/1080p/-3MYFnEaYu4.mp4</td>\n",
       "      <td>1080p_vignette</td>\n",
       "    </tr>\n",
       "    <tr>\n",
       "      <th>6</th>\n",
       "      <td>1080</td>\n",
       "      <td>4815850</td>\n",
       "      <td>3380.053368</td>\n",
       "      <td>1.571478</td>\n",
       "      <td>3.589129e+06</td>\n",
       "      <td>7434.333333</td>\n",
       "      <td>11</td>\n",
       "      <td>/tmp/1080p/-3MYFnEaYu4.mp4</td>\n",
       "      <td>1080p_watermark</td>\n",
       "    </tr>\n",
       "    <tr>\n",
       "      <th>7</th>\n",
       "      <td>1080</td>\n",
       "      <td>4828433</td>\n",
       "      <td>1580.337811</td>\n",
       "      <td>0.546626</td>\n",
       "      <td>1.679861e+06</td>\n",
       "      <td>3206.777778</td>\n",
       "      <td>11</td>\n",
       "      <td>/tmp/1080p/-3MYFnEaYu4.mp4</td>\n",
       "      <td>1080p_watermark-345x114</td>\n",
       "    </tr>\n",
       "  </tbody>\n",
       "</table>\n",
       "</div>"
      ],
      "text/plain": [
       "   dimension     size  temporal_dct-mean  temporal_gaussian_mse-mean  \\\n",
       "0       1080  5841311           0.000000                0.000000   \n",
       "1       1080  5264133       11633.920898                1.402160   \n",
       "5       1080  5526314       51759.428101               11.632621   \n",
       "6       1080  4815850        3380.053368                1.571478   \n",
       "7       1080  4828433        1580.337811                0.546626   \n",
       "\n",
       "   temporal_gaussian_difference-mean  \\\n",
       "0                       0.000000e+00   \n",
       "1                       8.391589e+06   \n",
       "5                       3.717539e+07   \n",
       "6                       3.589129e+06   \n",
       "7                       1.679861e+06   \n",
       "\n",
       "   temporal_threshold_gaussian_difference-mean  attack_ID  \\\n",
       "0                                     0.000000          1   \n",
       "1                                  9367.222222         10   \n",
       "5                                 81018.888889         10   \n",
       "6                                  7434.333333         11   \n",
       "7                                  3206.777778         11   \n",
       "\n",
       "                        title                   attack  \n",
       "0  /tmp/1080p/-3MYFnEaYu4.mp4                    1080p  \n",
       "1  /tmp/1080p/-3MYFnEaYu4.mp4    1080p_black_and_white  \n",
       "5  /tmp/1080p/-3MYFnEaYu4.mp4           1080p_vignette  \n",
       "6  /tmp/1080p/-3MYFnEaYu4.mp4          1080p_watermark  \n",
       "7  /tmp/1080p/-3MYFnEaYu4.mp4  1080p_watermark-345x114  "
      ]
     },
     "execution_count": 5,
     "metadata": {},
     "output_type": "execute_result"
    }
   ],
   "source": [
    "df.head()"
   ]
  },
  {
   "cell_type": "code",
   "execution_count": 6,
   "metadata": {},
   "outputs": [
    {
     "name": "stdout",
     "output_type": "stream",
     "text": [
      "Shape of train: (18014, 6)\n",
      "Shape of test: (4504, 6)\n",
      "Shape of attacks: (111778, 6)\n"
     ]
    }
   ],
   "source": [
    "(X_train, X_test, X_attacks), (df_train, df_test, df_attacks) = metric_processor.split_test_and_train(df)\n",
    "\n",
    "print('Shape of train: {}'.format(X_train.shape))\n",
    "print('Shape of test: {}'.format(X_test.shape))\n",
    "print('Shape of attacks: {}'.format(X_attacks.shape))"
   ]
  },
  {
   "cell_type": "markdown",
   "metadata": {},
   "source": [
    "The train and test are **only** composed by legit assets"
   ]
  },
  {
   "cell_type": "code",
   "execution_count": 7,
   "metadata": {},
   "outputs": [],
   "source": [
    "# Scaling the data\n",
    "ss = StandardScaler()\n",
    "x_train = ss.fit_transform(X_train)\n",
    "x_test = ss.transform(X_test)\n",
    "x_attacks = ss.transform(X_attacks)"
   ]
  },
  {
   "cell_type": "markdown",
   "metadata": {},
   "source": [
    "# One Class SVM"
   ]
  },
  {
   "cell_type": "code",
   "execution_count": 8,
   "metadata": {},
   "outputs": [
    {
     "data": {
      "text/plain": [
       "OneClassSVM(cache_size=5000, coef0=0.0, degree=3, gamma='auto', kernel='rbf',\n",
       "      max_iter=-1, nu=0.01, random_state=None, shrinking=True, tol=0.001,\n",
       "      verbose=False)"
      ]
     },
     "execution_count": 8,
     "metadata": {},
     "output_type": "execute_result"
    }
   ],
   "source": [
    "# Train the model\n",
    "OCSVM = svm.OneClassSVM(kernel='rbf',gamma='auto', nu=0.01, cache_size=5000)\n",
    "OCSVM.fit(x_train)"
   ]
  },
  {
   "cell_type": "code",
   "execution_count": 9,
   "metadata": {},
   "outputs": [],
   "source": [
    "fb, area, tnr, tpr_train, tpr_test = evaluation.unsupervised_evaluation(OCSVM, x_train, x_test, x_attacks)"
   ]
  },
  {
   "cell_type": "code",
   "execution_count": 10,
   "metadata": {},
   "outputs": [
    {
     "name": "stdout",
     "output_type": "stream",
     "text": [
      "TNR: 0.8769972624308898\n",
      "TPR_test: 0.9824600355239786\n",
      "TPR_train: 0.984845120461863\n",
      "\n",
      "F20: 0.9750798725556029\n",
      "AUC: 0.9297286489774341\n"
     ]
    }
   ],
   "source": [
    "# Show global results of classification\n",
    "print('TNR: {}\\nTPR_test: {}\\nTPR_train: {}\\n'.format(tnr, tpr_test, tpr_train))\n",
    "print('F20: {}\\nAUC: {}'.format(fb, area))"
   ]
  },
  {
   "cell_type": "code",
   "execution_count": 11,
   "metadata": {},
   "outputs": [
    {
     "name": "stdout",
     "output_type": "stream",
     "text": [
      "Mean score values:\n",
      "-Train: 0.697270521920494\n",
      "-Test: 0.6871460213667405\n",
      "-Attacks: -4.114003380259059\n"
     ]
    }
   ],
   "source": [
    "# Show mean distances to the decision function. A negative distance means that the data is classified as\n",
    "# an attack\n",
    "train_scores = OCSVM.decision_function(x_train)\n",
    "test_scores = OCSVM.decision_function(x_test)\n",
    "attack_scores = OCSVM.decision_function(x_attacks)\n",
    "\n",
    "print('Mean score values:\\n-Train: {}\\n-Test: {}\\n-Attacks: {}'.format(np.mean(train_scores),\n",
    "                                                                       np.mean(test_scores),\n",
    "                                                                       np.mean(attack_scores)))"
   ]
  },
  {
   "cell_type": "code",
   "execution_count": 12,
   "metadata": {},
   "outputs": [],
   "source": [
    "train_preds = OCSVM.predict(x_train)\n",
    "test_preds = OCSVM.predict(x_test)\n",
    "attack_preds = OCSVM.predict(x_attacks)"
   ]
  },
  {
   "cell_type": "code",
   "execution_count": 13,
   "metadata": {},
   "outputs": [],
   "source": [
    "df_train['dist_to_dec_funct'] = train_scores\n",
    "df_test['dist_to_dec_funct'] = test_scores\n",
    "df_attacks['dist_to_dec_funct'] = attack_scores"
   ]
  },
  {
   "cell_type": "code",
   "execution_count": 14,
   "metadata": {},
   "outputs": [],
   "source": [
    "df_train['prediction'] = train_preds\n",
    "df_test['prediction'] = test_preds\n",
    "df_attacks['prediction'] = attack_preds"
   ]
  },
  {
   "cell_type": "markdown",
   "metadata": {},
   "source": [
    "# Report"
   ]
  },
  {
   "cell_type": "code",
   "execution_count": 15,
   "metadata": {},
   "outputs": [
    {
     "data": {
      "text/html": [
       "<div>\n",
       "<style scoped>\n",
       "    .dataframe tbody tr th:only-of-type {\n",
       "        vertical-align: middle;\n",
       "    }\n",
       "\n",
       "    .dataframe tbody tr th {\n",
       "        vertical-align: top;\n",
       "    }\n",
       "\n",
       "    .dataframe thead tr th {\n",
       "        text-align: left;\n",
       "    }\n",
       "\n",
       "    .dataframe thead tr:last-of-type th {\n",
       "        text-align: right;\n",
       "    }\n",
       "</style>\n",
       "<table border=\"1\" class=\"dataframe\">\n",
       "  <thead>\n",
       "    <tr>\n",
       "      <th></th>\n",
       "      <th colspan=\"8\" halign=\"left\">dist_to_dec_funct</th>\n",
       "    </tr>\n",
       "    <tr>\n",
       "      <th></th>\n",
       "      <th>count</th>\n",
       "      <th>mean</th>\n",
       "      <th>std</th>\n",
       "      <th>min</th>\n",
       "      <th>25%</th>\n",
       "      <th>50%</th>\n",
       "      <th>75%</th>\n",
       "      <th>max</th>\n",
       "    </tr>\n",
       "    <tr>\n",
       "      <th>dimension</th>\n",
       "      <th></th>\n",
       "      <th></th>\n",
       "      <th></th>\n",
       "      <th></th>\n",
       "      <th></th>\n",
       "      <th></th>\n",
       "      <th></th>\n",
       "      <th></th>\n",
       "    </tr>\n",
       "  </thead>\n",
       "  <tbody>\n",
       "    <tr>\n",
       "      <th>144</th>\n",
       "      <td>750.0</td>\n",
       "      <td>0.384982</td>\n",
       "      <td>0.526982</td>\n",
       "      <td>-5.478606</td>\n",
       "      <td>0.299524</td>\n",
       "      <td>0.423076</td>\n",
       "      <td>0.561472</td>\n",
       "      <td>0.964780</td>\n",
       "    </tr>\n",
       "    <tr>\n",
       "      <th>240</th>\n",
       "      <td>751.0</td>\n",
       "      <td>0.645751</td>\n",
       "      <td>0.409889</td>\n",
       "      <td>-5.028284</td>\n",
       "      <td>0.580943</td>\n",
       "      <td>0.671511</td>\n",
       "      <td>0.758675</td>\n",
       "      <td>1.186582</td>\n",
       "    </tr>\n",
       "    <tr>\n",
       "      <th>360</th>\n",
       "      <td>751.0</td>\n",
       "      <td>0.858006</td>\n",
       "      <td>0.370707</td>\n",
       "      <td>-5.395669</td>\n",
       "      <td>0.737261</td>\n",
       "      <td>0.913881</td>\n",
       "      <td>1.031872</td>\n",
       "      <td>1.466536</td>\n",
       "    </tr>\n",
       "    <tr>\n",
       "      <th>480</th>\n",
       "      <td>751.0</td>\n",
       "      <td>1.155328</td>\n",
       "      <td>0.361671</td>\n",
       "      <td>-5.118767</td>\n",
       "      <td>1.020612</td>\n",
       "      <td>1.235215</td>\n",
       "      <td>1.354436</td>\n",
       "      <td>1.660667</td>\n",
       "    </tr>\n",
       "    <tr>\n",
       "      <th>720</th>\n",
       "      <td>751.0</td>\n",
       "      <td>0.965320</td>\n",
       "      <td>0.435993</td>\n",
       "      <td>-5.440966</td>\n",
       "      <td>0.730039</td>\n",
       "      <td>1.046307</td>\n",
       "      <td>1.264385</td>\n",
       "      <td>1.604720</td>\n",
       "    </tr>\n",
       "    <tr>\n",
       "      <th>1080</th>\n",
       "      <td>750.0</td>\n",
       "      <td>0.112322</td>\n",
       "      <td>0.115657</td>\n",
       "      <td>-0.353376</td>\n",
       "      <td>0.009450</td>\n",
       "      <td>0.063926</td>\n",
       "      <td>0.212190</td>\n",
       "      <td>0.330692</td>\n",
       "    </tr>\n",
       "  </tbody>\n",
       "</table>\n",
       "</div>"
      ],
      "text/plain": [
       "          dist_to_dec_funct                                                    \\\n",
       "                      count      mean       std       min       25%       50%   \n",
       "dimension                                                                       \n",
       "144                   750.0  0.384982  0.526982 -5.478606  0.299524  0.423076   \n",
       "240                   751.0  0.645751  0.409889 -5.028284  0.580943  0.671511   \n",
       "360                   751.0  0.858006  0.370707 -5.395669  0.737261  0.913881   \n",
       "480                   751.0  1.155328  0.361671 -5.118767  1.020612  1.235215   \n",
       "720                   751.0  0.965320  0.435993 -5.440966  0.730039  1.046307   \n",
       "1080                  750.0  0.112322  0.115657 -0.353376  0.009450  0.063926   \n",
       "\n",
       "                               \n",
       "                75%       max  \n",
       "dimension                      \n",
       "144        0.561472  0.964780  \n",
       "240        0.758675  1.186582  \n",
       "360        1.031872  1.466536  \n",
       "480        1.354436  1.660667  \n",
       "720        1.264385  1.604720  \n",
       "1080       0.212190  0.330692  "
      ]
     },
     "metadata": {},
     "output_type": "display_data"
    }
   ],
   "source": [
    "# Zoom in in the mean distances of the test set to the decision function by resolution. Percentiles, standard \n",
    "# deviation, min and max values are shown too.\n",
    "display(df_test[['dist_to_dec_funct', 'dimension']].groupby('dimension').describe())"
   ]
  },
  {
   "cell_type": "code",
   "execution_count": 16,
   "metadata": {
    "scrolled": true
   },
   "outputs": [
    {
     "data": {
      "text/html": [
       "<div>\n",
       "<style scoped>\n",
       "    .dataframe tbody tr th:only-of-type {\n",
       "        vertical-align: middle;\n",
       "    }\n",
       "\n",
       "    .dataframe tbody tr th {\n",
       "        vertical-align: top;\n",
       "    }\n",
       "\n",
       "    .dataframe thead tr th {\n",
       "        text-align: left;\n",
       "    }\n",
       "\n",
       "    .dataframe thead tr:last-of-type th {\n",
       "        text-align: right;\n",
       "    }\n",
       "</style>\n",
       "<table border=\"1\" class=\"dataframe\">\n",
       "  <thead>\n",
       "    <tr>\n",
       "      <th></th>\n",
       "      <th colspan=\"8\" halign=\"left\">dist_to_dec_funct</th>\n",
       "    </tr>\n",
       "    <tr>\n",
       "      <th></th>\n",
       "      <th>count</th>\n",
       "      <th>mean</th>\n",
       "      <th>std</th>\n",
       "      <th>min</th>\n",
       "      <th>25%</th>\n",
       "      <th>50%</th>\n",
       "      <th>75%</th>\n",
       "      <th>max</th>\n",
       "    </tr>\n",
       "    <tr>\n",
       "      <th>dimension</th>\n",
       "      <th></th>\n",
       "      <th></th>\n",
       "      <th></th>\n",
       "      <th></th>\n",
       "      <th></th>\n",
       "      <th></th>\n",
       "      <th></th>\n",
       "      <th></th>\n",
       "    </tr>\n",
       "  </thead>\n",
       "  <tbody>\n",
       "    <tr>\n",
       "      <th>144</th>\n",
       "      <td>18630.0</td>\n",
       "      <td>-3.006042</td>\n",
       "      <td>2.503690</td>\n",
       "      <td>-5.507489</td>\n",
       "      <td>-5.507489</td>\n",
       "      <td>-3.581898</td>\n",
       "      <td>-0.338280</td>\n",
       "      <td>1.040310</td>\n",
       "    </tr>\n",
       "    <tr>\n",
       "      <th>240</th>\n",
       "      <td>18630.0</td>\n",
       "      <td>-3.488220</td>\n",
       "      <td>2.564594</td>\n",
       "      <td>-5.507489</td>\n",
       "      <td>-5.507489</td>\n",
       "      <td>-5.257354</td>\n",
       "      <td>-0.942326</td>\n",
       "      <td>1.364775</td>\n",
       "    </tr>\n",
       "    <tr>\n",
       "      <th>360</th>\n",
       "      <td>18629.0</td>\n",
       "      <td>-3.951800</td>\n",
       "      <td>2.480560</td>\n",
       "      <td>-5.507489</td>\n",
       "      <td>-5.507489</td>\n",
       "      <td>-5.505116</td>\n",
       "      <td>-2.534756</td>\n",
       "      <td>1.644762</td>\n",
       "    </tr>\n",
       "    <tr>\n",
       "      <th>480</th>\n",
       "      <td>18629.0</td>\n",
       "      <td>-4.260586</td>\n",
       "      <td>2.279355</td>\n",
       "      <td>-5.507489</td>\n",
       "      <td>-5.507489</td>\n",
       "      <td>-5.507488</td>\n",
       "      <td>-4.221773</td>\n",
       "      <td>1.816107</td>\n",
       "    </tr>\n",
       "    <tr>\n",
       "      <th>720</th>\n",
       "      <td>18630.0</td>\n",
       "      <td>-4.740960</td>\n",
       "      <td>1.736887</td>\n",
       "      <td>-5.507489</td>\n",
       "      <td>-5.507489</td>\n",
       "      <td>-5.507489</td>\n",
       "      <td>-5.480272</td>\n",
       "      <td>1.598262</td>\n",
       "    </tr>\n",
       "    <tr>\n",
       "      <th>1080</th>\n",
       "      <td>18630.0</td>\n",
       "      <td>-5.236412</td>\n",
       "      <td>0.899734</td>\n",
       "      <td>-5.507489</td>\n",
       "      <td>-5.507489</td>\n",
       "      <td>-5.507489</td>\n",
       "      <td>-5.507489</td>\n",
       "      <td>0.523120</td>\n",
       "    </tr>\n",
       "  </tbody>\n",
       "</table>\n",
       "</div>"
      ],
      "text/plain": [
       "          dist_to_dec_funct                                                    \\\n",
       "                      count      mean       std       min       25%       50%   \n",
       "dimension                                                                       \n",
       "144                 18630.0 -3.006042  2.503690 -5.507489 -5.507489 -3.581898   \n",
       "240                 18630.0 -3.488220  2.564594 -5.507489 -5.507489 -5.257354   \n",
       "360                 18629.0 -3.951800  2.480560 -5.507489 -5.507489 -5.505116   \n",
       "480                 18629.0 -4.260586  2.279355 -5.507489 -5.507489 -5.507488   \n",
       "720                 18630.0 -4.740960  1.736887 -5.507489 -5.507489 -5.507489   \n",
       "1080                18630.0 -5.236412  0.899734 -5.507489 -5.507489 -5.507489   \n",
       "\n",
       "                               \n",
       "                75%       max  \n",
       "dimension                      \n",
       "144       -0.338280  1.040310  \n",
       "240       -0.942326  1.364775  \n",
       "360       -2.534756  1.644762  \n",
       "480       -4.221773  1.816107  \n",
       "720       -5.480272  1.598262  \n",
       "1080      -5.507489  0.523120  "
      ]
     },
     "metadata": {},
     "output_type": "display_data"
    }
   ],
   "source": [
    "# Zoom in in the mean distances of the attack set to the decision function by resolution. Percentiles, standard \n",
    "# deviation, min and max values are shown too.\n",
    "display(df_attacks[['dist_to_dec_funct', 'dimension']].groupby('dimension').describe())"
   ]
  },
  {
   "cell_type": "code",
   "execution_count": 17,
   "metadata": {
    "scrolled": false
   },
   "outputs": [
    {
     "data": {
      "text/html": [
       "<div>\n",
       "<style scoped>\n",
       "    .dataframe tbody tr th:only-of-type {\n",
       "        vertical-align: middle;\n",
       "    }\n",
       "\n",
       "    .dataframe tbody tr th {\n",
       "        vertical-align: top;\n",
       "    }\n",
       "\n",
       "    .dataframe thead tr th {\n",
       "        text-align: left;\n",
       "    }\n",
       "\n",
       "    .dataframe thead tr:last-of-type th {\n",
       "        text-align: right;\n",
       "    }\n",
       "</style>\n",
       "<table border=\"1\" class=\"dataframe\">\n",
       "  <thead>\n",
       "    <tr>\n",
       "      <th></th>\n",
       "      <th colspan=\"8\" halign=\"left\">dist_to_dec_funct</th>\n",
       "    </tr>\n",
       "    <tr>\n",
       "      <th></th>\n",
       "      <th>count</th>\n",
       "      <th>mean</th>\n",
       "      <th>std</th>\n",
       "      <th>min</th>\n",
       "      <th>25%</th>\n",
       "      <th>50%</th>\n",
       "      <th>75%</th>\n",
       "      <th>max</th>\n",
       "    </tr>\n",
       "    <tr>\n",
       "      <th>attack_</th>\n",
       "      <th></th>\n",
       "      <th></th>\n",
       "      <th></th>\n",
       "      <th></th>\n",
       "      <th></th>\n",
       "      <th></th>\n",
       "      <th></th>\n",
       "      <th></th>\n",
       "    </tr>\n",
       "  </thead>\n",
       "  <tbody>\n",
       "    <tr>\n",
       "      <th>black_and_white</th>\n",
       "      <td>22518.0</td>\n",
       "      <td>-5.308967</td>\n",
       "      <td>0.989769</td>\n",
       "      <td>-5.507489</td>\n",
       "      <td>-5.507489</td>\n",
       "      <td>-5.507489</td>\n",
       "      <td>-5.507489</td>\n",
       "      <td>1.488898</td>\n",
       "    </tr>\n",
       "    <tr>\n",
       "      <th>flip_vertical</th>\n",
       "      <td>810.0</td>\n",
       "      <td>-5.507484</td>\n",
       "      <td>0.000112</td>\n",
       "      <td>-5.507489</td>\n",
       "      <td>-5.507489</td>\n",
       "      <td>-5.507489</td>\n",
       "      <td>-5.507489</td>\n",
       "      <td>-5.504521</td>\n",
       "    </tr>\n",
       "    <tr>\n",
       "      <th>vignette</th>\n",
       "      <td>22518.0</td>\n",
       "      <td>-5.499352</td>\n",
       "      <td>0.197645</td>\n",
       "      <td>-5.507489</td>\n",
       "      <td>-5.507489</td>\n",
       "      <td>-5.507489</td>\n",
       "      <td>-5.507489</td>\n",
       "      <td>1.352268</td>\n",
       "    </tr>\n",
       "    <tr>\n",
       "      <th>watermark</th>\n",
       "      <td>22517.0</td>\n",
       "      <td>-3.691618</td>\n",
       "      <td>2.328051</td>\n",
       "      <td>-5.507489</td>\n",
       "      <td>-5.507489</td>\n",
       "      <td>-5.303898</td>\n",
       "      <td>-1.536380</td>\n",
       "      <td>1.757640</td>\n",
       "    </tr>\n",
       "    <tr>\n",
       "      <th>watermark-345x114</th>\n",
       "      <td>21708.0</td>\n",
       "      <td>-1.209895</td>\n",
       "      <td>2.386246</td>\n",
       "      <td>-5.507489</td>\n",
       "      <td>-3.298119</td>\n",
       "      <td>-0.159237</td>\n",
       "      <td>0.781334</td>\n",
       "      <td>1.816107</td>\n",
       "    </tr>\n",
       "    <tr>\n",
       "      <th>watermark-856x856</th>\n",
       "      <td>21707.0</td>\n",
       "      <td>-4.727679</td>\n",
       "      <td>1.408149</td>\n",
       "      <td>-5.507489</td>\n",
       "      <td>-5.507489</td>\n",
       "      <td>-5.503910</td>\n",
       "      <td>-4.638264</td>\n",
       "      <td>1.364005</td>\n",
       "    </tr>\n",
       "  </tbody>\n",
       "</table>\n",
       "</div>"
      ],
      "text/plain": [
       "                  dist_to_dec_funct                                          \\\n",
       "                              count      mean       std       min       25%   \n",
       "attack_                                                                       \n",
       "black_and_white             22518.0 -5.308967  0.989769 -5.507489 -5.507489   \n",
       "flip_vertical                 810.0 -5.507484  0.000112 -5.507489 -5.507489   \n",
       "vignette                    22518.0 -5.499352  0.197645 -5.507489 -5.507489   \n",
       "watermark                   22517.0 -3.691618  2.328051 -5.507489 -5.507489   \n",
       "watermark-345x114           21708.0 -1.209895  2.386246 -5.507489 -3.298119   \n",
       "watermark-856x856           21707.0 -4.727679  1.408149 -5.507489 -5.507489   \n",
       "\n",
       "                                                 \n",
       "                        50%       75%       max  \n",
       "attack_                                          \n",
       "black_and_white   -5.507489 -5.507489  1.488898  \n",
       "flip_vertical     -5.507489 -5.507489 -5.504521  \n",
       "vignette          -5.507489 -5.507489  1.352268  \n",
       "watermark         -5.303898 -1.536380  1.757640  \n",
       "watermark-345x114 -0.159237  0.781334  1.816107  \n",
       "watermark-856x856 -5.503910 -4.638264  1.364005  "
      ]
     },
     "metadata": {},
     "output_type": "display_data"
    }
   ],
   "source": [
    "# Zoom in in the mean distances of the test set to the decision function by attack type. Percentiles, standard \n",
    "# deviation, min and max values are shown too.\n",
    "df_attacks['attack_'] = df_attacks['attack'].apply(lambda x: x[x.find('p') + 2:])\n",
    "display(df_attacks[['dist_to_dec_funct', 'attack_']].groupby(['attack_']).describe())"
   ]
  },
  {
   "cell_type": "code",
   "execution_count": 18,
   "metadata": {},
   "outputs": [],
   "source": [
    "resolutions = sorted(df_attacks['dimension'].unique())"
   ]
  },
  {
   "cell_type": "code",
   "execution_count": 19,
   "metadata": {},
   "outputs": [],
   "source": [
    "pp = pprint.PrettyPrinter()"
   ]
  },
  {
   "cell_type": "code",
   "execution_count": 20,
   "metadata": {
    "scrolled": true
   },
   "outputs": [
    {
     "name": "stdout",
     "output_type": "stream",
     "text": [
      "{144: 0.968,\n",
      " 240: 0.9906790945406125,\n",
      " 360: 0.9893475366178429,\n",
      " 480: 0.9946737683089214,\n",
      " 720: 0.9946737683089214,\n",
      " 1080: 0.9573333333333334}\n"
     ]
    }
   ],
   "source": [
    "# Accuracy of the test set by resolution\n",
    "results = {}\n",
    "for res in resolutions:\n",
    "    selection = df_test[df_test['dimension'] == res]\n",
    "    count = sum(selection['prediction'] == 1)\n",
    "    results[res] = count/len(selection)\n",
    "pp.pprint(results)"
   ]
  },
  {
   "cell_type": "code",
   "execution_count": 21,
   "metadata": {},
   "outputs": [
    {
     "name": "stdout",
     "output_type": "stream",
     "text": [
      "{144: 0.7895866881374127,\n",
      " 240: 0.8008588298443371,\n",
      " 360: 0.8459391271673198,\n",
      " 480: 0.8863062966342798,\n",
      " 720: 0.9447128287707998,\n",
      " 1080: 0.9945786366076221}\n"
     ]
    }
   ],
   "source": [
    "# Accuracy on the attack set by resolution\n",
    "results = {}\n",
    "for res in resolutions:\n",
    "    selection = df_attacks[df_attacks['dimension'] == res]\n",
    "    count = sum(selection['prediction'] == -1)\n",
    "    results[res] = count/len(selection)\n",
    "pp.pprint(results)"
   ]
  },
  {
   "cell_type": "code",
   "execution_count": 22,
   "metadata": {},
   "outputs": [],
   "source": [
    "attacks = df_attacks['attack_'].unique()"
   ]
  },
  {
   "cell_type": "code",
   "execution_count": 23,
   "metadata": {
    "scrolled": true
   },
   "outputs": [
    {
     "name": "stdout",
     "output_type": "stream",
     "text": [
      "{'black_and_white': 0.9810373923083755,\n",
      " 'flip_vertical': 1.0,\n",
      " 'vignette': 0.999333866240341,\n",
      " 'watermark': 0.8812896922325354,\n",
      " 'watermark-345x114': 0.5208218168417174,\n",
      " 'watermark-856x856': 0.9893122034366794}\n"
     ]
    }
   ],
   "source": [
    "# Accuracy on the attack set by attack type\n",
    "results = {}\n",
    "for attk in attacks:\n",
    "    selection = df_attacks[df_attacks['attack_'] == attk]\n",
    "    count = sum(selection['prediction'] == -1)\n",
    "    results[attk] = count/len(selection)\n",
    "pp.pprint(results)"
   ]
  },
  {
   "cell_type": "code",
   "execution_count": 24,
   "metadata": {},
   "outputs": [
    {
     "name": "stdout",
     "output_type": "stream",
     "text": [
      "{144: {'black_and_white': 0.9661604050093259,\n",
      "       'flip_vertical': 1.0,\n",
      "       'vignette': 0.9992006394884093,\n",
      "       'watermark': 0.7503330668798295,\n",
      "       'watermark-345x114': 0.2269209508015478,\n",
      "       'watermark-856x856': 0.9845218352681039},\n",
      " 240: {'black_and_white': 0.9757527311484147,\n",
      "       'flip_vertical': 1.0,\n",
      "       'vignette': 0.9992006394884093,\n",
      "       'watermark': 0.7679189981348254,\n",
      "       'watermark-345x114': 0.2517965726920951,\n",
      "       'watermark-856x856': 0.9894969596462134},\n",
      " 360: {'black_and_white': 0.980548894217959,\n",
      "       'flip_vertical': 1.0,\n",
      "       'vignette': 0.9992006394884093,\n",
      "       'watermark': 0.8723687716493472,\n",
      "       'watermark-345x114': 0.37092316196793806,\n",
      "       'watermark-856x856': 0.989217583632845},\n",
      " 480: {'black_and_white': 0.9845456967759126,\n",
      "       'flip_vertical': 1.0,\n",
      "       'vignette': 0.9992006394884093,\n",
      "       'watermark': 0.9224413646055437,\n",
      "       'watermark-345x114': 0.5226644555002764,\n",
      "       'watermark-856x856': 0.9892205638474295},\n",
      " 720: {'black_and_white': 0.988009592326139,\n",
      "       'flip_vertical': 1.0,\n",
      "       'vignette': 0.9994670929922729,\n",
      "       'watermark': 0.9746869171329603,\n",
      "       'watermark-345x114': 0.7653399668325042,\n",
      "       'watermark-856x856': 0.9892205638474295},\n",
      " 1080: {'black_and_white': 0.991207034372502,\n",
      "        'flip_vertical': 1.0,\n",
      "        'vignette': 0.9997335464961364,\n",
      "        'watermark': 1.0,\n",
      "        'watermark-345x114': 0.9872857932559425,\n",
      "        'watermark-856x856': 0.9941956882255389}}\n"
     ]
    }
   ],
   "source": [
    "\n",
    "# Accuracy on the attack set by attack type\n",
    "results = {}\n",
    "for res in resolutions:\n",
    "    results[res] = {}\n",
    "    for attk in attacks:\n",
    "        selection = df_attacks[(df_attacks['attack_'] == attk) & (df_attacks['dimension'] == res)]\n",
    "        count = sum(selection['prediction'] == -1)\n",
    "        results[res][attk] = count/len(selection)\n",
    "pp.pprint(results)"
   ]
  }
 ],
 "metadata": {
  "kernelspec": {
   "display_name": "Python 3",
   "language": "python",
   "name": "python3"
  },
  "language_info": {
   "codemirror_mode": {
    "name": "ipython",
    "version": 3
   },
   "file_extension": ".py",
   "mimetype": "text/x-python",
   "name": "python",
   "nbconvert_exporter": "python",
   "pygments_lexer": "ipython3",
   "version": "3.6.7"
  }
 },
 "nbformat": 4,
 "nbformat_minor": 2
}
