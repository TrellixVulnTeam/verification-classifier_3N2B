{
 "cells": [
  {
   "cell_type": "markdown",
   "metadata": {},
   "source": [
    "# Import Libraries"
   ]
  },
  {
   "cell_type": "code",
   "execution_count": 1,
   "metadata": {},
   "outputs": [
    {
     "name": "stderr",
     "output_type": "stream",
     "text": [
      "Using TensorFlow backend.\n"
     ]
    }
   ],
   "source": [
    "import sys\n",
    "import pandas as pd\n",
    "import numpy as np\n",
    "\n",
    "from sklearn import preprocessing\n",
    "from sklearn.decomposition import PCA\n",
    "from sklearn import random_projection\n",
    "from sklearn.preprocessing import StandardScaler\n",
    "from sklearn.metrics import fbeta_score, roc_curve, auc\n",
    "from sklearn import svm\n",
    "\n",
    "import pprint\n",
    "\n",
    "sys.path.insert(0, '../../scripts/modeling_toolbox/')\n",
    "# load the autoreload extension\n",
    "%load_ext autoreload\n",
    "# Set extension to reload modules every time before executing code\n",
    "%autoreload 2\n",
    "\n",
    "from metric_processor import MetricProcessor\n",
    "import evaluation\n",
    "\n",
    "%matplotlib inline"
   ]
  },
  {
   "cell_type": "markdown",
   "metadata": {},
   "source": [
    "# Data preparation"
   ]
  },
  {
   "cell_type": "code",
   "execution_count": 2,
   "metadata": {},
   "outputs": [
    {
     "name": "stdout",
     "output_type": "stream",
     "text": [
      "dimension\n",
      "size\n",
      "temporal_dct-mean\n",
      "temporal_gaussian-mean\n",
      "temporal_gaussian_difference-mean\n",
      "temporal_gaussian_difference_threshold-mean\n"
     ]
    },
    {
     "data": {
      "text/plain": [
       "(201040, 9)"
      ]
     },
     "execution_count": 2,
     "metadata": {},
     "output_type": "execute_result"
    }
   ],
   "source": [
    "features = ['dimension',\n",
    "            'size',\n",
    "            'temporal_dct-mean', \n",
    "            'temporal_gaussian-mean', \n",
    "            'temporal_gaussian_difference-mean',\n",
    "            'temporal_gaussian_difference_threshold-mean'\n",
    "           ]\n",
    "\n",
    "\n",
    "path = '../../machine_learning/cloud_functions/data-large.csv'\n",
    "\n",
    "metric_processor = MetricProcessor(features,'UL', path, reduced=False, bins=0)\n",
    "df = metric_processor.read_and_process_data()\n",
    "df.shape"
   ]
  },
  {
   "cell_type": "code",
   "execution_count": 3,
   "metadata": {},
   "outputs": [
    {
     "data": {
      "text/html": [
       "<div>\n",
       "<style scoped>\n",
       "    .dataframe tbody tr th:only-of-type {\n",
       "        vertical-align: middle;\n",
       "    }\n",
       "\n",
       "    .dataframe tbody tr th {\n",
       "        vertical-align: top;\n",
       "    }\n",
       "\n",
       "    .dataframe thead th {\n",
       "        text-align: right;\n",
       "    }\n",
       "</style>\n",
       "<table border=\"1\" class=\"dataframe\">\n",
       "  <thead>\n",
       "    <tr style=\"text-align: right;\">\n",
       "      <th></th>\n",
       "      <th>dimension</th>\n",
       "      <th>size</th>\n",
       "      <th>temporal_dct-mean</th>\n",
       "      <th>temporal_gaussian-mean</th>\n",
       "      <th>temporal_gaussian_difference-mean</th>\n",
       "      <th>temporal_gaussian_difference_threshold-mean</th>\n",
       "      <th>attack_ID</th>\n",
       "      <th>title</th>\n",
       "      <th>attack</th>\n",
       "    </tr>\n",
       "  </thead>\n",
       "  <tbody>\n",
       "    <tr>\n",
       "      <th>0</th>\n",
       "      <td>1080</td>\n",
       "      <td>5841311</td>\n",
       "      <td>0.000000</td>\n",
       "      <td>0.000000</td>\n",
       "      <td>0.000000e+00</td>\n",
       "      <td>0.000000</td>\n",
       "      <td>1</td>\n",
       "      <td>/tmp/1080p/-3MYFnEaYu4.mp4</td>\n",
       "      <td>1080p</td>\n",
       "    </tr>\n",
       "    <tr>\n",
       "      <th>1</th>\n",
       "      <td>1080</td>\n",
       "      <td>5264133</td>\n",
       "      <td>11633.920898</td>\n",
       "      <td>1.402160</td>\n",
       "      <td>8.391589e+06</td>\n",
       "      <td>9367.222222</td>\n",
       "      <td>10</td>\n",
       "      <td>/tmp/1080p/-3MYFnEaYu4.mp4</td>\n",
       "      <td>1080p_black_and_white</td>\n",
       "    </tr>\n",
       "    <tr>\n",
       "      <th>2</th>\n",
       "      <td>1080</td>\n",
       "      <td>1194152</td>\n",
       "      <td>2241.402283</td>\n",
       "      <td>0.085664</td>\n",
       "      <td>3.293602e+06</td>\n",
       "      <td>0.000000</td>\n",
       "      <td>12</td>\n",
       "      <td>/tmp/1080p/-3MYFnEaYu4.mp4</td>\n",
       "      <td>1080p_low_bitrate_4</td>\n",
       "    </tr>\n",
       "    <tr>\n",
       "      <th>3</th>\n",
       "      <td>1080</td>\n",
       "      <td>599858</td>\n",
       "      <td>3447.552338</td>\n",
       "      <td>0.308670</td>\n",
       "      <td>6.842059e+06</td>\n",
       "      <td>5.333333</td>\n",
       "      <td>10</td>\n",
       "      <td>/tmp/1080p/-3MYFnEaYu4.mp4</td>\n",
       "      <td>1080p_low_bitrate_8</td>\n",
       "    </tr>\n",
       "    <tr>\n",
       "      <th>4</th>\n",
       "      <td>1920</td>\n",
       "      <td>5978909</td>\n",
       "      <td>314221.152344</td>\n",
       "      <td>424.608446</td>\n",
       "      <td>3.242569e+08</td>\n",
       "      <td>168671.666667</td>\n",
       "      <td>10</td>\n",
       "      <td>/tmp/1080p/-3MYFnEaYu4.mp4</td>\n",
       "      <td>1080p_rotate_90_clockwise</td>\n",
       "    </tr>\n",
       "  </tbody>\n",
       "</table>\n",
       "</div>"
      ],
      "text/plain": [
       "   dimension     size  temporal_dct-mean  temporal_gaussian-mean  \\\n",
       "0       1080  5841311           0.000000                0.000000   \n",
       "1       1080  5264133       11633.920898                1.402160   \n",
       "2       1080  1194152        2241.402283                0.085664   \n",
       "3       1080   599858        3447.552338                0.308670   \n",
       "4       1920  5978909      314221.152344              424.608446   \n",
       "\n",
       "   temporal_gaussian_difference-mean  \\\n",
       "0                       0.000000e+00   \n",
       "1                       8.391589e+06   \n",
       "2                       3.293602e+06   \n",
       "3                       6.842059e+06   \n",
       "4                       3.242569e+08   \n",
       "\n",
       "   temporal_gaussian_difference_threshold-mean  attack_ID  \\\n",
       "0                                     0.000000          1   \n",
       "1                                  9367.222222         10   \n",
       "2                                     0.000000         12   \n",
       "3                                     5.333333         10   \n",
       "4                                168671.666667         10   \n",
       "\n",
       "                        title                     attack  \n",
       "0  /tmp/1080p/-3MYFnEaYu4.mp4                      1080p  \n",
       "1  /tmp/1080p/-3MYFnEaYu4.mp4      1080p_black_and_white  \n",
       "2  /tmp/1080p/-3MYFnEaYu4.mp4        1080p_low_bitrate_4  \n",
       "3  /tmp/1080p/-3MYFnEaYu4.mp4        1080p_low_bitrate_8  \n",
       "4  /tmp/1080p/-3MYFnEaYu4.mp4  1080p_rotate_90_clockwise  "
      ]
     },
     "metadata": {},
     "output_type": "display_data"
    }
   ],
   "source": [
    "display(df.head())"
   ]
  },
  {
   "cell_type": "code",
   "execution_count": 4,
   "metadata": {},
   "outputs": [],
   "source": [
    "# We remove the low bitrates since we are only focused on tampering attacks. The rotation attacks are also\n",
    "# removed since they will be detected by the pre-verifier just by checking output dimensions\n",
    "df = df[~(df['attack'].str.contains('low_bitrate')) & ~(df['attack'].str.contains('rotate'))]"
   ]
  },
  {
   "cell_type": "code",
   "execution_count": 5,
   "metadata": {},
   "outputs": [
    {
     "data": {
      "text/html": [
       "<div>\n",
       "<style scoped>\n",
       "    .dataframe tbody tr th:only-of-type {\n",
       "        vertical-align: middle;\n",
       "    }\n",
       "\n",
       "    .dataframe tbody tr th {\n",
       "        vertical-align: top;\n",
       "    }\n",
       "\n",
       "    .dataframe thead th {\n",
       "        text-align: right;\n",
       "    }\n",
       "</style>\n",
       "<table border=\"1\" class=\"dataframe\">\n",
       "  <thead>\n",
       "    <tr style=\"text-align: right;\">\n",
       "      <th></th>\n",
       "      <th>dimension</th>\n",
       "      <th>size</th>\n",
       "      <th>temporal_dct-mean</th>\n",
       "      <th>temporal_gaussian-mean</th>\n",
       "      <th>temporal_gaussian_difference-mean</th>\n",
       "      <th>temporal_gaussian_difference_threshold-mean</th>\n",
       "      <th>attack_ID</th>\n",
       "      <th>title</th>\n",
       "      <th>attack</th>\n",
       "    </tr>\n",
       "  </thead>\n",
       "  <tbody>\n",
       "    <tr>\n",
       "      <th>0</th>\n",
       "      <td>1080</td>\n",
       "      <td>5841311</td>\n",
       "      <td>0.000000</td>\n",
       "      <td>0.000000</td>\n",
       "      <td>0.000000e+00</td>\n",
       "      <td>0.000000</td>\n",
       "      <td>1</td>\n",
       "      <td>/tmp/1080p/-3MYFnEaYu4.mp4</td>\n",
       "      <td>1080p</td>\n",
       "    </tr>\n",
       "    <tr>\n",
       "      <th>1</th>\n",
       "      <td>1080</td>\n",
       "      <td>5264133</td>\n",
       "      <td>11633.920898</td>\n",
       "      <td>1.402160</td>\n",
       "      <td>8.391589e+06</td>\n",
       "      <td>9367.222222</td>\n",
       "      <td>10</td>\n",
       "      <td>/tmp/1080p/-3MYFnEaYu4.mp4</td>\n",
       "      <td>1080p_black_and_white</td>\n",
       "    </tr>\n",
       "    <tr>\n",
       "      <th>5</th>\n",
       "      <td>1080</td>\n",
       "      <td>5526314</td>\n",
       "      <td>51759.428101</td>\n",
       "      <td>11.632621</td>\n",
       "      <td>3.717539e+07</td>\n",
       "      <td>81018.888889</td>\n",
       "      <td>10</td>\n",
       "      <td>/tmp/1080p/-3MYFnEaYu4.mp4</td>\n",
       "      <td>1080p_vignette</td>\n",
       "    </tr>\n",
       "    <tr>\n",
       "      <th>6</th>\n",
       "      <td>1080</td>\n",
       "      <td>4815850</td>\n",
       "      <td>3380.053368</td>\n",
       "      <td>1.571478</td>\n",
       "      <td>3.589129e+06</td>\n",
       "      <td>7434.333333</td>\n",
       "      <td>11</td>\n",
       "      <td>/tmp/1080p/-3MYFnEaYu4.mp4</td>\n",
       "      <td>1080p_watermark</td>\n",
       "    </tr>\n",
       "    <tr>\n",
       "      <th>7</th>\n",
       "      <td>1080</td>\n",
       "      <td>4828433</td>\n",
       "      <td>1580.337811</td>\n",
       "      <td>0.546626</td>\n",
       "      <td>1.679861e+06</td>\n",
       "      <td>3206.777778</td>\n",
       "      <td>11</td>\n",
       "      <td>/tmp/1080p/-3MYFnEaYu4.mp4</td>\n",
       "      <td>1080p_watermark-345x114</td>\n",
       "    </tr>\n",
       "  </tbody>\n",
       "</table>\n",
       "</div>"
      ],
      "text/plain": [
       "   dimension     size  temporal_dct-mean  temporal_gaussian-mean  \\\n",
       "0       1080  5841311           0.000000                0.000000   \n",
       "1       1080  5264133       11633.920898                1.402160   \n",
       "5       1080  5526314       51759.428101               11.632621   \n",
       "6       1080  4815850        3380.053368                1.571478   \n",
       "7       1080  4828433        1580.337811                0.546626   \n",
       "\n",
       "   temporal_gaussian_difference-mean  \\\n",
       "0                       0.000000e+00   \n",
       "1                       8.391589e+06   \n",
       "5                       3.717539e+07   \n",
       "6                       3.589129e+06   \n",
       "7                       1.679861e+06   \n",
       "\n",
       "   temporal_gaussian_difference_threshold-mean  attack_ID  \\\n",
       "0                                     0.000000          1   \n",
       "1                                  9367.222222         10   \n",
       "5                                 81018.888889         10   \n",
       "6                                  7434.333333         11   \n",
       "7                                  3206.777778         11   \n",
       "\n",
       "                        title                   attack  \n",
       "0  /tmp/1080p/-3MYFnEaYu4.mp4                    1080p  \n",
       "1  /tmp/1080p/-3MYFnEaYu4.mp4    1080p_black_and_white  \n",
       "5  /tmp/1080p/-3MYFnEaYu4.mp4           1080p_vignette  \n",
       "6  /tmp/1080p/-3MYFnEaYu4.mp4          1080p_watermark  \n",
       "7  /tmp/1080p/-3MYFnEaYu4.mp4  1080p_watermark-345x114  "
      ]
     },
     "execution_count": 5,
     "metadata": {},
     "output_type": "execute_result"
    }
   ],
   "source": [
    "df.head()"
   ]
  },
  {
   "cell_type": "code",
   "execution_count": 6,
   "metadata": {},
   "outputs": [
    {
     "name": "stdout",
     "output_type": "stream",
     "text": [
      "Shape of train: (18014, 6)\n",
      "Shape of test: (4504, 6)\n",
      "Shape of attacks: (111778, 6)\n"
     ]
    }
   ],
   "source": [
    "(X_train, X_test, X_attacks), (df_train, df_test, df_attacks) = metric_processor.split_test_and_train(df)\n",
    "\n",
    "print('Shape of train: {}'.format(X_train.shape))\n",
    "print('Shape of test: {}'.format(X_test.shape))\n",
    "print('Shape of attacks: {}'.format(X_attacks.shape))"
   ]
  },
  {
   "cell_type": "markdown",
   "metadata": {},
   "source": [
    "The train and test are **only** composed by legit assets"
   ]
  },
  {
   "cell_type": "code",
   "execution_count": 7,
   "metadata": {},
   "outputs": [],
   "source": [
    "# Scaling the data\n",
    "ss = StandardScaler()\n",
    "x_train = ss.fit_transform(X_train)\n",
    "x_test = ss.transform(X_test)\n",
    "x_attacks = ss.transform(X_attacks)"
   ]
  },
  {
   "cell_type": "markdown",
   "metadata": {},
   "source": [
    "# One Class SVM"
   ]
  },
  {
   "cell_type": "code",
   "execution_count": 8,
   "metadata": {},
   "outputs": [
    {
     "data": {
      "text/plain": [
       "OneClassSVM(cache_size=5000, coef0=0.0, degree=3, gamma='auto', kernel='rbf',\n",
       "      max_iter=-1, nu=0.01, random_state=None, shrinking=True, tol=0.001,\n",
       "      verbose=False)"
      ]
     },
     "execution_count": 8,
     "metadata": {},
     "output_type": "execute_result"
    }
   ],
   "source": [
    "# Train the model\n",
    "OCSVM = svm.OneClassSVM(kernel='rbf',gamma='auto', nu=0.01, cache_size=5000)\n",
    "OCSVM.fit(x_train)"
   ]
  },
  {
   "cell_type": "code",
   "execution_count": 9,
   "metadata": {},
   "outputs": [],
   "source": [
    "fb, area, tnr, tpr_train, tpr_test = evaluation.unsupervised_evaluation(OCSVM, x_train, x_test, x_attacks)"
   ]
  },
  {
   "cell_type": "code",
   "execution_count": 10,
   "metadata": {},
   "outputs": [
    {
     "name": "stdout",
     "output_type": "stream",
     "text": [
      "TNR: 0.8770151550394532\n",
      "TPR_test: 0.9844582593250444\n",
      "TPR_train: 0.9859553680470745\n",
      "\n",
      "F20: 0.9770593274685251\n",
      "AUC: 0.9307367071822488\n"
     ]
    }
   ],
   "source": [
    "# Show global results of classification\n",
    "print('TNR: {}\\nTPR_test: {}\\nTPR_train: {}\\n'.format(tnr, tpr_test, tpr_train))\n",
    "print('F20: {}\\nAUC: {}'.format(fb, area))"
   ]
  },
  {
   "cell_type": "code",
   "execution_count": 11,
   "metadata": {},
   "outputs": [
    {
     "name": "stdout",
     "output_type": "stream",
     "text": [
      "Mean score values:\n",
      "-Train: 0.6965852009781303\n",
      "-Test: 0.686450436003615\n",
      "-Attacks: -4.113957529024418\n"
     ]
    }
   ],
   "source": [
    "# Show mean distances to the decision function. A negative distance means that the data is classified as\n",
    "# an attack\n",
    "train_scores = OCSVM.decision_function(x_train)\n",
    "test_scores = OCSVM.decision_function(x_test)\n",
    "attack_scores = OCSVM.decision_function(x_attacks)\n",
    "\n",
    "print('Mean score values:\\n-Train: {}\\n-Test: {}\\n-Attacks: {}'.format(np.mean(train_scores),\n",
    "                                                                       np.mean(test_scores),\n",
    "                                                                       np.mean(attack_scores)))"
   ]
  },
  {
   "cell_type": "code",
   "execution_count": 12,
   "metadata": {},
   "outputs": [],
   "source": [
    "train_preds = OCSVM.predict(x_train)\n",
    "test_preds = OCSVM.predict(x_test)\n",
    "attack_preds = OCSVM.predict(x_attacks)"
   ]
  },
  {
   "cell_type": "code",
   "execution_count": 13,
   "metadata": {},
   "outputs": [],
   "source": [
    "df_train['dist_to_dec_funct'] = train_scores\n",
    "df_test['dist_to_dec_funct'] = test_scores\n",
    "df_attacks['dist_to_dec_funct'] = attack_scores"
   ]
  },
  {
   "cell_type": "code",
   "execution_count": 14,
   "metadata": {},
   "outputs": [],
   "source": [
    "df_train['prediction'] = train_preds\n",
    "df_test['prediction'] = test_preds\n",
    "df_attacks['prediction'] = attack_preds"
   ]
  },
  {
   "cell_type": "markdown",
   "metadata": {},
   "source": [
    "# Report"
   ]
  },
  {
   "cell_type": "code",
   "execution_count": 15,
   "metadata": {},
   "outputs": [
    {
     "data": {
      "text/html": [
       "<div>\n",
       "<style scoped>\n",
       "    .dataframe tbody tr th:only-of-type {\n",
       "        vertical-align: middle;\n",
       "    }\n",
       "\n",
       "    .dataframe tbody tr th {\n",
       "        vertical-align: top;\n",
       "    }\n",
       "\n",
       "    .dataframe thead tr th {\n",
       "        text-align: left;\n",
       "    }\n",
       "\n",
       "    .dataframe thead tr:last-of-type th {\n",
       "        text-align: right;\n",
       "    }\n",
       "</style>\n",
       "<table border=\"1\" class=\"dataframe\">\n",
       "  <thead>\n",
       "    <tr>\n",
       "      <th></th>\n",
       "      <th colspan=\"8\" halign=\"left\">dist_to_dec_funct</th>\n",
       "    </tr>\n",
       "    <tr>\n",
       "      <th></th>\n",
       "      <th>count</th>\n",
       "      <th>mean</th>\n",
       "      <th>std</th>\n",
       "      <th>min</th>\n",
       "      <th>25%</th>\n",
       "      <th>50%</th>\n",
       "      <th>75%</th>\n",
       "      <th>max</th>\n",
       "    </tr>\n",
       "    <tr>\n",
       "      <th>dimension</th>\n",
       "      <th></th>\n",
       "      <th></th>\n",
       "      <th></th>\n",
       "      <th></th>\n",
       "      <th></th>\n",
       "      <th></th>\n",
       "      <th></th>\n",
       "      <th></th>\n",
       "    </tr>\n",
       "  </thead>\n",
       "  <tbody>\n",
       "    <tr>\n",
       "      <th>144</th>\n",
       "      <td>750.0</td>\n",
       "      <td>0.385148</td>\n",
       "      <td>0.527022</td>\n",
       "      <td>-5.478552</td>\n",
       "      <td>0.299384</td>\n",
       "      <td>0.423409</td>\n",
       "      <td>0.561527</td>\n",
       "      <td>0.964925</td>\n",
       "    </tr>\n",
       "    <tr>\n",
       "      <th>240</th>\n",
       "      <td>751.0</td>\n",
       "      <td>0.645752</td>\n",
       "      <td>0.409859</td>\n",
       "      <td>-5.028260</td>\n",
       "      <td>0.580821</td>\n",
       "      <td>0.671429</td>\n",
       "      <td>0.758521</td>\n",
       "      <td>1.187137</td>\n",
       "    </tr>\n",
       "    <tr>\n",
       "      <th>360</th>\n",
       "      <td>751.0</td>\n",
       "      <td>0.857473</td>\n",
       "      <td>0.370588</td>\n",
       "      <td>-5.395615</td>\n",
       "      <td>0.736928</td>\n",
       "      <td>0.914088</td>\n",
       "      <td>1.031171</td>\n",
       "      <td>1.466897</td>\n",
       "    </tr>\n",
       "    <tr>\n",
       "      <th>480</th>\n",
       "      <td>751.0</td>\n",
       "      <td>1.154538</td>\n",
       "      <td>0.361420</td>\n",
       "      <td>-5.118713</td>\n",
       "      <td>1.019623</td>\n",
       "      <td>1.233863</td>\n",
       "      <td>1.353688</td>\n",
       "      <td>1.659532</td>\n",
       "    </tr>\n",
       "    <tr>\n",
       "      <th>720</th>\n",
       "      <td>751.0</td>\n",
       "      <td>0.964350</td>\n",
       "      <td>0.435477</td>\n",
       "      <td>-5.440912</td>\n",
       "      <td>0.729421</td>\n",
       "      <td>1.045379</td>\n",
       "      <td>1.262629</td>\n",
       "      <td>1.602860</td>\n",
       "    </tr>\n",
       "    <tr>\n",
       "      <th>1080</th>\n",
       "      <td>750.0</td>\n",
       "      <td>0.110274</td>\n",
       "      <td>0.114431</td>\n",
       "      <td>-0.354699</td>\n",
       "      <td>0.009396</td>\n",
       "      <td>0.060812</td>\n",
       "      <td>0.208075</td>\n",
       "      <td>0.327893</td>\n",
       "    </tr>\n",
       "  </tbody>\n",
       "</table>\n",
       "</div>"
      ],
      "text/plain": [
       "          dist_to_dec_funct                                                    \\\n",
       "                      count      mean       std       min       25%       50%   \n",
       "dimension                                                                       \n",
       "144                   750.0  0.385148  0.527022 -5.478552  0.299384  0.423409   \n",
       "240                   751.0  0.645752  0.409859 -5.028260  0.580821  0.671429   \n",
       "360                   751.0  0.857473  0.370588 -5.395615  0.736928  0.914088   \n",
       "480                   751.0  1.154538  0.361420 -5.118713  1.019623  1.233863   \n",
       "720                   751.0  0.964350  0.435477 -5.440912  0.729421  1.045379   \n",
       "1080                  750.0  0.110274  0.114431 -0.354699  0.009396  0.060812   \n",
       "\n",
       "                               \n",
       "                75%       max  \n",
       "dimension                      \n",
       "144        0.561527  0.964925  \n",
       "240        0.758521  1.187137  \n",
       "360        1.031171  1.466897  \n",
       "480        1.353688  1.659532  \n",
       "720        1.262629  1.602860  \n",
       "1080       0.208075  0.327893  "
      ]
     },
     "metadata": {},
     "output_type": "display_data"
    }
   ],
   "source": [
    "# Zoom in in the mean distances of the test set to the decision function by resolution. Percentiles, standard \n",
    "# deviation, min and max values are shown too.\n",
    "display(df_test[['dist_to_dec_funct', 'dimension']].groupby('dimension').describe())"
   ]
  },
  {
   "cell_type": "code",
   "execution_count": 16,
   "metadata": {
    "scrolled": true
   },
   "outputs": [
    {
     "data": {
      "text/html": [
       "<div>\n",
       "<style scoped>\n",
       "    .dataframe tbody tr th:only-of-type {\n",
       "        vertical-align: middle;\n",
       "    }\n",
       "\n",
       "    .dataframe tbody tr th {\n",
       "        vertical-align: top;\n",
       "    }\n",
       "\n",
       "    .dataframe thead tr th {\n",
       "        text-align: left;\n",
       "    }\n",
       "\n",
       "    .dataframe thead tr:last-of-type th {\n",
       "        text-align: right;\n",
       "    }\n",
       "</style>\n",
       "<table border=\"1\" class=\"dataframe\">\n",
       "  <thead>\n",
       "    <tr>\n",
       "      <th></th>\n",
       "      <th colspan=\"8\" halign=\"left\">dist_to_dec_funct</th>\n",
       "    </tr>\n",
       "    <tr>\n",
       "      <th></th>\n",
       "      <th>count</th>\n",
       "      <th>mean</th>\n",
       "      <th>std</th>\n",
       "      <th>min</th>\n",
       "      <th>25%</th>\n",
       "      <th>50%</th>\n",
       "      <th>75%</th>\n",
       "      <th>max</th>\n",
       "    </tr>\n",
       "    <tr>\n",
       "      <th>dimension</th>\n",
       "      <th></th>\n",
       "      <th></th>\n",
       "      <th></th>\n",
       "      <th></th>\n",
       "      <th></th>\n",
       "      <th></th>\n",
       "      <th></th>\n",
       "      <th></th>\n",
       "    </tr>\n",
       "  </thead>\n",
       "  <tbody>\n",
       "    <tr>\n",
       "      <th>144</th>\n",
       "      <td>18630.0</td>\n",
       "      <td>-3.005954</td>\n",
       "      <td>2.503763</td>\n",
       "      <td>-5.507435</td>\n",
       "      <td>-5.507435</td>\n",
       "      <td>-3.581987</td>\n",
       "      <td>-0.338547</td>\n",
       "      <td>1.040526</td>\n",
       "    </tr>\n",
       "    <tr>\n",
       "      <th>240</th>\n",
       "      <td>18630.0</td>\n",
       "      <td>-3.488160</td>\n",
       "      <td>2.564628</td>\n",
       "      <td>-5.507435</td>\n",
       "      <td>-5.507435</td>\n",
       "      <td>-5.257299</td>\n",
       "      <td>-0.942295</td>\n",
       "      <td>1.364772</td>\n",
       "    </tr>\n",
       "    <tr>\n",
       "      <th>360</th>\n",
       "      <td>18629.0</td>\n",
       "      <td>-3.951768</td>\n",
       "      <td>2.480545</td>\n",
       "      <td>-5.507435</td>\n",
       "      <td>-5.507435</td>\n",
       "      <td>-5.505062</td>\n",
       "      <td>-2.534613</td>\n",
       "      <td>1.644551</td>\n",
       "    </tr>\n",
       "    <tr>\n",
       "      <th>480</th>\n",
       "      <td>18629.0</td>\n",
       "      <td>-4.260564</td>\n",
       "      <td>2.279305</td>\n",
       "      <td>-5.507435</td>\n",
       "      <td>-5.507435</td>\n",
       "      <td>-5.507434</td>\n",
       "      <td>-4.221907</td>\n",
       "      <td>1.815469</td>\n",
       "    </tr>\n",
       "    <tr>\n",
       "      <th>720</th>\n",
       "      <td>18630.0</td>\n",
       "      <td>-4.740928</td>\n",
       "      <td>1.736823</td>\n",
       "      <td>-5.507435</td>\n",
       "      <td>-5.507435</td>\n",
       "      <td>-5.507435</td>\n",
       "      <td>-5.480217</td>\n",
       "      <td>1.596314</td>\n",
       "    </tr>\n",
       "    <tr>\n",
       "      <th>1080</th>\n",
       "      <td>18630.0</td>\n",
       "      <td>-5.236371</td>\n",
       "      <td>0.899641</td>\n",
       "      <td>-5.507435</td>\n",
       "      <td>-5.507435</td>\n",
       "      <td>-5.507435</td>\n",
       "      <td>-5.507435</td>\n",
       "      <td>0.520427</td>\n",
       "    </tr>\n",
       "  </tbody>\n",
       "</table>\n",
       "</div>"
      ],
      "text/plain": [
       "          dist_to_dec_funct                                                    \\\n",
       "                      count      mean       std       min       25%       50%   \n",
       "dimension                                                                       \n",
       "144                 18630.0 -3.005954  2.503763 -5.507435 -5.507435 -3.581987   \n",
       "240                 18630.0 -3.488160  2.564628 -5.507435 -5.507435 -5.257299   \n",
       "360                 18629.0 -3.951768  2.480545 -5.507435 -5.507435 -5.505062   \n",
       "480                 18629.0 -4.260564  2.279305 -5.507435 -5.507435 -5.507434   \n",
       "720                 18630.0 -4.740928  1.736823 -5.507435 -5.507435 -5.507435   \n",
       "1080                18630.0 -5.236371  0.899641 -5.507435 -5.507435 -5.507435   \n",
       "\n",
       "                               \n",
       "                75%       max  \n",
       "dimension                      \n",
       "144       -0.338547  1.040526  \n",
       "240       -0.942295  1.364772  \n",
       "360       -2.534613  1.644551  \n",
       "480       -4.221907  1.815469  \n",
       "720       -5.480217  1.596314  \n",
       "1080      -5.507435  0.520427  "
      ]
     },
     "metadata": {},
     "output_type": "display_data"
    }
   ],
   "source": [
    "# Zoom in in the mean distances of the attack set to the decision function by resolution. Percentiles, standard \n",
    "# deviation, min and max values are shown too.\n",
    "display(df_attacks[['dist_to_dec_funct', 'dimension']].groupby('dimension').describe())"
   ]
  },
  {
   "cell_type": "code",
   "execution_count": 17,
   "metadata": {
    "scrolled": false
   },
   "outputs": [
    {
     "data": {
      "text/html": [
       "<div>\n",
       "<style scoped>\n",
       "    .dataframe tbody tr th:only-of-type {\n",
       "        vertical-align: middle;\n",
       "    }\n",
       "\n",
       "    .dataframe tbody tr th {\n",
       "        vertical-align: top;\n",
       "    }\n",
       "\n",
       "    .dataframe thead tr th {\n",
       "        text-align: left;\n",
       "    }\n",
       "\n",
       "    .dataframe thead tr:last-of-type th {\n",
       "        text-align: right;\n",
       "    }\n",
       "</style>\n",
       "<table border=\"1\" class=\"dataframe\">\n",
       "  <thead>\n",
       "    <tr>\n",
       "      <th></th>\n",
       "      <th colspan=\"8\" halign=\"left\">dist_to_dec_funct</th>\n",
       "    </tr>\n",
       "    <tr>\n",
       "      <th></th>\n",
       "      <th>count</th>\n",
       "      <th>mean</th>\n",
       "      <th>std</th>\n",
       "      <th>min</th>\n",
       "      <th>25%</th>\n",
       "      <th>50%</th>\n",
       "      <th>75%</th>\n",
       "      <th>max</th>\n",
       "    </tr>\n",
       "    <tr>\n",
       "      <th>attack_</th>\n",
       "      <th></th>\n",
       "      <th></th>\n",
       "      <th></th>\n",
       "      <th></th>\n",
       "      <th></th>\n",
       "      <th></th>\n",
       "      <th></th>\n",
       "      <th></th>\n",
       "    </tr>\n",
       "  </thead>\n",
       "  <tbody>\n",
       "    <tr>\n",
       "      <th>black_and_white</th>\n",
       "      <td>22518.0</td>\n",
       "      <td>-5.308923</td>\n",
       "      <td>0.989709</td>\n",
       "      <td>-5.507435</td>\n",
       "      <td>-5.507435</td>\n",
       "      <td>-5.507435</td>\n",
       "      <td>-5.507435</td>\n",
       "      <td>1.487182</td>\n",
       "    </tr>\n",
       "    <tr>\n",
       "      <th>flip_vertical</th>\n",
       "      <td>810.0</td>\n",
       "      <td>-5.507430</td>\n",
       "      <td>0.000112</td>\n",
       "      <td>-5.507435</td>\n",
       "      <td>-5.507435</td>\n",
       "      <td>-5.507435</td>\n",
       "      <td>-5.507435</td>\n",
       "      <td>-5.504466</td>\n",
       "    </tr>\n",
       "    <tr>\n",
       "      <th>vignette</th>\n",
       "      <td>22518.0</td>\n",
       "      <td>-5.499298</td>\n",
       "      <td>0.197640</td>\n",
       "      <td>-5.507435</td>\n",
       "      <td>-5.507435</td>\n",
       "      <td>-5.507435</td>\n",
       "      <td>-5.507435</td>\n",
       "      <td>1.352202</td>\n",
       "    </tr>\n",
       "    <tr>\n",
       "      <th>watermark</th>\n",
       "      <td>22517.0</td>\n",
       "      <td>-3.691577</td>\n",
       "      <td>2.328045</td>\n",
       "      <td>-5.507435</td>\n",
       "      <td>-5.507435</td>\n",
       "      <td>-5.303841</td>\n",
       "      <td>-1.536398</td>\n",
       "      <td>1.757330</td>\n",
       "    </tr>\n",
       "    <tr>\n",
       "      <th>watermark-345x114</th>\n",
       "      <td>21708.0</td>\n",
       "      <td>-1.209834</td>\n",
       "      <td>2.386288</td>\n",
       "      <td>-5.507435</td>\n",
       "      <td>-3.298315</td>\n",
       "      <td>-0.159175</td>\n",
       "      <td>0.781730</td>\n",
       "      <td>1.815469</td>\n",
       "    </tr>\n",
       "    <tr>\n",
       "      <th>watermark-856x856</th>\n",
       "      <td>21707.0</td>\n",
       "      <td>-4.727649</td>\n",
       "      <td>1.408098</td>\n",
       "      <td>-5.507435</td>\n",
       "      <td>-5.507435</td>\n",
       "      <td>-5.503856</td>\n",
       "      <td>-4.638262</td>\n",
       "      <td>1.363131</td>\n",
       "    </tr>\n",
       "  </tbody>\n",
       "</table>\n",
       "</div>"
      ],
      "text/plain": [
       "                  dist_to_dec_funct                                          \\\n",
       "                              count      mean       std       min       25%   \n",
       "attack_                                                                       \n",
       "black_and_white             22518.0 -5.308923  0.989709 -5.507435 -5.507435   \n",
       "flip_vertical                 810.0 -5.507430  0.000112 -5.507435 -5.507435   \n",
       "vignette                    22518.0 -5.499298  0.197640 -5.507435 -5.507435   \n",
       "watermark                   22517.0 -3.691577  2.328045 -5.507435 -5.507435   \n",
       "watermark-345x114           21708.0 -1.209834  2.386288 -5.507435 -3.298315   \n",
       "watermark-856x856           21707.0 -4.727649  1.408098 -5.507435 -5.507435   \n",
       "\n",
       "                                                 \n",
       "                        50%       75%       max  \n",
       "attack_                                          \n",
       "black_and_white   -5.507435 -5.507435  1.487182  \n",
       "flip_vertical     -5.507435 -5.507435 -5.504466  \n",
       "vignette          -5.507435 -5.507435  1.352202  \n",
       "watermark         -5.303841 -1.536398  1.757330  \n",
       "watermark-345x114 -0.159175  0.781730  1.815469  \n",
       "watermark-856x856 -5.503856 -4.638262  1.363131  "
      ]
     },
     "metadata": {},
     "output_type": "display_data"
    }
   ],
   "source": [
    "# Zoom in in the mean distances of the test set to the decision function by attack type. Percentiles, standard \n",
    "# deviation, min and max values are shown too.\n",
    "df_attacks['attack_'] = df_attacks['attack'].apply(lambda x: x[x.find('p') + 2:])\n",
    "display(df_attacks[['dist_to_dec_funct', 'attack_']].groupby(['attack_']).describe())"
   ]
  },
  {
   "cell_type": "code",
   "execution_count": 18,
   "metadata": {},
   "outputs": [],
   "source": [
    "resolutions = sorted(df_attacks['dimension'].unique())"
   ]
  },
  {
   "cell_type": "code",
   "execution_count": 19,
   "metadata": {},
   "outputs": [],
   "source": [
    "pp = pprint.PrettyPrinter()"
   ]
  },
  {
   "cell_type": "code",
   "execution_count": 20,
   "metadata": {
    "scrolled": true
   },
   "outputs": [
    {
     "name": "stdout",
     "output_type": "stream",
     "text": [
      "{144: 0.968,\n",
      " 240: 0.9906790945406125,\n",
      " 360: 0.9893475366178429,\n",
      " 480: 0.9946737683089214,\n",
      " 720: 0.9946737683089214,\n",
      " 1080: 0.9693333333333334}\n"
     ]
    }
   ],
   "source": [
    "# Accuracy of the test set by resolution\n",
    "results = {}\n",
    "for res in resolutions:\n",
    "    selection = df_test[df_test['dimension'] == res]\n",
    "    count = sum(selection['prediction'] == 1)\n",
    "    results[res] = count/len(selection)\n",
    "pp.pprint(results)"
   ]
  },
  {
   "cell_type": "code",
   "execution_count": 21,
   "metadata": {},
   "outputs": [
    {
     "name": "stdout",
     "output_type": "stream",
     "text": [
      "{144: 0.7896403650026839,\n",
      " 240: 0.8008588298443371,\n",
      " 360: 0.8459391271673198,\n",
      " 480: 0.8863599763809115,\n",
      " 720: 0.9447128287707998,\n",
      " 1080: 0.9945786366076221}\n"
     ]
    }
   ],
   "source": [
    "# Accuracy on the attack set by resolution\n",
    "results = {}\n",
    "for res in resolutions:\n",
    "    selection = df_attacks[df_attacks['dimension'] == res]\n",
    "    count = sum(selection['prediction'] == -1)\n",
    "    results[res] = count/len(selection)\n",
    "pp.pprint(results)"
   ]
  },
  {
   "cell_type": "code",
   "execution_count": 22,
   "metadata": {},
   "outputs": [],
   "source": [
    "attacks = df_attacks['attack_'].unique()"
   ]
  },
  {
   "cell_type": "code",
   "execution_count": 23,
   "metadata": {},
   "outputs": [
    {
     "name": "stdout",
     "output_type": "stream",
     "text": [
      "{'black_and_white': 0.9810373923083755,\n",
      " 'flip_vertical': 1.0,\n",
      " 'vignette': 0.999333866240341,\n",
      " 'watermark': 0.8813341031220855,\n",
      " 'watermark-345x114': 0.5208678828081813,\n",
      " 'watermark-856x856': 0.9893122034366794}\n"
     ]
    }
   ],
   "source": [
    "# Accuracy on the attack set by attack type\n",
    "results = {}\n",
    "for attk in attacks:\n",
    "    selection = df_attacks[df_attacks['attack_'] == attk]\n",
    "    count = sum(selection['prediction'] == -1)\n",
    "    results[attk] = count/len(selection)\n",
    "pp.pprint(results)"
   ]
  }
 ],
 "metadata": {
  "kernelspec": {
   "display_name": "Python 3",
   "language": "python",
   "name": "python3"
  },
  "language_info": {
   "codemirror_mode": {
    "name": "ipython",
    "version": 3
   },
   "file_extension": ".py",
   "mimetype": "text/x-python",
   "name": "python",
   "nbconvert_exporter": "python",
   "pygments_lexer": "ipython3",
   "version": "3.6.7"
  }
 },
 "nbformat": 4,
 "nbformat_minor": 2
}
