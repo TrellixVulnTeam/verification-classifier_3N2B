{
 "cells": [
  {
   "cell_type": "code",
   "execution_count": null,
   "metadata": {},
   "outputs": [],
   "source": [
    "import sys\n",
    "import pandas as pd\n",
    "import numpy as np\n",
    "from sklearn import preprocessing\n",
    "import matplotlib.pyplot as plt\n",
    "import matplotlib.mlab as mlab\n",
    "import plotly.plotly as py\n",
    "import plotly.graph_objs as go\n",
    "import plotly.offline as offline\n",
    "from sklearn.manifold import TSNE\n",
    "\n",
    "\n",
    "offline.init_notebook_mode(connected=True)\n",
    "\n",
    "sys.path.insert(0, '../../scripts/modeling_toolbox/')\n",
    "# load the autoreload extension\n",
    "%load_ext autoreload\n",
    "# Set extension to reload modules every time before executing code\n",
    "%autoreload 2\n",
    "\n",
    "from metric_processor import MetricProcessor"
   ]
  },
  {
   "cell_type": "code",
   "execution_count": null,
   "metadata": {},
   "outputs": [],
   "source": [
    "# Load data\n",
    "\n",
    "features = ['temporal_canny-euclidean', \n",
    "            'temporal_cross_correlation-euclidean',\n",
    "            'temporal_difference-euclidean', \n",
    "            'temporal_histogram_distance-euclidean',\n",
    "            'temporal_dct-euclidean', \n",
    "            'size', \n",
    "            'dimension', \n",
    "            'fps',\n",
    "            'temporal_dct-std', \n",
    "            'temporal_dct-manhattan']\n",
    "\n",
    "path = '../../machine_learning/cloud_functions/data-large.csv'\n",
    "\n",
    "metric_processor = MetricProcessor(features,'UL', path, reduced=True)\n",
    "df = metric_processor.read_and_process_data()\n",
    "display(df.head())\n",
    "\n",
    "(X_train, X_test, X_attacks), _ = metric_processor.split_test_and_train(df)\n",
    "\n",
    "print('{} training samples. {} test samples. {} attack samples'.format(X_train.shape[0], X_test.shape[0], \n",
    "                                                                       X_attacks.shape[0]))"
   ]
  },
  {
   "cell_type": "markdown",
   "metadata": {},
   "source": [
    "# Correlation"
   ]
  },
  {
   "cell_type": "code",
   "execution_count": null,
   "metadata": {},
   "outputs": [],
   "source": [
    "df_corr = df.corr()\n",
    "plt.figure(figsize=(10,10))\n",
    "corr = df_corr.corr('spearman')\n",
    "corr.style.background_gradient().set_precision(2)"
   ]
  },
  {
   "cell_type": "markdown",
   "metadata": {},
   "source": [
    "# Dimensionality Reduction"
   ]
  },
  {
   "cell_type": "markdown",
   "metadata": {},
   "source": [
    "## PCA"
   ]
  },
  {
   "cell_type": "code",
   "execution_count": null,
   "metadata": {},
   "outputs": [],
   "source": [
    "from sklearn.decomposition import PCA\n",
    "from sklearn.preprocessing import StandardScaler\n",
    "\n",
    "ss = StandardScaler()\n",
    "\n",
    "x_train = ss.fit_transform(X_train)\n",
    "x_test = ss.transform(X_test)\n",
    "x_attacks = ss.transform(X_attacks)\n",
    "\n",
    "variances = []\n",
    "components = reversed(range(1,x_test.shape[1]+1))\n",
    "for i in components:\n",
    "    pca = PCA(n_components=i)\n",
    "    pca.fit(x_train)\n",
    "    variances.append(sum(pca.explained_variance_ratio_))\n",
    "    \n",
    "trace = go.Scatter(\n",
    "x = list(reversed(range(1,x_test.shape[1]+1))),\n",
    "y = variances)\n",
    "\n",
    "data=[trace]\n",
    "\n",
    "layout = {'title': 'PCA', \n",
    "      'xaxis': {'title': 'Number of components', }, \n",
    "      'yaxis': {'title': 'Variance explained'},\n",
    "      }\n",
    "\n",
    "fig = go.Figure(data=data, layout=layout)\n",
    "offline.iplot(fig)"
   ]
  },
  {
   "cell_type": "code",
   "execution_count": null,
   "metadata": {},
   "outputs": [],
   "source": [
    "pca = PCA(n_components=2)\n",
    "X_reduced = pca.fit_transform(x_train)\n",
    "test_reduced = pca.transform(x_test)\n",
    "attack_reduced = pca.transform(x_attacks)\n",
    "\n",
    "f, ax = plt.subplots(1,3, figsize=(25,10))\n",
    "ax[0].set_title(\"Train set\")\n",
    "ax[1].set_title(\"Test set\")\n",
    "ax[2].set_title(\"Attack set\")\n",
    "ax[0].scatter(X_reduced[:,0], X_reduced[:,1], color='black')\n",
    "ax[1].scatter(test_reduced[:,0], test_reduced[:,1], color='red')\n",
    "ax[2].scatter(attack_reduced[:,0], attack_reduced[:,1], color='blue')"
   ]
  },
  {
   "cell_type": "code",
   "execution_count": null,
   "metadata": {},
   "outputs": [],
   "source": [
    "plt.figure(figsize=(20,10))\n",
    "plt.scatter(attack_reduced[:,0], attack_reduced[:,1], color='red', label='attack')\n",
    "plt.scatter(X_reduced[:,0], X_reduced[:,1], color='green', label='Train')\n",
    "plt.scatter(test_reduced[:,0], test_reduced[:,1], color='yellow', label='Test')\n",
    "plt.xlabel('Principal Component 1')\n",
    "plt.ylabel('Principal Component 2')\n",
    "plt.legend()\n"
   ]
  },
  {
   "cell_type": "markdown",
   "metadata": {},
   "source": [
    "## Random Projections"
   ]
  },
  {
   "cell_type": "code",
   "execution_count": null,
   "metadata": {},
   "outputs": [],
   "source": [
    "from sklearn import random_projection\n",
    "\n",
    "rp = random_projection.GaussianRandomProjection(n_components=2)\n",
    "\n",
    "X_reduced = rp.fit_transform(x_train)\n",
    "test_reduced = rp.transform(x_test)\n",
    "attack_reduced = rp.transform(x_attacks)"
   ]
  },
  {
   "cell_type": "code",
   "execution_count": null,
   "metadata": {},
   "outputs": [],
   "source": [
    "f, ax = plt.subplots(1,3, figsize=(25,10))\n",
    "ax[0].set_title(\"Train set\")\n",
    "ax[1].set_title(\"Test set\")\n",
    "ax[2].set_title(\"Attack set\")\n",
    "ax[0].scatter(X_reduced[:,0], X_reduced[:,1], color='black')\n",
    "ax[1].scatter(test_reduced[:,0], test_reduced[:,1], color='red')\n",
    "ax[2].scatter(attack_reduced[:,0], attack_reduced[:,1], color='blue')"
   ]
  },
  {
   "cell_type": "code",
   "execution_count": null,
   "metadata": {},
   "outputs": [],
   "source": [
    "plt.figure(figsize=(20,10))\n",
    "plt.scatter(attack_reduced[:,0], attack_reduced[:,1], color='red', label='attack')\n",
    "plt.scatter(X_reduced[:,0], X_reduced[:,1], color='green', label='Train')\n",
    "plt.scatter(test_reduced[:,0], test_reduced[:,1], color='yellow', label='Test')\n",
    "plt.legend()"
   ]
  },
  {
   "cell_type": "markdown",
   "metadata": {},
   "source": [
    "## T-SNE"
   ]
  },
  {
   "cell_type": "markdown",
   "metadata": {},
   "source": [
    "For t-SNE, we will use a different number of features. We need to redefine the dataset"
   ]
  },
  {
   "cell_type": "code",
   "execution_count": null,
   "metadata": {},
   "outputs": [],
   "source": [
    "features = ['dimension', \n",
    "            'size',\n",
    "            'fps',\n",
    "            'temporal_gaussian-euclidean', \n",
    "            'temporal_gaussian-manhattan',\n",
    "            'temporal_gaussian-max', \n",
    "            'temporal_gaussian-mean',\n",
    "            'temporal_gaussian-std', \n",
    "            'temporal_histogram_distance-euclidean',\n",
    "            'temporal_histogram_distance-manhattan',\n",
    "            'temporal_histogram_distance-max', \n",
    "            'temporal_histogram_distance-mean',\n",
    "            'temporal_histogram_distance-std']\n",
    "\n",
    "path = '../../machine_learning/cloud_functions/data-large.csv'\n",
    "\n",
    "\n",
    "\n",
    "metric_processor = MetricProcessor(features,'UL', path, reduced=False)\n",
    "df = metric_processor.read_and_process_data()\n",
    "df.shape"
   ]
  },
  {
   "cell_type": "code",
   "execution_count": null,
   "metadata": {
    "scrolled": true
   },
   "outputs": [],
   "source": [
    "X, y = None, None\n",
    "N=20000\n",
    "\n",
    "df_corr = df.corr()\n",
    "feat_cols = df_corr.columns\n",
    "\n",
    "print(df['attack_ID'].unique())\n",
    "X = df[feat_cols]\n",
    "\n",
    "X = np.asarray(X)\n",
    "x = ss.fit_transform(X)\n",
    "\n",
    "df_tsne = pd.DataFrame(x,columns=feat_cols)\n",
    "df_tsne  = df_tsne.loc[:N]\n",
    "\n",
    "df_tsne_unscaled = pd.DataFrame(ss.inverse_transform(df_tsne.values), columns=feat_cols)\n",
    "\n",
    "df_tsne_unscaled['attack'] = df['attack']\n",
    "\n",
    "print('Size of the dataframe: {}'.format(df_tsne.shape))"
   ]
  },
  {
   "cell_type": "markdown",
   "metadata": {},
   "source": [
    "### 2D plot"
   ]
  },
  {
   "cell_type": "code",
   "execution_count": null,
   "metadata": {},
   "outputs": [],
   "source": [
    "\n",
    "tsne = TSNE(n_components=2, verbose=1, perplexity=25, n_iter=500)\n",
    "tsne_results = tsne.fit_transform(df_tsne)\n",
    "\n",
    "offline.init_notebook_mode(connected=True)\n",
    "\n",
    "\n",
    "traceTSNE = go.Scattergl(\n",
    "    x = tsne_results[:,0],\n",
    "    y = tsne_results[:,1],\n",
    "#name = df_subset,\n",
    "#     hoveron = Target,\n",
    "    mode = 'markers',\n",
    "    text = df_tsne_unscaled['attack_ID'].values,\n",
    "    showlegend = True,\n",
    "    marker = dict(\n",
    "        #size = df_pca_unscaled['attack_ID']*2,\n",
    "        color = df_tsne_unscaled['attack_ID'],\n",
    "        colorscale ='Jet',\n",
    "        showscale = False,\n",
    "        line = dict(\n",
    "            width = 2,\n",
    "            color = 'rgb(255, 255, 255)'\n",
    "        ),\n",
    "        opacity = 0.8\n",
    "    )\n",
    ")\n",
    "data = [traceTSNE]\n",
    "\n",
    "layout = dict(title = 'TSNE (T-Distributed Stochastic Neighbour Embedding)',\n",
    "              hovermode= 'closest',\n",
    "              yaxis = dict(zeroline = False),\n",
    "              xaxis = dict(zeroline = False),\n",
    "              showlegend= True,\n",
    "             )\n",
    "\n",
    "fig = dict(data=data, layout=layout)\n",
    "offline.plot(fig)"
   ]
  },
  {
   "cell_type": "markdown",
   "metadata": {},
   "source": [
    "### 3D plot"
   ]
  },
  {
   "cell_type": "code",
   "execution_count": null,
   "metadata": {},
   "outputs": [],
   "source": [
    "tsne = TSNE(n_components=3, verbose=1, perplexity=25, n_iter=500)\n",
    "tsne_results = tsne.fit_transform(df_tsne)\n",
    "\n",
    "traceTSNE = go.Scatter3d(\n",
    "    x = tsne_results[:,0],\n",
    "    y = tsne_results[:,1],\n",
    "    z = tsne_results[:,2],\n",
    "#name = df_subset,\n",
    "#     hoveron = Target,\n",
    "    mode = 'markers',\n",
    "    text = df_tsne_unscaled['attack_ID'].values,\n",
    "    showlegend = True,\n",
    "    marker = dict(\n",
    "        size = 1,\n",
    "        color = df_tsne_unscaled['attack_ID'],\n",
    "        colorscale ='Jet',\n",
    "        showscale = False,\n",
    "\n",
    "        opacity = 0.8\n",
    "    )\n",
    ")\n",
    "data = [traceTSNE]\n",
    "\n",
    "layout = dict(title = 'TSNE (T-Distributed Stochastic Neighbour Embedding)',\n",
    "              hovermode= 'closest',\n",
    "              yaxis = dict(zeroline = False),\n",
    "              xaxis = dict(zeroline = False),\n",
    "              showlegend= True,\n",
    "             )\n",
    "\n",
    "fig = dict(data=data, layout=layout)\n",
    "offline.plot(fig)"
   ]
  },
  {
   "cell_type": "code",
   "execution_count": null,
   "metadata": {},
   "outputs": [],
   "source": []
  }
 ],
 "metadata": {
  "kernelspec": {
   "display_name": "Python 3",
   "language": "python",
   "name": "python3"
  },
  "language_info": {
   "codemirror_mode": {
    "name": "ipython",
    "version": 3
   },
   "file_extension": ".py",
   "mimetype": "text/x-python",
   "name": "python",
   "nbconvert_exporter": "python",
   "pygments_lexer": "ipython3",
   "version": "3.6.8"
  }
 },
 "nbformat": 4,
 "nbformat_minor": 2
}
