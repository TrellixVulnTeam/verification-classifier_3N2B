{
 "cells": [
  {
   "cell_type": "code",
   "execution_count": null,
   "metadata": {},
   "outputs": [],
   "source": [
    "import sys\n",
    "import pandas as pd\n",
    "import numpy as np\n",
    "from sklearn import preprocessing\n",
    "import matplotlib.pyplot as plt\n",
    "import matplotlib.mlab as mlab\n",
    "import plotly.plotly as py\n",
    "import plotly.graph_objs as go\n",
    "import plotly.offline as offline\n",
    "from sklearn.manifold import TSNE\n",
    "\n",
    "\n",
    "offline.init_notebook_mode(connected=True)\n",
    "\n",
    "sys.path.insert(0, '../../scripts/modeling_toolbox/')\n",
    "# load the autoreload extension\n",
    "%load_ext autoreload\n",
    "# Set extension to reload modules every time before executing code\n",
    "%autoreload 2\n",
    "\n",
    "from metric_processor import MetricProcessor\n",
    "import evaluation\n"
   ]
  },
  {
   "cell_type": "code",
   "execution_count": null,
   "metadata": {},
   "outputs": [],
   "source": [
    "features = ['temporal_dct-mean', 'temporal_gaussian-mean', 'size',\n",
    "            'dimension', 'temporal_gaussian_difference-mean']\n",
    "\n",
    "\n",
    "path = '../../machine_learning/cloud_functions/data-large.csv'\n",
    "\n",
    "metric_processor = MetricProcessor(features,'UL', path)\n",
    "df = metric_processor.read_and_process_data()\n",
    "df.shape"
   ]
  },
  {
   "cell_type": "code",
   "execution_count": null,
   "metadata": {},
   "outputs": [],
   "source": [
    "(X_train, X_test, X_attacks), (df_train, df_test, df_attacks) = metric_processor.split_test_and_train(df)\n",
    "\n",
    "print('Shape of train: {}'.format(X_train.shape))\n",
    "print('Shape of test: {}'.format(X_test.shape))\n",
    "print('Shape of attacks: {}'.format(X_attacks.shape))\n",
    "df.head()\n"
   ]
  },
  {
   "cell_type": "markdown",
   "metadata": {},
   "source": [
    "# Correlation"
   ]
  },
  {
   "cell_type": "code",
   "execution_count": null,
   "metadata": {},
   "outputs": [],
   "source": [
    "df_corr = df.corr()\n",
    "plt.figure(figsize=(10,10))\n",
    "corr = df_corr.corr('spearman')\n",
    "corr.style.background_gradient().set_precision(2)"
   ]
  },
  {
   "cell_type": "markdown",
   "metadata": {},
   "source": [
    "# Dimensionality Reduction"
   ]
  },
  {
   "cell_type": "markdown",
   "metadata": {},
   "source": [
    "## PCA"
   ]
  },
  {
   "cell_type": "code",
   "execution_count": null,
   "metadata": {},
   "outputs": [],
   "source": [
    "from sklearn.decomposition import PCA\n",
    "from sklearn.preprocessing import StandardScaler\n",
    "\n",
    "ss = StandardScaler()\n",
    "\n",
    "x_train = ss.fit_transform(X_train)\n",
    "x_test = ss.transform(X_test)\n",
    "x_attacks = ss.transform(X_attacks)\n",
    "\n",
    "variances = []\n",
    "components = reversed(range(1,x_test.shape[1]+1))\n",
    "for i in components:\n",
    "    pca = PCA(n_components=i)\n",
    "    pca.fit(x_train)\n",
    "    variances.append(sum(pca.explained_variance_ratio_))\n",
    "    \n",
    "trace = go.Scatter(\n",
    "x = list(reversed(range(1,x_test.shape[1]+1))),\n",
    "y = variances)\n",
    "\n",
    "data=[trace]\n",
    "\n",
    "layout = {'title': 'PCA', \n",
    "      'xaxis': {'title': 'Number of components', }, \n",
    "      'yaxis': {'title': 'Variance explained'},\n",
    "      }\n",
    "\n",
    "fig = go.Figure(data=data, layout=layout)\n",
    "offline.iplot(fig)"
   ]
  },
  {
   "cell_type": "code",
   "execution_count": null,
   "metadata": {},
   "outputs": [],
   "source": [
    "pca = PCA(n_components=2)\n",
    "X_reduced = pca.fit_transform(x_train)\n",
    "test_reduced = pca.transform(x_test)\n",
    "attack_reduced = pca.transform(x_attacks)\n",
    "\n",
    "f, ax = plt.subplots(1,3, figsize=(25,10))\n",
    "ax[0].set_title(\"Train set\")\n",
    "ax[1].set_title(\"Test set\")\n",
    "ax[2].set_title(\"Attack set\")\n",
    "ax[0].scatter(X_reduced[:,0], X_reduced[:,1], color='black')\n",
    "ax[1].scatter(test_reduced[:,0], test_reduced[:,1], color='red')\n",
    "ax[2].scatter(attack_reduced[:,0], attack_reduced[:,1], color='blue')"
   ]
  },
  {
   "cell_type": "code",
   "execution_count": null,
   "metadata": {},
   "outputs": [],
   "source": [
    "plt.figure(figsize=(20,10))\n",
    "plt.scatter(attack_reduced[:,0], attack_reduced[:,1], color='red', label='attack')\n",
    "plt.scatter(X_reduced[:,0], X_reduced[:,1], color='green', label='Train')\n",
    "plt.scatter(test_reduced[:,0], test_reduced[:,1], color='yellow', label='Test')\n",
    "plt.xlabel('Principal Component 1')\n",
    "plt.ylabel('Principal Component 2')\n",
    "plt.legend()\n"
   ]
  },
  {
   "cell_type": "markdown",
   "metadata": {},
   "source": [
    "## Random Projections"
   ]
  },
  {
   "cell_type": "code",
   "execution_count": null,
   "metadata": {},
   "outputs": [],
   "source": [
    "from sklearn import random_projection\n",
    "\n",
    "rp = random_projection.GaussianRandomProjection(n_components=2)\n",
    "\n",
    "X_reduced = rp.fit_transform(x_train)\n",
    "test_reduced = rp.transform(x_test)\n",
    "attack_reduced = rp.transform(x_attacks)"
   ]
  },
  {
   "cell_type": "code",
   "execution_count": null,
   "metadata": {},
   "outputs": [],
   "source": [
    "f, ax = plt.subplots(1,3, figsize=(25,10))\n",
    "ax[0].set_title(\"Train set\")\n",
    "ax[1].set_title(\"Test set\")\n",
    "ax[2].set_title(\"Attack set\")\n",
    "ax[0].scatter(X_reduced[:,0], X_reduced[:,1], color='black')\n",
    "ax[1].scatter(test_reduced[:,0], test_reduced[:,1], color='red')\n",
    "ax[2].scatter(attack_reduced[:,0], attack_reduced[:,1], color='blue')"
   ]
  },
  {
   "cell_type": "code",
   "execution_count": null,
   "metadata": {},
   "outputs": [],
   "source": [
    "plt.figure(figsize=(20,10))\n",
    "plt.scatter(attack_reduced[:,0], attack_reduced[:,1], color='red', label='attack')\n",
    "plt.scatter(X_reduced[:,0], X_reduced[:,1], color='green', label='Train')\n",
    "plt.scatter(test_reduced[:,0], test_reduced[:,1], color='yellow', label='Test')\n",
    "plt.legend()"
   ]
  },
  {
   "cell_type": "markdown",
   "metadata": {},
   "source": [
    "## T-SNE"
   ]
  },
  {
   "cell_type": "markdown",
   "metadata": {},
   "source": [
    "For t-SNE, we will use a different number of features. We need to redefine the dataset"
   ]
  },
  {
   "cell_type": "code",
   "execution_count": null,
   "metadata": {},
   "outputs": [],
   "source": [
    "features = ['dimension', \n",
    "            'size',\n",
    "            'fps',\n",
    "            'temporal_gaussian-euclidean', \n",
    "            'temporal_gaussian-manhattan',\n",
    "            'temporal_gaussian-max', \n",
    "            'temporal_gaussian-mean',\n",
    "            'temporal_gaussian-std', \n",
    "            'temporal_histogram_distance-euclidean',\n",
    "            'temporal_histogram_distance-manhattan',\n",
    "            'temporal_histogram_distance-max', \n",
    "            'temporal_histogram_distance-mean',\n",
    "            'temporal_histogram_distance-std']\n",
    "\n",
    "path = '../../machine_learning/cloud_functions/data-large.csv'\n",
    "\n",
    "\n",
    "\n",
    "metric_processor = MetricProcessor(features,'UL', path, reduced=False)\n",
    "df = metric_processor.read_and_process_data()\n",
    "df.shape"
   ]
  },
  {
   "cell_type": "code",
   "execution_count": null,
   "metadata": {
    "scrolled": true
   },
   "outputs": [],
   "source": [
    "X, y = None, None\n",
    "N=20000\n",
    "\n",
    "df_corr = df.corr()\n",
    "feat_cols = df_corr.columns\n",
    "\n",
    "print(df['attack_ID'].unique())\n",
    "X = df[feat_cols]\n",
    "\n",
    "X = np.asarray(X)\n",
    "x = ss.fit_transform(X)\n",
    "\n",
    "df_tsne = pd.DataFrame(x,columns=feat_cols)\n",
    "df_tsne  = df_tsne.loc[:N]\n",
    "\n",
    "df_tsne_unscaled = pd.DataFrame(ss.inverse_transform(df_tsne.values), columns=feat_cols)\n",
    "\n",
    "df_tsne_unscaled['attack'] = df['attack']\n",
    "\n",
    "print('Size of the dataframe: {}'.format(df_tsne.shape))"
   ]
  },
  {
   "cell_type": "markdown",
   "metadata": {},
   "source": [
    "### 2D plot"
   ]
  },
  {
   "cell_type": "code",
   "execution_count": null,
   "metadata": {},
   "outputs": [],
   "source": [
    "\n",
    "tsne = TSNE(n_components=2, verbose=1, perplexity=25, n_iter=500)\n",
    "tsne_results = tsne.fit_transform(df_tsne)\n",
    "\n",
    "offline.init_notebook_mode(connected=True)\n",
    "\n",
    "\n",
    "traceTSNE = go.Scattergl(\n",
    "    x = tsne_results[:,0],\n",
    "    y = tsne_results[:,1],\n",
    "#name = df_subset,\n",
    "#     hoveron = Target,\n",
    "    mode = 'markers',\n",
    "    text = df_tsne_unscaled['attack_ID'].values,\n",
    "    showlegend = True,\n",
    "    marker = dict(\n",
    "        #size = df_pca_unscaled['attack_ID']*2,\n",
    "        color = df_tsne_unscaled['attack_ID'],\n",
    "        colorscale ='Jet',\n",
    "        showscale = False,\n",
    "        line = dict(\n",
    "            width = 2,\n",
    "            color = 'rgb(255, 255, 255)'\n",
    "        ),\n",
    "        opacity = 0.8\n",
    "    )\n",
    ")\n",
    "data = [traceTSNE]\n",
    "\n",
    "layout = dict(title = 'TSNE (T-Distributed Stochastic Neighbour Embedding)',\n",
    "              hovermode= 'closest',\n",
    "              yaxis = dict(zeroline = False),\n",
    "              xaxis = dict(zeroline = False),\n",
    "              showlegend= True,\n",
    "             )\n",
    "\n",
    "fig = dict(data=data, layout=layout)\n",
    "offline.plot(fig)"
   ]
  },
  {
   "cell_type": "markdown",
   "metadata": {},
   "source": [
    "### 3D plot"
   ]
  },
  {
   "cell_type": "code",
   "execution_count": null,
   "metadata": {},
   "outputs": [],
   "source": [
    "tsne = TSNE(n_components=3, verbose=1, perplexity=25, n_iter=500)\n",
    "tsne_results = tsne.fit_transform(df_tsne)\n",
    "\n",
    "traceTSNE = go.Scatter3d(\n",
    "    x = tsne_results[:,0],\n",
    "    y = tsne_results[:,1],\n",
    "    z = tsne_results[:,2],\n",
    "#name = df_subset,\n",
    "#     hoveron = Target,\n",
    "    mode = 'markers',\n",
    "    text = df_tsne_unscaled['attack_ID'].values,\n",
    "    showlegend = True,\n",
    "    marker = dict(\n",
    "        size = 1,\n",
    "        color = df_tsne_unscaled['attack_ID'],\n",
    "        colorscale ='Jet',\n",
    "        showscale = False,\n",
    "\n",
    "        opacity = 0.8\n",
    "    )\n",
    ")\n",
    "data = [traceTSNE]\n",
    "\n",
    "layout = dict(title = 'TSNE (T-Distributed Stochastic Neighbour Embedding)',\n",
    "              hovermode= 'closest',\n",
    "              yaxis = dict(zeroline = False),\n",
    "              xaxis = dict(zeroline = False),\n",
    "              showlegend= True,\n",
    "             )\n",
    "\n",
    "fig = dict(data=data, layout=layout)\n",
    "offline.plot(fig)"
   ]
  },
  {
   "cell_type": "markdown",
   "metadata": {},
   "source": [
    "# EDA"
   ]
  },
  {
   "cell_type": "code",
   "execution_count": null,
   "metadata": {},
   "outputs": [],
   "source": [
    "import seaborn as sns"
   ]
  },
  {
   "cell_type": "code",
   "execution_count": null,
   "metadata": {},
   "outputs": [],
   "source": [
    "resolutions = df_test['dimension'].unique()\n",
    "resolutions = np.sort(resolutions)\n",
    "attacks = df_attacks['attack'].unique()"
   ]
  },
  {
   "cell_type": "code",
   "execution_count": null,
   "metadata": {},
   "outputs": [],
   "source": [
    "sns.pairplot(df_train)"
   ]
  },
  {
   "cell_type": "code",
   "execution_count": null,
   "metadata": {},
   "outputs": [],
   "source": [
    "sns.pairplot(df_attacks)"
   ]
  },
  {
   "cell_type": "markdown",
   "metadata": {},
   "source": [
    "## Temporal Gaussian Mean"
   ]
  },
  {
   "cell_type": "code",
   "execution_count": null,
   "metadata": {},
   "outputs": [],
   "source": [
    "data = []\n",
    "for res in resolutions:\n",
    "    data.append(go.Histogram(x=df_train['temporal_gaussian-mean'][df_train['dimension'] == res], \n",
    "                             name = '{}p'.format(res), opacity=0.75))\n",
    "fig = go.Figure(data=data)\n",
    "fig.layout.update(barmode='stack') # For stack mode change 'overlay' for 'stack'\n",
    "\n",
    "offline.iplot(fig)"
   ]
  },
  {
   "cell_type": "code",
   "execution_count": null,
   "metadata": {},
   "outputs": [],
   "source": [
    "data = []\n",
    "for res in resolutions:\n",
    "    data.append(go.Histogram(x=df_attacks['temporal_gaussian-mean'][df_attacks['dimension'] == res], \n",
    "                             name = '{}p'.format(res), opacity=0.75))\n",
    "fig = go.Figure(data=data)\n",
    "fig.layout.update(barmode='stack') # For stack mode change 'overlay' for 'stack'\n",
    "\n",
    "offline.iplot(fig)"
   ]
  },
  {
   "cell_type": "markdown",
   "metadata": {},
   "source": [
    "## Temporal DCT Difference"
   ]
  },
  {
   "cell_type": "code",
   "execution_count": null,
   "metadata": {},
   "outputs": [],
   "source": [
    "data = []\n",
    "for res in resolutions:\n",
    "    data.append(go.Histogram(x=df_train['temporal_dct-mean'][df_train['dimension'] == res], \n",
    "                             name = '{}p'.format(res), opacity=0.75))\n",
    "fig = go.Figure(data=data)\n",
    "fig.layout.update(barmode='stack') # For stack mode change 'overlay' for 'stack'\n",
    "\n",
    "offline.iplot(fig)"
   ]
  },
  {
   "cell_type": "code",
   "execution_count": null,
   "metadata": {},
   "outputs": [],
   "source": [
    "data = []\n",
    "for res in resolutions:\n",
    "    data.append(go.Histogram(x=df_attacks['temporal_dct-mean'][df_attacks['dimension'] == res], \n",
    "                             name = '{}p'.format(res), opacity=0.75))\n",
    "fig = go.Figure(data=data)\n",
    "fig.layout.update(barmode='stack') # For stack mode change 'overlay' for 'stack'\n",
    "\n",
    "offline.iplot(fig)"
   ]
  },
  {
   "cell_type": "markdown",
   "metadata": {},
   "source": [
    "## Temporal Gaussian Difference Mean"
   ]
  },
  {
   "cell_type": "code",
   "execution_count": null,
   "metadata": {},
   "outputs": [],
   "source": [
    "data = []\n",
    "for res in resolutions:\n",
    "    data.append(go.Histogram(x=df_train['temporal_gaussian_difference-mean'][df_train['dimension'] == res], \n",
    "                             name = '{}p'.format(res), opacity=0.75))\n",
    "fig = go.Figure(data=data)\n",
    "fig.layout.update(barmode='stack') # For stack mode change 'overlay' for 'stack'\n",
    "\n",
    "offline.iplot(fig)"
   ]
  },
  {
   "cell_type": "code",
   "execution_count": null,
   "metadata": {},
   "outputs": [],
   "source": [
    "data = []\n",
    "for res in resolutions:\n",
    "    data.append(go.Histogram(x=df_attacks['temporal_gaussian_difference-mean'][df_attacks['dimension'] == res], \n",
    "                             name = '{}p'.format(res), opacity=0.75))\n",
    "fig = go.Figure(data=data)\n",
    "fig.layout.update(barmode='stack') # For stack mode change 'overlay' for 'stack'\n",
    "\n",
    "offline.iplot(fig)"
   ]
  },
  {
   "cell_type": "markdown",
   "metadata": {},
   "source": [
    "# Relations between Main Features"
   ]
  },
  {
   "cell_type": "code",
   "execution_count": null,
   "metadata": {},
   "outputs": [],
   "source": [
    "sns.pairplot(df_train[['temporal_gaussian_difference-mean', 'temporal_gaussian-mean', 'temporal_dct-mean']])"
   ]
  },
  {
   "cell_type": "code",
   "execution_count": null,
   "metadata": {},
   "outputs": [],
   "source": [
    "sns.pairplot(df_attacks[['temporal_gaussian_difference-mean', 'temporal_gaussian-mean', 'temporal_dct-mean']])"
   ]
  },
  {
   "cell_type": "code",
   "execution_count": null,
   "metadata": {},
   "outputs": [],
   "source": [
    "display(df_train[['temporal_dct-mean', 'dimension']].groupby('dimension').describe())\n",
    "display(df_attacks[['temporal_dct-mean', 'dimension']].groupby('dimension').describe())"
   ]
  },
  {
   "cell_type": "code",
   "execution_count": null,
   "metadata": {},
   "outputs": [],
   "source": [
    "display(df_train[['temporal_gaussian-mean', 'dimension']].groupby('dimension').describe())\n",
    "display(df_attacks[['temporal_gaussian-mean', 'dimension']].groupby('dimension').describe())"
   ]
  },
  {
   "cell_type": "code",
   "execution_count": null,
   "metadata": {},
   "outputs": [],
   "source": [
    "display(df_train[['temporal_gaussian_difference-mean', 'dimension']].groupby('dimension').describe())\n",
    "display(df_attacks[['temporal_gaussian_difference-mean', 'dimension']].groupby('dimension').describe())"
   ]
  },
  {
   "cell_type": "markdown",
   "metadata": {},
   "source": [
    "# Centrality and dispersion study"
   ]
  },
  {
   "cell_type": "code",
   "execution_count": null,
   "metadata": {},
   "outputs": [],
   "source": [
    "feature_list = ['temporal_dct-mean', 'temporal_gaussian-mean', 'temporal_gaussian_difference-mean']\n",
    "\n",
    "for feat in feature_list:\n",
    "    means = []\n",
    "    stds = []\n",
    "    for res in resolutions:\n",
    "        selection = df_train[feat][df_train['dimension'] == res]\n",
    "        means.append(selection.mean())\n",
    "        stds.append(selection.std())\n",
    "\n",
    "    data = []\n",
    "    data.append(go.Scatter(x=resolutions, y=means, name='mean', mode='markers'))\n",
    "    data.append(go.Scatter(x=resolutions, y=stds, name='std', mode='markers'))\n",
    "\n",
    "    layout = go.Layout(\n",
    "        title=feat,\n",
    "        xaxis=go.layout.XAxis(\n",
    "              tickmode='array',\n",
    "              tickvals=resolutions,\n",
    "              ticktext=[str(res) + 'p' for res in resolutions]\n",
    "        )\n",
    "    )\n",
    "\n",
    "\n",
    "    fig = go.Figure(data=data, layout=layout)\n",
    "\n",
    "\n",
    "    offline.iplot(fig)"
   ]
  },
  {
   "cell_type": "code",
   "execution_count": null,
   "metadata": {},
   "outputs": [],
   "source": [
    "for feat in feature_list:\n",
    "    means = []\n",
    "    stds = []\n",
    "    for res in resolutions:\n",
    "        selection = df_attacks[feat][df_attacks['dimension'] == res]\n",
    "        means.append(selection.mean())\n",
    "        stds.append(selection.std())\n",
    "\n",
    "    data = []\n",
    "    data.append(go.Scatter(x=resolutions, y=means, name='mean', mode='markers'))\n",
    "    data.append(go.Scatter(x=resolutions, y=stds, name='std', mode='markers'))\n",
    "\n",
    "    layout = go.Layout(\n",
    "        title=feat,\n",
    "        xaxis=go.layout.XAxis(\n",
    "              tickmode='array',\n",
    "              tickvals=resolutions,\n",
    "              ticktext=[str(res) + 'p' for res in resolutions]\n",
    "        )\n",
    "    )\n",
    "\n",
    "\n",
    "    fig = go.Figure(data=data, layout=layout)\n",
    "\n",
    "\n",
    "    offline.iplot(fig)"
   ]
  },
  {
   "cell_type": "markdown",
   "metadata": {},
   "source": [
    "## Digging into centrality and dispersion of attacks"
   ]
  },
  {
   "cell_type": "code",
   "execution_count": null,
   "metadata": {},
   "outputs": [],
   "source": [
    "attacks = df_attacks['attack'].unique()\n",
    "attacks = list(set([attack[attack.find('p') + 2:] for attack in attacks]))\n",
    "\n",
    "metric = 'temporal_dct-mean'\n",
    "\n",
    "for res in resolutions:\n",
    "    selection = df_train[(df_train['dimension'] == res)]\n",
    "    data = []\n",
    "    trace = go.Box(y=selection[metric], name='legit',\n",
    "               text = selection['title'])\n",
    "    data.append(trace)\n",
    "    \n",
    "    for attack in attacks:\n",
    "        selection = df_attacks[(df_attacks['dimension'] == res) & (df_attacks['attack'].str.contains(attack))]\n",
    "        trace = go.Box(y=selection[metric], name=attack,\n",
    "                       text = selection['title'])\n",
    "        data.append(trace)\n",
    "\n",
    "    layout = go.Layout(\n",
    "                title=go.layout.Title(text=str(res) + 'p'),\n",
    "                yaxis = go.layout.YAxis(title = metric),\n",
    "                xaxis = go.layout.XAxis(\n",
    "                    title = 'Attack type',\n",
    "                    tickmode = 'array',\n",
    "                    ticktext = attacks\n",
    "                )\n",
    "    )\n",
    "\n",
    "    fig = go.Figure(data=data, layout=layout)\n",
    "    offline.iplot(fig)"
   ]
  },
  {
   "cell_type": "markdown",
   "metadata": {},
   "source": [
    "# Understanding the Model"
   ]
  },
  {
   "cell_type": "code",
   "execution_count": null,
   "metadata": {
    "scrolled": false
   },
   "outputs": [],
   "source": [
    "\n",
    "metrics = ['temporal_gaussian-mean', 'size']\n",
    "data = []\n",
    "\n",
    "for res in resolutions:\n",
    "    selection = df_train[(df_train['dimension'] == res)].sample(50)\n",
    "    trace = go.Scatter(x=selection[metrics[0]], y=selection[metrics[1]], name='legit-' + str(res),\n",
    "               text = selection['title'], mode='markers')\n",
    "    data.append(trace)\n",
    "    \n",
    "    for attack in attacks:\n",
    "        selection = df_attacks[(df_attacks['dimension'] == res) &\n",
    "                               (df_attacks['attack'].str.contains(attack))].sample(50)\n",
    "        trace = go.Scatter(x=selection[metrics[0]], y=selection[metrics[1]], name=attack + '-' + str(res),\n",
    "                       text = selection['title'], mode='markers')\n",
    "        data.append(trace)\n",
    "\n",
    "    layout = go.Layout(\n",
    "                title=go.layout.Title(text='Feature space'),\n",
    "                yaxis = go.layout.YAxis(title = metrics[1]),\n",
    "                xaxis = go.layout.XAxis(\n",
    "                    title = metrics[1],\n",
    "\n",
    "                )\n",
    "    )\n",
    "\n",
    "fig = go.Figure(data=data, layout=layout)\n",
    "offline.iplot(fig)"
   ]
  },
  {
   "cell_type": "code",
   "execution_count": null,
   "metadata": {},
   "outputs": [],
   "source": [
    "from sklearn import svm\n",
    "from sklearn.preprocessing import StandardScaler\n",
    "import matplotlib.font_manager\n",
    "\n",
    "\n",
    "# Scaling the data\n",
    "ss = StandardScaler()\n",
    "X_train_ = X_train[:, 1:3]\n",
    "X_test_ = X_test[:, 1:3]\n",
    "X_attacks_ = X_attacks[:, 1:3]\n",
    "\n",
    "\n",
    "x_train = ss.fit_transform(X_train_)\n",
    "x_test = ss.transform(X_test_)\n",
    "x_attacks = ss.transform(X_attacks_)\n",
    "\n",
    "clf = svm.OneClassSVM(nu=0.01, kernel='rbf', gamma='auto', cache_size=5000)\n",
    "clf.fit(x_train)\n",
    "y_pred_train = clf.predict(x_train)\n",
    "y_pred_test = clf.predict(x_test)\n",
    "y_pred_outliers = clf.predict(x_attacks)\n",
    "n_error_train = y_pred_train[y_pred_train == -1].size\n",
    "n_error_test = y_pred_test[y_pred_test == -1].size\n",
    "n_error_outliers = y_pred_outliers[y_pred_outliers == 1].size"
   ]
  },
  {
   "cell_type": "code",
   "execution_count": null,
   "metadata": {},
   "outputs": [],
   "source": [
    "fb, area, tnr, tpr_train, tpr_test = evaluation.unsupervised_evaluation(clf, x_train, x_test, x_attacks)\n",
    "print('TNR: {}\\nTPR_test: {}\\nTPR_train: {}\\n'.format(tnr, tpr_test, tpr_train))\n",
    "print('F20: {}\\nAUC: {}'.format(fb, area))"
   ]
  },
  {
   "cell_type": "code",
   "execution_count": null,
   "metadata": {},
   "outputs": [],
   "source": [
    "xx, yy = np.meshgrid(np.linspace(-1, 10, 500), np.linspace(-1, 10, 500))"
   ]
  },
  {
   "cell_type": "code",
   "execution_count": null,
   "metadata": {},
   "outputs": [],
   "source": [
    "Z = clf.decision_function(np.c_[xx.ravel(), yy.ravel()])\n",
    "Z = Z.reshape(xx.shape)"
   ]
  },
  {
   "cell_type": "code",
   "execution_count": null,
   "metadata": {},
   "outputs": [],
   "source": [
    "plt.title(\"Novelty Detection\")\n",
    "plt.contourf(xx, yy, Z, levels=np.linspace(Z.min(), 0, 7), cmap=plt.cm.PuBu)\n",
    "a = plt.contour(xx, yy, Z, levels=[0], linewidths=2, colors='darkred')\n",
    "plt.contourf(xx, yy, Z, levels=[0, Z.max()], colors='palevioletred')\n",
    "\n",
    "s = 40\n",
    "b1 = plt.scatter(x_train[:500, 0], x_train[:500, 1], c='white', s=s, edgecolors='k')\n",
    "b2 = plt.scatter(x_test[:, 0], x_test[:, 1], c='blueviolet', s=s,\n",
    "                 edgecolors='k')\n",
    "c = plt.scatter(x_attacks[:500, 0], x_attacks[:500, 1], c='gold', s=s,\n",
    "                edgecolors='k')\n",
    "plt.axis('tight')\n",
    "plt.xlim((-1, 10))\n",
    "plt.ylim((-1, 10))\n",
    "plt.legend([a.collections[0], b1, b2, c],\n",
    "           [\"learned frontier\", \"training observations\",\n",
    "            \"new regular observations\", \"new abnormal observations\"],\n",
    "           loc=\"upper right\",\n",
    "           prop=matplotlib.font_manager.FontProperties(size=11))\n",
    "plt.xlabel(metrics[0])\n",
    "plt.ylabel(metrics[1])\n",
    "\n",
    "plt.show()"
   ]
  },
  {
   "cell_type": "code",
   "execution_count": null,
   "metadata": {},
   "outputs": [],
   "source": [
    "df_train['dist_to_dec_funct'] = clf.decision_function(x_train)\n",
    "df_test['dist_to_dec_funct'] = clf.decision_function(x_test)\n",
    "df_attacks['dist_to_dec_funct'] = clf.decision_function(x_attacks)"
   ]
  },
  {
   "cell_type": "code",
   "execution_count": null,
   "metadata": {},
   "outputs": [],
   "source": [
    "for metric in metrics:\n",
    "    selection = df_train[(df_train['dist_to_dec_funct'] >= 0)]\n",
    "    data = []\n",
    "    trace = go.Box(y=selection[metric], name='legit',\n",
    "                   text=selection['title'])\n",
    "    data.append(trace)\n",
    "    \n",
    "    selection = df_train[(df_train['dist_to_dec_funct'] < 0)]\n",
    "\n",
    "    trace = go.Box(y=selection[metric], name='misclasified',\n",
    "                   text=selection['title'])\n",
    "    data.append(trace)\n",
    "    \n",
    "    layout = go.Layout(\n",
    "                title=go.layout.Title(text='Classification Results'),\n",
    "                yaxis = go.layout.YAxis(title = metric),\n",
    "                xaxis = go.layout.XAxis(\n",
    "                    title = 'Classification',\n",
    "                    tickmode = 'array',\n",
    "                    ticktext = ['Legit', 'Misclassifed']\n",
    "                )\n",
    "    )\n",
    "\n",
    "    fig = go.Figure(data=data, layout=layout)\n",
    "    offline.iplot(fig)"
   ]
  },
  {
   "cell_type": "code",
   "execution_count": null,
   "metadata": {
    "scrolled": true
   },
   "outputs": [],
   "source": [
    "for metric in metrics:\n",
    "    selection = df_attacks[(df_attacks['dist_to_dec_funct'] >= 0)]\n",
    "    data = []\n",
    "    trace = go.Box(y=selection[metric], name='misclassified',\n",
    "                   text=selection['title'])\n",
    "    data.append(trace)\n",
    "    \n",
    "    selection = df_attacks[(df_attacks['dist_to_dec_funct'] < 0)]\n",
    "\n",
    "    trace = go.Box(y=selection[metric], name='attacks',\n",
    "                   text=selection['title'])\n",
    "    data.append(trace)\n",
    "    \n",
    "    layout = go.Layout(\n",
    "                title=go.layout.Title(text='Classification Results'),\n",
    "                yaxis = go.layout.YAxis(title = metric),\n",
    "                xaxis = go.layout.XAxis(\n",
    "                    title = 'Classification',\n",
    "                    tickmode = 'array',\n",
    "                    ticktext = ['Misclassified', 'Attacks']\n",
    "                )\n",
    "    )\n",
    "\n",
    "    fig = go.Figure(data=data, layout=layout)\n",
    "    offline.iplot(fig)"
   ]
  },
  {
   "cell_type": "code",
   "execution_count": null,
   "metadata": {},
   "outputs": [],
   "source": [
    "\n",
    "metrics = ['temporal_gaussian-mean', 'size']\n",
    "\n",
    "for metric in metrics:\n",
    "    data = []\n",
    "    for res in resolutions:\n",
    "        selection = df_train[(df_train['dimension'] == res)].sample(50)\n",
    "        trace = go.Scatter(y=selection['dist_to_dec_funct'], x=selection[metric], name='legit-' + str(res),\n",
    "                   text = selection['title'], mode='markers')\n",
    "        data.append(trace)\n",
    "\n",
    "        for attack in attacks:\n",
    "            selection = df_attacks[(df_attacks['dimension'] == res) &\n",
    "                                   (df_attacks['attack'].str.contains(attack))].sample(50)\n",
    "            trace = go.Scatter(y=selection['dist_to_dec_funct'], x=selection[metric], name=attack + '-' + str(res),\n",
    "                           text = selection['title'], mode='markers')\n",
    "            data.append(trace)\n",
    "\n",
    "        layout = go.Layout(\n",
    "                    title=go.layout.Title(text='Feature space'),\n",
    "                    xaxis = go.layout.XAxis(title = metric),\n",
    "                    yaxis = go.layout.YAxis(\n",
    "                        title = 'Distance to decision Function',\n",
    "\n",
    "                    )\n",
    "        )\n",
    "\n",
    "    fig = go.Figure(data=data, layout=layout)\n",
    "    offline.iplot(fig)"
   ]
  }
 ],
 "metadata": {
  "kernelspec": {
   "display_name": "Python 3",
   "language": "python",
   "name": "python3"
  },
  "language_info": {
   "codemirror_mode": {
    "name": "ipython",
    "version": 3
   },
   "file_extension": ".py",
   "mimetype": "text/x-python",
   "name": "python",
   "nbconvert_exporter": "python",
   "pygments_lexer": "ipython3",
   "version": "3.6.7"
  }
 },
 "nbformat": 4,
 "nbformat_minor": 2
}
