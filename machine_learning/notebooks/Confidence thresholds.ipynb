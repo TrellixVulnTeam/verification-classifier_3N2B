{
 "cells": [
  {
   "cell_type": "markdown",
   "metadata": {},
   "source": [
    "# Import Libraries"
   ]
  },
  {
   "cell_type": "code",
   "execution_count": null,
   "metadata": {
    "scrolled": false
   },
   "outputs": [],
   "source": [
    "import sys\n",
    "import pandas as pd\n",
    "#import numpy as np\n",
    "\n",
    "from sklearn import preprocessing\n",
    "from sklearn.decomposition import PCA\n",
    "from sklearn import random_projection\n",
    "from sklearn.preprocessing import StandardScaler\n",
    "from sklearn.metrics import fbeta_score, roc_curve, auc\n",
    "from sklearn import svm\n",
    "from sklearn.ensemble import IsolationForest\n",
    "\n",
    "from itertools import product\n",
    "import matplotlib.pyplot as plt\n",
    "import matplotlib.mlab as mlab\n",
    "import pickle\n",
    "import json\n",
    "\n",
    "pd.options.display.max_columns = 999\n",
    "\n",
    "sys.path.insert(0, '../../scripts/modeling_toolbox/')\n",
    "# load the autoreload extension\n",
    "%load_ext autoreload\n",
    "# Set extension to reload modules every time before executing code\n",
    "%autoreload 2\n",
    "\n",
    "from metric_processor import MetricProcessor\n",
    "import evaluation\n",
    "\n",
    "%matplotlib inline"
   ]
  },
  {
   "cell_type": "markdown",
   "metadata": {},
   "source": [
    "# Data Preparation"
   ]
  },
  {
   "cell_type": "code",
   "execution_count": null,
   "metadata": {
    "scrolled": true
   },
   "outputs": [],
   "source": [
    "features = ['dimension',\n",
    "            'size',\n",
    "            'temporal_dct-mean', \n",
    "            'temporal_gaussian_mse-mean', \n",
    "            'temporal_gaussian_difference-mean',\n",
    "            'temporal_threshold_gaussian_difference-mean',\n",
    "            #'temporal_match-mean'\n",
    "           ]\n",
    "\n",
    "\n",
    "path = '../../machine_learning/cloud_functions/data-large.csv'\n",
    "\n",
    "metric_processor = MetricProcessor(features,'UL', path, reduced=False, bins=0)\n",
    "df = metric_processor.read_and_process_data()\n",
    "df['size_dimension_ratio'] = df['size'] / df['dimension']\n",
    "df = df.drop(['dimension', 'size'], axis=1)\n",
    "df.shape"
   ]
  },
  {
   "cell_type": "code",
   "execution_count": null,
   "metadata": {},
   "outputs": [],
   "source": [
    "def compute_mean_samples(input_values):\n",
    "    x, samples_number = input_values\n",
    "    y = np.fromstring(x.replace('[', '').replace(']', ''),\n",
    "                      dtype=np.float,\n",
    "                      sep=' ')\n",
    "\n",
    "    random_sampler = list(np.random.choice(y,\n",
    "                                           samples_number))\n",
    "\n",
    "    mean_value = np.mean(random_sampler)\n",
    "\n",
    "    return mean_value"
   ]
  },
  {
   "cell_type": "code",
   "execution_count": null,
   "metadata": {},
   "outputs": [],
   "source": [
    "print('Sampling dataframe')\n",
    "samples_number = [5, 10, 15, 20, 25, 30, 35, 40, 45, 50, 55, 60]\n",
    "samples_features = []\n",
    "print('Features', self.features)\n",
    "for feature in self.features.copy():\n",
    "    print('Sampling {}'.format(feature))\n",
    "    if 'temporal' in feature:\n",
    "        for n in samples_number:\n",
    "            print('n=', n)\n",
    "            series_feature = '{}-series'.format(feature.split('-')[0])\n",
    "            sample_feature = '{}-{}'.format(n, feature)\n",
    "            df[series_feature] = df[series_feature].str.replace('[', '')\n",
    "            df[series_feature] = df[series_feature].str.replace(']', '')\n",
    "\n",
    "            df[sample_feature] = df[series_feature].apply(lambda x:\n",
    "                                                          self.compute_mean_samples((x, n)))\n",
    "\n",
    "\n",
    "            samples_features.append(sample_feature)\n",
    "        self.features.remove(feature)\n",
    "print(samples_features)\n",
    "self.features += samples_features\n",
    "print(self.features)\n",
    "            "
   ]
  },
  {
   "cell_type": "code",
   "execution_count": null,
   "metadata": {
    "scrolled": true
   },
   "outputs": [],
   "source": [
    "display(df.head(100))\n",
    "display(pd.DataFrame(df['attack'].unique()))"
   ]
  },
  {
   "cell_type": "code",
   "execution_count": null,
   "metadata": {
    "scrolled": true
   },
   "outputs": [],
   "source": [
    "\n",
    "samples_number = [5, 10, 15, 20, 25, 30, 35, 40, 45, 50, 55]\n",
    "info_columns = ['attack_ID', 'title', 'attack', 'size_dimension_ratio']\n",
    "\n",
    "sampled_temporal_columns = [column for column in list(df.columns) if column not in info_columns]\n",
    "\n",
    "\n",
    "features_full_sampling = [feature for feature in sampled_temporal_columns if 60 == int(feature.split('-')[0])] + info_columns\n",
    "print('FEATURES:',features_full_sampling)\n",
    "df_sampling = df[features_full_sampling]\n",
    "(X_train, X_test, X_attacks), (df_train, df_test, df_attacks) = metric_processor.split_test_and_train(df_sampling)\n",
    "\n",
    "print('Shape of train: {}'.format(X_train.shape))\n",
    "print('Shape of test: {}'.format(X_test.shape))\n",
    "print('Shape of attacks: {}'.format(X_attacks.shape))\n",
    "\n",
    "# Scaling the data\n",
    "ss = StandardScaler()\n",
    "x_train = ss.fit_transform(X_train)\n",
    "x_test = ss.transform(X_test)\n",
    "x_attacks = ss.transform(X_attacks)\n",
    "\n",
    "# One Class SVM\n",
    "\n",
    "# Dataframe to store results\n",
    "svm_results = pd.DataFrame(columns=['gamma', 'nu', 'n_components', 'TPR_test',\n",
    "                                    'TNR', 'model', 'auc', 'f_beta', 'projection'])\n",
    "\n",
    "# Train the models\n",
    "svm_results = evaluation.one_class_svm(x_train, x_test, x_attacks, svm_results)\n",
    "display(svm_results.sort_values('f_beta', ascending=False).head())\n",
    "\n",
    "# Save the best model\n",
    "best_svm = svm_results.sort_values('f_beta', ascending=False).iloc[0]\n",
    "projection = best_svm['projection']\n",
    "\n",
    "reduction = None\n",
    "if projection == 'PCA':\n",
    "    reduction = PCA(n_components=best_svm['n_components'])\n",
    "elif projection == 'RP':\n",
    "    reduction = random_projection.SparseRandomProjection(n_components=best_svm['n_components'])\n",
    "else:\n",
    "    print('Unknown projection type')\n",
    "    X_reduced = x_train\n",
    "    attack_reduced = x_attacks\n",
    "    test_reduced = x_test\n",
    "    \n",
    "if reduction:    \n",
    "    X_reduced = reduction.fit_transform(x_train)\n",
    "    attack_reduced = reduction.transform(x_attacks)\n",
    "    test_reduced = reduction.transform(x_test)\n",
    "    pickle.dump(reduction, open('../output/models/reduction_OCSVM.pickle.dat', 'wb'))\n",
    "\n",
    "\n",
    "OCSVM = svm.OneClassSVM(kernel='rbf',gamma=best_svm['gamma'], nu=best_svm['nu'], cache_size=5000)\n",
    "\n",
    "OCSVM.fit(X_reduced)\n",
    "\n",
    "    "
   ]
  },
  {
   "cell_type": "code",
   "execution_count": null,
   "metadata": {},
   "outputs": [],
   "source": [
    "df.to_csv('sampled_df.csv')"
   ]
  },
  {
   "cell_type": "code",
   "execution_count": null,
   "metadata": {
    "scrolled": true
   },
   "outputs": [],
   "source": [
    "sample_df = pd.DataFrame(columns=['f20', 'tnr', 'tpr_train', 'tpr_test'])\n",
    "for n in samples_number:\n",
    "    \n",
    "\n",
    "    features = [feature for feature in sampled_temporal_columns if n == int(feature.split('-')[0])]\n",
    "    df_sampling = df[features + info_columns]\n",
    "    (X_train, X_test, X_attacks), (df_train, df_test, df_attacks) = metric_processor.split_test_and_train(df_sampling)\n",
    "\n",
    "    # Scaling the data\n",
    "    ss = StandardScaler()\n",
    "    x_train = ss.fit_transform(X_train)\n",
    "\n",
    "    x_attacks = ss.transform(X_attacks)\n",
    "\n",
    "    fb, area, tnr, tpr_train, tpr_test = evaluation.unsupervised_evaluation(OCSVM, x_train,\n",
    "                                                                         x_test, x_attacks)\n",
    "    sample_df = sample_df.append({'f20':fb,\n",
    "                                  'tnr':tnr,\n",
    "                                  'tpr_train': tpr_train,\n",
    "                                  'tpr_test': tpr_test},\n",
    "                                 ignore_index=True)\n",
    "display(sample_df)"
   ]
  },
  {
   "cell_type": "code",
   "execution_count": null,
   "metadata": {},
   "outputs": [],
   "source": []
  }
 ],
 "metadata": {
  "kernelspec": {
   "display_name": "Python 3",
   "language": "python",
   "name": "python3"
  },
  "language_info": {
   "codemirror_mode": {
    "name": "ipython",
    "version": 3
   },
   "file_extension": ".py",
   "mimetype": "text/x-python",
   "name": "python",
   "nbconvert_exporter": "python",
   "pygments_lexer": "ipython3",
   "version": "3.6.8"
  }
 },
 "nbformat": 4,
 "nbformat_minor": 2
}
