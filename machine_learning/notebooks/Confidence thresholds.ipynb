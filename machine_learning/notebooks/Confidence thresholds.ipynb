{
 "cells": [
  {
   "cell_type": "markdown",
   "metadata": {},
   "source": [
    "# Import Libraries"
   ]
  },
  {
   "cell_type": "code",
   "execution_count": null,
   "metadata": {
    "scrolled": false
   },
   "outputs": [],
   "source": [
    "import sys\n",
    "import pandas as pd\n",
    "import numpy as np\n",
    "import multiprocessing as mp\n",
    "import gc\n",
    "\n",
    "from sklearn import preprocessing\n",
    "from sklearn.decomposition import PCA\n",
    "from sklearn import random_projection\n",
    "from sklearn.preprocessing import StandardScaler\n",
    "from sklearn.metrics import fbeta_score, roc_curve, auc\n",
    "from sklearn import svm\n",
    "from sklearn.ensemble import IsolationForest\n",
    "\n",
    "from itertools import product\n",
    "import matplotlib.pyplot as plt\n",
    "import matplotlib.mlab as mlab\n",
    "import pickle\n",
    "import json\n",
    "\n",
    "import time\n",
    "\n",
    "num_partitions = 10 #number of partitions to split dataframe\n",
    "num_cores = mp.cpu_count() #number of cores on your machine\n",
    "\n",
    "pd.options.display.max_columns = 999\n",
    "p = mp.Pool(mp.cpu_count()) # Data parallelism Object\n",
    "sys.path.insert(0, '../../scripts/modeling_toolbox/')\n",
    "# load the autoreload extension\n",
    "%load_ext autoreload\n",
    "# Set extension to reload modules every time before executing code\n",
    "%autoreload 2\n",
    "\n",
    "from metric_processor import MetricProcessor\n",
    "import evaluation\n",
    "\n",
    "%matplotlib inline"
   ]
  },
  {
   "cell_type": "markdown",
   "metadata": {},
   "source": [
    "# Auxiliary functions and lists"
   ]
  },
  {
   "cell_type": "code",
   "execution_count": null,
   "metadata": {},
   "outputs": [],
   "source": [
    "def parallelize_dataframe(df, func):\n",
    "    df_split = np.array_split(df, num_partitions)\n",
    "    pool = mp.Pool(num_cores)\n",
    "    df = pd.concat(pool.map(func, df_split))\n",
    "    pool.close()\n",
    "    pool.join()\n",
    "    del df_split\n",
    "    return df"
   ]
  },
  {
   "cell_type": "code",
   "execution_count": null,
   "metadata": {},
   "outputs": [],
   "source": [
    "def convert_to_numpy(df):\n",
    "    \n",
    "    for column in df.columns:\n",
    "        df[column] = df[column].apply(lambda x: np.fromstring(x.replace('[', '').replace(']', ''),\n",
    "                          dtype=np.float,\n",
    "                          sep=' '))\n",
    "        \n",
    "    return df"
   ]
  },
  {
   "cell_type": "code",
   "execution_count": null,
   "metadata": {},
   "outputs": [],
   "source": [
    "def compute_mean(df):\n",
    "    \n",
    "    for column in df.columns:\n",
    "        df[column] = df[column].apply(lambda x: x.mean())\n",
    "        \n",
    "    return df"
   ]
  },
  {
   "cell_type": "code",
   "execution_count": null,
   "metadata": {},
   "outputs": [],
   "source": [
    "def compute_mean_samples(df):\n",
    "    global samples_number\n",
    "    \n",
    "    for column in df.columns:\n",
    "        df[column] = df[column].apply(lambda x: np.mean(list(np.random.choice(x, samples_number))))\n",
    "    \n",
    "    return df"
   ]
  },
  {
   "cell_type": "code",
   "execution_count": null,
   "metadata": {},
   "outputs": [],
   "source": [
    "def split_test_and_train(df, train_prop=0.8):\n",
    "\n",
    "    df_1 = df[df['attack_ID'] < 10]\n",
    "    df_0 = df[df['attack_ID'] >= 10]\n",
    "\n",
    "    num_train = int(df_1.shape[0]*train_prop)\n",
    "    df_train = df_1[0:num_train]\n",
    "    df_test = df_1[num_train:]\n",
    "    df_attacks = df_0\n",
    "\n",
    "    df_train = df_train.sample(frac=1)\n",
    "    df_test = df_test.sample(frac=1)\n",
    "    df_attacks = df_attacks.sample(frac=1)\n",
    "\n",
    "    x_train = df_train.drop(['attack_ID'], axis=1)\n",
    "    x_train = np.asarray(x_train)\n",
    "\n",
    "    x_test = df_test.drop(['attack_ID'], axis=1)\n",
    "    x_test = np.asarray(x_test)\n",
    "\n",
    "    x_attacks = df_attacks.drop(['attack_ID'], axis=1)\n",
    "    x_attacks = np.asarray(x_attacks)\n",
    "\n",
    "    return (x_train, x_test, x_attacks), (df_train, df_test, df_attacks)"
   ]
  },
  {
   "cell_type": "code",
   "execution_count": null,
   "metadata": {},
   "outputs": [],
   "source": [
    "downscale_features = ['temporal_psnr',\n",
    "                      'temporal_ssim',\n",
    "                      'temporal_cross_correlation'\n",
    "                     ]\n",
    "\n",
    "upscale_features = ['temporal_difference',\n",
    "                    'temporal_dct',\n",
    "                    'temporal_canny',\n",
    "                    'temporal_gaussian_mse',\n",
    "                    'temporal_gaussian_difference',\n",
    "                    'temporal_histogram_distance',\n",
    "                    'temporal_entropy',\n",
    "                    'temporal_lbp',\n",
    "                    'temporal_texture',\n",
    "                    'temporal_match',\n",
    "                   ]\n",
    "\n",
    "features = ['dimension',\n",
    "            'size',\n",
    "            'temporal_dct-mean', \n",
    "            'temporal_gaussian_mse-mean', \n",
    "            'temporal_gaussian_difference-mean',\n",
    "            'temporal_threshold_gaussian_difference-mean',\n",
    "           ]"
   ]
  },
  {
   "cell_type": "markdown",
   "metadata": {},
   "source": [
    "# Data Preparation"
   ]
  },
  {
   "cell_type": "code",
   "execution_count": null,
   "metadata": {
    "scrolled": false
   },
   "outputs": [],
   "source": [
    "path = '../../machine_learning/cloud_functions/data-large.csv'\n",
    "reduced = False\n",
    "\n",
    "data = pd.read_csv(path)\n",
    "if reduced:\n",
    "    data = data[:reduced]\n",
    "\n",
    "df = pd.DataFrame(data)\n",
    "\n",
    "del data\n",
    "\n",
    "print('ORIGINAL DATASET:')\n",
    "display(df.head())\n"
   ]
  },
  {
   "cell_type": "code",
   "execution_count": null,
   "metadata": {},
   "outputs": [],
   "source": [
    "df['attack'] = df['attack'].apply(lambda x: MetricProcessor.set_attack_name(x))\n",
    "df['attack_ID'] = df['attack'].apply(lambda x: MetricProcessor.set_attack_id(x))\n",
    "df['size_dimension_ratio'] = df['size'] / df['dimension']\n",
    "df.shape"
   ]
  },
  {
   "cell_type": "code",
   "execution_count": null,
   "metadata": {
    "scrolled": true
   },
   "outputs": [],
   "source": [
    "print('Sampling dataframe')\n",
    "time_series_df = df[[column for column in df.columns if 'series' in column]]\n",
    "display(time_series_df.head())\n",
    "samples_number = 60\n",
    "\n",
    "start_time = time.time()\n",
    "\n",
    "time_series_df = parallelize_dataframe(time_series_df, convert_to_numpy)\n",
    "\n",
    "elapsed_time = time.time() - start_time\n",
    "print('Conversion time:', elapsed_time)\n",
    "\n",
    "start_time = time.time()\n",
    "%reset -f out\n",
    "display(time_series_df.head())\n",
    "mean_values_df = parallelize_dataframe(time_series_df, compute_mean)\n",
    "elapsed_time = time.time() - start_time\n",
    "print('Mean computation time:', elapsed_time)\n",
    "mean_values_df['dimension'] = df['dimension']\n",
    "mean_values_df['size_dimension_ratio'] = df['size_dimension_ratio']\n",
    "mean_values_df['attack_ID'] = df['attack_ID']\n",
    "for column in time_series_df.columns:\n",
    "    \n",
    "    for label in downscale_features:\n",
    "        if label in column:\n",
    "            print('Upscaling', label)\n",
    "            mean_values_df[column] = mean_values_df[column] / mean_values_df['dimension']\n",
    "    for label in upscale_features:\n",
    "        if label in column:\n",
    "            print('Downscaling', label)\n",
    "            mean_values_df[column] = mean_values_df[column] * mean_values_df['dimension']\n",
    "display(mean_values_df)"
   ]
  },
  {
   "cell_type": "code",
   "execution_count": null,
   "metadata": {
    "scrolled": true
   },
   "outputs": [],
   "source": [
    "\n",
    "(X_train, X_test, X_attacks), (df_train, df_test, df_attacks) = split_test_and_train(mean_values_df)\n",
    "\n",
    "print('Shape of train: {}'.format(X_train.shape))\n",
    "print('Shape of test: {}'.format(X_test.shape))\n",
    "print('Shape of attacks: {}'.format(X_attacks.shape))\n",
    "\n",
    "# Scaling the data\n",
    "ss = StandardScaler()\n",
    "x_train = ss.fit_transform(X_train)\n",
    "x_test = ss.transform(X_test)\n",
    "x_attacks = ss.transform(X_attacks)\n",
    "\n",
    "# One Class SVM\n",
    "\n",
    "# Dataframe to store results\n",
    "svm_results = pd.DataFrame(columns=['gamma', 'nu', 'n_components', 'TPR_test',\n",
    "                                    'TNR', 'model', 'auc', 'f_beta', 'projection'])\n",
    "\n",
    "# Train the models\n",
    "svm_results = evaluation.one_class_svm(x_train, x_test, x_attacks, svm_results)\n",
    "display(svm_results.sort_values('f_beta', ascending=False).head())\n",
    "\n",
    "# Save the best model\n",
    "best_svm = svm_results.sort_values('f_beta', ascending=False).iloc[0]\n",
    "projection = best_svm['projection']\n",
    "\n",
    "reduction = None\n",
    "if projection == 'PCA':\n",
    "    reduction = PCA(n_components=best_svm['n_components'])\n",
    "else:\n",
    "    print('Unknown projection type')\n",
    "    X_reduced = x_train\n",
    "    attack_reduced = x_attacks\n",
    "    test_reduced = x_test\n",
    "    \n",
    "if reduction:    \n",
    "    X_reduced = reduction.fit_transform(x_train)\n",
    "    attack_reduced = reduction.transform(x_attacks)\n",
    "    test_reduced = reduction.transform(x_test)\n",
    "    pickle.dump(reduction, open('../output/models/reduction_OCSVM.pickle.dat', 'wb'))\n",
    "\n",
    "\n",
    "OCSVM = svm.OneClassSVM(kernel='rbf',gamma=best_svm['gamma'], nu=best_svm['nu'], cache_size=5000)\n",
    "\n",
    "OCSVM.fit(X_reduced)\n",
    "\n",
    "    "
   ]
  },
  {
   "cell_type": "code",
   "execution_count": null,
   "metadata": {
    "scrolled": true
   },
   "outputs": [],
   "source": [
    "samples_series = [5, 10, 15, 20 , 25, 30, 35, 40, 45, 50, 55]\n",
    "\n",
    "sample_df = pd.DataFrame(columns=['#samples', 'f20', 'tnr', 'tpr_train', 'tpr_test'])\n",
    "for n in samples_series:\n",
    "    print('Number of samples:', n)\n",
    "    samples_number = n\n",
    "    for i in range(10):\n",
    "        \n",
    "        start_time = time.time()\n",
    "        \n",
    "        mean_values_df = parallelize_dataframe(time_series_df, compute_mean_samples)\n",
    "        elapsed_time = time.time() - start_time\n",
    "        mean_values_df['dimension'] = df['dimension']\n",
    "        mean_values_df['size_dimension_ratio'] = df['size_dimension_ratio']\n",
    "        mean_values_df['attack_ID'] = df['attack_ID']\n",
    "        for column in time_series_df.columns:\n",
    "\n",
    "            for label in downscale_features:\n",
    "                if label in column:\n",
    "                    mean_values_df[column] = mean_values_df[column] / mean_values_df['dimension']\n",
    "            for label in upscale_features:\n",
    "                if label in column:\n",
    "                    mean_values_df[column] = mean_values_df[column] * mean_values_df['dimension']\n",
    "\n",
    "        \n",
    "        (X_train, X_test, X_attacks), (df_train, df_test, df_attacks) = split_test_and_train(mean_values_df)\n",
    "\n",
    "        # Scaling the data\n",
    "        ss = StandardScaler()\n",
    "        x_train = ss.fit_transform(X_train)\n",
    "\n",
    "        x_attacks = ss.transform(X_attacks)\n",
    "\n",
    "        fb, area, tnr, tpr_train, tpr_test = evaluation.unsupervised_evaluation(OCSVM, x_train,\n",
    "                                                                             x_test, x_attacks)\n",
    "        sample_df = sample_df.append({'#samples': n,\n",
    "                                      'f20': fb,\n",
    "                                      'tnr': tnr,\n",
    "                                      'tpr_train': tpr_train,\n",
    "                                      'tpr_test': tpr_test},\n",
    "                                     ignore_index=True)\n",
    "        del mean_values_df, X_train, X_test, X_attacks, df_train, df_test, df_attacks\n",
    "        gc.collect()\n",
    "        elapsed_time = time.time() - start_time\n",
    "        print('Computation time:', elapsed_time)\n",
    "    display(sample_df)"
   ]
  },
  {
   "cell_type": "code",
   "execution_count": null,
   "metadata": {},
   "outputs": [],
   "source": [
    "sample_df.groupby('#samples').std()"
   ]
  },
  {
   "cell_type": "code",
   "execution_count": null,
   "metadata": {},
   "outputs": [],
   "source": []
  }
 ],
 "metadata": {
  "kernelspec": {
   "display_name": "Python 3",
   "language": "python",
   "name": "python3"
  },
  "language_info": {
   "codemirror_mode": {
    "name": "ipython",
    "version": 3
   },
   "file_extension": ".py",
   "mimetype": "text/x-python",
   "name": "python",
   "nbconvert_exporter": "python",
   "pygments_lexer": "ipython3",
   "version": "3.6.8"
  }
 },
 "nbformat": 4,
 "nbformat_minor": 2
}
