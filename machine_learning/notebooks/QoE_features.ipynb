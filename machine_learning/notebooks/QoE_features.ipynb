{
 "cells": [
  {
   "cell_type": "markdown",
   "metadata": {},
   "source": [
    "# Import Libraries"
   ]
  },
  {
   "cell_type": "code",
   "execution_count": null,
   "metadata": {
    "scrolled": false
   },
   "outputs": [],
   "source": [
    "import sys\n",
    "import pandas as pd\n",
    "import numpy as np\n",
    "\n",
    "from sklearn import preprocessing\n",
    "from sklearn.decomposition import PCA\n",
    "from sklearn import random_projection\n",
    "from sklearn.preprocessing import StandardScaler\n",
    "from sklearn.metrics import fbeta_score, roc_curve, auc\n",
    "from sklearn import svm\n",
    "from sklearn.ensemble import IsolationForest\n",
    "\n",
    "import plotly.plotly as py\n",
    "import plotly.graph_objs as go\n",
    "import plotly.offline as offline\n",
    "\n",
    "from keras.layers import Input, Dense\n",
    "from keras.models import Model\n",
    "from keras import regularizers\n",
    "from keras.optimizers import Adam\n",
    "\n",
    "from itertools import product\n",
    "import matplotlib.pyplot as plt\n",
    "import matplotlib.mlab as mlab\n",
    "import pickle\n",
    "import json\n",
    "\n",
    "\n",
    "offline.init_notebook_mode(connected=False)\n",
    "\n",
    "pd.options.display.max_columns = 999\n",
    "\n",
    "sys.path.insert(0, '../../scripts/modeling_toolbox/')\n",
    "# load the autoreload extension\n",
    "%load_ext autoreload\n",
    "# Set extension to reload modules every time before executing code\n",
    "%autoreload 2\n",
    "\n",
    "from metric_processor import MetricProcessor\n",
    "import evaluation\n",
    "\n",
    "%matplotlib inline"
   ]
  },
  {
   "cell_type": "markdown",
   "metadata": {},
   "source": [
    "# Data Preparation"
   ]
  },
  {
   "cell_type": "code",
   "execution_count": null,
   "metadata": {
    "scrolled": true
   },
   "outputs": [],
   "source": [
    "input_features = ['dimension',\n",
    "                  'size',\n",
    "                  'temporal_dct-mean', \n",
    "                  #'temporal_gaussian_mse-mean', \n",
    "                  #'temporal_gaussian_difference-mean',\n",
    "                  #'temporal_threshold_gaussian_difference-mean',\n",
    "                  #'temporal_match-mean'\n",
    "                 ]\n",
    "\n",
    "\n",
    "path = '../../machine_learning/cloud_functions/data-large.csv'\n",
    "\n",
    "metric_processor = MetricProcessor(input_features,'SL', path, reduced=False, scale=True, bins=0)\n",
    "input_df = metric_processor.read_and_process_data(unique_ID=True)\n",
    "\n",
    "untampered_df = input_df[input_df['attack_ID'] < 10]\n",
    "untampered_df.shape"
   ]
  },
  {
   "cell_type": "code",
   "execution_count": null,
   "metadata": {
    "scrolled": true
   },
   "outputs": [],
   "source": [
    "display(input_df.head(50))"
   ]
  },
  {
   "cell_type": "markdown",
   "metadata": {},
   "source": [
    "# QoE metrics-based classifier"
   ]
  },
  {
   "cell_type": "code",
   "execution_count": null,
   "metadata": {},
   "outputs": [],
   "source": [
    "path = '../../machine_learning/cloud_functions/data-qoe-large.csv'\n",
    "\n",
    "features_qoe = ['dimension',\n",
    "            'size',\n",
    "            'temporal_ssim-mean', \n",
    "            'temporal_psnr-mean',\n",
    "            'temporal_ssim-euclidean', \n",
    "            'temporal_psnr-euclidean'\n",
    "           ]\n",
    "\n",
    "metric_processor = MetricProcessor(features_qoe, 'SL', path, reduced=False, bins=0, scale=False)\n",
    "df_qoe = metric_processor.read_and_process_data(unique_ID=True)\n",
    "\n",
    "untampered_qoe_df = df_qoe[df_qoe['attack_ID'] < 10]"
   ]
  },
  {
   "cell_type": "markdown",
   "metadata": {},
   "source": [
    "Now we have to merge QoE dataframe and add features from training dataframe"
   ]
  },
  {
   "cell_type": "code",
   "execution_count": null,
   "metadata": {},
   "outputs": [],
   "source": [
    "untampered_qoe_df = pd.merge(left=untampered_df, right=untampered_qoe_df, left_on='unique_ID', right_on='unique_ID')\n",
    "\n",
    "untampered_qoe_df = untampered_qoe_df.rename(columns={'attack_ID_x': 'attack_ID',\n",
    "                                                       'title_x': 'title',\n",
    "                                                       'attack_x': 'attack',\n",
    "                                                       'dimension_x': 'dimension',\n",
    "                                                       'size_x': 'size',\n",
    "                                                               })\n",
    "\n",
    "untampered_qoe_df['color'] = untampered_qoe_df['attack_ID'].apply(lambda x: 'red' if x>=10 else 'green')\n",
    "\n",
    "# Convert PSNR to a linear value so we can establish a threshold\n",
    "max_error = np.log10(255*255)\n",
    "untampered_qoe_df['mse'] = untampered_qoe_df['temporal_psnr-mean'].apply(lambda x: 10**((10 * max_error - x)/10))"
   ]
  },
  {
   "cell_type": "code",
   "execution_count": null,
   "metadata": {
    "scrolled": true
   },
   "outputs": [],
   "source": [
    "print(untampered_qoe_df.shape)\n",
    "untampered_qoe_df.head(20)"
   ]
  },
  {
   "cell_type": "code",
   "execution_count": null,
   "metadata": {},
   "outputs": [],
   "source": [
    "output_features = [\n",
    "                   'temporal_ssim-mean'\n",
    "                  ]\n",
    "\n",
    "model_features = input_features + output_features\n",
    "display(untampered_qoe_df[model_features].head())\n"
   ]
  },
  {
   "cell_type": "code",
   "execution_count": null,
   "metadata": {},
   "outputs": [],
   "source": []
  },
  {
   "cell_type": "markdown",
   "metadata": {},
   "source": [
    "# XGBoost for supervised learning"
   ]
  },
  {
   "cell_type": "code",
   "execution_count": null,
   "metadata": {},
   "outputs": [],
   "source": [
    "import xgboost as xgb\n",
    "from sklearn.metrics import mean_squared_error\n",
    "from sklearn.model_selection import train_test_split\n",
    "\n",
    "X = untampered_qoe_df[input_features]\n",
    "y = untampered_qoe_df[output_features]\n",
    "\n",
    "data_dmatrix = xgb.DMatrix(data=X,label=y)\n",
    "\n",
    "\n",
    "X_train, X_test, y_train, y_test = train_test_split(X, y, test_size=0.2, random_state=123)\n"
   ]
  },
  {
   "cell_type": "code",
   "execution_count": null,
   "metadata": {},
   "outputs": [],
   "source": [
    "xg_reg = xgb.XGBRegressor(objective='reg:squarederror',\n",
    "                          n_estimators=1000,\n",
    "                          learning_rate=0.08,\n",
    "                          gamma=0,\n",
    "                          alpha=1,\n",
    "                          subsample=0.75,\n",
    "                          colsample_bytree=1,\n",
    "                          max_depth=7,\n",
    "                          seed=42) "
   ]
  },
  {
   "cell_type": "code",
   "execution_count": null,
   "metadata": {},
   "outputs": [],
   "source": [
    "xg_reg.fit(X_train,y_train)\n",
    "\n",
    "preds = xg_reg.predict(X_test)"
   ]
  },
  {
   "cell_type": "code",
   "execution_count": null,
   "metadata": {},
   "outputs": [],
   "source": [
    "rmse = np.sqrt(mean_squared_error(y_test, preds))\n",
    "print(\"RMSE: %f\" % (rmse))"
   ]
  },
  {
   "cell_type": "code",
   "execution_count": null,
   "metadata": {},
   "outputs": [],
   "source": [
    "params = {\"objective\":\"reg:squarederror\",\n",
    "          'colsample_bytree': 1,\n",
    "          'n_estimators': 1000,\n",
    "          'learning_rate': 0.08,\n",
    "          'max_depth': 7,\n",
    "          'gamma': 0,\n",
    "          'alpha': 1}\n",
    "\n",
    "cv_results = xgb.cv(dtrain=data_dmatrix,\n",
    "                    params=params,\n",
    "                    nfold=5,\n",
    "                    num_boost_round=50,\n",
    "                    early_stopping_rounds=10,\n",
    "                    metrics=\"rmse\",\n",
    "                    as_pandas=True,\n",
    "                    seed=100)\n"
   ]
  },
  {
   "cell_type": "code",
   "execution_count": null,
   "metadata": {},
   "outputs": [],
   "source": [
    "\n",
    "print((cv_results[\"test-rmse-mean\"]).tail(1))"
   ]
  },
  {
   "cell_type": "code",
   "execution_count": null,
   "metadata": {},
   "outputs": [],
   "source": [
    "xgb.plot_importance(xg_reg)\n",
    "plt.rcParams['figure.figsize'] = [5, 5]\n",
    "plt.show()"
   ]
  },
  {
   "cell_type": "code",
   "execution_count": null,
   "metadata": {},
   "outputs": [],
   "source": []
  },
  {
   "cell_type": "code",
   "execution_count": null,
   "metadata": {},
   "outputs": [],
   "source": []
  }
 ],
 "metadata": {
  "kernelspec": {
   "display_name": "Python 3",
   "language": "python",
   "name": "python3"
  },
  "language_info": {
   "codemirror_mode": {
    "name": "ipython",
    "version": 3
   },
   "file_extension": ".py",
   "mimetype": "text/x-python",
   "name": "python",
   "nbconvert_exporter": "python",
   "pygments_lexer": "ipython3",
   "version": "3.6.8"
  }
 },
 "nbformat": 4,
 "nbformat_minor": 2
}
