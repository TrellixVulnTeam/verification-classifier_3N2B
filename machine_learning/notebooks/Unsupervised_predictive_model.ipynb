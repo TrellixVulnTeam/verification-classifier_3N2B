{
 "cells": [
  {
   "cell_type": "code",
   "execution_count": null,
   "metadata": {},
   "outputs": [],
   "source": [
    "import pandas as pd\n",
    "import numpy as np\n",
    "from keras.models import Sequential\n",
    "from keras.layers import Dense, Dropout, Input\n",
    "from keras.optimizers import Adam\n",
    "from keras.models import Model\n",
    "from keras import regularizers\n",
    "import keras.backend as K\n",
    "from sklearn import preprocessing\n",
    "from sklearn.metrics import confusion_matrix\n",
    "from sklearn.ensemble import RandomForestClassifier\n",
    "from sklearn.ensemble import AdaBoostClassifier\n",
    "from sklearn import svm\n",
    "from itertools import product\n",
    "import matplotlib.pyplot as plt\n",
    "import matplotlib.mlab as mlab\n",
    "import seaborn\n",
    "\n",
    "%matplotlib inline"
   ]
  },
  {
   "cell_type": "code",
   "execution_count": null,
   "metadata": {},
   "outputs": [],
   "source": [
    "data = pd.read_csv('../../data_analytics/output/metrics-large.csv')\n",
    "df = pd.DataFrame(data)\n",
    "df['title'] = df['level_0']\n",
    "attack_series = []\n",
    "attack_IDs = []\n",
    "dimensions_series = []\n",
    "for _, row in df.iterrows():\n",
    "    attack_series.append(row['level_1'].split('/')[-2])\n",
    "\n",
    "df['attack'] = attack_series\n",
    "\n",
    "for _, row in df.iterrows():\n",
    "    dimension = int(row['attack'].split('_')[0].replace('p',''))\n",
    "    dimensions_series.append(dimension)\n",
    "    if row['attack'] in ['1080p', '720p', '480p', '360p', '240p', '144p']:\n",
    "            attack_IDs.append(1)\n",
    "    else:\n",
    "        attack_IDs.append(0)\n",
    "\n",
    "df['attack_ID'] = attack_IDs\n",
    "df['dimension'] = dimensions_series\n",
    "df = df.drop(['Unnamed: 0',\n",
    "         'temporal_canny-series',\n",
    "         'temporal_cross_correlation-series', \n",
    "         'temporal_difference-series', \n",
    "         'temporal_histogram_distance-series', \n",
    "         'temporal_histogram_distance-cosine',\n",
    "         'level_0', \n",
    "#           'dimension',\n",
    "#           'temporal_canny-cosine',\n",
    "#           'temporal_cross_correlation-cosine',\n",
    "#               'temporal_difference-cosine',\n",
    "         'level_1'],axis=1)\n",
    "#df =df.dropna(axis=0)"
   ]
  },
  {
   "cell_type": "code",
   "execution_count": null,
   "metadata": {},
   "outputs": [],
   "source": [
    "# There were some errors when calculatin metrics, so we add just the dct euclidean\n",
    "new_data = pd.read_csv('../../data_analytics/output/metrics.csv')\n",
    "new_df = pd.DataFrame(new_data)\n",
    "df['temporal_dct-euclidean'] = new_df['temporal_dct-euclidean']"
   ]
  },
  {
   "cell_type": "code",
   "execution_count": null,
   "metadata": {},
   "outputs": [],
   "source": [
    "df.head(5)"
   ]
  },
  {
   "cell_type": "code",
   "execution_count": null,
   "metadata": {},
   "outputs": [],
   "source": [
    "df = df.dropna(axis=1)\n",
    "df.head(5)"
   ]
  },
  {
   "cell_type": "code",
   "execution_count": null,
   "metadata": {
    "scrolled": true
   },
   "outputs": [],
   "source": [
    "df_corr = df.corr()\n",
    "plt.figure(figsize=(10,10))\n",
    "corr = df_corr.corr('spearman')\n",
    "corr.style.background_gradient().set_precision(2)"
   ]
  },
  {
   "cell_type": "code",
   "execution_count": null,
   "metadata": {},
   "outputs": [],
   "source": [
    "train_prop = 0.8\n",
    "\n",
    "df_1 = df[df['attack_ID'] == 1]\n",
    "df_0 = df[df['attack_ID'] == 0]\n",
    "\n",
    "\n",
    "num_train = int(df_1.shape[0]*0.8)\n",
    "df_train = df_1[0:num_train]\n",
    "df_test = df_1[num_train:]\n",
    "df_attacks = df_0\n",
    "\n",
    "df_train = df_train.sample(frac=1)\n",
    "df_test = df_test.sample(frac=1)\n",
    "df_attacks = df_attacks.sample(frac=1)\n",
    "\n",
    "X_train = df_train.drop(['title',\n",
    "                         'attack', \n",
    "                         'attack_ID',\n",
    "                         'dimension',\n",
    "                         'vmaf'],axis=1)\n",
    "X_train = np.asarray(X_train)\n",
    "\n",
    "X_test = df_test.drop(['title',  \n",
    "                     'attack', \n",
    "                     'attack_ID',\n",
    "                     'dimension',  \n",
    "                     'vmaf'],axis=1)\n",
    "X_test = np.asarray(X_test)\n",
    "\n",
    "X_attacks = df_attacks.drop(['title',  \n",
    "                     'attack', \n",
    "                     'attack_ID',\n",
    "                     'dimension',\n",
    "                     'vmaf'],axis=1)\n",
    "\n",
    "X_attacks = np.asarray(X_attacks)\n",
    "\n",
    "print('Shape of train: {}'.format(X_train.shape))\n",
    "print('Shape of test: {}'.format(X_test.shape))\n",
    "print('Shape of attacks: {}'.format(X_attacks.shape))\n"
   ]
  },
  {
   "cell_type": "code",
   "execution_count": null,
   "metadata": {},
   "outputs": [],
   "source": [
    "from sklearn.decomposition import PCA\n",
    "from sklearn.preprocessing import StandardScaler\n",
    "\n",
    "ss = StandardScaler()\n",
    "\n",
    "x_train = ss.fit_transform(X_train)\n",
    "x_test = ss.transform(X_test)\n",
    "x_attacks = ss.transform(X_attacks)\n",
    "\n",
    "variances = []\n",
    "components = reversed(range(1,x_test.shape[1]+1))\n",
    "for i in components:\n",
    "    pca = PCA(n_components=i)\n",
    "    pca.fit(x_train)\n",
    "    variances.append(sum(pca.explained_variance_ratio_))\n",
    "plt.plot(list(reversed(range(1,x_test.shape[1]+1))), variances)   \n",
    "plt.grid()\n",
    "plt.title('PCA')\n",
    "plt.xlabel('Number of components')\n",
    "plt.ylabel('Explained variance')"
   ]
  },
  {
   "cell_type": "code",
   "execution_count": null,
   "metadata": {},
   "outputs": [],
   "source": [
    "pca = PCA(n_components=2)\n",
    "X_reduced = pca.fit_transform(x_train)\n",
    "test_reduced = pca.transform(x_test)\n",
    "attack_reduced = pca.transform(x_attacks)\n"
   ]
  },
  {
   "cell_type": "code",
   "execution_count": null,
   "metadata": {},
   "outputs": [],
   "source": [
    "f, ax = plt.subplots(1,3, figsize=(25,10))\n",
    "ax[0].set_title(\"Train set\")\n",
    "ax[1].set_title(\"Test set\")\n",
    "ax[2].set_title(\"Attack set\")\n",
    "ax[0].scatter(X_reduced[:,0], X_reduced[:,1], color='black')\n",
    "ax[1].scatter(test_reduced[:,0], test_reduced[:,1], color='red')\n",
    "ax[2].scatter(attack_reduced[:,0], attack_reduced[:,1], color='blue')"
   ]
  },
  {
   "cell_type": "code",
   "execution_count": null,
   "metadata": {},
   "outputs": [],
   "source": [
    "plt.figure(figsize=(20,10))\n",
    "plt.scatter(attack_reduced[:,0], attack_reduced[:,1], color='red', label='attack')\n",
    "plt.scatter(X_reduced[:,0], X_reduced[:,1], color='green', label='Train')\n",
    "plt.scatter(test_reduced[:,0], test_reduced[:,1], color='yellow', label='Test')\n",
    "plt.legend()\n"
   ]
  },
  {
   "cell_type": "markdown",
   "metadata": {},
   "source": [
    "# One Class SVM"
   ]
  },
  {
   "cell_type": "code",
   "execution_count": null,
   "metadata": {
    "scrolled": true
   },
   "outputs": [],
   "source": [
    "from sklearn import metrics \n",
    "\n",
    "nus = [0.1, 0.01, 0.001, 0.0001]\n",
    "\n",
    "svm_results = pd.DataFrame(columns=['gamma', 'nu', 'n_components', 'TPR_train', \n",
    "                                    'TPR_test', 'TNR', 'model', 'auc', 'f_beta'])\n",
    "for n in reversed(range(1,x_test.shape[1]+1)):\n",
    "    pca = PCA(n_components=n)\n",
    "    X_reduced = pca.fit_transform(x_train)\n",
    "    test_reduced = pca.transform(x_test)\n",
    "    attack_reduced = pca.transform(x_attacks)\n",
    "\n",
    "    gammas = [X_reduced.shape[1], 2*X_reduced.shape[1], X_reduced.shape[1]/2, 'auto']                                 \n",
    "    for nu in nus:\n",
    "        for gamma in gammas:\n",
    "            classifier = svm.OneClassSVM(kernel='rbf',gamma=gamma, nu=nu, cache_size=5000)\n",
    "            classifier.fit(X_reduced)\n",
    "            y_pred_train = classifier.predict(X_reduced)\n",
    "            y_pred_test = classifier.predict(test_reduced)\n",
    "            y_pred_outliers = classifier.predict(attack_reduced)\n",
    "            n_accurate_train = y_pred_train[y_pred_train == 1].size\n",
    "            n_accurate_test = y_pred_test[y_pred_test == 1].size\n",
    "            n_accurate_outliers = y_pred_outliers[y_pred_outliers == -1].size\n",
    "            \n",
    "            \n",
    "            fpr, tpr, _ = metrics.roc_curve(np.concatenate([np.ones(y_pred_test.shape[0]),\n",
    "                                                             -1*np.ones(y_pred_outliers.shape[0])]), \n",
    "                                              np.concatenate([y_pred_test, y_pred_outliers]) , pos_label=1)\n",
    "            fb = metrics.fbeta_score(np.concatenate([np.ones(y_pred_test.shape[0]),\n",
    "                                                             -1*np.ones(y_pred_outliers.shape[0])]), \n",
    "                                              np.concatenate([y_pred_test, y_pred_outliers]),beta=20 ,pos_label=1)\n",
    "            \n",
    "            svm_results = svm_results.append({'nu': nu, 'gamma': gamma, 'n_components': n, 'TPR_train': n_accurate_train/X_reduced.shape[0],\n",
    "                           'TPR_test': n_accurate_test/test_reduced.shape[0], 'TNR': n_accurate_outliers/attack_reduced.shape[0],\n",
    "                           'model': 'svm', 'auc': metrics.auc(fpr, tpr), 'f_beta': fb}, ignore_index=True)\n"
   ]
  },
  {
   "cell_type": "code",
   "execution_count": null,
   "metadata": {},
   "outputs": [],
   "source": [
    "svm_results.sort_values('f_beta', ascending=False).head(10)"
   ]
  },
  {
   "cell_type": "code",
   "execution_count": null,
   "metadata": {},
   "outputs": [],
   "source": [
    "svm_results.sort_values('auc', ascending=False).head(20)"
   ]
  },
  {
   "cell_type": "code",
   "execution_count": null,
   "metadata": {},
   "outputs": [],
   "source": [
    "# Let's create a metric in order to find a best model from that metric\n",
    "# We will get just accuracies from test y attack above 0.7, and will add them"
   ]
  },
  {
   "cell_type": "code",
   "execution_count": null,
   "metadata": {},
   "outputs": [],
   "source": [
    "def metric(row, th=0.7):\n",
    "    if row['test_acc'] < th or row['attack_acc'] < th:\n",
    "        return 0\n",
    "    else:\n",
    "        return row['test_acc'] + row['attack_acc']"
   ]
  },
  {
   "cell_type": "code",
   "execution_count": null,
   "metadata": {},
   "outputs": [],
   "source": [
    "svm_results['score'] = svm_results.apply(metric, axis=1)"
   ]
  },
  {
   "cell_type": "code",
   "execution_count": null,
   "metadata": {},
   "outputs": [],
   "source": [
    "svm_results[svm_results['test_acc'] > svm_results['attack_acc']].sort_values('score', ascending=False).head(10)"
   ]
  },
  {
   "cell_type": "markdown",
   "metadata": {},
   "source": [
    "# Isolation Forest"
   ]
  },
  {
   "cell_type": "code",
   "execution_count": null,
   "metadata": {},
   "outputs": [],
   "source": [
    "from sklearn.ensemble import IsolationForest\n",
    "\n",
    "estimators = [100, 150, 200]\n",
    "contaminations = [0.01]\n",
    "isolation_results = pd.DataFrame(columns=['estimators', 'contamination', 'n_components', 'max_features',\n",
    "                                          'TPR_test','TPR_train' , 'TNR', 'model', 'auc', 'f_beta'])\n",
    "for n in reversed(range(1,x_test.shape[1]+1)):\n",
    "    pca = PCA(n_components=n)\n",
    "    X_reduced = pca.fit_transform(x_train)\n",
    "    test_reduced = pca.transform(x_test)\n",
    "    attack_reduced = pca.transform(x_attacks)\n",
    "    max_features = list(range(1, n + 1))\n",
    "    for estimator in estimators:\n",
    "        for contamination in contaminations:\n",
    "            for max_feature in max_features:\n",
    "                classifier = IsolationForest(n_estimators=estimator,\n",
    "                                             contamination=contamination,\n",
    "                                             max_features=max_feature,\n",
    "                                            n_jobs=5)\n",
    "                \n",
    "                classifier.fit(X_reduced)\n",
    "                y_pred_train = classifier.predict(X_reduced)\n",
    "                y_pred_test = classifier.predict(test_reduced)\n",
    "                y_pred_outliers = classifier.predict(attack_reduced)\n",
    "                n_error_train = y_pred_train[y_pred_train == 1].size\n",
    "                n_error_test = y_pred_test[y_pred_test == 1].size\n",
    "                n_error_outliers = y_pred_outliers[y_pred_outliers == -1].size\n",
    "                \n",
    "                fpr, tpr, _ = metrics.roc_curve(np.concatenate([np.ones(y_pred_test.shape[0]),\n",
    "                                                 -1*np.ones(y_pred_outliers.shape[0])]), \n",
    "                                  np.concatenate([y_pred_test, y_pred_outliers]) , pos_label=1)\n",
    "                \n",
    "                fb = metrics.fbeta_score(np.concatenate([np.ones(y_pred_test.shape[0]),\n",
    "                                                             -1*np.ones(y_pred_outliers.shape[0])]), \n",
    "                                              np.concatenate([y_pred_test, y_pred_outliers]),beta=20 ,pos_label=1)\n",
    "\n",
    "                isolation_results = isolation_results.append({'estimators': estimator, 'contamination': contamination,\n",
    "                                                              'n_components': n, 'max_features': max_feature,\n",
    "                                                              'TPR_train': n_error_train/X_reduced.shape[0],\n",
    "                                                              'TPR_test': n_error_train/X_reduced.shape[0],\n",
    "                                                              'TNR': n_error_outliers/attack_reduced.shape[0],\n",
    "                                                              'model': 'isolation_forest',\n",
    "                                                              'auc': metrics.auc(fpr, tpr),\n",
    "                                                              'f_beta': fb}, ignore_index=True)"
   ]
  },
  {
   "cell_type": "code",
   "execution_count": null,
   "metadata": {},
   "outputs": [],
   "source": [
    "isolation_results['score'] = isolation_results.apply(metric, axis=1)"
   ]
  },
  {
   "cell_type": "code",
   "execution_count": null,
   "metadata": {},
   "outputs": [],
   "source": [
    "isolation_results[isolation_results['test_acc'] > isolation_results['attack_acc']].sort_values('test_acc', ascending=False).head(10)"
   ]
  },
  {
   "cell_type": "code",
   "execution_count": null,
   "metadata": {},
   "outputs": [],
   "source": [
    "isolation_results.sort_values('f_beta', ascending=False).head(10)"
   ]
  },
  {
   "cell_type": "markdown",
   "metadata": {},
   "source": [
    "# Let's plot ROCs"
   ]
  },
  {
   "cell_type": "code",
   "execution_count": null,
   "metadata": {},
   "outputs": [],
   "source": [
    "def plot_roc(fpr, tpr, title):\n",
    "    roc_auc = metrics.auc(fpr, tpr)\n",
    "    plt.figure()\n",
    "    lw = 2\n",
    "    plt.plot(fpr, tpr, color='darkorange',\n",
    "            lw=lw, label='ROC curve (area = %0.2f)' % roc_auc)\n",
    "    plt.plot([0, 1], [0, 1], color='navy', lw=lw, linestyle='--')\n",
    "    plt.xlim([0.0, 1.0])\n",
    "    plt.ylim([0.0, 1.05])\n",
    "    plt.xlabel('False Positive Rate')\n",
    "    plt.ylabel('True Positive Rate')\n",
    "    plt.title('Receiver operating characteristic: {}'.format(title))\n",
    "    plt.legend(loc=\"lower right\")\n",
    "    plt.show()"
   ]
  },
  {
   "cell_type": "code",
   "execution_count": null,
   "metadata": {},
   "outputs": [],
   "source": [
    "best_svm = svm_results.sort_values('f_beta', ascending=False).iloc[0]\n",
    "pca = PCA(n_components=best_svm['n_components'])\n",
    "X_reduced = pca.fit_transform(x_train)\n",
    "test_reduced = pca.transform(x_test)\n",
    "attack_reduced = pca.transform(x_attacks)\n",
    "classifier = svm.OneClassSVM(kernel='rbf',gamma=best_svm['gamma'], nu=best_svm['nu'], cache_size=5000)\n",
    "classifier.fit(X_reduced)\n",
    "\n",
    "y_pred_train = classifier.predict(X_reduced)\n",
    "y_pred_test = classifier.predict(test_reduced)\n",
    "y_pred_outliers = classifier.predict(attack_reduced)\n",
    "n_accurate_train = y_pred_train[y_pred_train == 1].size\n",
    "n_accurate_test = y_pred_test[y_pred_test == 1].size\n",
    "n_accurate_outliers = y_pred_outliers[y_pred_outliers == -1].size\n",
    "\n",
    "fpr, tpr, _ = metrics.roc_curve(np.concatenate([np.ones(y_pred_test.shape[0]),\n",
    "                                                 -1*np.ones(y_pred_outliers.shape[0])]), \n",
    "                                  np.concatenate([y_pred_test, y_pred_outliers]) , pos_label=1)\n",
    "\n",
    "plot_roc(fpr, tpr, 'One Class SVM')"
   ]
  },
  {
   "cell_type": "code",
   "execution_count": null,
   "metadata": {},
   "outputs": [],
   "source": [
    "pca = PCA(n_components=1)\n",
    "X_reduced = pca.fit_transform(x_train)\n",
    "test_reduced = pca.transform(x_test)\n",
    "attack_reduced = pca.transform(x_attacks)\n",
    "\n",
    "\n",
    "classifier = IsolationForest(n_estimators=150,\n",
    "                            contamination=0.01,\n",
    "                            max_features=1,\n",
    "                            n_jobs=5)\n",
    "classifier.fit(X_reduced)\n",
    "y_pred_train = classifier.predict(X_reduced)\n",
    "y_pred_test = classifier.predict(test_reduced)\n",
    "y_pred_outliers = classifier.predict(attack_reduced)\n",
    "n_accurate_train = y_pred_train[y_pred_train == 1].size\n",
    "n_accurate_test = y_pred_test[y_pred_test == 1].size\n",
    "n_accurate_outliers = y_pred_outliers[y_pred_outliers == -1].size\n",
    "\n",
    "fpr, tpr, _ = metrics.roc_curve(np.concatenate([np.ones(y_pred_test.shape[0]),\n",
    "                                                 -1*np.ones(y_pred_outliers.shape[0])]), \n",
    "                                  np.concatenate([y_pred_test, y_pred_outliers]) , pos_label=1)\n",
    "\n",
    "plot_roc(fpr, tpr, 'Isolation Forest')"
   ]
  },
  {
   "cell_type": "code",
   "execution_count": null,
   "metadata": {},
   "outputs": [],
   "source": [
    "best_svm = svm_results.sort_values('f_beta', ascending=False).iloc[0]\n",
    "pca = PCA(n_components=best_svm['n_components']-1)\n",
    "X_reduced = pca.fit_transform(x_train)\n",
    "test_reduced = pca.transform(x_test)\n",
    "attack_reduced = pca.transform(x_attacks)\n",
    "classifier = svm.OneClassSVM(kernel='rbf',gamma=best_svm['gamma'], nu=best_svm['nu'], cache_size=5000)\n",
    "# pca = PCA(n_components=1)\n",
    "# X_reduced = pca.fit_transform(x_train)\n",
    "# test_reduced = pca.transform(x_test)\n",
    "# attack_reduced = pca.transform(x_attacks)\n",
    "\n",
    "\n",
    "# classifier = IsolationForest(n_estimators=150,\n",
    "#                             contamination=0.01,\n",
    "#                             max_features=1,\n",
    "#                             n_jobs=5)\n",
    "classifier.fit(X_reduced)\n",
    "classifier.fit(X_reduced)"
   ]
  },
  {
   "cell_type": "code",
   "execution_count": null,
   "metadata": {},
   "outputs": [],
   "source": [
    "y_pred_outliers = classifier.predict(attack_reduced)"
   ]
  },
  {
   "cell_type": "code",
   "execution_count": null,
   "metadata": {},
   "outputs": [],
   "source": [
    "df_attacks_reset = df_attacks.reset_index()\n",
    "\n",
    "accurate_outliers_df = pd.DataFrame(y_pred_outliers, columns=['pred']) \n",
    "undetected = df_attacks_reset[accurate_outliers_df['pred'] == 1][['attack', 'title', 'dimension']]\n"
   ]
  },
  {
   "cell_type": "code",
   "execution_count": null,
   "metadata": {},
   "outputs": [],
   "source": [
    "undetected.groupby(['dimension', 'attack']).count()"
   ]
  },
  {
   "cell_type": "code",
   "execution_count": null,
   "metadata": {},
   "outputs": [],
   "source": [
    "undetected.groupby('title').count().sort_values(['attack'], ascending=False)"
   ]
  },
  {
   "cell_type": "code",
   "execution_count": null,
   "metadata": {},
   "outputs": [],
   "source": [
    "import matplotlib.font_manager\n",
    "\n",
    "xx, yy = np.meshgrid(np.linspace(-3, 30, 500), np.linspace(-3, 30, 500))\n",
    "\n",
    "y_pred_train = classifier.predict(X_reduced)\n",
    "y_pred_test = classifier.predict(test_reduced)\n",
    "y_pred_outliers = classifier.predict(attack_reduced)\n",
    "n_error_train = y_pred_train[y_pred_train == -1].size\n",
    "n_error_test = y_pred_test[y_pred_test == -1].size\n",
    "n_error_outliers = y_pred_outliers[y_pred_outliers == 1].size\n",
    "\n",
    "# plot the line, the points, and the nearest vectors to the plane\n",
    "Z = classifier.decision_function(np.c_[xx.ravel(), yy.ravel()])\n",
    "Z = Z.reshape(xx.shape)\n",
    "\n",
    "plt.figure(figsize=(15,10))\n",
    "plt.title(\"Novelty Detection\")\n",
    "plt.contourf(xx, yy, Z, levels=np.linspace(Z.min(), 0, 7), cmap=plt.cm.PuBu)\n",
    "a = plt.contour(xx, yy, Z, levels=[0], linewidths=2, colors='darkred')\n",
    "plt.contourf(xx, yy, Z, levels=[0, Z.max()], colors='palevioletred')\n",
    "\n",
    "s = 40\n",
    "c = plt.scatter(attack_reduced[:, 1], attack_reduced[:, 0], c='gold', s=s,\n",
    "                edgecolors='k')\n",
    "b2 = plt.scatter(X_test[:, 1], X_test[:, 0], c='blueviolet', s=s,\n",
    "                 edgecolors='k')\n",
    "\n",
    "b1 = plt.scatter(X_train[:, 1], X_train[:, 0], c='white', s=s, edgecolors='k')\n",
    "\n",
    "plt.axis('tight')\n",
    "plt.xlim((-3, 30))\n",
    "plt.ylim((-3, 30))\n",
    "plt.legend([a.collections[0], b1, b2, c],\n",
    "           [\"learned frontier\", \"training observations\",\n",
    "            \"new regular observations\", \"new abnormal observations\"],\n",
    "           loc=\"upper right\",\n",
    "           prop=matplotlib.font_manager.FontProperties(size=11))\n",
    "plt.xlabel(\n",
    "    \"train: %d ; novel regular: %d ; \"\n",
    "    \"novel abnormal: %d\"\n",
    "    % (n_error_train, n_error_test, n_error_outliers))\n",
    "plt.show()"
   ]
  },
  {
   "cell_type": "markdown",
   "metadata": {},
   "source": [
    "# Conclusions\n",
    "\n",
    "After the analysis made with the results of the best SVM, we have reached some interesting results:\n",
    "* The attacks that pass through the system belong to the same attacks: watermarks and low bitrate\n",
    "* The attacks that pass through the network do not belong to the same resolution\n",
    "\n",
    "This means that we might be able to generalize into other attacks and resolutions"
   ]
  },
  {
   "cell_type": "markdown",
   "metadata": {},
   "source": [
    "# Autoencoder"
   ]
  },
  {
   "cell_type": "code",
   "execution_count": null,
   "metadata": {
    "scrolled": false
   },
   "outputs": [],
   "source": [
    "latent_dim = 3\n",
    "input_vector = Input(shape=(X_train.shape[1],))\n",
    "encoded = Dense(latent_dim, activation='relu')(input_vector)\n",
    "decoded = Dense(X_train.shape[1], activity_regularizer=regularizers.l1(10e-5))(encoded)\n",
    "autoencoder = Model(input_vector, decoded)\n",
    "encoder = Model(input_vector, encoded)\n",
    "autoencoder.compile(optimizer=Adam(lr=0.001), loss='mse')\n",
    "network_history = autoencoder.fit(x_train, x_train, shuffle=True, batch_size=16, epochs=100,\n",
    "                                  validation_data=(x_test, x_test), verbose=True)\n"
   ]
  },
  {
   "cell_type": "code",
   "execution_count": null,
   "metadata": {},
   "outputs": [],
   "source": [
    "def plot_history(network_history,title='Autoencoder Loss'):\n",
    "    plt.figure(figsize=(10,5))\n",
    "    plt.title(title)\n",
    "    plt.xlabel('Epochs')\n",
    "    plt.ylabel('Loss')\n",
    "    plt.plot(network_history.history['loss'])\n",
    "    plt.plot(network_history.history['val_loss'])\n",
    "    plt.legend(['Training', 'Validation'])\n",
    "    plt.show()"
   ]
  },
  {
   "cell_type": "code",
   "execution_count": null,
   "metadata": {},
   "outputs": [],
   "source": [
    "plot_history(network_history)"
   ]
  },
  {
   "cell_type": "code",
   "execution_count": null,
   "metadata": {
    "scrolled": true
   },
   "outputs": [],
   "source": [
    "print('Mean loss on train: {}'.format(autoencoder.evaluate(x_train, x_train, batch_size=8, verbose=False)))\n",
    "print('Mean loss on test: {}'.format(autoencoder.evaluate(x_test, x_test, batch_size=8, verbose=False)))\n",
    "print('Mean loss on attacks: {}'.format(autoencoder.evaluate(x_attacks, x_attacks, batch_size=8, verbose=False)))"
   ]
  },
  {
   "cell_type": "code",
   "execution_count": null,
   "metadata": {},
   "outputs": [],
   "source": [
    "x_train_pred = autoencoder.predict(x_train, batch_size=8)\n",
    "x_test_pred = autoencoder.predict(x_test, batch_size=8)\n",
    "x_attacks_pred = autoencoder.predict(x_attacks, batch_size=8)"
   ]
  },
  {
   "cell_type": "code",
   "execution_count": null,
   "metadata": {},
   "outputs": [],
   "source": [
    "mse_train = (((x_train - x_train_pred)**2).mean(axis=1))\n",
    "mse_test = (((x_test - x_test_pred)**2).mean(axis=1))\n",
    "mse_attacks = (((x_attacks - x_attacks_pred)**2).mean(axis=1))\n",
    "\n",
    "plt.figure()\n",
    "kwargs = dict(histtype='stepfilled', alpha=0.3, normed=True, bins=200)\n",
    "\n",
    "plt.hist(mse_train, **kwargs)\n",
    "plt.hist(mse_test, **kwargs)\n",
    "plt.hist(mse_attacks, **kwargs)\n",
    "plt.legend(['Train', 'Test', 'Attacks'])\n",
    "plt.title('Histograms of mse')\n",
    "plt.xlim([0, 5])\n"
   ]
  },
  {
   "cell_type": "code",
   "execution_count": null,
   "metadata": {},
   "outputs": [],
   "source": [
    "x_train_red = encoder.predict(x_train, batch_size=8)\n",
    "x_test_red = encoder.predict(x_test, batch_size=8)\n",
    "x_attacks_red = encoder.predict(x_attacks, batch_size=8)"
   ]
  },
  {
   "cell_type": "code",
   "execution_count": null,
   "metadata": {},
   "outputs": [],
   "source": [
    "plt.figure(figsize=(20,10))\n",
    "plt.scatter(x_attacks_red[:,0], x_attacks_red[:,1], color='red', label='attack')\n",
    "plt.scatter(x_train_red[:,0], x_train_red[:,1], color='green', label='Train')\n",
    "plt.scatter(x_test_red[:,0], x_test_red[:,1], color='yellow', label='Test')\n",
    "plt.legend()"
   ]
  },
  {
   "cell_type": "code",
   "execution_count": null,
   "metadata": {},
   "outputs": [],
   "source": [
    "ae_svm_results = pd.DataFrame(columns=['gamma', 'nu', 'n_components', 'TPR_train', \n",
    "                                    'TPR_test', 'TNR', 'model', 'auc', 'f_beta'])\n",
    "\n",
    "gammas = [x_train_red.shape[1], 2*x_train_red.shape[1], x_train_red.shape[1]/2, 'auto']                                 \n",
    "for nu in nus:\n",
    "    for gamma in gammas:\n",
    "        classifier = svm.OneClassSVM(kernel='rbf',gamma=gamma, nu=nu, cache_size=5000)\n",
    "        classifier.fit(X_reduced)\n",
    "        y_pred_train = classifier.predict(X_reduced)\n",
    "        y_pred_test = classifier.predict(test_reduced)\n",
    "        y_pred_outliers = classifier.predict(attack_reduced)\n",
    "        n_accurate_train = y_pred_train[y_pred_train == 1].size\n",
    "        n_accurate_test = y_pred_test[y_pred_test == 1].size\n",
    "        n_accurate_outliers = y_pred_outliers[y_pred_outliers == -1].size\n",
    "\n",
    "\n",
    "        fpr, tpr, _ = metrics.roc_curve(np.concatenate([np.ones(y_pred_test.shape[0]),\n",
    "                                                         -1*np.ones(y_pred_outliers.shape[0])]), \n",
    "                                          np.concatenate([y_pred_test, y_pred_outliers]) , pos_label=1)\n",
    "        fb = metrics.fbeta_score(np.concatenate([np.ones(y_pred_test.shape[0]),\n",
    "                                                         -1*np.ones(y_pred_outliers.shape[0])]), \n",
    "                                          np.concatenate([y_pred_test, y_pred_outliers]),beta=20 ,pos_label=1)\n",
    "\n",
    "        ae_svm_results = ae_svm_results.append({'nu': nu, 'gamma': gamma, 'n_components': n, 'TPR_train': n_accurate_train/X_reduced.shape[0],\n",
    "                       'TPR_test': n_accurate_test/test_reduced.shape[0], 'TNR': n_accurate_outliers/attack_reduced.shape[0],\n",
    "                       'model': 'ae-svm', 'auc': metrics.auc(fpr, tpr), 'f_beta': fb}, ignore_index=True)\n"
   ]
  },
  {
   "cell_type": "code",
   "execution_count": null,
   "metadata": {},
   "outputs": [],
   "source": [
    "ae_svm_results.sort_values('f_beta', ascending=False).head(10)"
   ]
  },
  {
   "cell_type": "code",
   "execution_count": null,
   "metadata": {},
   "outputs": [],
   "source": [
    "classifier = svm.OneClassSVM(kernel='rbf',gamma='auto', nu=0.01, cache_size=5000)\n",
    "classifier.fit(X_reduced)\n",
    "y_pred_train = classifier.predict(X_reduced)\n",
    "y_pred_test = classifier.predict(test_reduced)\n",
    "y_pred_outliers = classifier.predict(attack_reduced)\n",
    "n_accurate_train = y_pred_train[y_pred_train == 1].size\n",
    "n_accurate_test = y_pred_test[y_pred_test == 1].size\n",
    "n_accurate_outliers = y_pred_outliers[y_pred_outliers == -1].size\n",
    "\n",
    "fpr, tpr, _ = metrics.roc_curve(np.concatenate([np.ones(y_pred_test.shape[0]),\n",
    "                                                 -1*np.ones(y_pred_outliers.shape[0])]), \n",
    "                                  np.concatenate([y_pred_test, y_pred_outliers]) , pos_label=1)\n",
    "\n",
    "plot_roc(fpr, tpr, 'Autoencoder + SVM')"
   ]
  },
  {
   "cell_type": "code",
   "execution_count": null,
   "metadata": {},
   "outputs": [],
   "source": []
  }
 ],
 "metadata": {
  "kernelspec": {
   "display_name": "Python 3",
   "language": "python",
   "name": "python3"
  },
  "language_info": {
   "codemirror_mode": {
    "name": "ipython",
    "version": 3
   },
   "file_extension": ".py",
   "mimetype": "text/x-python",
   "name": "python",
   "nbconvert_exporter": "python",
   "pygments_lexer": "ipython3",
   "version": "3.6.7"
  }
 },
 "nbformat": 4,
 "nbformat_minor": 2
}
