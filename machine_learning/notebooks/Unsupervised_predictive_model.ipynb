{
 "cells": [
  {
   "cell_type": "markdown",
   "metadata": {},
   "source": [
    "# Import Libraries"
   ]
  },
  {
   "cell_type": "code",
   "execution_count": null,
   "metadata": {
    "scrolled": false
   },
   "outputs": [],
   "source": [
    "import sys\n",
    "import pandas as pd\n",
    "import numpy as np\n",
    "\n",
    "from sklearn import preprocessing\n",
    "from sklearn.decomposition import PCA\n",
    "from sklearn import random_projection\n",
    "from sklearn.preprocessing import StandardScaler\n",
    "from sklearn.metrics import fbeta_score, roc_curve, auc\n",
    "from sklearn import svm\n",
    "from sklearn.ensemble import IsolationForest\n",
    "\n",
    "\n",
    "from keras.layers import Input, Dense\n",
    "from keras.models import Model\n",
    "from keras import regularizers\n",
    "from keras.optimizers import Adam\n",
    "\n",
    "from itertools import product\n",
    "import matplotlib.pyplot as plt\n",
    "import matplotlib.mlab as mlab\n",
    "import pickle\n",
    "import json\n",
    "\n",
    "pd.options.display.max_columns = 999\n",
    "\n",
    "sys.path.insert(0, '../../scripts/modeling_toolbox/')\n",
    "# load the autoreload extension\n",
    "%load_ext autoreload\n",
    "# Set extension to reload modules every time before executing code\n",
    "%autoreload 2\n",
    "\n",
    "from metric_processor import MetricProcessor\n",
    "import evaluation\n",
    "\n",
    "%matplotlib inline"
   ]
  },
  {
   "cell_type": "markdown",
   "metadata": {},
   "source": [
    "# Data Preparation"
   ]
  },
  {
   "cell_type": "code",
   "execution_count": null,
   "metadata": {
    "scrolled": true
   },
   "outputs": [],
   "source": [
    "features = ['dimension',\n",
    "            'size',\n",
    "            'temporal_dct-mean', \n",
    "            'temporal_gaussian_mse-mean', \n",
    "            'temporal_gaussian_difference-mean',\n",
    "            'temporal_threshold_gaussian_difference-mean',\n",
    "            #'temporal_match-mean'\n",
    "           ]\n",
    "\n",
    "\n",
    "path = '../../machine_learning/cloud_functions/data-large.csv'\n",
    "\n",
    "metric_processor = MetricProcessor(features,'UL', path, reduced=False, bins=0)\n",
    "df = metric_processor.read_and_process_data()\n",
    "df['size_dimension_ratio'] = df['size'] / df['dimension']\n",
    "df = df.drop(['dimension', 'size'], axis=1)\n",
    "features.append('size_dimension_ratio')\n",
    "df.shape"
   ]
  },
  {
   "cell_type": "code",
   "execution_count": null,
   "metadata": {
    "scrolled": true
   },
   "outputs": [],
   "source": [
    "display(df.head())\n",
    "display(pd.DataFrame(df['attack'].unique()))"
   ]
  },
  {
   "cell_type": "code",
   "execution_count": null,
   "metadata": {
    "scrolled": false
   },
   "outputs": [],
   "source": [
    "(X_train, X_test, X_attacks), (df_train, df_test, df_attacks) = metric_processor.split_test_and_train(df)\n",
    "\n",
    "print('Shape of train: {}'.format(X_train.shape))\n",
    "print('Shape of test: {}'.format(X_test.shape))\n",
    "print('Shape of attacks: {}'.format(X_attacks.shape))"
   ]
  },
  {
   "cell_type": "code",
   "execution_count": null,
   "metadata": {
    "scrolled": false
   },
   "outputs": [],
   "source": [
    "# Scaling the data\n",
    "ss = StandardScaler()\n",
    "x_train = ss.fit_transform(X_train)\n",
    "x_test = ss.transform(X_test)\n",
    "x_attacks = ss.transform(X_attacks)\n",
    "\n",
    "# Save the scaler for inference\n",
    "pickle.dump(ss, open('../output/models/UL_StandardScaler.pickle.dat', 'wb'))"
   ]
  },
  {
   "cell_type": "markdown",
   "metadata": {},
   "source": [
    "# One Class SVM"
   ]
  },
  {
   "cell_type": "code",
   "execution_count": null,
   "metadata": {
    "scrolled": true
   },
   "outputs": [],
   "source": [
    "# Dataframe to store results\n",
    "svm_results = pd.DataFrame(columns=['gamma', 'nu', 'n_components', 'TPR_test',\n",
    "                                    'TNR', 'model', 'auc', 'f_beta', 'projection'])\n",
    "\n",
    "# Train the models\n",
    "svm_results = evaluation.one_class_svm(x_train, x_test, x_attacks, svm_results)\n",
    "\n"
   ]
  },
  {
   "cell_type": "code",
   "execution_count": null,
   "metadata": {},
   "outputs": [],
   "source": [
    "svm_results.sort_values('f_beta', ascending=False).head()"
   ]
  },
  {
   "cell_type": "code",
   "execution_count": null,
   "metadata": {},
   "outputs": [],
   "source": [
    "# Save the best model\n",
    "best_svm = svm_results.sort_values('f_beta', ascending=False).iloc[0]\n",
    "projection = best_svm['projection']\n",
    "\n",
    "reduction = None\n",
    "if projection == 'PCA':\n",
    "    reduction = PCA(n_components=best_svm['n_components'])\n",
    "elif projection == 'RP':\n",
    "    reduction = random_projection.SparseRandomProjection(n_components=best_svm['n_components'])\n",
    "else:\n",
    "    print('Unknown projection type')\n",
    "    X_reduced = x_train\n",
    "    attack_reduced = x_attacks\n",
    "    test_reduced = x_test\n",
    "    \n",
    "if reduction:    \n",
    "    X_reduced = reduction.fit_transform(x_train)\n",
    "    attack_reduced = reduction.transform(x_attacks)\n",
    "    test_reduced = reduction.transform(x_test)\n",
    "    pickle.dump(reduction, open('../output/models/reduction_OCSVM.pickle.dat', 'wb'))\n",
    "\n",
    "\n",
    "OCSVM = svm.OneClassSVM(kernel='rbf',gamma=best_svm['gamma'], nu=best_svm['nu'], cache_size=5000)\n",
    "\n",
    "OCSVM.fit(X_reduced)\n",
    "\n",
    "pickle.dump(OCSVM, open('../output/models/OCSVM.pickle.dat', 'wb'))\n",
    "\n",
    "best_svm_params = best_svm.to_dict()\n",
    "best_svm_params['features'] = features\n",
    "with open('../output/models/param_OCSVM.json', 'w') as fp:\n",
    "    json.dump(best_svm_params, fp)"
   ]
  },
  {
   "cell_type": "code",
   "execution_count": null,
   "metadata": {
    "scrolled": false
   },
   "outputs": [],
   "source": [
    "#Study the attacks that pass through the netowork\n",
    "\n",
    "y_pred_outliers = OCSVM.predict(attack_reduced)\n",
    "df_attacks_reset = df_attacks.reset_index()\n",
    "\n",
    "accurate_outliers_df = pd.DataFrame(y_pred_outliers, columns=['pred']) \n",
    "undetected = df_attacks_reset[accurate_outliers_df['pred'] == 1][['attack', 'title']]\n",
    "undetected.groupby(['attack']).count()"
   ]
  },
  {
   "cell_type": "code",
   "execution_count": null,
   "metadata": {},
   "outputs": [],
   "source": [
    "evaluation.plot_roc(OCSVM, test_reduced, attack_reduced, 'OCSVM ROC')"
   ]
  },
  {
   "cell_type": "markdown",
   "metadata": {},
   "source": [
    "# Isolation Forest"
   ]
  },
  {
   "cell_type": "code",
   "execution_count": null,
   "metadata": {
    "scrolled": true
   },
   "outputs": [],
   "source": [
    "isolation_results = pd.DataFrame(columns=['estimators', 'contamination', 'n_components', 'max_features',\n",
    "                                          'TPR_test','TPR_train' , 'TNR', 'model', 'auc', 'f_beta', 'projection'])\n",
    "\n",
    "# Train the models\n",
    "isolation_results = evaluation.isolation_forest(x_train, x_test, x_attacks, isolation_results)"
   ]
  },
  {
   "cell_type": "code",
   "execution_count": null,
   "metadata": {
    "scrolled": false
   },
   "outputs": [],
   "source": [
    "isolation_results.sort_values('f_beta', ascending=False).head()"
   ]
  },
  {
   "cell_type": "code",
   "execution_count": null,
   "metadata": {},
   "outputs": [],
   "source": [
    "# Save the best model\n",
    "best_isolation = isolation_results.sort_values('f_beta', ascending=False).iloc[0]\n",
    "projection = best_isolation['projection']\n",
    "\n",
    "if projection == 'PCA':\n",
    "    reduction = PCA(n_components=best_svm['n_components'])\n",
    "elif projection == 'RP':\n",
    "    reduction = random_projection.SparseRandomProjection(n_components=best_svm['n_components'])\n",
    "else:\n",
    "    print('Unknown projection type')\n",
    "    X_reduced = x_train\n",
    "if reduction:  \n",
    "    X_reduced = reduction.fit_transform(x_train)\n",
    "    attack_reduced = reduction.transform(x_attacks)\n",
    "    test_reduced = reduction.transform(x_test)\n",
    "    pickle.dump(reduction, open('../output/models/reduction_IF.pickle.dat', 'wb'))\n",
    "\n",
    "\n",
    "isolation_forest = IsolationForest(n_estimators=best_isolation['estimators'],\n",
    "                             contamination=best_isolation['contamination'],\n",
    "                             max_features=best_isolation['max_features'],\n",
    "                             n_jobs=7)\n",
    "\n",
    "isolation_forest.fit(X_reduced)\n",
    "\n",
    "pickle.dump(isolation_forest, open('../output/models/IF.pickle.dat', 'wb'))\n",
    "\n",
    "best_isolation_params = best_isolation.to_dict()\n",
    "best_isolation_params['features'] = features\n",
    "with open('../output/models/param_IF.json', 'w') as fp:\n",
    "    json.dump(best_svm_params, fp)"
   ]
  },
  {
   "cell_type": "code",
   "execution_count": null,
   "metadata": {},
   "outputs": [],
   "source": [
    "#Study the attacks that pass through the netowork\n",
    "\n",
    "y_pred_outliers = isolation_forest.predict(attack_reduced)\n",
    "df_attacks_reset = df_attacks.reset_index()\n",
    "\n",
    "accurate_outliers_df = pd.DataFrame(y_pred_outliers, columns=['pred']) \n",
    "undetected = df_attacks_reset[accurate_outliers_df['pred'] == 1][['attack', 'title']]\n",
    "undetected.groupby(['attack']).count()"
   ]
  },
  {
   "cell_type": "code",
   "execution_count": null,
   "metadata": {
    "scrolled": false
   },
   "outputs": [],
   "source": [
    "evaluation.plot_roc(isolation_forest, test_reduced, attack_reduced, 'Isolation Forest ROC')"
   ]
  },
  {
   "cell_type": "markdown",
   "metadata": {},
   "source": [
    "# Autoencoder"
   ]
  },
  {
   "cell_type": "code",
   "execution_count": null,
   "metadata": {
    "scrolled": true
   },
   "outputs": [],
   "source": [
    "latent_dim = 3\n",
    "input_vector = Input(shape=(X_train.shape[1],))\n",
    "encoded = Dense(latent_dim, activation='relu')(input_vector)\n",
    "decoded = Dense(X_train.shape[1], activity_regularizer=regularizers.l1(10e-5))(encoded)\n",
    "autoencoder = Model(input_vector, decoded)\n",
    "encoder = Model(input_vector, encoded)\n",
    "autoencoder.compile(optimizer=Adam(lr=0.001), loss='mse')\n",
    "network_history = autoencoder.fit(x_train, x_train, shuffle=True, batch_size=16, epochs=100,\n",
    "                                  validation_data=(x_test, x_test), verbose=True)\n"
   ]
  },
  {
   "cell_type": "code",
   "execution_count": null,
   "metadata": {
    "scrolled": false
   },
   "outputs": [],
   "source": [
    "def plot_history(network_history, title):\n",
    "    plt.figure(figsize=(10, 5))\n",
    "    plt.title(title)\n",
    "    plt.xlabel('Epochs')\n",
    "    plt.ylabel('Loss')\n",
    "    plt.semilogy(network_history.history['loss'])\n",
    "    plt.semilogy(network_history.history['val_loss'])\n",
    "    plt.legend(['Training', 'Validation'])\n",
    "    plt.grid()\n",
    "    plt.show()\n",
    "    \n",
    "plot_history(network_history, 'AE')"
   ]
  },
  {
   "cell_type": "code",
   "execution_count": null,
   "metadata": {
    "scrolled": true
   },
   "outputs": [],
   "source": [
    "print('Mean loss on train: {}'.format(autoencoder.evaluate(x_train, x_train, batch_size=8, verbose=False)))\n",
    "print('Mean loss on test: {}'.format(autoencoder.evaluate(x_test, x_test, batch_size=8, verbose=False)))\n",
    "print('Mean loss on attacks: {}'.format(autoencoder.evaluate(x_attacks, x_attacks, batch_size=8, verbose=False)))"
   ]
  },
  {
   "cell_type": "code",
   "execution_count": null,
   "metadata": {
    "scrolled": false
   },
   "outputs": [],
   "source": [
    "x_train_pred = autoencoder.predict(x_train, batch_size=8)\n",
    "x_test_pred = autoencoder.predict(x_test, batch_size=8)\n",
    "x_attacks_pred = autoencoder.predict(x_attacks, batch_size=8)"
   ]
  },
  {
   "cell_type": "code",
   "execution_count": null,
   "metadata": {
    "scrolled": false
   },
   "outputs": [],
   "source": [
    "mse_train = (((x_train - x_train_pred)**2).mean(axis=1))\n",
    "mse_test = (((x_test - x_test_pred)**2).mean(axis=1))\n",
    "mse_attacks = (((x_attacks - x_attacks_pred)**2).mean(axis=1))\n",
    "\n",
    "plt.figure()\n",
    "kwargs = dict(histtype='stepfilled', alpha=0.3, normed=True, bins=200)\n",
    "\n",
    "plt.hist(mse_train, **kwargs)\n",
    "plt.hist(mse_test, **kwargs)\n",
    "plt.hist(mse_attacks, **kwargs)\n",
    "plt.legend(['Train', 'Test', 'Attacks'])\n",
    "plt.title('Histograms of mse')\n",
    "plt.xlim([0, 5])\n"
   ]
  },
  {
   "cell_type": "code",
   "execution_count": null,
   "metadata": {
    "scrolled": false
   },
   "outputs": [],
   "source": [
    "x_train_red = encoder.predict(x_train, batch_size=8)\n",
    "x_test_red = encoder.predict(x_test, batch_size=8)\n",
    "x_attacks_red = encoder.predict(x_attacks, batch_size=8)"
   ]
  },
  {
   "cell_type": "code",
   "execution_count": null,
   "metadata": {
    "scrolled": false
   },
   "outputs": [],
   "source": [
    "plt.figure(figsize=(20,10))\n",
    "plt.scatter(x_attacks_red[:,0], x_attacks_red[:,1], color='red', label='attack')\n",
    "plt.scatter(x_train_red[:,0], x_train_red[:,1], color='green', label='Train')\n",
    "plt.scatter(x_test_red[:,0], x_test_red[:,1], color='yellow', label='Test')\n",
    "plt.legend()"
   ]
  },
  {
   "cell_type": "code",
   "execution_count": null,
   "metadata": {
    "scrolled": false
   },
   "outputs": [],
   "source": [
    "nus = [0.01]\n",
    "\n",
    "ae_svm_results = pd.DataFrame(columns=['gamma', 'nu', 'n_components', 'TPR_train', \n",
    "                                    'TPR_test', 'TNR', 'model', 'auc', 'f_beta'])\n",
    "\n",
    "gammas = [x_train_red.shape[1], 2*x_train_red.shape[1], x_train_red.shape[1]/2, 'auto']                                 \n",
    "for nu in nus:\n",
    "    for gamma in gammas:\n",
    "        classifier = svm.OneClassSVM(kernel='rbf',gamma=gamma, nu=nu, cache_size=5000)\n",
    "        classifier.fit(X_reduced)\n",
    "        y_pred_train = classifier.predict(X_reduced)\n",
    "        y_pred_test = classifier.predict(test_reduced)\n",
    "        y_pred_outliers = classifier.predict(attack_reduced)\n",
    "        n_accurate_train = y_pred_train[y_pred_train == 1].size\n",
    "        n_accurate_test = y_pred_test[y_pred_test == 1].size\n",
    "        n_accurate_outliers = y_pred_outliers[y_pred_outliers == -1].size\n",
    "\n",
    "\n",
    "        fpr, tpr, _ = roc_curve(np.concatenate([np.ones(y_pred_test.shape[0]),\n",
    "                                                         -1*np.ones(y_pred_outliers.shape[0])]), \n",
    "                                          np.concatenate([y_pred_test, y_pred_outliers]) , pos_label=1)\n",
    "        fb = fbeta_score(np.concatenate([np.ones(y_pred_test.shape[0]),\n",
    "                                                         -1*np.ones(y_pred_outliers.shape[0])]), \n",
    "                                          np.concatenate([y_pred_test, y_pred_outliers]),beta=20 ,pos_label=1)\n",
    "\n",
    "        ae_svm_results = ae_svm_results.append({'nu': nu, 'gamma': gamma, 'n_components': latent_dim, 'TPR_train': n_accurate_train/X_reduced.shape[0],\n",
    "                       'TPR_test': n_accurate_test/test_reduced.shape[0], 'TNR': n_accurate_outliers/attack_reduced.shape[0],\n",
    "                       'model': 'ae-svm', 'auc': auc(fpr, tpr), 'f_beta': fb}, ignore_index=True)\n"
   ]
  },
  {
   "cell_type": "code",
   "execution_count": null,
   "metadata": {},
   "outputs": [],
   "source": [
    "# Dataframe to store results\n",
    "ae_svm_results = pd.DataFrame(columns=['gamma', 'nu', 'n_components', 'TPR_train',\n",
    "                                           'TPR_test', 'TNR', 'model', 'auc', 'f_beta'])\n",
    "# Train the models\n",
    "ae_svm_results = evaluation.autoencoder(x_train, x_test, x_attacks, ae_svm_results)"
   ]
  },
  {
   "cell_type": "code",
   "execution_count": null,
   "metadata": {
    "scrolled": false
   },
   "outputs": [],
   "source": [
    "ae_svm_results.sort_values('f_beta', ascending=False).head()"
   ]
  },
  {
   "cell_type": "code",
   "execution_count": null,
   "metadata": {},
   "outputs": [],
   "source": []
  },
  {
   "cell_type": "code",
   "execution_count": null,
   "metadata": {},
   "outputs": [],
   "source": []
  }
 ],
 "metadata": {
  "kernelspec": {
   "display_name": "Python 3",
   "language": "python",
   "name": "python3"
  },
  "language_info": {
   "codemirror_mode": {
    "name": "ipython",
    "version": 3
   },
   "file_extension": ".py",
   "mimetype": "text/x-python",
   "name": "python",
   "nbconvert_exporter": "python",
   "pygments_lexer": "ipython3",
   "version": "3.6.8"
  }
 },
 "nbformat": 4,
 "nbformat_minor": 2
}
