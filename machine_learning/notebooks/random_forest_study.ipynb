{
 "cells": [
  {
   "cell_type": "code",
   "execution_count": null,
   "metadata": {},
   "outputs": [],
   "source": [
    "import sys\n",
    "import os\n",
    "import pandas as pd\n",
    "import numpy as np\n",
    "from sklearn import preprocessing\n",
    "from sklearn.metrics import confusion_matrix\n",
    "from sklearn.ensemble import RandomForestClassifier\n",
    "from sklearn import svm\n",
    "from sklearn.metrics import roc_curve, auc, fbeta_score\n",
    "from sklearn.preprocessing import MinMaxScaler, StandardScaler\n",
    "\n",
    "\n",
    "import xgboost as xgb\n",
    "from itertools import product\n",
    "import matplotlib.pyplot as plt\n",
    "import matplotlib.mlab as mlab\n",
    "import time\n",
    "pd.options.display.max_columns = 999\n",
    "pd.options.display.max_rows = 999\n",
    "\n",
    "sys.path.insert(0, '../../scripts/modeling_toolbox/')\n",
    "# load the autoreload extension\n",
    "%load_ext autoreload\n",
    "# Set extension to reload modules every time before executing code\n",
    "%autoreload 2\n",
    "\n",
    "from metric_processor import MetricProcessor\n",
    "import evaluation\n",
    "\n",
    "%matplotlib inline"
   ]
  },
  {
   "cell_type": "code",
   "execution_count": null,
   "metadata": {},
   "outputs": [],
   "source": [
    "features = [\n",
    "            'dimension', \n",
    "#             'size',\n",
    "#             'fps',\n",
    "#             'temporal_difference-euclidean', \n",
    "            #'temporal_difference-manhattan',\n",
    "            #'temporal_difference-max', \n",
    "            #'temporal_difference-mean',\n",
    "            #'temporal_difference-std', \n",
    "#             'temporal_dct-euclidean', \n",
    "            #'temporal_dct-manhattan',\n",
    "#             'temporal_dct-max', \n",
    "            'temporal_dct-mean',\n",
    "#             'temporal_dct-std',\n",
    "#             'temporal_gaussian_mse-euclidean', \n",
    "            #'temporal_gaussian_mse-manhattan',\n",
    "#             'temporal_gaussian_mse-max', \n",
    "            'temporal_gaussian_mse-mean',\n",
    "#             'temporal_gaussian_mse-std',\n",
    "#             'temporal_gaussian_difference-max'area, \n",
    "#             'temporal_gaussian_difference-mean',\n",
    "#             'temporal_gaussian_difference-std',\n",
    "#             'temporal_threshold_gaussian_difference-max', \n",
    "#             'temporal_threshold_gaussian_difference-mean',\n",
    "#             'temporal_threshold_gaussian_difference-std',\n",
    "#             'temporal_histogram_distance-euclidean',\n",
    "            #'temporal_histogram_distance-manhattan',\n",
    "#             'temporal_histogram_distance-max', \n",
    "#             'temporal_histogram_distance-mean',\n",
    "#             'temporal_histogram_distance-std'\n",
    "               ]\n",
    "path = '../../machine_learning/cloud_functions/data-large.csv'\n",
    "\n",
    "metric_processor = MetricProcessor(features,'SL', path, scale=True)\n",
    "df = metric_processor.read_and_process_data()\n",
    "df.shape"
   ]
  },
  {
   "cell_type": "code",
   "execution_count": null,
   "metadata": {},
   "outputs": [],
   "source": [
    "(x_test_all, y_test_all), (x_train, y_train), (x_test, y_test) = metric_processor.split_test_and_train(df)"
   ]
  },
  {
   "cell_type": "code",
   "execution_count": null,
   "metadata": {},
   "outputs": [],
   "source": [
    "classifier = RandomForestClassifier(n_estimators=5, n_jobs=7)\n",
    "\n",
    "classifier.fit(x_train, y_train)"
   ]
  },
  {
   "cell_type": "code",
   "execution_count": null,
   "metadata": {},
   "outputs": [],
   "source": [
    "fb, area, tnr, tpr = evaluation.supervised_evaluation(classifier, x_test, y_test)\n",
    "print(fb, area, tnr, tpr)"
   ]
  },
  {
   "cell_type": "code",
   "execution_count": null,
   "metadata": {},
   "outputs": [],
   "source": [
    "importances = classifier.feature_importances_\n",
    "indices = np.argsort(importances)[::-1]\n",
    "\n",
    "print('Feature ranking:')\n",
    "for f in range(x_test.shape[1]):\n",
    "    print('{}º: {} -- ({})'.format(f + 1, features[indices[f]], importances[indices[f]]))"
   ]
  },
  {
   "cell_type": "markdown",
   "metadata": {},
   "source": [
    "# Visualizing the Trees"
   ]
  },
  {
   "cell_type": "code",
   "execution_count": null,
   "metadata": {},
   "outputs": [],
   "source": [
    "from sklearn.tree import export_graphviz"
   ]
  },
  {
   "cell_type": "code",
   "execution_count": null,
   "metadata": {},
   "outputs": [],
   "source": [
    "from sklearn.tree import DecisionTreeClassifier, export_graphviz\n",
    "\n",
    "\n",
    "clf = DecisionTreeClassifier(max_depth=2)\n",
    "clf.fit(x_train, y_train)"
   ]
  },
  {
   "cell_type": "code",
   "execution_count": null,
   "metadata": {},
   "outputs": [],
   "source": [
    "fb, area, tnr, tpr = evaluation.supervised_evaluation(classifier, x_test, y_test)\n",
    "print(fb, tnr, tpr)"
   ]
  },
  {
   "cell_type": "code",
   "execution_count": null,
   "metadata": {},
   "outputs": [],
   "source": [
    "export_graphviz(clf, out_file='tree.dot', \n",
    "                feature_names=features,\n",
    "                class_names=True,\n",
    "                rounded=True, proportion = False, \n",
    "                precision=6, filled=True)"
   ]
  },
  {
   "cell_type": "code",
   "execution_count": null,
   "metadata": {},
   "outputs": [],
   "source": [
    "from subprocess import call\n",
    "call(['dot', '-Tpng', 'tree.dot', '-o', 'tree.png', '-Gdpi=100'])"
   ]
  },
  {
   "cell_type": "markdown",
   "metadata": {},
   "source": [
    "# Understanding the Classification"
   ]
  },
  {
   "cell_type": "markdown",
   "metadata": {},
   "source": [
    "It looks like with a very simple threshold we can achieve outstanding results. Let's check it out:"
   ]
  },
  {
   "cell_type": "code",
   "execution_count": null,
   "metadata": {},
   "outputs": [],
   "source": [
    "threshold = 0.062695"
   ]
  },
  {
   "cell_type": "code",
   "execution_count": null,
   "metadata": {},
   "outputs": [],
   "source": [
    "y_pred = x_test['temporal_gaussian_mse-mean'] <= threshold"
   ]
  },
  {
   "cell_type": "code",
   "execution_count": null,
   "metadata": {},
   "outputs": [],
   "source": [
    "from sklearn.metrics import confusion_matrix\n",
    "cm = confusion_matrix(y_test, y_pred)\n",
    "tn, fp, fn, tp = cm.ravel()\n",
    "TPR = tp/(tp+fn)\n",
    "TNR = tn/(tn+fp)\n",
    "print('TPR: {}. TNR: {}'.format(TPR, TNR))"
   ]
  },
  {
   "cell_type": "markdown",
   "metadata": {},
   "source": [
    "# Training with only one attack"
   ]
  },
  {
   "cell_type": "code",
   "execution_count": null,
   "metadata": {},
   "outputs": [],
   "source": [
    "metric_processor = MetricProcessor(features,'UL', path, scale=True)\n",
    "df = metric_processor.read_and_process_data()\n",
    "(X_train, X_test, X_attacks), (df_train, df_test, df_attacks) = metric_processor.split_test_and_train(df)"
   ]
  },
  {
   "cell_type": "code",
   "execution_count": null,
   "metadata": {},
   "outputs": [],
   "source": [
    "metric_processor = MetricProcessor(features,'SL', path, scale=True)\n",
    "df = metric_processor.read_and_process_data()\n",
    "(x_test_all_, y_test_all_), (x_train_, y_train_), (x_test_, y_test_) = metric_processor.split_test_and_train(df)"
   ]
  },
  {
   "cell_type": "code",
   "execution_count": null,
   "metadata": {},
   "outputs": [],
   "source": [
    "attack_type = 'low_bitrate_8'\n",
    "df_attacks_sel = df_attacks[df_attacks['attack'].str.contains(attack_type) \n",
    "                            ]\n",
    "mask = np.random.rand(len(df_attacks_sel)) < 0.8\n",
    "df_attacks_sel_train = df_attacks_sel[mask]\n",
    "df_attacks_sel_test = df_attacks_sel[~mask]\n",
    "attacks_sel_train = np.array(df_attacks_sel_train)[:, :X_train.shape[1]]\n",
    "attacks_sel_test = np.array(df_attacks_sel_test)[:, :X_train.shape[1]]"
   ]
  },
  {
   "cell_type": "code",
   "execution_count": null,
   "metadata": {},
   "outputs": [],
   "source": [
    "x_train = np.concatenate((X_train, attacks_sel_train))\n",
    "y_train = np.concatenate((np.ones(len(X_train)), np.zeros(len(attacks_sel_train))))\n",
    "\n",
    "x_test = np.concatenate((X_test, attacks_sel_test))\n",
    "y_test = np.concatenate((np.ones(len(X_test)), np.zeros(len(attacks_sel_test))))\n",
    "\n",
    "# clf = DecisionTreeClassifier(max_depth=5)\n",
    "# clf = RandomForestClassifier(n_estimators=50, n_jobs=7)\n",
    "clf = xgb.XGBClassifier(max_depth=8, n_jobs=-1, n_estimators=200)\n",
    "clf.fit(x_train, y_train)"
   ]
  },
  {
   "cell_type": "code",
   "execution_count": null,
   "metadata": {},
   "outputs": [],
   "source": [
    "fb, area, tnr, tpr = evaluation.supervised_evaluation(clf, x_train, y_train)\n",
    "print(fb, tnr, tpr)"
   ]
  },
  {
   "cell_type": "code",
   "execution_count": null,
   "metadata": {},
   "outputs": [],
   "source": [
    "fb, area, tnr, tpr = evaluation.supervised_evaluation(clf, x_test, y_test)\n",
    "print(fb, tnr, tpr)"
   ]
  },
  {
   "cell_type": "code",
   "execution_count": null,
   "metadata": {},
   "outputs": [],
   "source": [
    "fb, area, tnr, tpr = evaluation.supervised_evaluation(clf, np.array(x_test_), np.array(y_test_))\n",
    "print(fb, tnr, tpr)"
   ]
  },
  {
   "cell_type": "code",
   "execution_count": null,
   "metadata": {},
   "outputs": [],
   "source": [
    "fb, area, tnr, tpr = evaluation.supervised_evaluation(clf, x_test_all_, y_test_all_)\n",
    "print(fb, tnr, tpr)"
   ]
  }
 ],
 "metadata": {
  "kernelspec": {
   "display_name": "Python 3",
   "language": "python",
   "name": "python3"
  },
  "language_info": {
   "codemirror_mode": {
    "name": "ipython",
    "version": 3
   },
   "file_extension": ".py",
   "mimetype": "text/x-python",
   "name": "python",
   "nbconvert_exporter": "python",
   "pygments_lexer": "ipython3",
   "version": "3.6.7"
  }
 },
 "nbformat": 4,
 "nbformat_minor": 2
}
