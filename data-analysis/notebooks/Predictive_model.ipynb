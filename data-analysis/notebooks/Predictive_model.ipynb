{
 "cells": [
  {
   "cell_type": "code",
   "execution_count": 1,
   "metadata": {},
   "outputs": [
    {
     "name": "stderr",
     "output_type": "stream",
     "text": [
      "Using TensorFlow backend.\n"
     ]
    }
   ],
   "source": [
    "import pandas as pd\n",
    "import numpy as np\n",
    "from keras.models import Sequential\n",
    "from keras.layers import Dense, Dropout\n",
    "from keras.optimizers import Adam\n",
    "import keras.backend as K\n",
    "from sklearn import preprocessing\n",
    "from sklearn.metrics import confusion_matrix\n",
    "from sklearn.ensemble import RandomForestClassifier\n",
    "from sklearn.ensemble import AdaBoostClassifier\n",
    "from sklearn import svm\n",
    "from sklearn.metrics import roc_curve, auc\n",
    "from itertools import product\n",
    "import matplotlib.pyplot as plt\n",
    "import matplotlib.mlab as mlab\n",
    "import seaborn\n",
    "\n",
    "%matplotlib inline"
   ]
  },
  {
   "cell_type": "code",
   "execution_count": 4,
   "metadata": {},
   "outputs": [],
   "source": [
    "data = pd.read_csv(r'../../output/metrics.csv')\n",
    "df = pd.DataFrame(data)\n",
    "df['title'] = df['level_0']\n",
    "attack_series = []\n",
    "attack_IDs = []\n",
    "dimensions_series = []\n",
    "for _, row in df.iterrows():\n",
    "    attack_series.append(row['level_1'].split('/')[-2])\n",
    "\n",
    "df['attack'] = attack_series\n",
    "\n",
    "for _, row in df.iterrows():\n",
    "    dimension = int(row['attack'].split('_')[0].replace('p',''))\n",
    "    dimensions_series.append(dimension)\n",
    "    if row['attack'] in ['1080p', '720p', '480p', '360p', '240p', '144p']:\n",
    "            attack_IDs.append(1)\n",
    "    else:\n",
    "        attack_IDs.append(0)\n",
    "\n",
    "df['attack_ID'] = attack_IDs\n",
    "df['dimension'] = dimensions_series\n",
    "df = df.drop(['Unnamed: 0',\n",
    "         'temporal_canny-series',\n",
    "         'temporal_canny-cosine',\n",
    "         'temporal_cross_correlation-series',\n",
    "         'temporal_cross_correlation-cosine',\n",
    "         'temporal_difference-series',\n",
    "         'temporal_difference-cosine',\n",
    "         'temporal_histogram_distance-series', \n",
    "         'temporal_histogram_distance-cosine',\n",
    "         'level_0', \n",
    "         'level_1'],axis=1)"
   ]
  },
  {
   "cell_type": "markdown",
   "metadata": {},
   "source": [
    "# Data Visualization"
   ]
  },
  {
   "cell_type": "code",
   "execution_count": 3,
   "metadata": {
    "scrolled": true
   },
   "outputs": [
    {
     "data": {
      "text/html": [
       "<div>\n",
       "<style scoped>\n",
       "    .dataframe tbody tr th:only-of-type {\n",
       "        vertical-align: middle;\n",
       "    }\n",
       "\n",
       "    .dataframe tbody tr th {\n",
       "        vertical-align: top;\n",
       "    }\n",
       "\n",
       "    .dataframe thead th {\n",
       "        text-align: right;\n",
       "    }\n",
       "</style>\n",
       "<table border=\"1\" class=\"dataframe\">\n",
       "  <thead>\n",
       "    <tr style=\"text-align: right;\">\n",
       "      <th></th>\n",
       "      <th>temporal_canny-euclidean</th>\n",
       "      <th>temporal_cross_correlation-euclidean</th>\n",
       "      <th>temporal_difference-euclidean</th>\n",
       "      <th>temporal_histogram_distance-euclidean</th>\n",
       "      <th>vmaf</th>\n",
       "      <th>title</th>\n",
       "      <th>attack</th>\n",
       "      <th>attack_ID</th>\n",
       "      <th>dimension</th>\n",
       "    </tr>\n",
       "  </thead>\n",
       "  <tbody>\n",
       "    <tr>\n",
       "      <th>0</th>\n",
       "      <td>0.000000</td>\n",
       "      <td>0.000000</td>\n",
       "      <td>0.000000</td>\n",
       "      <td>0.000000</td>\n",
       "      <td>NaN</td>\n",
       "      <td>../../data/1080p/-8ygLPzgpsg.mp4</td>\n",
       "      <td>1080p</td>\n",
       "      <td>1</td>\n",
       "      <td>1080</td>\n",
       "    </tr>\n",
       "    <tr>\n",
       "      <th>1</th>\n",
       "      <td>0.670932</td>\n",
       "      <td>0.186423</td>\n",
       "      <td>0.585142</td>\n",
       "      <td>0.587441</td>\n",
       "      <td>78.516691</td>\n",
       "      <td>../../data/1080p/-8ygLPzgpsg.mp4</td>\n",
       "      <td>1080p_watermark</td>\n",
       "      <td>0</td>\n",
       "      <td>1080</td>\n",
       "    </tr>\n",
       "    <tr>\n",
       "      <th>2</th>\n",
       "      <td>1.866004</td>\n",
       "      <td>3.274284</td>\n",
       "      <td>0.361467</td>\n",
       "      <td>0.048735</td>\n",
       "      <td>3.019776</td>\n",
       "      <td>../../data/1080p/-8ygLPzgpsg.mp4</td>\n",
       "      <td>1080p_flip_vertical</td>\n",
       "      <td>0</td>\n",
       "      <td>1080</td>\n",
       "    </tr>\n",
       "    <tr>\n",
       "      <th>3</th>\n",
       "      <td>1.812684</td>\n",
       "      <td>4.191308</td>\n",
       "      <td>0.403333</td>\n",
       "      <td>0.091211</td>\n",
       "      <td>1.929483</td>\n",
       "      <td>../../data/1080p/-8ygLPzgpsg.mp4</td>\n",
       "      <td>1080p_rotate_90_clockwise</td>\n",
       "      <td>0</td>\n",
       "      <td>1080</td>\n",
       "    </tr>\n",
       "    <tr>\n",
       "      <th>4</th>\n",
       "      <td>0.630162</td>\n",
       "      <td>0.385323</td>\n",
       "      <td>1.154801</td>\n",
       "      <td>11.787850</td>\n",
       "      <td>NaN</td>\n",
       "      <td>../../data/1080p/-8ygLPzgpsg.mp4</td>\n",
       "      <td>1080p_vignette</td>\n",
       "      <td>0</td>\n",
       "      <td>1080</td>\n",
       "    </tr>\n",
       "    <tr>\n",
       "      <th>5</th>\n",
       "      <td>0.556471</td>\n",
       "      <td>0.127974</td>\n",
       "      <td>1.431690</td>\n",
       "      <td>16.136381</td>\n",
       "      <td>NaN</td>\n",
       "      <td>../../data/1080p/-8ygLPzgpsg.mp4</td>\n",
       "      <td>1080p_black_and_white</td>\n",
       "      <td>0</td>\n",
       "      <td>1080</td>\n",
       "    </tr>\n",
       "    <tr>\n",
       "      <th>6</th>\n",
       "      <td>0.647693</td>\n",
       "      <td>0.012719</td>\n",
       "      <td>2.022201</td>\n",
       "      <td>0.266372</td>\n",
       "      <td>NaN</td>\n",
       "      <td>../../data/1080p/-8ygLPzgpsg.mp4</td>\n",
       "      <td>1080p_low_bitrate_4</td>\n",
       "      <td>0</td>\n",
       "      <td>1080</td>\n",
       "    </tr>\n",
       "    <tr>\n",
       "      <th>7</th>\n",
       "      <td>0.615467</td>\n",
       "      <td>0.005353</td>\n",
       "      <td>0.702022</td>\n",
       "      <td>0.080409</td>\n",
       "      <td>96.411326</td>\n",
       "      <td>../../data/1080p/-8ygLPzgpsg.mp4</td>\n",
       "      <td>720p</td>\n",
       "      <td>1</td>\n",
       "      <td>720</td>\n",
       "    </tr>\n",
       "    <tr>\n",
       "      <th>8</th>\n",
       "      <td>0.648275</td>\n",
       "      <td>0.391206</td>\n",
       "      <td>1.339839</td>\n",
       "      <td>11.799543</td>\n",
       "      <td>NaN</td>\n",
       "      <td>../../data/1080p/-8ygLPzgpsg.mp4</td>\n",
       "      <td>720p_vignette</td>\n",
       "      <td>0</td>\n",
       "      <td>720</td>\n",
       "    </tr>\n",
       "    <tr>\n",
       "      <th>9</th>\n",
       "      <td>0.627251</td>\n",
       "      <td>0.131143</td>\n",
       "      <td>1.794147</td>\n",
       "      <td>16.145431</td>\n",
       "      <td>NaN</td>\n",
       "      <td>../../data/1080p/-8ygLPzgpsg.mp4</td>\n",
       "      <td>720p_black_and_white</td>\n",
       "      <td>0</td>\n",
       "      <td>720</td>\n",
       "    </tr>\n",
       "    <tr>\n",
       "      <th>10</th>\n",
       "      <td>0.664513</td>\n",
       "      <td>0.022289</td>\n",
       "      <td>2.605721</td>\n",
       "      <td>0.390738</td>\n",
       "      <td>NaN</td>\n",
       "      <td>../../data/1080p/-8ygLPzgpsg.mp4</td>\n",
       "      <td>720p_low_bitrate_4</td>\n",
       "      <td>0</td>\n",
       "      <td>720</td>\n",
       "    </tr>\n",
       "    <tr>\n",
       "      <th>11</th>\n",
       "      <td>0.743967</td>\n",
       "      <td>0.183943</td>\n",
       "      <td>1.017326</td>\n",
       "      <td>0.613731</td>\n",
       "      <td>70.105340</td>\n",
       "      <td>../../data/1080p/-8ygLPzgpsg.mp4</td>\n",
       "      <td>720p_watermark</td>\n",
       "      <td>0</td>\n",
       "      <td>720</td>\n",
       "    </tr>\n",
       "    <tr>\n",
       "      <th>12</th>\n",
       "      <td>1.865968</td>\n",
       "      <td>3.276412</td>\n",
       "      <td>0.713908</td>\n",
       "      <td>0.084600</td>\n",
       "      <td>4.647022</td>\n",
       "      <td>../../data/1080p/-8ygLPzgpsg.mp4</td>\n",
       "      <td>720p_flip_vertical</td>\n",
       "      <td>0</td>\n",
       "      <td>720</td>\n",
       "    </tr>\n",
       "    <tr>\n",
       "      <th>13</th>\n",
       "      <td>1.812559</td>\n",
       "      <td>4.186015</td>\n",
       "      <td>0.629999</td>\n",
       "      <td>0.108269</td>\n",
       "      <td>3.270202</td>\n",
       "      <td>../../data/1080p/-8ygLPzgpsg.mp4</td>\n",
       "      <td>720p_rotate_90_clockwise</td>\n",
       "      <td>0</td>\n",
       "      <td>720</td>\n",
       "    </tr>\n",
       "    <tr>\n",
       "      <th>14</th>\n",
       "      <td>0.646582</td>\n",
       "      <td>0.010450</td>\n",
       "      <td>0.876249</td>\n",
       "      <td>0.127147</td>\n",
       "      <td>95.704518</td>\n",
       "      <td>../../data/1080p/-8ygLPzgpsg.mp4</td>\n",
       "      <td>480p</td>\n",
       "      <td>1</td>\n",
       "      <td>480</td>\n",
       "    </tr>\n",
       "    <tr>\n",
       "      <th>15</th>\n",
       "      <td>0.744234</td>\n",
       "      <td>0.176253</td>\n",
       "      <td>1.084909</td>\n",
       "      <td>0.656596</td>\n",
       "      <td>68.560010</td>\n",
       "      <td>../../data/1080p/-8ygLPzgpsg.mp4</td>\n",
       "      <td>480p_watermark</td>\n",
       "      <td>0</td>\n",
       "      <td>480</td>\n",
       "    </tr>\n",
       "    <tr>\n",
       "      <th>16</th>\n",
       "      <td>0.666800</td>\n",
       "      <td>0.394355</td>\n",
       "      <td>1.500865</td>\n",
       "      <td>11.894807</td>\n",
       "      <td>NaN</td>\n",
       "      <td>../../data/1080p/-8ygLPzgpsg.mp4</td>\n",
       "      <td>480p_vignette</td>\n",
       "      <td>0</td>\n",
       "      <td>480</td>\n",
       "    </tr>\n",
       "    <tr>\n",
       "      <th>17</th>\n",
       "      <td>0.647746</td>\n",
       "      <td>0.136030</td>\n",
       "      <td>1.459471</td>\n",
       "      <td>16.145185</td>\n",
       "      <td>NaN</td>\n",
       "      <td>../../data/1080p/-8ygLPzgpsg.mp4</td>\n",
       "      <td>480p_black_and_white</td>\n",
       "      <td>0</td>\n",
       "      <td>480</td>\n",
       "    </tr>\n",
       "    <tr>\n",
       "      <th>18</th>\n",
       "      <td>0.675719</td>\n",
       "      <td>0.039454</td>\n",
       "      <td>2.784506</td>\n",
       "      <td>0.628769</td>\n",
       "      <td>NaN</td>\n",
       "      <td>../../data/1080p/-8ygLPzgpsg.mp4</td>\n",
       "      <td>480p_low_bitrate_4</td>\n",
       "      <td>0</td>\n",
       "      <td>480</td>\n",
       "    </tr>\n",
       "    <tr>\n",
       "      <th>19</th>\n",
       "      <td>1.865477</td>\n",
       "      <td>3.255560</td>\n",
       "      <td>0.903857</td>\n",
       "      <td>0.140931</td>\n",
       "      <td>5.570781</td>\n",
       "      <td>../../data/1080p/-8ygLPzgpsg.mp4</td>\n",
       "      <td>480p_flip_vertical</td>\n",
       "      <td>0</td>\n",
       "      <td>480</td>\n",
       "    </tr>\n",
       "    <tr>\n",
       "      <th>20</th>\n",
       "      <td>1.805178</td>\n",
       "      <td>4.173483</td>\n",
       "      <td>0.839893</td>\n",
       "      <td>0.160527</td>\n",
       "      <td>4.640124</td>\n",
       "      <td>../../data/1080p/-8ygLPzgpsg.mp4</td>\n",
       "      <td>480p_rotate_90_clockwise</td>\n",
       "      <td>0</td>\n",
       "      <td>480</td>\n",
       "    </tr>\n",
       "    <tr>\n",
       "      <th>21</th>\n",
       "      <td>0.648654</td>\n",
       "      <td>0.019820</td>\n",
       "      <td>1.043024</td>\n",
       "      <td>0.225889</td>\n",
       "      <td>94.727165</td>\n",
       "      <td>../../data/1080p/-8ygLPzgpsg.mp4</td>\n",
       "      <td>360p</td>\n",
       "      <td>1</td>\n",
       "      <td>360</td>\n",
       "    </tr>\n",
       "    <tr>\n",
       "      <th>22</th>\n",
       "      <td>0.748381</td>\n",
       "      <td>0.177205</td>\n",
       "      <td>1.374230</td>\n",
       "      <td>0.750807</td>\n",
       "      <td>68.950634</td>\n",
       "      <td>../../data/1080p/-8ygLPzgpsg.mp4</td>\n",
       "      <td>360p_watermark</td>\n",
       "      <td>0</td>\n",
       "      <td>360</td>\n",
       "    </tr>\n",
       "    <tr>\n",
       "      <th>23</th>\n",
       "      <td>0.678001</td>\n",
       "      <td>0.402656</td>\n",
       "      <td>1.714868</td>\n",
       "      <td>11.921761</td>\n",
       "      <td>NaN</td>\n",
       "      <td>../../data/1080p/-8ygLPzgpsg.mp4</td>\n",
       "      <td>360p_vignette</td>\n",
       "      <td>0</td>\n",
       "      <td>360</td>\n",
       "    </tr>\n",
       "    <tr>\n",
       "      <th>24</th>\n",
       "      <td>0.653742</td>\n",
       "      <td>0.143696</td>\n",
       "      <td>1.551548</td>\n",
       "      <td>16.156886</td>\n",
       "      <td>NaN</td>\n",
       "      <td>../../data/1080p/-8ygLPzgpsg.mp4</td>\n",
       "      <td>360p_black_and_white</td>\n",
       "      <td>0</td>\n",
       "      <td>360</td>\n",
       "    </tr>\n",
       "  </tbody>\n",
       "</table>\n",
       "</div>"
      ],
      "text/plain": [
       "    temporal_canny-euclidean  temporal_cross_correlation-euclidean  \\\n",
       "0                   0.000000                              0.000000   \n",
       "1                   0.670932                              0.186423   \n",
       "2                   1.866004                              3.274284   \n",
       "3                   1.812684                              4.191308   \n",
       "4                   0.630162                              0.385323   \n",
       "5                   0.556471                              0.127974   \n",
       "6                   0.647693                              0.012719   \n",
       "7                   0.615467                              0.005353   \n",
       "8                   0.648275                              0.391206   \n",
       "9                   0.627251                              0.131143   \n",
       "10                  0.664513                              0.022289   \n",
       "11                  0.743967                              0.183943   \n",
       "12                  1.865968                              3.276412   \n",
       "13                  1.812559                              4.186015   \n",
       "14                  0.646582                              0.010450   \n",
       "15                  0.744234                              0.176253   \n",
       "16                  0.666800                              0.394355   \n",
       "17                  0.647746                              0.136030   \n",
       "18                  0.675719                              0.039454   \n",
       "19                  1.865477                              3.255560   \n",
       "20                  1.805178                              4.173483   \n",
       "21                  0.648654                              0.019820   \n",
       "22                  0.748381                              0.177205   \n",
       "23                  0.678001                              0.402656   \n",
       "24                  0.653742                              0.143696   \n",
       "\n",
       "    temporal_difference-euclidean  temporal_histogram_distance-euclidean  \\\n",
       "0                        0.000000                               0.000000   \n",
       "1                        0.585142                               0.587441   \n",
       "2                        0.361467                               0.048735   \n",
       "3                        0.403333                               0.091211   \n",
       "4                        1.154801                              11.787850   \n",
       "5                        1.431690                              16.136381   \n",
       "6                        2.022201                               0.266372   \n",
       "7                        0.702022                               0.080409   \n",
       "8                        1.339839                              11.799543   \n",
       "9                        1.794147                              16.145431   \n",
       "10                       2.605721                               0.390738   \n",
       "11                       1.017326                               0.613731   \n",
       "12                       0.713908                               0.084600   \n",
       "13                       0.629999                               0.108269   \n",
       "14                       0.876249                               0.127147   \n",
       "15                       1.084909                               0.656596   \n",
       "16                       1.500865                              11.894807   \n",
       "17                       1.459471                              16.145185   \n",
       "18                       2.784506                               0.628769   \n",
       "19                       0.903857                               0.140931   \n",
       "20                       0.839893                               0.160527   \n",
       "21                       1.043024                               0.225889   \n",
       "22                       1.374230                               0.750807   \n",
       "23                       1.714868                              11.921761   \n",
       "24                       1.551548                              16.156886   \n",
       "\n",
       "         vmaf                             title                     attack  \\\n",
       "0         NaN  ../../data/1080p/-8ygLPzgpsg.mp4                      1080p   \n",
       "1   78.516691  ../../data/1080p/-8ygLPzgpsg.mp4            1080p_watermark   \n",
       "2    3.019776  ../../data/1080p/-8ygLPzgpsg.mp4        1080p_flip_vertical   \n",
       "3    1.929483  ../../data/1080p/-8ygLPzgpsg.mp4  1080p_rotate_90_clockwise   \n",
       "4         NaN  ../../data/1080p/-8ygLPzgpsg.mp4             1080p_vignette   \n",
       "5         NaN  ../../data/1080p/-8ygLPzgpsg.mp4      1080p_black_and_white   \n",
       "6         NaN  ../../data/1080p/-8ygLPzgpsg.mp4        1080p_low_bitrate_4   \n",
       "7   96.411326  ../../data/1080p/-8ygLPzgpsg.mp4                       720p   \n",
       "8         NaN  ../../data/1080p/-8ygLPzgpsg.mp4              720p_vignette   \n",
       "9         NaN  ../../data/1080p/-8ygLPzgpsg.mp4       720p_black_and_white   \n",
       "10        NaN  ../../data/1080p/-8ygLPzgpsg.mp4         720p_low_bitrate_4   \n",
       "11  70.105340  ../../data/1080p/-8ygLPzgpsg.mp4             720p_watermark   \n",
       "12   4.647022  ../../data/1080p/-8ygLPzgpsg.mp4         720p_flip_vertical   \n",
       "13   3.270202  ../../data/1080p/-8ygLPzgpsg.mp4   720p_rotate_90_clockwise   \n",
       "14  95.704518  ../../data/1080p/-8ygLPzgpsg.mp4                       480p   \n",
       "15  68.560010  ../../data/1080p/-8ygLPzgpsg.mp4             480p_watermark   \n",
       "16        NaN  ../../data/1080p/-8ygLPzgpsg.mp4              480p_vignette   \n",
       "17        NaN  ../../data/1080p/-8ygLPzgpsg.mp4       480p_black_and_white   \n",
       "18        NaN  ../../data/1080p/-8ygLPzgpsg.mp4         480p_low_bitrate_4   \n",
       "19   5.570781  ../../data/1080p/-8ygLPzgpsg.mp4         480p_flip_vertical   \n",
       "20   4.640124  ../../data/1080p/-8ygLPzgpsg.mp4   480p_rotate_90_clockwise   \n",
       "21  94.727165  ../../data/1080p/-8ygLPzgpsg.mp4                       360p   \n",
       "22  68.950634  ../../data/1080p/-8ygLPzgpsg.mp4             360p_watermark   \n",
       "23        NaN  ../../data/1080p/-8ygLPzgpsg.mp4              360p_vignette   \n",
       "24        NaN  ../../data/1080p/-8ygLPzgpsg.mp4       360p_black_and_white   \n",
       "\n",
       "    attack_ID  dimension  \n",
       "0           1       1080  \n",
       "1           0       1080  \n",
       "2           0       1080  \n",
       "3           0       1080  \n",
       "4           0       1080  \n",
       "5           0       1080  \n",
       "6           0       1080  \n",
       "7           1        720  \n",
       "8           0        720  \n",
       "9           0        720  \n",
       "10          0        720  \n",
       "11          0        720  \n",
       "12          0        720  \n",
       "13          0        720  \n",
       "14          1        480  \n",
       "15          0        480  \n",
       "16          0        480  \n",
       "17          0        480  \n",
       "18          0        480  \n",
       "19          0        480  \n",
       "20          0        480  \n",
       "21          1        360  \n",
       "22          0        360  \n",
       "23          0        360  \n",
       "24          0        360  "
      ]
     },
     "execution_count": 3,
     "metadata": {},
     "output_type": "execute_result"
    }
   ],
   "source": [
    "df.head(25)"
   ]
  },
  {
   "cell_type": "code",
   "execution_count": 7,
   "metadata": {
    "scrolled": true
   },
   "outputs": [
    {
     "data": {
      "text/html": [
       "<div>\n",
       "<style scoped>\n",
       "    .dataframe tbody tr th:only-of-type {\n",
       "        vertical-align: middle;\n",
       "    }\n",
       "\n",
       "    .dataframe tbody tr th {\n",
       "        vertical-align: top;\n",
       "    }\n",
       "\n",
       "    .dataframe thead th {\n",
       "        text-align: right;\n",
       "    }\n",
       "</style>\n",
       "<table border=\"1\" class=\"dataframe\">\n",
       "  <thead>\n",
       "    <tr style=\"text-align: right;\">\n",
       "      <th></th>\n",
       "      <th>temporal_canny-euclidean</th>\n",
       "      <th>temporal_cross_correlation-euclidean</th>\n",
       "      <th>temporal_difference-euclidean</th>\n",
       "      <th>temporal_histogram_distance-euclidean</th>\n",
       "      <th>vmaf</th>\n",
       "      <th>attack_ID</th>\n",
       "      <th>dimension</th>\n",
       "    </tr>\n",
       "  </thead>\n",
       "  <tbody>\n",
       "    <tr>\n",
       "      <th>count</th>\n",
       "      <td>5796.000000</td>\n",
       "      <td>5796.000000</td>\n",
       "      <td>5796.000000</td>\n",
       "      <td>5796.000000</td>\n",
       "      <td>3174.000000</td>\n",
       "      <td>5796.000000</td>\n",
       "      <td>5796.000000</td>\n",
       "    </tr>\n",
       "    <tr>\n",
       "      <th>mean</th>\n",
       "      <td>12196.617817</td>\n",
       "      <td>1.671773</td>\n",
       "      <td>3.302123</td>\n",
       "      <td>5.355903</td>\n",
       "      <td>40.343494</td>\n",
       "      <td>0.142857</td>\n",
       "      <td>504.000000</td>\n",
       "    </tr>\n",
       "    <tr>\n",
       "      <th>std</th>\n",
       "      <td>50237.227818</td>\n",
       "      <td>2.582384</td>\n",
       "      <td>2.904630</td>\n",
       "      <td>9.728277</td>\n",
       "      <td>40.267544</td>\n",
       "      <td>0.349957</td>\n",
       "      <td>316.001944</td>\n",
       "    </tr>\n",
       "    <tr>\n",
       "      <th>min</th>\n",
       "      <td>0.000000</td>\n",
       "      <td>0.000000</td>\n",
       "      <td>0.000000</td>\n",
       "      <td>0.000000</td>\n",
       "      <td>0.000000</td>\n",
       "      <td>0.000000</td>\n",
       "      <td>144.000000</td>\n",
       "    </tr>\n",
       "    <tr>\n",
       "      <th>25%</th>\n",
       "      <td>1.099166</td>\n",
       "      <td>0.103534</td>\n",
       "      <td>1.348963</td>\n",
       "      <td>0.165798</td>\n",
       "      <td>1.475565</td>\n",
       "      <td>0.000000</td>\n",
       "      <td>240.000000</td>\n",
       "    </tr>\n",
       "    <tr>\n",
       "      <th>50%</th>\n",
       "      <td>3.552987</td>\n",
       "      <td>0.352134</td>\n",
       "      <td>2.496744</td>\n",
       "      <td>0.604480</td>\n",
       "      <td>9.992767</td>\n",
       "      <td>0.000000</td>\n",
       "      <td>420.000000</td>\n",
       "    </tr>\n",
       "    <tr>\n",
       "      <th>75%</th>\n",
       "      <td>12.470781</td>\n",
       "      <td>2.447800</td>\n",
       "      <td>4.241309</td>\n",
       "      <td>5.357450</td>\n",
       "      <td>84.832563</td>\n",
       "      <td>0.000000</td>\n",
       "      <td>720.000000</td>\n",
       "    </tr>\n",
       "    <tr>\n",
       "      <th>max</th>\n",
       "      <td>378978.958427</td>\n",
       "      <td>12.605094</td>\n",
       "      <td>22.774383</td>\n",
       "      <td>56.174166</td>\n",
       "      <td>99.590587</td>\n",
       "      <td>1.000000</td>\n",
       "      <td>1080.000000</td>\n",
       "    </tr>\n",
       "  </tbody>\n",
       "</table>\n",
       "</div>"
      ],
      "text/plain": [
       "       temporal_canny-euclidean  temporal_cross_correlation-euclidean  \\\n",
       "count               5796.000000                           5796.000000   \n",
       "mean               12196.617817                              1.671773   \n",
       "std                50237.227818                              2.582384   \n",
       "min                    0.000000                              0.000000   \n",
       "25%                    1.099166                              0.103534   \n",
       "50%                    3.552987                              0.352134   \n",
       "75%                   12.470781                              2.447800   \n",
       "max               378978.958427                             12.605094   \n",
       "\n",
       "       temporal_difference-euclidean  temporal_histogram_distance-euclidean  \\\n",
       "count                    5796.000000                            5796.000000   \n",
       "mean                        3.302123                               5.355903   \n",
       "std                         2.904630                               9.728277   \n",
       "min                         0.000000                               0.000000   \n",
       "25%                         1.348963                               0.165798   \n",
       "50%                         2.496744                               0.604480   \n",
       "75%                         4.241309                               5.357450   \n",
       "max                        22.774383                              56.174166   \n",
       "\n",
       "              vmaf    attack_ID    dimension  \n",
       "count  3174.000000  5796.000000  5796.000000  \n",
       "mean     40.343494     0.142857   504.000000  \n",
       "std      40.267544     0.349957   316.001944  \n",
       "min       0.000000     0.000000   144.000000  \n",
       "25%       1.475565     0.000000   240.000000  \n",
       "50%       9.992767     0.000000   420.000000  \n",
       "75%      84.832563     0.000000   720.000000  \n",
       "max      99.590587     1.000000  1080.000000  "
      ]
     },
     "execution_count": 7,
     "metadata": {},
     "output_type": "execute_result"
    }
   ],
   "source": [
    "df.describe()"
   ]
  },
  {
   "cell_type": "code",
   "execution_count": 8,
   "metadata": {},
   "outputs": [],
   "source": [
    "df_corr = df.corr()"
   ]
  },
  {
   "cell_type": "code",
   "execution_count": 9,
   "metadata": {
    "scrolled": false
   },
   "outputs": [
    {
     "data": {
      "text/html": [
       "<style  type=\"text/css\" >\n",
       "    #T_749ebb82_5f4b_11e9_8024_a0afbd8d4ffarow0_col0 {\n",
       "            background-color:  #023858;\n",
       "            color:  #f1f1f1;\n",
       "        }    #T_749ebb82_5f4b_11e9_8024_a0afbd8d4ffarow0_col1 {\n",
       "            background-color:  #0771b1;\n",
       "            color:  #f1f1f1;\n",
       "        }    #T_749ebb82_5f4b_11e9_8024_a0afbd8d4ffarow0_col2 {\n",
       "            background-color:  #a8bedc;\n",
       "            color:  #000000;\n",
       "        }    #T_749ebb82_5f4b_11e9_8024_a0afbd8d4ffarow0_col3 {\n",
       "            background-color:  #9ebad9;\n",
       "            color:  #000000;\n",
       "        }    #T_749ebb82_5f4b_11e9_8024_a0afbd8d4ffarow0_col4 {\n",
       "            background-color:  #bcc7e1;\n",
       "            color:  #000000;\n",
       "        }    #T_749ebb82_5f4b_11e9_8024_a0afbd8d4ffarow0_col5 {\n",
       "            background-color:  #ebe6f2;\n",
       "            color:  #000000;\n",
       "        }    #T_749ebb82_5f4b_11e9_8024_a0afbd8d4ffarow0_col6 {\n",
       "            background-color:  #62a2cb;\n",
       "            color:  #000000;\n",
       "        }    #T_749ebb82_5f4b_11e9_8024_a0afbd8d4ffarow1_col0 {\n",
       "            background-color:  #2c89bd;\n",
       "            color:  #000000;\n",
       "        }    #T_749ebb82_5f4b_11e9_8024_a0afbd8d4ffarow1_col1 {\n",
       "            background-color:  #023858;\n",
       "            color:  #f1f1f1;\n",
       "        }    #T_749ebb82_5f4b_11e9_8024_a0afbd8d4ffarow1_col2 {\n",
       "            background-color:  #cdd0e5;\n",
       "            color:  #000000;\n",
       "        }    #T_749ebb82_5f4b_11e9_8024_a0afbd8d4ffarow1_col3 {\n",
       "            background-color:  #f0eaf4;\n",
       "            color:  #000000;\n",
       "        }    #T_749ebb82_5f4b_11e9_8024_a0afbd8d4ffarow1_col4 {\n",
       "            background-color:  #fff7fb;\n",
       "            color:  #000000;\n",
       "        }    #T_749ebb82_5f4b_11e9_8024_a0afbd8d4ffarow1_col5 {\n",
       "            background-color:  #fff7fb;\n",
       "            color:  #000000;\n",
       "        }    #T_749ebb82_5f4b_11e9_8024_a0afbd8d4ffarow1_col6 {\n",
       "            background-color:  #2d8abd;\n",
       "            color:  #000000;\n",
       "        }    #T_749ebb82_5f4b_11e9_8024_a0afbd8d4ffarow2_col0 {\n",
       "            background-color:  #e7e3f0;\n",
       "            color:  #000000;\n",
       "        }    #T_749ebb82_5f4b_11e9_8024_a0afbd8d4ffarow2_col1 {\n",
       "            background-color:  #c9cee4;\n",
       "            color:  #000000;\n",
       "        }    #T_749ebb82_5f4b_11e9_8024_a0afbd8d4ffarow2_col2 {\n",
       "            background-color:  #023858;\n",
       "            color:  #f1f1f1;\n",
       "        }    #T_749ebb82_5f4b_11e9_8024_a0afbd8d4ffarow2_col3 {\n",
       "            background-color:  #045a8d;\n",
       "            color:  #f1f1f1;\n",
       "        }    #T_749ebb82_5f4b_11e9_8024_a0afbd8d4ffarow2_col4 {\n",
       "            background-color:  #056dac;\n",
       "            color:  #f1f1f1;\n",
       "        }    #T_749ebb82_5f4b_11e9_8024_a0afbd8d4ffarow2_col5 {\n",
       "            background-color:  #c5cce3;\n",
       "            color:  #000000;\n",
       "        }    #T_749ebb82_5f4b_11e9_8024_a0afbd8d4ffarow2_col6 {\n",
       "            background-color:  #fff7fb;\n",
       "            color:  #000000;\n",
       "        }    #T_749ebb82_5f4b_11e9_8024_a0afbd8d4ffarow3_col0 {\n",
       "            background-color:  #c8cde4;\n",
       "            color:  #000000;\n",
       "        }    #T_749ebb82_5f4b_11e9_8024_a0afbd8d4ffarow3_col1 {\n",
       "            background-color:  #d8d7e9;\n",
       "            color:  #000000;\n",
       "        }    #T_749ebb82_5f4b_11e9_8024_a0afbd8d4ffarow3_col2 {\n",
       "            background-color:  #045687;\n",
       "            color:  #f1f1f1;\n",
       "        }    #T_749ebb82_5f4b_11e9_8024_a0afbd8d4ffarow3_col3 {\n",
       "            background-color:  #023858;\n",
       "            color:  #f1f1f1;\n",
       "        }    #T_749ebb82_5f4b_11e9_8024_a0afbd8d4ffarow3_col4 {\n",
       "            background-color:  #056aa6;\n",
       "            color:  #f1f1f1;\n",
       "        }    #T_749ebb82_5f4b_11e9_8024_a0afbd8d4ffarow3_col5 {\n",
       "            background-color:  #a8bedc;\n",
       "            color:  #000000;\n",
       "        }    #T_749ebb82_5f4b_11e9_8024_a0afbd8d4ffarow3_col6 {\n",
       "            background-color:  #eee9f3;\n",
       "            color:  #000000;\n",
       "        }    #T_749ebb82_5f4b_11e9_8024_a0afbd8d4ffarow4_col0 {\n",
       "            background-color:  #f8f1f8;\n",
       "            color:  #000000;\n",
       "        }    #T_749ebb82_5f4b_11e9_8024_a0afbd8d4ffarow4_col1 {\n",
       "            background-color:  #fff7fb;\n",
       "            color:  #000000;\n",
       "        }    #T_749ebb82_5f4b_11e9_8024_a0afbd8d4ffarow4_col2 {\n",
       "            background-color:  #056ead;\n",
       "            color:  #f1f1f1;\n",
       "        }    #T_749ebb82_5f4b_11e9_8024_a0afbd8d4ffarow4_col3 {\n",
       "            background-color:  #0570b0;\n",
       "            color:  #f1f1f1;\n",
       "        }    #T_749ebb82_5f4b_11e9_8024_a0afbd8d4ffarow4_col4 {\n",
       "            background-color:  #023858;\n",
       "            color:  #f1f1f1;\n",
       "        }    #T_749ebb82_5f4b_11e9_8024_a0afbd8d4ffarow4_col5 {\n",
       "            background-color:  #056ead;\n",
       "            color:  #f1f1f1;\n",
       "        }    #T_749ebb82_5f4b_11e9_8024_a0afbd8d4ffarow4_col6 {\n",
       "            background-color:  #cdd0e5;\n",
       "            color:  #000000;\n",
       "        }    #T_749ebb82_5f4b_11e9_8024_a0afbd8d4ffarow5_col0 {\n",
       "            background-color:  #fff7fb;\n",
       "            color:  #000000;\n",
       "        }    #T_749ebb82_5f4b_11e9_8024_a0afbd8d4ffarow5_col1 {\n",
       "            background-color:  #e4e1ef;\n",
       "            color:  #000000;\n",
       "        }    #T_749ebb82_5f4b_11e9_8024_a0afbd8d4ffarow5_col2 {\n",
       "            background-color:  #a1bbda;\n",
       "            color:  #000000;\n",
       "        }    #T_749ebb82_5f4b_11e9_8024_a0afbd8d4ffarow5_col3 {\n",
       "            background-color:  #9ebad9;\n",
       "            color:  #000000;\n",
       "        }    #T_749ebb82_5f4b_11e9_8024_a0afbd8d4ffarow5_col4 {\n",
       "            background-color:  #0567a2;\n",
       "            color:  #f1f1f1;\n",
       "        }    #T_749ebb82_5f4b_11e9_8024_a0afbd8d4ffarow5_col5 {\n",
       "            background-color:  #023858;\n",
       "            color:  #f1f1f1;\n",
       "        }    #T_749ebb82_5f4b_11e9_8024_a0afbd8d4ffarow5_col6 {\n",
       "            background-color:  #3d93c2;\n",
       "            color:  #000000;\n",
       "        }    #T_749ebb82_5f4b_11e9_8024_a0afbd8d4ffarow6_col0 {\n",
       "            background-color:  #a5bddb;\n",
       "            color:  #000000;\n",
       "        }    #T_749ebb82_5f4b_11e9_8024_a0afbd8d4ffarow6_col1 {\n",
       "            background-color:  #2a88bc;\n",
       "            color:  #000000;\n",
       "        }    #T_749ebb82_5f4b_11e9_8024_a0afbd8d4ffarow6_col2 {\n",
       "            background-color:  #fff7fb;\n",
       "            color:  #000000;\n",
       "        }    #T_749ebb82_5f4b_11e9_8024_a0afbd8d4ffarow6_col3 {\n",
       "            background-color:  #fff7fb;\n",
       "            color:  #000000;\n",
       "        }    #T_749ebb82_5f4b_11e9_8024_a0afbd8d4ffarow6_col4 {\n",
       "            background-color:  #c9cee4;\n",
       "            color:  #000000;\n",
       "        }    #T_749ebb82_5f4b_11e9_8024_a0afbd8d4ffarow6_col5 {\n",
       "            background-color:  #5ea0ca;\n",
       "            color:  #000000;\n",
       "        }    #T_749ebb82_5f4b_11e9_8024_a0afbd8d4ffarow6_col6 {\n",
       "            background-color:  #023858;\n",
       "            color:  #f1f1f1;\n",
       "        }</style><table id=\"T_749ebb82_5f4b_11e9_8024_a0afbd8d4ffa\" ><thead>    <tr>        <th class=\"blank level0\" ></th>        <th class=\"col_heading level0 col0\" >temporal_canny-euclidean</th>        <th class=\"col_heading level0 col1\" >temporal_cross_correlation-euclidean</th>        <th class=\"col_heading level0 col2\" >temporal_difference-euclidean</th>        <th class=\"col_heading level0 col3\" >temporal_histogram_distance-euclidean</th>        <th class=\"col_heading level0 col4\" >vmaf</th>        <th class=\"col_heading level0 col5\" >attack_ID</th>        <th class=\"col_heading level0 col6\" >dimension</th>    </tr></thead><tbody>\n",
       "                <tr>\n",
       "                        <th id=\"T_749ebb82_5f4b_11e9_8024_a0afbd8d4ffalevel0_row0\" class=\"row_heading level0 row0\" >temporal_canny-euclidean</th>\n",
       "                        <td id=\"T_749ebb82_5f4b_11e9_8024_a0afbd8d4ffarow0_col0\" class=\"data row0 col0\" >1</td>\n",
       "                        <td id=\"T_749ebb82_5f4b_11e9_8024_a0afbd8d4ffarow0_col1\" class=\"data row0 col1\" >0.5</td>\n",
       "                        <td id=\"T_749ebb82_5f4b_11e9_8024_a0afbd8d4ffarow0_col2\" class=\"data row0 col2\" >-0.21</td>\n",
       "                        <td id=\"T_749ebb82_5f4b_11e9_8024_a0afbd8d4ffarow0_col3\" class=\"data row0 col3\" >-0.036</td>\n",
       "                        <td id=\"T_749ebb82_5f4b_11e9_8024_a0afbd8d4ffarow0_col4\" class=\"data row0 col4\" >-0.36</td>\n",
       "                        <td id=\"T_749ebb82_5f4b_11e9_8024_a0afbd8d4ffarow0_col5\" class=\"data row0 col5\" >-0.43</td>\n",
       "                        <td id=\"T_749ebb82_5f4b_11e9_8024_a0afbd8d4ffarow0_col6\" class=\"data row0 col6\" >0.11</td>\n",
       "            </tr>\n",
       "            <tr>\n",
       "                        <th id=\"T_749ebb82_5f4b_11e9_8024_a0afbd8d4ffalevel0_row1\" class=\"row_heading level0 row1\" >temporal_cross_correlation-euclidean</th>\n",
       "                        <td id=\"T_749ebb82_5f4b_11e9_8024_a0afbd8d4ffarow1_col0\" class=\"data row1 col0\" >0.5</td>\n",
       "                        <td id=\"T_749ebb82_5f4b_11e9_8024_a0afbd8d4ffarow1_col1\" class=\"data row1 col1\" >1</td>\n",
       "                        <td id=\"T_749ebb82_5f4b_11e9_8024_a0afbd8d4ffarow1_col2\" class=\"data row1 col2\" >-0.43</td>\n",
       "                        <td id=\"T_749ebb82_5f4b_11e9_8024_a0afbd8d4ffarow1_col3\" class=\"data row1 col3\" >-0.54</td>\n",
       "                        <td id=\"T_749ebb82_5f4b_11e9_8024_a0afbd8d4ffarow1_col4\" class=\"data row1 col4\" >-0.96</td>\n",
       "                        <td id=\"T_749ebb82_5f4b_11e9_8024_a0afbd8d4ffarow1_col5\" class=\"data row1 col5\" >-0.64</td>\n",
       "                        <td id=\"T_749ebb82_5f4b_11e9_8024_a0afbd8d4ffarow1_col6\" class=\"data row1 col6\" >0.32</td>\n",
       "            </tr>\n",
       "            <tr>\n",
       "                        <th id=\"T_749ebb82_5f4b_11e9_8024_a0afbd8d4ffalevel0_row2\" class=\"row_heading level0 row2\" >temporal_difference-euclidean</th>\n",
       "                        <td id=\"T_749ebb82_5f4b_11e9_8024_a0afbd8d4ffarow2_col0\" class=\"data row2 col0\" >-0.21</td>\n",
       "                        <td id=\"T_749ebb82_5f4b_11e9_8024_a0afbd8d4ffarow2_col1\" class=\"data row2 col1\" >-0.43</td>\n",
       "                        <td id=\"T_749ebb82_5f4b_11e9_8024_a0afbd8d4ffarow2_col2\" class=\"data row2 col2\" >1</td>\n",
       "                        <td id=\"T_749ebb82_5f4b_11e9_8024_a0afbd8d4ffarow2_col3\" class=\"data row2 col3\" >0.79</td>\n",
       "                        <td id=\"T_749ebb82_5f4b_11e9_8024_a0afbd8d4ffarow2_col4\" class=\"data row2 col4\" >0.54</td>\n",
       "                        <td id=\"T_749ebb82_5f4b_11e9_8024_a0afbd8d4ffarow2_col5\" class=\"data row2 col5\" >-0.18</td>\n",
       "                        <td id=\"T_749ebb82_5f4b_11e9_8024_a0afbd8d4ffarow2_col6\" class=\"data row2 col6\" >-0.93</td>\n",
       "            </tr>\n",
       "            <tr>\n",
       "                        <th id=\"T_749ebb82_5f4b_11e9_8024_a0afbd8d4ffalevel0_row3\" class=\"row_heading level0 row3\" >temporal_histogram_distance-euclidean</th>\n",
       "                        <td id=\"T_749ebb82_5f4b_11e9_8024_a0afbd8d4ffarow3_col0\" class=\"data row3 col0\" >-0.036</td>\n",
       "                        <td id=\"T_749ebb82_5f4b_11e9_8024_a0afbd8d4ffarow3_col1\" class=\"data row3 col1\" >-0.54</td>\n",
       "                        <td id=\"T_749ebb82_5f4b_11e9_8024_a0afbd8d4ffarow3_col2\" class=\"data row3 col2\" >0.79</td>\n",
       "                        <td id=\"T_749ebb82_5f4b_11e9_8024_a0afbd8d4ffarow3_col3\" class=\"data row3 col3\" >1</td>\n",
       "                        <td id=\"T_749ebb82_5f4b_11e9_8024_a0afbd8d4ffarow3_col4\" class=\"data row3 col4\" >0.57</td>\n",
       "                        <td id=\"T_749ebb82_5f4b_11e9_8024_a0afbd8d4ffarow3_col5\" class=\"data row3 col5\" >-0.036</td>\n",
       "                        <td id=\"T_749ebb82_5f4b_11e9_8024_a0afbd8d4ffarow3_col6\" class=\"data row3 col6\" >-0.71</td>\n",
       "            </tr>\n",
       "            <tr>\n",
       "                        <th id=\"T_749ebb82_5f4b_11e9_8024_a0afbd8d4ffalevel0_row4\" class=\"row_heading level0 row4\" >vmaf</th>\n",
       "                        <td id=\"T_749ebb82_5f4b_11e9_8024_a0afbd8d4ffarow4_col0\" class=\"data row4 col0\" >-0.36</td>\n",
       "                        <td id=\"T_749ebb82_5f4b_11e9_8024_a0afbd8d4ffarow4_col1\" class=\"data row4 col1\" >-0.96</td>\n",
       "                        <td id=\"T_749ebb82_5f4b_11e9_8024_a0afbd8d4ffarow4_col2\" class=\"data row4 col2\" >0.54</td>\n",
       "                        <td id=\"T_749ebb82_5f4b_11e9_8024_a0afbd8d4ffarow4_col3\" class=\"data row4 col3\" >0.57</td>\n",
       "                        <td id=\"T_749ebb82_5f4b_11e9_8024_a0afbd8d4ffarow4_col4\" class=\"data row4 col4\" >1</td>\n",
       "                        <td id=\"T_749ebb82_5f4b_11e9_8024_a0afbd8d4ffarow4_col5\" class=\"data row4 col5\" >0.61</td>\n",
       "                        <td id=\"T_749ebb82_5f4b_11e9_8024_a0afbd8d4ffarow4_col6\" class=\"data row4 col6\" >-0.43</td>\n",
       "            </tr>\n",
       "            <tr>\n",
       "                        <th id=\"T_749ebb82_5f4b_11e9_8024_a0afbd8d4ffalevel0_row5\" class=\"row_heading level0 row5\" >attack_ID</th>\n",
       "                        <td id=\"T_749ebb82_5f4b_11e9_8024_a0afbd8d4ffarow5_col0\" class=\"data row5 col0\" >-0.43</td>\n",
       "                        <td id=\"T_749ebb82_5f4b_11e9_8024_a0afbd8d4ffarow5_col1\" class=\"data row5 col1\" >-0.64</td>\n",
       "                        <td id=\"T_749ebb82_5f4b_11e9_8024_a0afbd8d4ffarow5_col2\" class=\"data row5 col2\" >-0.18</td>\n",
       "                        <td id=\"T_749ebb82_5f4b_11e9_8024_a0afbd8d4ffarow5_col3\" class=\"data row5 col3\" >-0.036</td>\n",
       "                        <td id=\"T_749ebb82_5f4b_11e9_8024_a0afbd8d4ffarow5_col4\" class=\"data row5 col4\" >0.61</td>\n",
       "                        <td id=\"T_749ebb82_5f4b_11e9_8024_a0afbd8d4ffarow5_col5\" class=\"data row5 col5\" >1</td>\n",
       "                        <td id=\"T_749ebb82_5f4b_11e9_8024_a0afbd8d4ffarow5_col6\" class=\"data row5 col6\" >0.25</td>\n",
       "            </tr>\n",
       "            <tr>\n",
       "                        <th id=\"T_749ebb82_5f4b_11e9_8024_a0afbd8d4ffalevel0_row6\" class=\"row_heading level0 row6\" >dimension</th>\n",
       "                        <td id=\"T_749ebb82_5f4b_11e9_8024_a0afbd8d4ffarow6_col0\" class=\"data row6 col0\" >0.11</td>\n",
       "                        <td id=\"T_749ebb82_5f4b_11e9_8024_a0afbd8d4ffarow6_col1\" class=\"data row6 col1\" >0.32</td>\n",
       "                        <td id=\"T_749ebb82_5f4b_11e9_8024_a0afbd8d4ffarow6_col2\" class=\"data row6 col2\" >-0.93</td>\n",
       "                        <td id=\"T_749ebb82_5f4b_11e9_8024_a0afbd8d4ffarow6_col3\" class=\"data row6 col3\" >-0.71</td>\n",
       "                        <td id=\"T_749ebb82_5f4b_11e9_8024_a0afbd8d4ffarow6_col4\" class=\"data row6 col4\" >-0.43</td>\n",
       "                        <td id=\"T_749ebb82_5f4b_11e9_8024_a0afbd8d4ffarow6_col5\" class=\"data row6 col5\" >0.25</td>\n",
       "                        <td id=\"T_749ebb82_5f4b_11e9_8024_a0afbd8d4ffarow6_col6\" class=\"data row6 col6\" >1</td>\n",
       "            </tr>\n",
       "    </tbody></table>"
      ],
      "text/plain": [
       "<pandas.io.formats.style.Styler at 0x7f32a83ac208>"
      ]
     },
     "execution_count": 9,
     "metadata": {},
     "output_type": "execute_result"
    },
    {
     "data": {
      "text/plain": [
       "<Figure size 720x720 with 0 Axes>"
      ]
     },
     "metadata": {},
     "output_type": "display_data"
    }
   ],
   "source": [
    "plt.figure(figsize=(10,10))\n",
    "corr = df_corr.corr('spearman')\n",
    "corr.style.background_gradient().set_precision(2)"
   ]
  },
  {
   "cell_type": "markdown",
   "metadata": {},
   "source": [
    "# Define model (Keras neural network)"
   ]
  },
  {
   "cell_type": "markdown",
   "metadata": {},
   "source": [
    "We choose the input of our model (we try to make balanced dataset)"
   ]
  },
  {
   "cell_type": "code",
   "execution_count": 10,
   "metadata": {},
   "outputs": [
    {
     "data": {
      "text/plain": [
       "4636"
      ]
     },
     "execution_count": 10,
     "metadata": {},
     "output_type": "execute_result"
    }
   ],
   "source": [
    "int(df.shape[0]*0.8)"
   ]
  },
  {
   "cell_type": "code",
   "execution_count": 11,
   "metadata": {},
   "outputs": [],
   "source": [
    "num_train = int(df.shape[0]*0.8)\n",
    "\n",
    "df_train_all = df[0:num_train]\n",
    "df_train_1 = df_train_all[df_train_all['attack_ID'] == 1]\n",
    "df_train_0 = df_train_all[df_train_all['attack_ID'] == 0]\n",
    "df_sample = df_train_0.sample(df_train_1.shape[0])\n",
    "df_train = df_train_1.append(df_sample)\n",
    "df_train = df_train.sample(frac=1)\n",
    "\n",
    "df_test_all = df[num_train:]\n",
    "df_test_1 = df_test_all[df_test_all['attack_ID'] == 1]\n",
    "df_test_0 = df_test_all[df_test_all['attack_ID'] == 0]\n",
    "df_sample_test = df_test_0.sample(df_test_0.shape[0])\n",
    "df_test = df_test_1.append(df_sample_test)\n",
    "df_test = df_test.sample(frac=1)\n",
    "\n",
    "X_train = df_train.drop(['title',\n",
    "                         'attack', \n",
    "                         'attack_ID',\n",
    "                         'vmaf'],axis=1)\n",
    "y_train = df_train['attack_ID']\n",
    "X_train = np.asarray(X_train)\n",
    "y_train = np.asarray(y_train)\n",
    "\n",
    "X_test = df_test.drop(['title',  \n",
    "                     'attack', \n",
    "                     'attack_ID',\n",
    "                     'vmaf'],axis=1)\n",
    "y_test = df_test['attack_ID']\n",
    "X_test = np.asarray(X_test)\n",
    "y_test = np.asarray(y_test)\n",
    "\n"
   ]
  },
  {
   "cell_type": "markdown",
   "metadata": {},
   "source": [
    "First we define a model where we take all variables :"
   ]
  },
  {
   "cell_type": "code",
   "execution_count": 12,
   "metadata": {},
   "outputs": [
    {
     "name": "stdout",
     "output_type": "stream",
     "text": [
      "TRAIN: (1326, 5)\n",
      "TEST: (1160, 5)\n"
     ]
    }
   ],
   "source": [
    "print('TRAIN:', X_train.shape)\n",
    "print('TEST:', X_test.shape)"
   ]
  },
  {
   "cell_type": "code",
   "execution_count": 10,
   "metadata": {
    "scrolled": true
   },
   "outputs": [],
   "source": [
    "def model():\n",
    "    global network_history\n",
    "    model = Sequential()\n",
    "    model.add(Dense(32,input_shape=(X_train.shape[1],)))\n",
    "    model.add(Dropout(0.2))\n",
    "    model.add(Dense(64, kernel_initializer='glorot_uniform', activation='sigmoid'))\n",
    "    model.add(Dropout(0.2))\n",
    "    model.add(Dense(64, kernel_initializer='glorot_uniform'))\n",
    "    model.add(Dropout(0.5))\n",
    "    model.add(Dense(64, kernel_initializer='normal', activation='relu'))\n",
    "    model.add(Dense(1, activation='sigmoid'))\n",
    "    \n",
    "    model.compile(loss='binary_crossentropy', optimizer=Adam(lr=0.0001), metrics=['accuracy'])\n",
    "    \n",
    "    network_history = model.fit(X_train, y_train, batch_size=128, epochs=1200, verbose=0)\n",
    "    return model\n",
    "\n",
    "model = model()"
   ]
  },
  {
   "cell_type": "markdown",
   "metadata": {},
   "source": [
    "visualization loss and accuracy"
   ]
  },
  {
   "cell_type": "code",
   "execution_count": 11,
   "metadata": {},
   "outputs": [
    {
     "name": "stdout",
     "output_type": "stream",
     "text": [
      "['loss', 'acc']\n"
     ]
    }
   ],
   "source": [
    "print(model.metrics_names)"
   ]
  },
  {
   "cell_type": "code",
   "execution_count": 12,
   "metadata": {
    "scrolled": false
   },
   "outputs": [],
   "source": [
    "def plot_history(network_history,title='Loss and accuracy (Keras model)'):\n",
    "    plt.figure(figsize=(15,10))\n",
    "    plt.subplot(211)\n",
    "    plt.title(title)\n",
    "    plt.xlabel('Epochs')\n",
    "    plt.ylabel('Loss')\n",
    "    plt.plot(network_history.history['loss'])\n",
    "    #plt.plot(network_history.history['val_loss'])\n",
    "    plt.legend(['Training', 'Validation'])\n",
    "\n",
    "    plt.subplot(212)\n",
    "    plt.xlabel('Epochs')\n",
    "    plt.ylabel('Accuracy')\n",
    "    plt.plot(network_history.history['acc'])\n",
    "    #plt.plot(network_history.history['val_acc'])\n",
    "    plt.legend(['Training', 'Validation'], loc='lower right')\n",
    "    plt.show()"
   ]
  },
  {
   "cell_type": "code",
   "execution_count": 13,
   "metadata": {
    "scrolled": false
   },
   "outputs": [
    {
     "data": {
      "image/png": "[encoded data removed]",
      "text/plain": [
       "<Figure size 1080x720 with 2 Axes>"
      ]
     },
     "metadata": {
      "needs_background": "light"
     },
     "output_type": "display_data"
    }
   ],
   "source": [
    "plot_history(network_history)"
   ]
  },
  {
   "cell_type": "code",
   "execution_count": 14,
   "metadata": {},
   "outputs": [
    {
     "name": "stdout",
     "output_type": "stream",
     "text": [
      "['loss', 'acc']\n",
      "1160/1160 [==============================] - 0s 110us/step\n"
     ]
    },
    {
     "data": {
      "text/plain": [
       "[0.5836211595041999, 0.62068965517241381]"
      ]
     },
     "execution_count": 14,
     "metadata": {},
     "output_type": "execute_result"
    }
   ],
   "source": [
    "print(model.metrics_names)\n",
    "model.evaluate(X_test, y_test)\n"
   ]
  },
  {
   "cell_type": "code",
   "execution_count": 19,
   "metadata": {},
   "outputs": [],
   "source": [
    "def plot_roc(fpr, tpr, title):\n",
    "    roc_auc = auc(fpr, tpr)\n",
    "    plt.figure()\n",
    "    lw = 2\n",
    "    plt.plot(fpr, tpr, color='darkorange',\n",
    "             lw=lw, label='ROC curve (area = %0.2f)' % roc_auc)\n",
    "    plt.plot([0, 1], [0, 1], color='navy', lw=lw, linestyle='--')\n",
    "    plt.xlim([0.0, 1.0])\n",
    "    plt.ylim([0.0, 1.05])\n",
    "    plt.xlabel('False Positive Rate')\n",
    "    plt.ylabel('True Positive Rate')\n",
    "    plt.title('Receiver operating characteristic {}'.format(title))\n",
    "    plt.legend(loc=\"lower right\")\n",
    "    plt.show()"
   ]
  },
  {
   "cell_type": "code",
   "execution_count": 16,
   "metadata": {},
   "outputs": [],
   "source": [
    "prediction = model.predict(X_test)"
   ]
  },
  {
   "cell_type": "code",
   "execution_count": 17,
   "metadata": {
    "scrolled": true
   },
   "outputs": [
    {
     "data": {
      "text/plain": [
       "array([[577, 418],\n",
       "       [ 22, 143]])"
      ]
     },
     "execution_count": 17,
     "metadata": {},
     "output_type": "execute_result"
    }
   ],
   "source": [
    "prediction_bin = prediction > 0.5\n",
    "prediction_bin = prediction_bin.astype(int)\n",
    "confusion_matrix(y_test, prediction_bin)"
   ]
  },
  {
   "cell_type": "code",
   "execution_count": 18,
   "metadata": {},
   "outputs": [
    {
     "data": {
      "image/png": "[encoded data removed]",
      "text/plain": [
       "<Figure size 432x288 with 1 Axes>"
      ]
     },
     "metadata": {
      "needs_background": "light"
     },
     "output_type": "display_data"
    }
   ],
   "source": [
    "fpr, tpr, _ = roc_curve(y_test, prediction)\n",
    "plot_roc(fpr, tpr, 'Neural network')"
   ]
  },
  {
   "cell_type": "markdown",
   "metadata": {},
   "source": [
    "Test only with Class : 0"
   ]
  },
  {
   "cell_type": "code",
   "execution_count": 20,
   "metadata": {},
   "outputs": [],
   "source": [
    "df_test_0_only = df_test_0.sample(100)\n",
    "X_test_0 = df_test_0_only.drop(['title', \n",
    "                                 'attack', \n",
    "                                 'attack_ID',\n",
    "                                 'vmaf'], axis=1)\n",
    "y_test_0 = df_test_0_only['attack_ID']\n",
    "X_test_0 = np.asarray(X_test_0)\n",
    "y_test_0 = np.asanyarray(y_test_0)"
   ]
  },
  {
   "cell_type": "code",
   "execution_count": 20,
   "metadata": {},
   "outputs": [
    {
     "name": "stdout",
     "output_type": "stream",
     "text": [
      "100/100 [==============================] - 0s 213us/step\n"
     ]
    },
    {
     "data": {
      "text/plain": [
       "[0.57729357957839966, 0.57999999999999996]"
      ]
     },
     "execution_count": 20,
     "metadata": {},
     "output_type": "execute_result"
    }
   ],
   "source": [
    "model.evaluate(X_test_0, y_test_0)"
   ]
  },
  {
   "cell_type": "code",
   "execution_count": 21,
   "metadata": {},
   "outputs": [
    {
     "data": {
      "text/plain": [
       "array([[58, 42],\n",
       "       [ 0,  0]])"
      ]
     },
     "execution_count": 21,
     "metadata": {},
     "output_type": "execute_result"
    }
   ],
   "source": [
    "prediction_0 = model.predict(X_test_0)\n",
    "prediction_0_bin = prediction_0 > 0.5\n",
    "prediction_0_bin = prediction_0_bin.astype(int)\n",
    "confusion_matrix(y_test_0, prediction_0_bin)"
   ]
  },
  {
   "cell_type": "code",
   "execution_count": 24,
   "metadata": {},
   "outputs": [],
   "source": [
    "X_test_all = df_test_all.drop(['title', \n",
    "                             'attack', \n",
    "                             'attack_ID',\n",
    "                             'vmaf'],axis=1)\n",
    "y_test_all = df_test_all['attack_ID']\n",
    "X_test_all = np.asarray(X_test_all)\n",
    "y_test_all = np.asarray(y_test_all)"
   ]
  },
  {
   "cell_type": "code",
   "execution_count": 23,
   "metadata": {},
   "outputs": [
    {
     "name": "stdout",
     "output_type": "stream",
     "text": [
      "1160/1160 [==============================] - 0s 32us/step\n"
     ]
    },
    {
     "data": {
      "text/plain": [
       "[0.58362116320379853, 0.62068965517241381]"
      ]
     },
     "execution_count": 23,
     "metadata": {},
     "output_type": "execute_result"
    }
   ],
   "source": [
    "model.evaluate(X_test_all,y_test_all)"
   ]
  },
  {
   "cell_type": "code",
   "execution_count": 24,
   "metadata": {},
   "outputs": [],
   "source": [
    "prediction_all = model.predict(X_test_all)"
   ]
  },
  {
   "cell_type": "code",
   "execution_count": 25,
   "metadata": {},
   "outputs": [
    {
     "data": {
      "text/plain": [
       "array([[577, 418],\n",
       "       [ 22, 143]])"
      ]
     },
     "execution_count": 25,
     "metadata": {},
     "output_type": "execute_result"
    }
   ],
   "source": [
    "prediction_all_bin = prediction_all > 0.5\n",
    "prediction_all_bin = prediction_all_bin.astype(int)\n",
    "confusion_matrix(y_test_all, prediction_all_bin)"
   ]
  },
  {
   "cell_type": "markdown",
   "metadata": {},
   "source": [
    "# Random forest with scikit-learn"
   ]
  },
  {
   "cell_type": "code",
   "execution_count": 26,
   "metadata": {},
   "outputs": [
    {
     "data": {
      "text/plain": [
       "RandomForestClassifier(bootstrap=True, class_weight=None, criterion='gini',\n",
       "            max_depth=None, max_features='auto', max_leaf_nodes=None,\n",
       "            min_impurity_decrease=0.0, min_impurity_split=None,\n",
       "            min_samples_leaf=1, min_samples_split=2,\n",
       "            min_weight_fraction_leaf=0.0, n_estimators=15, n_jobs=None,\n",
       "            oob_score=False, random_state=None, verbose=0,\n",
       "            warm_start=False)"
      ]
     },
     "execution_count": 26,
     "metadata": {},
     "output_type": "execute_result"
    }
   ],
   "source": [
    "random_forest = RandomForestClassifier(n_estimators=15,)\n",
    "random_forest.fit(X_train,y_train)"
   ]
  },
  {
   "cell_type": "code",
   "execution_count": 27,
   "metadata": {},
   "outputs": [
    {
     "data": {
      "text/plain": [
       "0.88103448275862073"
      ]
     },
     "execution_count": 27,
     "metadata": {},
     "output_type": "execute_result"
    }
   ],
   "source": [
    "random_forest.score(X_test,y_test)"
   ]
  },
  {
   "cell_type": "code",
   "execution_count": 28,
   "metadata": {},
   "outputs": [],
   "source": [
    "prediction_RF = random_forest.predict(X_test)"
   ]
  },
  {
   "cell_type": "code",
   "execution_count": 29,
   "metadata": {},
   "outputs": [
    {
     "data": {
      "text/plain": [
       "array([[866, 129],\n",
       "       [  9, 156]])"
      ]
     },
     "execution_count": 29,
     "metadata": {},
     "output_type": "execute_result"
    }
   ],
   "source": [
    "confusion_matrix(y_test, prediction_RF)"
   ]
  },
  {
   "cell_type": "code",
   "execution_count": 30,
   "metadata": {},
   "outputs": [
    {
     "data": {
      "text/plain": [
       "0.85999999999999999"
      ]
     },
     "execution_count": 30,
     "metadata": {},
     "output_type": "execute_result"
    }
   ],
   "source": [
    "random_forest.score(X_test_0,y_test_0)"
   ]
  },
  {
   "cell_type": "code",
   "execution_count": 31,
   "metadata": {},
   "outputs": [
    {
     "data": {
      "text/plain": [
       "array([[86, 14],\n",
       "       [ 0,  0]])"
      ]
     },
     "execution_count": 31,
     "metadata": {},
     "output_type": "execute_result"
    }
   ],
   "source": [
    "prediction_RF_0 = random_forest.predict(X_test_0)\n",
    "confusion_matrix(y_test_0,prediction_RF_0)"
   ]
  },
  {
   "cell_type": "code",
   "execution_count": 32,
   "metadata": {},
   "outputs": [
    {
     "data": {
      "text/plain": [
       "0.88103448275862073"
      ]
     },
     "execution_count": 32,
     "metadata": {},
     "output_type": "execute_result"
    }
   ],
   "source": [
    "random_forest.score(X_test_all,y_test_all)"
   ]
  },
  {
   "cell_type": "code",
   "execution_count": 33,
   "metadata": {},
   "outputs": [
    {
     "data": {
      "text/plain": [
       "array([[866, 129],\n",
       "       [  9, 156]])"
      ]
     },
     "execution_count": 33,
     "metadata": {},
     "output_type": "execute_result"
    }
   ],
   "source": [
    "prediction_RF_all = random_forest.predict(X_test_all)\n",
    "confusion_matrix(y_test_all, prediction_RF_all)"
   ]
  },
  {
   "cell_type": "code",
   "execution_count": 34,
   "metadata": {},
   "outputs": [
    {
     "data": {
      "image/png": "[encoded data removed]",
      "text/plain": [
       "<Figure size 432x288 with 1 Axes>"
      ]
     },
     "metadata": {
      "needs_background": "light"
     },
     "output_type": "display_data"
    }
   ],
   "source": [
    "fpr, tpr, _ = roc_curve(y_test_all, prediction_RF_all)\n",
    "plot_roc(fpr, tpr, 'Random Forest')"
   ]
  },
  {
   "cell_type": "markdown",
   "metadata": {},
   "source": [
    "# AdaBoost with scikit-learn"
   ]
  },
  {
   "cell_type": "code",
   "execution_count": 35,
   "metadata": {},
   "outputs": [
    {
     "data": {
      "text/plain": [
       "AdaBoostClassifier(algorithm='SAMME.R', base_estimator=None,\n",
       "          learning_rate=0.1, n_estimators=50, random_state=None)"
      ]
     },
     "execution_count": 35,
     "metadata": {},
     "output_type": "execute_result"
    }
   ],
   "source": [
    "AdaBoost = AdaBoostClassifier(learning_rate=0.1)\n",
    "AdaBoost.fit(X_train, y_train)"
   ]
  },
  {
   "cell_type": "code",
   "execution_count": 36,
   "metadata": {},
   "outputs": [
    {
     "data": {
      "text/plain": [
       "0.81551724137931036"
      ]
     },
     "execution_count": 36,
     "metadata": {},
     "output_type": "execute_result"
    }
   ],
   "source": [
    "AdaBoost.score(X_test, y_test)"
   ]
  },
  {
   "cell_type": "code",
   "execution_count": 37,
   "metadata": {},
   "outputs": [],
   "source": [
    "prediction_AdaBoost = AdaBoost.predict(X_test)"
   ]
  },
  {
   "cell_type": "code",
   "execution_count": 38,
   "metadata": {},
   "outputs": [
    {
     "data": {
      "text/plain": [
       "array([[792, 203],\n",
       "       [ 11, 154]])"
      ]
     },
     "execution_count": 38,
     "metadata": {},
     "output_type": "execute_result"
    }
   ],
   "source": [
    "confusion_matrix(y_test, prediction_AdaBoost)"
   ]
  },
  {
   "cell_type": "code",
   "execution_count": 39,
   "metadata": {},
   "outputs": [
    {
     "data": {
      "text/plain": [
       "0.76000000000000001"
      ]
     },
     "execution_count": 39,
     "metadata": {},
     "output_type": "execute_result"
    }
   ],
   "source": [
    "AdaBoost.score(X_test_0,y_test_0)"
   ]
  },
  {
   "cell_type": "code",
   "execution_count": 40,
   "metadata": {},
   "outputs": [
    {
     "data": {
      "text/plain": [
       "array([[76, 24],\n",
       "       [ 0,  0]])"
      ]
     },
     "execution_count": 40,
     "metadata": {},
     "output_type": "execute_result"
    }
   ],
   "source": [
    "prediction_AdaBoost_0 = AdaBoost.predict(X_test_0)\n",
    "confusion_matrix(y_test_0,prediction_AdaBoost_0)"
   ]
  },
  {
   "cell_type": "code",
   "execution_count": 41,
   "metadata": {},
   "outputs": [
    {
     "data": {
      "text/plain": [
       "0.81551724137931036"
      ]
     },
     "execution_count": 41,
     "metadata": {},
     "output_type": "execute_result"
    }
   ],
   "source": [
    "AdaBoost.score(X_test_all,y_test_all)"
   ]
  },
  {
   "cell_type": "code",
   "execution_count": 42,
   "metadata": {},
   "outputs": [
    {
     "data": {
      "text/plain": [
       "array([[792, 203],\n",
       "       [ 11, 154]])"
      ]
     },
     "execution_count": 42,
     "metadata": {},
     "output_type": "execute_result"
    }
   ],
   "source": [
    "prediction_AdaBoost_all = AdaBoost.predict(X_test_all)\n",
    "confusion_matrix(y_test_all, prediction_AdaBoost_all)"
   ]
  },
  {
   "cell_type": "code",
   "execution_count": 43,
   "metadata": {},
   "outputs": [
    {
     "data": {
      "image/png": "[encoded data removed]",
      "text/plain": [
       "<Figure size 432x288 with 1 Axes>"
      ]
     },
     "metadata": {
      "needs_background": "light"
     },
     "output_type": "display_data"
    }
   ],
   "source": [
    "fpr, tpr, _ = roc_curve(y_test_all, prediction_AdaBoost_all)\n",
    "plot_roc(fpr, tpr, 'AdaBoost')"
   ]
  },
  {
   "cell_type": "markdown",
   "metadata": {},
   "source": [
    "# SVM with scikit-learn"
   ]
  },
  {
   "cell_type": "code",
   "execution_count": 13,
   "metadata": {},
   "outputs": [],
   "source": [
    "from sklearn.preprocessing import StandardScaler\n",
    "scaling = StandardScaler().fit(X_train)\n",
    "X_train = scaling.transform(X_train)\n",
    "X_test = scaling.transform(X_test)"
   ]
  },
  {
   "cell_type": "code",
   "execution_count": 45,
   "metadata": {},
   "outputs": [],
   "source": [
    "classifier = svm.SVC(kernel='rbf')\n",
    "classifier.fit(X_train, y_train)\n",
    "prediction_SVM = classifier.predict(X_test)"
   ]
  },
  {
   "cell_type": "code",
   "execution_count": 46,
   "metadata": {},
   "outputs": [
    {
     "data": {
      "text/plain": [
       "0.7646551724137931"
      ]
     },
     "execution_count": 46,
     "metadata": {},
     "output_type": "execute_result"
    }
   ],
   "source": [
    "classifier.score(X_test,y_test)"
   ]
  },
  {
   "cell_type": "code",
   "execution_count": 47,
   "metadata": {},
   "outputs": [
    {
     "data": {
      "text/plain": [
       "array([[734, 261],\n",
       "       [ 12, 153]])"
      ]
     },
     "execution_count": 47,
     "metadata": {},
     "output_type": "execute_result"
    }
   ],
   "source": [
    "confusion_matrix(y_test, prediction_SVM)"
   ]
  },
  {
   "cell_type": "code",
   "execution_count": 48,
   "metadata": {},
   "outputs": [
    {
     "data": {
      "text/plain": [
       "1.0"
      ]
     },
     "execution_count": 48,
     "metadata": {},
     "output_type": "execute_result"
    }
   ],
   "source": [
    "classifier.score(X_test_0,y_test_0)"
   ]
  },
  {
   "cell_type": "code",
   "execution_count": 49,
   "metadata": {},
   "outputs": [
    {
     "data": {
      "text/plain": [
       "array([[100]])"
      ]
     },
     "execution_count": 49,
     "metadata": {},
     "output_type": "execute_result"
    }
   ],
   "source": [
    "prediction_SVM_0 = classifier.predict(X_test_0)\n",
    "confusion_matrix(y_test_0,prediction_SVM_0)"
   ]
  },
  {
   "cell_type": "code",
   "execution_count": 50,
   "metadata": {},
   "outputs": [
    {
     "data": {
      "text/plain": [
       "0.85775862068965514"
      ]
     },
     "execution_count": 50,
     "metadata": {},
     "output_type": "execute_result"
    }
   ],
   "source": [
    "classifier.score(X_test_all,y_test_all)"
   ]
  },
  {
   "cell_type": "code",
   "execution_count": 51,
   "metadata": {},
   "outputs": [
    {
     "data": {
      "text/plain": [
       "array([[995,   0],\n",
       "       [165,   0]])"
      ]
     },
     "execution_count": 51,
     "metadata": {},
     "output_type": "execute_result"
    }
   ],
   "source": [
    "prediction_SVM_all = classifier.predict(X_test_all)\n",
    "confusion_matrix(y_test_all, prediction_SVM_all)"
   ]
  },
  {
   "cell_type": "code",
   "execution_count": 52,
   "metadata": {},
   "outputs": [
    {
     "data": {
      "image/png": "[encoded data removed]",
      "text/plain": [
       "<Figure size 432x288 with 1 Axes>"
      ]
     },
     "metadata": {
      "needs_background": "light"
     },
     "output_type": "display_data"
    }
   ],
   "source": [
    "fpr, tpr, _ = roc_curve(y_test, prediction_SVM)\n",
    "plot_roc(fpr, tpr, 'SVM')"
   ]
  },
  {
   "cell_type": "markdown",
   "metadata": {},
   "source": [
    "# XGBoost"
   ]
  },
  {
   "cell_type": "code",
   "execution_count": 5,
   "metadata": {},
   "outputs": [],
   "source": [
    "import xgboost as xgb"
   ]
  },
  {
   "cell_type": "code",
   "execution_count": 14,
   "metadata": {},
   "outputs": [],
   "source": [
    "classifier = xgb.XGBClassifier()\n",
    "classifier.fit(X_train, y_train)\n",
    "prediction_XGB = classifier.predict(X_test)"
   ]
  },
  {
   "cell_type": "code",
   "execution_count": 15,
   "metadata": {},
   "outputs": [
    {
     "data": {
      "text/plain": [
       "0.8732758620689656"
      ]
     },
     "execution_count": 15,
     "metadata": {},
     "output_type": "execute_result"
    }
   ],
   "source": [
    "classifier.score(X_test,y_test)"
   ]
  },
  {
   "cell_type": "code",
   "execution_count": 17,
   "metadata": {},
   "outputs": [
    {
     "data": {
      "text/plain": [
       "array([[856, 139],\n",
       "       [  8, 157]])"
      ]
     },
     "execution_count": 17,
     "metadata": {},
     "output_type": "execute_result"
    }
   ],
   "source": [
    "confusion_matrix(y_test, prediction_XGB)"
   ]
  },
  {
   "cell_type": "code",
   "execution_count": 21,
   "metadata": {},
   "outputs": [
    {
     "data": {
      "text/plain": [
       "1.0"
      ]
     },
     "execution_count": 21,
     "metadata": {},
     "output_type": "execute_result"
    }
   ],
   "source": [
    "classifier.score(X_test_0,y_test_0)"
   ]
  },
  {
   "cell_type": "code",
   "execution_count": 26,
   "metadata": {},
   "outputs": [
    {
     "data": {
      "text/plain": [
       "array([[100]])"
      ]
     },
     "execution_count": 26,
     "metadata": {},
     "output_type": "execute_result"
    }
   ],
   "source": [
    "prediction_XGB_0 = classifier.predict(X_test_0)\n",
    "confusion_matrix(y_test_0,prediction_XGB_0)"
   ]
  },
  {
   "cell_type": "code",
   "execution_count": 27,
   "metadata": {},
   "outputs": [
    {
     "data": {
      "text/plain": [
       "0.8577586206896551"
      ]
     },
     "execution_count": 27,
     "metadata": {},
     "output_type": "execute_result"
    }
   ],
   "source": [
    "classifier.score(X_test_all,y_test_all)"
   ]
  },
  {
   "cell_type": "code",
   "execution_count": 30,
   "metadata": {},
   "outputs": [
    {
     "data": {
      "text/plain": [
       "array([[995,   0],\n",
       "       [165,   0]])"
      ]
     },
     "execution_count": 30,
     "metadata": {},
     "output_type": "execute_result"
    }
   ],
   "source": [
    "prediction_XGB_all = classifier.predict(X_test_all)\n",
    "confusion_matrix(y_test_all, prediction_XGB_all)"
   ]
  },
  {
   "cell_type": "code",
   "execution_count": 32,
   "metadata": {},
   "outputs": [
    {
     "data": {
      "image/png": "[encoded data removed]",
      "text/plain": [
       "<Figure size 432x288 with 1 Axes>"
      ]
     },
     "metadata": {
      "needs_background": "light"
     },
     "output_type": "display_data"
    }
   ],
   "source": [
    "fpr, tpr, _ = roc_curve(y_test, prediction_XGB)\n",
    "plot_roc(fpr, tpr, 'XGB')"
   ]
  },
  {
   "cell_type": "code",
   "execution_count": null,
   "metadata": {},
   "outputs": [],
   "source": []
  }
 ],
 "metadata": {
  "kernelspec": {
   "display_name": "Python 3",
   "language": "python",
   "name": "python3"
  },
  "language_info": {
   "codemirror_mode": {
    "name": "ipython",
    "version": 3
   },
   "file_extension": ".py",
   "mimetype": "text/x-python",
   "name": "python",
   "nbconvert_exporter": "python",
   "pygments_lexer": "ipython3",
   "version": "3.6.7"
  }
 },
 "nbformat": 4,
 "nbformat_minor": 1
}
