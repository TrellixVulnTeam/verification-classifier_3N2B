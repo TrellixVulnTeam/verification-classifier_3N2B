{
 "cells": [
  {
   "cell_type": "code",
   "execution_count": 1,
   "metadata": {},
   "outputs": [
    {
     "name": "stderr",
     "output_type": "stream",
     "text": [
      "Using TensorFlow backend.\n"
     ]
    }
   ],
   "source": [
    "import pandas as pd\n",
    "import numpy as np\n",
    "from keras.models import Sequential\n",
    "from keras.layers import Dense, Dropout\n",
    "from keras.optimizers import Adam\n",
    "import keras.backend as K\n",
    "from sklearn import preprocessing\n",
    "from sklearn.metrics import confusion_matrix\n",
    "from sklearn.ensemble import RandomForestClassifier\n",
    "from sklearn.ensemble import AdaBoostClassifier\n",
    "from sklearn import svm\n",
    "from itertools import product\n",
    "import matplotlib.pyplot as plt\n",
    "import matplotlib.mlab as mlab\n",
    "import seaborn\n",
    "\n",
    "%matplotlib inline"
   ]
  },
  {
   "cell_type": "code",
   "execution_count": 2,
   "metadata": {},
   "outputs": [],
   "source": [
    "data = pd.read_csv(r'/home/jovyan/work/data-analysis/output/metrics.csv')\n",
    "df = pd.DataFrame(data)\n",
    "df['title'] = df['level_0']\n",
    "attack_series = []\n",
    "attack_IDs = []\n",
    "dimensions_series = []\n",
    "for _, row in df.iterrows():\n",
    "    attack_series.append(row['level_1'].split('/')[-2])\n",
    "\n",
    "df['attack'] = attack_series\n",
    "\n",
    "for _, row in df.iterrows():\n",
    "    dimension = int(row['attack'].split('_')[0].replace('p',''))\n",
    "    dimensions_series.append(dimension)\n",
    "    if row['attack'] in ['1080p', '720p', '480p', '360p', '240p', '144p']:\n",
    "            attack_IDs.append(1)\n",
    "    else:\n",
    "        attack_IDs.append(0)\n",
    "\n",
    "df['attack_ID'] = attack_IDs\n",
    "df['dimension'] = dimensions_series\n",
    "df = df.drop(['Unnamed: 0',\n",
    "         'temporal_canny-series',\n",
    "         'temporal_cross_correlation-series', \n",
    "         'temporal_difference-series', \n",
    "         'temporal_histogram_distance-series', \n",
    "         'temporal_histogram_distance-cosine',\n",
    "         'level_0', \n",
    "         'level_1'],axis=1)"
   ]
  },
  {
   "cell_type": "markdown",
   "metadata": {},
   "source": [
    "# Data Visualization"
   ]
  },
  {
   "cell_type": "code",
   "execution_count": 3,
   "metadata": {
    "scrolled": true
   },
   "outputs": [
    {
     "data": {
      "text/html": [
       "<div>\n",
       "<style scoped>\n",
       "    .dataframe tbody tr th:only-of-type {\n",
       "        vertical-align: middle;\n",
       "    }\n",
       "\n",
       "    .dataframe tbody tr th {\n",
       "        vertical-align: top;\n",
       "    }\n",
       "\n",
       "    .dataframe thead th {\n",
       "        text-align: right;\n",
       "    }\n",
       "</style>\n",
       "<table border=\"1\" class=\"dataframe\">\n",
       "  <thead>\n",
       "    <tr style=\"text-align: right;\">\n",
       "      <th></th>\n",
       "      <th>temporal_canny-cosine</th>\n",
       "      <th>temporal_canny-euclidean</th>\n",
       "      <th>temporal_cross_correlation-cosine</th>\n",
       "      <th>temporal_cross_correlation-euclidean</th>\n",
       "      <th>temporal_difference-cosine</th>\n",
       "      <th>temporal_difference-euclidean</th>\n",
       "      <th>temporal_histogram_distance-euclidean</th>\n",
       "      <th>vmaf</th>\n",
       "      <th>title</th>\n",
       "      <th>attack</th>\n",
       "      <th>attack_ID</th>\n",
       "      <th>dimension</th>\n",
       "    </tr>\n",
       "  </thead>\n",
       "  <tbody>\n",
       "    <tr>\n",
       "      <th>0</th>\n",
       "      <td>0.000000</td>\n",
       "      <td>0.000000</td>\n",
       "      <td>0.000000e+00</td>\n",
       "      <td>0.000000</td>\n",
       "      <td>0.000000</td>\n",
       "      <td>0.000000</td>\n",
       "      <td>0.000000</td>\n",
       "      <td>NaN</td>\n",
       "      <td>../../data/1080p/-8ygLPzgpsg.mp4</td>\n",
       "      <td>1080p</td>\n",
       "      <td>1</td>\n",
       "      <td>1080</td>\n",
       "    </tr>\n",
       "    <tr>\n",
       "      <th>1</th>\n",
       "      <td>0.000566</td>\n",
       "      <td>0.670932</td>\n",
       "      <td>7.154334e-07</td>\n",
       "      <td>0.186423</td>\n",
       "      <td>0.000021</td>\n",
       "      <td>0.585142</td>\n",
       "      <td>0.587441</td>\n",
       "      <td>78.516691</td>\n",
       "      <td>../../data/1080p/-8ygLPzgpsg.mp4</td>\n",
       "      <td>1080p_watermark</td>\n",
       "      <td>0</td>\n",
       "      <td>1080</td>\n",
       "    </tr>\n",
       "    <tr>\n",
       "      <th>2</th>\n",
       "      <td>0.001139</td>\n",
       "      <td>1.866004</td>\n",
       "      <td>5.874493e-04</td>\n",
       "      <td>3.274284</td>\n",
       "      <td>0.000036</td>\n",
       "      <td>0.361467</td>\n",
       "      <td>0.048735</td>\n",
       "      <td>3.019776</td>\n",
       "      <td>../../data/1080p/-8ygLPzgpsg.mp4</td>\n",
       "      <td>1080p_flip_vertical</td>\n",
       "      <td>0</td>\n",
       "      <td>1080</td>\n",
       "    </tr>\n",
       "    <tr>\n",
       "      <th>3</th>\n",
       "      <td>0.001072</td>\n",
       "      <td>1.812684</td>\n",
       "      <td>8.232710e-04</td>\n",
       "      <td>4.191308</td>\n",
       "      <td>0.000043</td>\n",
       "      <td>0.403333</td>\n",
       "      <td>0.091211</td>\n",
       "      <td>1.929483</td>\n",
       "      <td>../../data/1080p/-8ygLPzgpsg.mp4</td>\n",
       "      <td>1080p_rotate_90_clockwise</td>\n",
       "      <td>0</td>\n",
       "      <td>1080</td>\n",
       "    </tr>\n",
       "    <tr>\n",
       "      <th>4</th>\n",
       "      <td>0.000633</td>\n",
       "      <td>0.630162</td>\n",
       "      <td>8.913559e-07</td>\n",
       "      <td>0.385323</td>\n",
       "      <td>0.000296</td>\n",
       "      <td>1.154801</td>\n",
       "      <td>11.787850</td>\n",
       "      <td>NaN</td>\n",
       "      <td>../../data/1080p/-8ygLPzgpsg.mp4</td>\n",
       "      <td>1080p_vignette</td>\n",
       "      <td>0</td>\n",
       "      <td>1080</td>\n",
       "    </tr>\n",
       "    <tr>\n",
       "      <th>5</th>\n",
       "      <td>0.000493</td>\n",
       "      <td>0.556471</td>\n",
       "      <td>6.946701e-06</td>\n",
       "      <td>0.127974</td>\n",
       "      <td>0.000175</td>\n",
       "      <td>1.431690</td>\n",
       "      <td>16.136381</td>\n",
       "      <td>NaN</td>\n",
       "      <td>../../data/1080p/-8ygLPzgpsg.mp4</td>\n",
       "      <td>1080p_black_and_white</td>\n",
       "      <td>0</td>\n",
       "      <td>1080</td>\n",
       "    </tr>\n",
       "    <tr>\n",
       "      <th>6</th>\n",
       "      <td>0.000671</td>\n",
       "      <td>0.647693</td>\n",
       "      <td>3.210575e-08</td>\n",
       "      <td>0.012719</td>\n",
       "      <td>0.000474</td>\n",
       "      <td>2.022201</td>\n",
       "      <td>0.266372</td>\n",
       "      <td>NaN</td>\n",
       "      <td>../../data/1080p/-8ygLPzgpsg.mp4</td>\n",
       "      <td>1080p_low_bitrate_4</td>\n",
       "      <td>0</td>\n",
       "      <td>1080</td>\n",
       "    </tr>\n",
       "    <tr>\n",
       "      <th>7</th>\n",
       "      <td>0.000601</td>\n",
       "      <td>0.615467</td>\n",
       "      <td>3.528216e-09</td>\n",
       "      <td>0.005353</td>\n",
       "      <td>0.000135</td>\n",
       "      <td>0.702022</td>\n",
       "      <td>0.080409</td>\n",
       "      <td>96.411326</td>\n",
       "      <td>../../data/1080p/-8ygLPzgpsg.mp4</td>\n",
       "      <td>720p</td>\n",
       "      <td>1</td>\n",
       "      <td>720</td>\n",
       "    </tr>\n",
       "    <tr>\n",
       "      <th>8</th>\n",
       "      <td>0.000672</td>\n",
       "      <td>0.648275</td>\n",
       "      <td>8.818017e-07</td>\n",
       "      <td>0.391206</td>\n",
       "      <td>0.000490</td>\n",
       "      <td>1.339839</td>\n",
       "      <td>11.799543</td>\n",
       "      <td>NaN</td>\n",
       "      <td>../../data/1080p/-8ygLPzgpsg.mp4</td>\n",
       "      <td>720p_vignette</td>\n",
       "      <td>0</td>\n",
       "      <td>720</td>\n",
       "    </tr>\n",
       "    <tr>\n",
       "      <th>9</th>\n",
       "      <td>0.000624</td>\n",
       "      <td>0.627251</td>\n",
       "      <td>6.814093e-06</td>\n",
       "      <td>0.131143</td>\n",
       "      <td>0.000352</td>\n",
       "      <td>1.794147</td>\n",
       "      <td>16.145431</td>\n",
       "      <td>NaN</td>\n",
       "      <td>../../data/1080p/-8ygLPzgpsg.mp4</td>\n",
       "      <td>720p_black_and_white</td>\n",
       "      <td>0</td>\n",
       "      <td>720</td>\n",
       "    </tr>\n",
       "    <tr>\n",
       "      <th>10</th>\n",
       "      <td>0.000706</td>\n",
       "      <td>0.664513</td>\n",
       "      <td>7.393946e-08</td>\n",
       "      <td>0.022289</td>\n",
       "      <td>0.000919</td>\n",
       "      <td>2.605721</td>\n",
       "      <td>0.390738</td>\n",
       "      <td>NaN</td>\n",
       "      <td>../../data/1080p/-8ygLPzgpsg.mp4</td>\n",
       "      <td>720p_low_bitrate_4</td>\n",
       "      <td>0</td>\n",
       "      <td>720</td>\n",
       "    </tr>\n",
       "    <tr>\n",
       "      <th>11</th>\n",
       "      <td>0.000744</td>\n",
       "      <td>0.743967</td>\n",
       "      <td>6.707994e-07</td>\n",
       "      <td>0.183943</td>\n",
       "      <td>0.000181</td>\n",
       "      <td>1.017326</td>\n",
       "      <td>0.613731</td>\n",
       "      <td>70.105340</td>\n",
       "      <td>../../data/1080p/-8ygLPzgpsg.mp4</td>\n",
       "      <td>720p_watermark</td>\n",
       "      <td>0</td>\n",
       "      <td>720</td>\n",
       "    </tr>\n",
       "    <tr>\n",
       "      <th>12</th>\n",
       "      <td>0.001139</td>\n",
       "      <td>1.865968</td>\n",
       "      <td>5.872101e-04</td>\n",
       "      <td>3.276412</td>\n",
       "      <td>0.000135</td>\n",
       "      <td>0.713908</td>\n",
       "      <td>0.084600</td>\n",
       "      <td>4.647022</td>\n",
       "      <td>../../data/1080p/-8ygLPzgpsg.mp4</td>\n",
       "      <td>720p_flip_vertical</td>\n",
       "      <td>0</td>\n",
       "      <td>720</td>\n",
       "    </tr>\n",
       "    <tr>\n",
       "      <th>13</th>\n",
       "      <td>0.001083</td>\n",
       "      <td>1.812559</td>\n",
       "      <td>8.228880e-04</td>\n",
       "      <td>4.186015</td>\n",
       "      <td>0.000106</td>\n",
       "      <td>0.629999</td>\n",
       "      <td>0.108269</td>\n",
       "      <td>3.270202</td>\n",
       "      <td>../../data/1080p/-8ygLPzgpsg.mp4</td>\n",
       "      <td>720p_rotate_90_clockwise</td>\n",
       "      <td>0</td>\n",
       "      <td>720</td>\n",
       "    </tr>\n",
       "    <tr>\n",
       "      <th>14</th>\n",
       "      <td>0.000669</td>\n",
       "      <td>0.646582</td>\n",
       "      <td>8.038127e-09</td>\n",
       "      <td>0.010450</td>\n",
       "      <td>0.000199</td>\n",
       "      <td>0.876249</td>\n",
       "      <td>0.127147</td>\n",
       "      <td>95.704518</td>\n",
       "      <td>../../data/1080p/-8ygLPzgpsg.mp4</td>\n",
       "      <td>480p</td>\n",
       "      <td>1</td>\n",
       "      <td>480</td>\n",
       "    </tr>\n",
       "    <tr>\n",
       "      <th>15</th>\n",
       "      <td>0.000766</td>\n",
       "      <td>0.744234</td>\n",
       "      <td>5.604179e-07</td>\n",
       "      <td>0.176253</td>\n",
       "      <td>0.000272</td>\n",
       "      <td>1.084909</td>\n",
       "      <td>0.656596</td>\n",
       "      <td>68.560010</td>\n",
       "      <td>../../data/1080p/-8ygLPzgpsg.mp4</td>\n",
       "      <td>480p_watermark</td>\n",
       "      <td>0</td>\n",
       "      <td>480</td>\n",
       "    </tr>\n",
       "    <tr>\n",
       "      <th>16</th>\n",
       "      <td>0.000710</td>\n",
       "      <td>0.666800</td>\n",
       "      <td>8.326460e-07</td>\n",
       "      <td>0.394355</td>\n",
       "      <td>0.000616</td>\n",
       "      <td>1.500865</td>\n",
       "      <td>11.894807</td>\n",
       "      <td>NaN</td>\n",
       "      <td>../../data/1080p/-8ygLPzgpsg.mp4</td>\n",
       "      <td>480p_vignette</td>\n",
       "      <td>0</td>\n",
       "      <td>480</td>\n",
       "    </tr>\n",
       "    <tr>\n",
       "      <th>17</th>\n",
       "      <td>0.000671</td>\n",
       "      <td>0.647746</td>\n",
       "      <td>6.806948e-06</td>\n",
       "      <td>0.136030</td>\n",
       "      <td>0.000383</td>\n",
       "      <td>1.459471</td>\n",
       "      <td>16.145185</td>\n",
       "      <td>NaN</td>\n",
       "      <td>../../data/1080p/-8ygLPzgpsg.mp4</td>\n",
       "      <td>480p_black_and_white</td>\n",
       "      <td>0</td>\n",
       "      <td>480</td>\n",
       "    </tr>\n",
       "    <tr>\n",
       "      <th>18</th>\n",
       "      <td>0.000731</td>\n",
       "      <td>0.675719</td>\n",
       "      <td>1.468733e-07</td>\n",
       "      <td>0.039454</td>\n",
       "      <td>0.001208</td>\n",
       "      <td>2.784506</td>\n",
       "      <td>0.628769</td>\n",
       "      <td>NaN</td>\n",
       "      <td>../../data/1080p/-8ygLPzgpsg.mp4</td>\n",
       "      <td>480p_low_bitrate_4</td>\n",
       "      <td>0</td>\n",
       "      <td>480</td>\n",
       "    </tr>\n",
       "    <tr>\n",
       "      <th>19</th>\n",
       "      <td>0.001151</td>\n",
       "      <td>1.865477</td>\n",
       "      <td>5.872293e-04</td>\n",
       "      <td>3.255560</td>\n",
       "      <td>0.000222</td>\n",
       "      <td>0.903857</td>\n",
       "      <td>0.140931</td>\n",
       "      <td>5.570781</td>\n",
       "      <td>../../data/1080p/-8ygLPzgpsg.mp4</td>\n",
       "      <td>480p_flip_vertical</td>\n",
       "      <td>0</td>\n",
       "      <td>480</td>\n",
       "    </tr>\n",
       "    <tr>\n",
       "      <th>20</th>\n",
       "      <td>0.001080</td>\n",
       "      <td>1.805178</td>\n",
       "      <td>8.207520e-04</td>\n",
       "      <td>4.173483</td>\n",
       "      <td>0.000191</td>\n",
       "      <td>0.839893</td>\n",
       "      <td>0.160527</td>\n",
       "      <td>4.640124</td>\n",
       "      <td>../../data/1080p/-8ygLPzgpsg.mp4</td>\n",
       "      <td>480p_rotate_90_clockwise</td>\n",
       "      <td>0</td>\n",
       "      <td>480</td>\n",
       "    </tr>\n",
       "    <tr>\n",
       "      <th>21</th>\n",
       "      <td>0.000674</td>\n",
       "      <td>0.648654</td>\n",
       "      <td>2.226747e-08</td>\n",
       "      <td>0.019820</td>\n",
       "      <td>0.000296</td>\n",
       "      <td>1.043024</td>\n",
       "      <td>0.225889</td>\n",
       "      <td>94.727165</td>\n",
       "      <td>../../data/1080p/-8ygLPzgpsg.mp4</td>\n",
       "      <td>360p</td>\n",
       "      <td>1</td>\n",
       "      <td>360</td>\n",
       "    </tr>\n",
       "    <tr>\n",
       "      <th>22</th>\n",
       "      <td>0.000787</td>\n",
       "      <td>0.748381</td>\n",
       "      <td>4.972779e-07</td>\n",
       "      <td>0.177205</td>\n",
       "      <td>0.000433</td>\n",
       "      <td>1.374230</td>\n",
       "      <td>0.750807</td>\n",
       "      <td>68.950634</td>\n",
       "      <td>../../data/1080p/-8ygLPzgpsg.mp4</td>\n",
       "      <td>360p_watermark</td>\n",
       "      <td>0</td>\n",
       "      <td>360</td>\n",
       "    </tr>\n",
       "    <tr>\n",
       "      <th>23</th>\n",
       "      <td>0.000735</td>\n",
       "      <td>0.678001</td>\n",
       "      <td>8.241597e-07</td>\n",
       "      <td>0.402656</td>\n",
       "      <td>0.000787</td>\n",
       "      <td>1.714868</td>\n",
       "      <td>11.921761</td>\n",
       "      <td>NaN</td>\n",
       "      <td>../../data/1080p/-8ygLPzgpsg.mp4</td>\n",
       "      <td>360p_vignette</td>\n",
       "      <td>0</td>\n",
       "      <td>360</td>\n",
       "    </tr>\n",
       "    <tr>\n",
       "      <th>24</th>\n",
       "      <td>0.000684</td>\n",
       "      <td>0.653742</td>\n",
       "      <td>6.732400e-06</td>\n",
       "      <td>0.143696</td>\n",
       "      <td>0.000477</td>\n",
       "      <td>1.551548</td>\n",
       "      <td>16.156886</td>\n",
       "      <td>NaN</td>\n",
       "      <td>../../data/1080p/-8ygLPzgpsg.mp4</td>\n",
       "      <td>360p_black_and_white</td>\n",
       "      <td>0</td>\n",
       "      <td>360</td>\n",
       "    </tr>\n",
       "  </tbody>\n",
       "</table>\n",
       "</div>"
      ],
      "text/plain": [
       "    temporal_canny-cosine  temporal_canny-euclidean  \\\n",
       "0                0.000000                  0.000000   \n",
       "1                0.000566                  0.670932   \n",
       "2                0.001139                  1.866004   \n",
       "3                0.001072                  1.812684   \n",
       "4                0.000633                  0.630162   \n",
       "5                0.000493                  0.556471   \n",
       "6                0.000671                  0.647693   \n",
       "7                0.000601                  0.615467   \n",
       "8                0.000672                  0.648275   \n",
       "9                0.000624                  0.627251   \n",
       "10               0.000706                  0.664513   \n",
       "11               0.000744                  0.743967   \n",
       "12               0.001139                  1.865968   \n",
       "13               0.001083                  1.812559   \n",
       "14               0.000669                  0.646582   \n",
       "15               0.000766                  0.744234   \n",
       "16               0.000710                  0.666800   \n",
       "17               0.000671                  0.647746   \n",
       "18               0.000731                  0.675719   \n",
       "19               0.001151                  1.865477   \n",
       "20               0.001080                  1.805178   \n",
       "21               0.000674                  0.648654   \n",
       "22               0.000787                  0.748381   \n",
       "23               0.000735                  0.678001   \n",
       "24               0.000684                  0.653742   \n",
       "\n",
       "    temporal_cross_correlation-cosine  temporal_cross_correlation-euclidean  \\\n",
       "0                        0.000000e+00                              0.000000   \n",
       "1                        7.154334e-07                              0.186423   \n",
       "2                        5.874493e-04                              3.274284   \n",
       "3                        8.232710e-04                              4.191308   \n",
       "4                        8.913559e-07                              0.385323   \n",
       "5                        6.946701e-06                              0.127974   \n",
       "6                        3.210575e-08                              0.012719   \n",
       "7                        3.528216e-09                              0.005353   \n",
       "8                        8.818017e-07                              0.391206   \n",
       "9                        6.814093e-06                              0.131143   \n",
       "10                       7.393946e-08                              0.022289   \n",
       "11                       6.707994e-07                              0.183943   \n",
       "12                       5.872101e-04                              3.276412   \n",
       "13                       8.228880e-04                              4.186015   \n",
       "14                       8.038127e-09                              0.010450   \n",
       "15                       5.604179e-07                              0.176253   \n",
       "16                       8.326460e-07                              0.394355   \n",
       "17                       6.806948e-06                              0.136030   \n",
       "18                       1.468733e-07                              0.039454   \n",
       "19                       5.872293e-04                              3.255560   \n",
       "20                       8.207520e-04                              4.173483   \n",
       "21                       2.226747e-08                              0.019820   \n",
       "22                       4.972779e-07                              0.177205   \n",
       "23                       8.241597e-07                              0.402656   \n",
       "24                       6.732400e-06                              0.143696   \n",
       "\n",
       "    temporal_difference-cosine  temporal_difference-euclidean  \\\n",
       "0                     0.000000                       0.000000   \n",
       "1                     0.000021                       0.585142   \n",
       "2                     0.000036                       0.361467   \n",
       "3                     0.000043                       0.403333   \n",
       "4                     0.000296                       1.154801   \n",
       "5                     0.000175                       1.431690   \n",
       "6                     0.000474                       2.022201   \n",
       "7                     0.000135                       0.702022   \n",
       "8                     0.000490                       1.339839   \n",
       "9                     0.000352                       1.794147   \n",
       "10                    0.000919                       2.605721   \n",
       "11                    0.000181                       1.017326   \n",
       "12                    0.000135                       0.713908   \n",
       "13                    0.000106                       0.629999   \n",
       "14                    0.000199                       0.876249   \n",
       "15                    0.000272                       1.084909   \n",
       "16                    0.000616                       1.500865   \n",
       "17                    0.000383                       1.459471   \n",
       "18                    0.001208                       2.784506   \n",
       "19                    0.000222                       0.903857   \n",
       "20                    0.000191                       0.839893   \n",
       "21                    0.000296                       1.043024   \n",
       "22                    0.000433                       1.374230   \n",
       "23                    0.000787                       1.714868   \n",
       "24                    0.000477                       1.551548   \n",
       "\n",
       "    temporal_histogram_distance-euclidean       vmaf  \\\n",
       "0                                0.000000        NaN   \n",
       "1                                0.587441  78.516691   \n",
       "2                                0.048735   3.019776   \n",
       "3                                0.091211   1.929483   \n",
       "4                               11.787850        NaN   \n",
       "5                               16.136381        NaN   \n",
       "6                                0.266372        NaN   \n",
       "7                                0.080409  96.411326   \n",
       "8                               11.799543        NaN   \n",
       "9                               16.145431        NaN   \n",
       "10                               0.390738        NaN   \n",
       "11                               0.613731  70.105340   \n",
       "12                               0.084600   4.647022   \n",
       "13                               0.108269   3.270202   \n",
       "14                               0.127147  95.704518   \n",
       "15                               0.656596  68.560010   \n",
       "16                              11.894807        NaN   \n",
       "17                              16.145185        NaN   \n",
       "18                               0.628769        NaN   \n",
       "19                               0.140931   5.570781   \n",
       "20                               0.160527   4.640124   \n",
       "21                               0.225889  94.727165   \n",
       "22                               0.750807  68.950634   \n",
       "23                              11.921761        NaN   \n",
       "24                              16.156886        NaN   \n",
       "\n",
       "                               title                     attack  attack_ID  \\\n",
       "0   ../../data/1080p/-8ygLPzgpsg.mp4                      1080p          1   \n",
       "1   ../../data/1080p/-8ygLPzgpsg.mp4            1080p_watermark          0   \n",
       "2   ../../data/1080p/-8ygLPzgpsg.mp4        1080p_flip_vertical          0   \n",
       "3   ../../data/1080p/-8ygLPzgpsg.mp4  1080p_rotate_90_clockwise          0   \n",
       "4   ../../data/1080p/-8ygLPzgpsg.mp4             1080p_vignette          0   \n",
       "5   ../../data/1080p/-8ygLPzgpsg.mp4      1080p_black_and_white          0   \n",
       "6   ../../data/1080p/-8ygLPzgpsg.mp4        1080p_low_bitrate_4          0   \n",
       "7   ../../data/1080p/-8ygLPzgpsg.mp4                       720p          1   \n",
       "8   ../../data/1080p/-8ygLPzgpsg.mp4              720p_vignette          0   \n",
       "9   ../../data/1080p/-8ygLPzgpsg.mp4       720p_black_and_white          0   \n",
       "10  ../../data/1080p/-8ygLPzgpsg.mp4         720p_low_bitrate_4          0   \n",
       "11  ../../data/1080p/-8ygLPzgpsg.mp4             720p_watermark          0   \n",
       "12  ../../data/1080p/-8ygLPzgpsg.mp4         720p_flip_vertical          0   \n",
       "13  ../../data/1080p/-8ygLPzgpsg.mp4   720p_rotate_90_clockwise          0   \n",
       "14  ../../data/1080p/-8ygLPzgpsg.mp4                       480p          1   \n",
       "15  ../../data/1080p/-8ygLPzgpsg.mp4             480p_watermark          0   \n",
       "16  ../../data/1080p/-8ygLPzgpsg.mp4              480p_vignette          0   \n",
       "17  ../../data/1080p/-8ygLPzgpsg.mp4       480p_black_and_white          0   \n",
       "18  ../../data/1080p/-8ygLPzgpsg.mp4         480p_low_bitrate_4          0   \n",
       "19  ../../data/1080p/-8ygLPzgpsg.mp4         480p_flip_vertical          0   \n",
       "20  ../../data/1080p/-8ygLPzgpsg.mp4   480p_rotate_90_clockwise          0   \n",
       "21  ../../data/1080p/-8ygLPzgpsg.mp4                       360p          1   \n",
       "22  ../../data/1080p/-8ygLPzgpsg.mp4             360p_watermark          0   \n",
       "23  ../../data/1080p/-8ygLPzgpsg.mp4              360p_vignette          0   \n",
       "24  ../../data/1080p/-8ygLPzgpsg.mp4       360p_black_and_white          0   \n",
       "\n",
       "    dimension  \n",
       "0        1080  \n",
       "1        1080  \n",
       "2        1080  \n",
       "3        1080  \n",
       "4        1080  \n",
       "5        1080  \n",
       "6        1080  \n",
       "7         720  \n",
       "8         720  \n",
       "9         720  \n",
       "10        720  \n",
       "11        720  \n",
       "12        720  \n",
       "13        720  \n",
       "14        480  \n",
       "15        480  \n",
       "16        480  \n",
       "17        480  \n",
       "18        480  \n",
       "19        480  \n",
       "20        480  \n",
       "21        360  \n",
       "22        360  \n",
       "23        360  \n",
       "24        360  "
      ]
     },
     "execution_count": 3,
     "metadata": {},
     "output_type": "execute_result"
    }
   ],
   "source": [
    "df.head(25)"
   ]
  },
  {
   "cell_type": "code",
   "execution_count": 4,
   "metadata": {
    "scrolled": true
   },
   "outputs": [
    {
     "data": {
      "text/html": [
       "<div>\n",
       "<style scoped>\n",
       "    .dataframe tbody tr th:only-of-type {\n",
       "        vertical-align: middle;\n",
       "    }\n",
       "\n",
       "    .dataframe tbody tr th {\n",
       "        vertical-align: top;\n",
       "    }\n",
       "\n",
       "    .dataframe thead th {\n",
       "        text-align: right;\n",
       "    }\n",
       "</style>\n",
       "<table border=\"1\" class=\"dataframe\">\n",
       "  <thead>\n",
       "    <tr style=\"text-align: right;\">\n",
       "      <th></th>\n",
       "      <th>temporal_canny-cosine</th>\n",
       "      <th>temporal_canny-euclidean</th>\n",
       "      <th>temporal_cross_correlation-cosine</th>\n",
       "      <th>temporal_cross_correlation-euclidean</th>\n",
       "      <th>temporal_difference-cosine</th>\n",
       "      <th>temporal_difference-euclidean</th>\n",
       "      <th>temporal_histogram_distance-euclidean</th>\n",
       "      <th>vmaf</th>\n",
       "      <th>attack_ID</th>\n",
       "      <th>dimension</th>\n",
       "    </tr>\n",
       "  </thead>\n",
       "  <tbody>\n",
       "    <tr>\n",
       "      <th>count</th>\n",
       "      <td>5796.000000</td>\n",
       "      <td>5796.000000</td>\n",
       "      <td>5.796000e+03</td>\n",
       "      <td>5796.000000</td>\n",
       "      <td>5796.000000</td>\n",
       "      <td>5796.000000</td>\n",
       "      <td>5796.000000</td>\n",
       "      <td>3174.000000</td>\n",
       "      <td>5796.000000</td>\n",
       "      <td>5796.000000</td>\n",
       "    </tr>\n",
       "    <tr>\n",
       "      <th>mean</th>\n",
       "      <td>0.124845</td>\n",
       "      <td>12196.617817</td>\n",
       "      <td>2.942489e-03</td>\n",
       "      <td>1.671773</td>\n",
       "      <td>0.021534</td>\n",
       "      <td>3.302123</td>\n",
       "      <td>5.355903</td>\n",
       "      <td>40.343494</td>\n",
       "      <td>0.142857</td>\n",
       "      <td>504.000000</td>\n",
       "    </tr>\n",
       "    <tr>\n",
       "      <th>std</th>\n",
       "      <td>0.246705</td>\n",
       "      <td>50237.227818</td>\n",
       "      <td>1.237253e-02</td>\n",
       "      <td>2.582384</td>\n",
       "      <td>0.070417</td>\n",
       "      <td>2.904630</td>\n",
       "      <td>9.728277</td>\n",
       "      <td>40.267544</td>\n",
       "      <td>0.349957</td>\n",
       "      <td>316.001944</td>\n",
       "    </tr>\n",
       "    <tr>\n",
       "      <th>min</th>\n",
       "      <td>0.000000</td>\n",
       "      <td>0.000000</td>\n",
       "      <td>0.000000e+00</td>\n",
       "      <td>0.000000</td>\n",
       "      <td>0.000000</td>\n",
       "      <td>0.000000</td>\n",
       "      <td>0.000000</td>\n",
       "      <td>0.000000</td>\n",
       "      <td>0.000000</td>\n",
       "      <td>144.000000</td>\n",
       "    </tr>\n",
       "    <tr>\n",
       "      <th>25%</th>\n",
       "      <td>0.000873</td>\n",
       "      <td>1.099166</td>\n",
       "      <td>3.474633e-07</td>\n",
       "      <td>0.103534</td>\n",
       "      <td>0.000725</td>\n",
       "      <td>1.348963</td>\n",
       "      <td>0.165798</td>\n",
       "      <td>1.475565</td>\n",
       "      <td>0.000000</td>\n",
       "      <td>240.000000</td>\n",
       "    </tr>\n",
       "    <tr>\n",
       "      <th>50%</th>\n",
       "      <td>0.003933</td>\n",
       "      <td>3.552987</td>\n",
       "      <td>4.852876e-06</td>\n",
       "      <td>0.352134</td>\n",
       "      <td>0.003272</td>\n",
       "      <td>2.496744</td>\n",
       "      <td>0.604480</td>\n",
       "      <td>9.992767</td>\n",
       "      <td>0.000000</td>\n",
       "      <td>420.000000</td>\n",
       "    </tr>\n",
       "    <tr>\n",
       "      <th>75%</th>\n",
       "      <td>0.090100</td>\n",
       "      <td>12.470781</td>\n",
       "      <td>3.877885e-04</td>\n",
       "      <td>2.447800</td>\n",
       "      <td>0.013115</td>\n",
       "      <td>4.241309</td>\n",
       "      <td>5.357450</td>\n",
       "      <td>84.832563</td>\n",
       "      <td>0.000000</td>\n",
       "      <td>720.000000</td>\n",
       "    </tr>\n",
       "    <tr>\n",
       "      <th>max</th>\n",
       "      <td>0.974069</td>\n",
       "      <td>378978.958427</td>\n",
       "      <td>1.665425e-01</td>\n",
       "      <td>12.605094</td>\n",
       "      <td>0.823593</td>\n",
       "      <td>22.774383</td>\n",
       "      <td>56.174166</td>\n",
       "      <td>99.590587</td>\n",
       "      <td>1.000000</td>\n",
       "      <td>1080.000000</td>\n",
       "    </tr>\n",
       "  </tbody>\n",
       "</table>\n",
       "</div>"
      ],
      "text/plain": [
       "       temporal_canny-cosine  temporal_canny-euclidean  \\\n",
       "count            5796.000000               5796.000000   \n",
       "mean                0.124845              12196.617817   \n",
       "std                 0.246705              50237.227818   \n",
       "min                 0.000000                  0.000000   \n",
       "25%                 0.000873                  1.099166   \n",
       "50%                 0.003933                  3.552987   \n",
       "75%                 0.090100                 12.470781   \n",
       "max                 0.974069             378978.958427   \n",
       "\n",
       "       temporal_cross_correlation-cosine  \\\n",
       "count                       5.796000e+03   \n",
       "mean                        2.942489e-03   \n",
       "std                         1.237253e-02   \n",
       "min                         0.000000e+00   \n",
       "25%                         3.474633e-07   \n",
       "50%                         4.852876e-06   \n",
       "75%                         3.877885e-04   \n",
       "max                         1.665425e-01   \n",
       "\n",
       "       temporal_cross_correlation-euclidean  temporal_difference-cosine  \\\n",
       "count                           5796.000000                 5796.000000   \n",
       "mean                               1.671773                    0.021534   \n",
       "std                                2.582384                    0.070417   \n",
       "min                                0.000000                    0.000000   \n",
       "25%                                0.103534                    0.000725   \n",
       "50%                                0.352134                    0.003272   \n",
       "75%                                2.447800                    0.013115   \n",
       "max                               12.605094                    0.823593   \n",
       "\n",
       "       temporal_difference-euclidean  temporal_histogram_distance-euclidean  \\\n",
       "count                    5796.000000                            5796.000000   \n",
       "mean                        3.302123                               5.355903   \n",
       "std                         2.904630                               9.728277   \n",
       "min                         0.000000                               0.000000   \n",
       "25%                         1.348963                               0.165798   \n",
       "50%                         2.496744                               0.604480   \n",
       "75%                         4.241309                               5.357450   \n",
       "max                        22.774383                              56.174166   \n",
       "\n",
       "              vmaf    attack_ID    dimension  \n",
       "count  3174.000000  5796.000000  5796.000000  \n",
       "mean     40.343494     0.142857   504.000000  \n",
       "std      40.267544     0.349957   316.001944  \n",
       "min       0.000000     0.000000   144.000000  \n",
       "25%       1.475565     0.000000   240.000000  \n",
       "50%       9.992767     0.000000   420.000000  \n",
       "75%      84.832563     0.000000   720.000000  \n",
       "max      99.590587     1.000000  1080.000000  "
      ]
     },
     "execution_count": 4,
     "metadata": {},
     "output_type": "execute_result"
    }
   ],
   "source": [
    "df.describe()"
   ]
  },
  {
   "cell_type": "code",
   "execution_count": 5,
   "metadata": {},
   "outputs": [],
   "source": [
    "df_corr = df.corr()"
   ]
  },
  {
   "cell_type": "code",
   "execution_count": 6,
   "metadata": {
    "scrolled": false
   },
   "outputs": [
    {
     "data": {
      "text/html": [
       "<style  type=\"text/css\" >\n",
       "    #T_d3a11e62_5cef_11e9_87a8_0242ac110002row0_col0 {\n",
       "            background-color:  #023858;\n",
       "        }    #T_d3a11e62_5cef_11e9_87a8_0242ac110002row0_col1 {\n",
       "            background-color:  #045382;\n",
       "        }    #T_d3a11e62_5cef_11e9_87a8_0242ac110002row0_col2 {\n",
       "            background-color:  #187cb6;\n",
       "        }    #T_d3a11e62_5cef_11e9_87a8_0242ac110002row0_col3 {\n",
       "            background-color:  #0872b1;\n",
       "        }    #T_d3a11e62_5cef_11e9_87a8_0242ac110002row0_col4 {\n",
       "            background-color:  #187cb6;\n",
       "        }    #T_d3a11e62_5cef_11e9_87a8_0242ac110002row0_col5 {\n",
       "            background-color:  #67a4cc;\n",
       "        }    #T_d3a11e62_5cef_11e9_87a8_0242ac110002row0_col6 {\n",
       "            background-color:  #83afd3;\n",
       "        }    #T_d3a11e62_5cef_11e9_87a8_0242ac110002row0_col7 {\n",
       "            background-color:  #bcc7e1;\n",
       "        }    #T_d3a11e62_5cef_11e9_87a8_0242ac110002row0_col8 {\n",
       "            background-color:  #d7d6e9;\n",
       "        }    #T_d3a11e62_5cef_11e9_87a8_0242ac110002row0_col9 {\n",
       "            background-color:  #8bb2d4;\n",
       "        }    #T_d3a11e62_5cef_11e9_87a8_0242ac110002row1_col0 {\n",
       "            background-color:  #03517e;\n",
       "        }    #T_d3a11e62_5cef_11e9_87a8_0242ac110002row1_col1 {\n",
       "            background-color:  #023858;\n",
       "        }    #T_d3a11e62_5cef_11e9_87a8_0242ac110002row1_col2 {\n",
       "            background-color:  #4295c3;\n",
       "        }    #T_d3a11e62_5cef_11e9_87a8_0242ac110002row1_col3 {\n",
       "            background-color:  #197db7;\n",
       "        }    #T_d3a11e62_5cef_11e9_87a8_0242ac110002row1_col4 {\n",
       "            background-color:  #056dac;\n",
       "        }    #T_d3a11e62_5cef_11e9_87a8_0242ac110002row1_col5 {\n",
       "            background-color:  #5c9fc9;\n",
       "        }    #T_d3a11e62_5cef_11e9_87a8_0242ac110002row1_col6 {\n",
       "            background-color:  #84b0d3;\n",
       "        }    #T_d3a11e62_5cef_11e9_87a8_0242ac110002row1_col7 {\n",
       "            background-color:  #a9bfdc;\n",
       "        }    #T_d3a11e62_5cef_11e9_87a8_0242ac110002row1_col8 {\n",
       "            background-color:  #d3d4e7;\n",
       "        }    #T_d3a11e62_5cef_11e9_87a8_0242ac110002row1_col9 {\n",
       "            background-color:  #a1bbda;\n",
       "        }    #T_d3a11e62_5cef_11e9_87a8_0242ac110002row2_col0 {\n",
       "            background-color:  #529bc7;\n",
       "        }    #T_d3a11e62_5cef_11e9_87a8_0242ac110002row2_col1 {\n",
       "            background-color:  #a7bddb;\n",
       "        }    #T_d3a11e62_5cef_11e9_87a8_0242ac110002row2_col2 {\n",
       "            background-color:  #023858;\n",
       "        }    #T_d3a11e62_5cef_11e9_87a8_0242ac110002row2_col3 {\n",
       "            background-color:  #03446a;\n",
       "        }    #T_d3a11e62_5cef_11e9_87a8_0242ac110002row2_col4 {\n",
       "            background-color:  #d4d4e8;\n",
       "        }    #T_d3a11e62_5cef_11e9_87a8_0242ac110002row2_col5 {\n",
       "            background-color:  #e4e1ef;\n",
       "        }    #T_d3a11e62_5cef_11e9_87a8_0242ac110002row2_col6 {\n",
       "            background-color:  #fff7fb;\n",
       "        }    #T_d3a11e62_5cef_11e9_87a8_0242ac110002row2_col7 {\n",
       "            background-color:  #fef6fb;\n",
       "        }    #T_d3a11e62_5cef_11e9_87a8_0242ac110002row2_col8 {\n",
       "            background-color:  #e9e5f1;\n",
       "        }    #T_d3a11e62_5cef_11e9_87a8_0242ac110002row2_col9 {\n",
       "            background-color:  #056ba9;\n",
       "        }    #T_d3a11e62_5cef_11e9_87a8_0242ac110002row3_col0 {\n",
       "            background-color:  #3790c0;\n",
       "        }    #T_d3a11e62_5cef_11e9_87a8_0242ac110002row3_col1 {\n",
       "            background-color:  #69a5cc;\n",
       "        }    #T_d3a11e62_5cef_11e9_87a8_0242ac110002row3_col2 {\n",
       "            background-color:  #03446a;\n",
       "        }    #T_d3a11e62_5cef_11e9_87a8_0242ac110002row3_col3 {\n",
       "            background-color:  #023858;\n",
       "        }    #T_d3a11e62_5cef_11e9_87a8_0242ac110002row3_col4 {\n",
       "            background-color:  #b5c4df;\n",
       "        }    #T_d3a11e62_5cef_11e9_87a8_0242ac110002row3_col5 {\n",
       "            background-color:  #cccfe5;\n",
       "        }    #T_d3a11e62_5cef_11e9_87a8_0242ac110002row3_col6 {\n",
       "            background-color:  #f1ebf5;\n",
       "        }    #T_d3a11e62_5cef_11e9_87a8_0242ac110002row3_col7 {\n",
       "            background-color:  #fff7fb;\n",
       "        }    #T_d3a11e62_5cef_11e9_87a8_0242ac110002row3_col8 {\n",
       "            background-color:  #fff7fb;\n",
       "        }    #T_d3a11e62_5cef_11e9_87a8_0242ac110002row3_col9 {\n",
       "            background-color:  #2484ba;\n",
       "        }    #T_d3a11e62_5cef_11e9_87a8_0242ac110002row4_col0 {\n",
       "            background-color:  #3d93c2;\n",
       "        }    #T_d3a11e62_5cef_11e9_87a8_0242ac110002row4_col1 {\n",
       "            background-color:  #2685bb;\n",
       "        }    #T_d3a11e62_5cef_11e9_87a8_0242ac110002row4_col2 {\n",
       "            background-color:  #bbc7e0;\n",
       "        }    #T_d3a11e62_5cef_11e9_87a8_0242ac110002row4_col3 {\n",
       "            background-color:  #9ab8d8;\n",
       "        }    #T_d3a11e62_5cef_11e9_87a8_0242ac110002row4_col4 {\n",
       "            background-color:  #023858;\n",
       "        }    #T_d3a11e62_5cef_11e9_87a8_0242ac110002row4_col5 {\n",
       "            background-color:  #045c90;\n",
       "        }    #T_d3a11e62_5cef_11e9_87a8_0242ac110002row4_col6 {\n",
       "            background-color:  #1e80b8;\n",
       "        }    #T_d3a11e62_5cef_11e9_87a8_0242ac110002row4_col7 {\n",
       "            background-color:  #2484ba;\n",
       "        }    #T_d3a11e62_5cef_11e9_87a8_0242ac110002row4_col8 {\n",
       "            background-color:  #a9bfdc;\n",
       "        }    #T_d3a11e62_5cef_11e9_87a8_0242ac110002row4_col9 {\n",
       "            background-color:  #efe9f3;\n",
       "        }    #T_d3a11e62_5cef_11e9_87a8_0242ac110002row5_col0 {\n",
       "            background-color:  #bbc7e0;\n",
       "        }    #T_d3a11e62_5cef_11e9_87a8_0242ac110002row5_col1 {\n",
       "            background-color:  #c1cae2;\n",
       "        }    #T_d3a11e62_5cef_11e9_87a8_0242ac110002row5_col2 {\n",
       "            background-color:  #e4e1ef;\n",
       "        }    #T_d3a11e62_5cef_11e9_87a8_0242ac110002row5_col3 {\n",
       "            background-color:  #cacee5;\n",
       "        }    #T_d3a11e62_5cef_11e9_87a8_0242ac110002row5_col4 {\n",
       "            background-color:  #045f95;\n",
       "        }    #T_d3a11e62_5cef_11e9_87a8_0242ac110002row5_col5 {\n",
       "            background-color:  #023858;\n",
       "        }    #T_d3a11e62_5cef_11e9_87a8_0242ac110002row5_col6 {\n",
       "            background-color:  #046096;\n",
       "        }    #T_d3a11e62_5cef_11e9_87a8_0242ac110002row5_col7 {\n",
       "            background-color:  #056caa;\n",
       "        }    #T_d3a11e62_5cef_11e9_87a8_0242ac110002row5_col8 {\n",
       "            background-color:  #dddbec;\n",
       "        }    #T_d3a11e62_5cef_11e9_87a8_0242ac110002row5_col9 {\n",
       "            background-color:  #fff7fb;\n",
       "        }    #T_d3a11e62_5cef_11e9_87a8_0242ac110002row6_col0 {\n",
       "            background-color:  #b7c5df;\n",
       "        }    #T_d3a11e62_5cef_11e9_87a8_0242ac110002row6_col1 {\n",
       "            background-color:  #ced0e6;\n",
       "        }    #T_d3a11e62_5cef_11e9_87a8_0242ac110002row6_col2 {\n",
       "            background-color:  #ece7f2;\n",
       "        }    #T_d3a11e62_5cef_11e9_87a8_0242ac110002row6_col3 {\n",
       "            background-color:  #d9d8ea;\n",
       "        }    #T_d3a11e62_5cef_11e9_87a8_0242ac110002row6_col4 {\n",
       "            background-color:  #1b7eb7;\n",
       "        }    #T_d3a11e62_5cef_11e9_87a8_0242ac110002row6_col5 {\n",
       "            background-color:  #045c90;\n",
       "        }    #T_d3a11e62_5cef_11e9_87a8_0242ac110002row6_col6 {\n",
       "            background-color:  #023858;\n",
       "        }    #T_d3a11e62_5cef_11e9_87a8_0242ac110002row6_col7 {\n",
       "            background-color:  #0569a5;\n",
       "        }    #T_d3a11e62_5cef_11e9_87a8_0242ac110002row6_col8 {\n",
       "            background-color:  #c5cce3;\n",
       "        }    #T_d3a11e62_5cef_11e9_87a8_0242ac110002row6_col9 {\n",
       "            background-color:  #ece7f2;\n",
       "        }    #T_d3a11e62_5cef_11e9_87a8_0242ac110002row7_col0 {\n",
       "            background-color:  #fff7fb;\n",
       "        }    #T_d3a11e62_5cef_11e9_87a8_0242ac110002row7_col1 {\n",
       "            background-color:  #fff7fb;\n",
       "        }    #T_d3a11e62_5cef_11e9_87a8_0242ac110002row7_col2 {\n",
       "            background-color:  #fff7fb;\n",
       "        }    #T_d3a11e62_5cef_11e9_87a8_0242ac110002row7_col3 {\n",
       "            background-color:  #fff7fb;\n",
       "        }    #T_d3a11e62_5cef_11e9_87a8_0242ac110002row7_col4 {\n",
       "            background-color:  #348ebf;\n",
       "        }    #T_d3a11e62_5cef_11e9_87a8_0242ac110002row7_col5 {\n",
       "            background-color:  #056dab;\n",
       "        }    #T_d3a11e62_5cef_11e9_87a8_0242ac110002row7_col6 {\n",
       "            background-color:  #056fae;\n",
       "        }    #T_d3a11e62_5cef_11e9_87a8_0242ac110002row7_col7 {\n",
       "            background-color:  #023858;\n",
       "        }    #T_d3a11e62_5cef_11e9_87a8_0242ac110002row7_col8 {\n",
       "            background-color:  #2f8bbe;\n",
       "        }    #T_d3a11e62_5cef_11e9_87a8_0242ac110002row7_col9 {\n",
       "            background-color:  #d0d1e6;\n",
       "        }    #T_d3a11e62_5cef_11e9_87a8_0242ac110002row8_col0 {\n",
       "            background-color:  #eae6f1;\n",
       "        }    #T_d3a11e62_5cef_11e9_87a8_0242ac110002row8_col1 {\n",
       "            background-color:  #f3edf5;\n",
       "        }    #T_d3a11e62_5cef_11e9_87a8_0242ac110002row8_col2 {\n",
       "            background-color:  #b3c3de;\n",
       "        }    #T_d3a11e62_5cef_11e9_87a8_0242ac110002row8_col3 {\n",
       "            background-color:  #d3d4e7;\n",
       "        }    #T_d3a11e62_5cef_11e9_87a8_0242ac110002row8_col4 {\n",
       "            background-color:  #86b0d3;\n",
       "        }    #T_d3a11e62_5cef_11e9_87a8_0242ac110002row8_col5 {\n",
       "            background-color:  #a4bcda;\n",
       "        }    #T_d3a11e62_5cef_11e9_87a8_0242ac110002row8_col6 {\n",
       "            background-color:  #a7bddb;\n",
       "        }    #T_d3a11e62_5cef_11e9_87a8_0242ac110002row8_col7 {\n",
       "            background-color:  #0d75b3;\n",
       "        }    #T_d3a11e62_5cef_11e9_87a8_0242ac110002row8_col8 {\n",
       "            background-color:  #023858;\n",
       "        }    #T_d3a11e62_5cef_11e9_87a8_0242ac110002row8_col9 {\n",
       "            background-color:  #348ebf;\n",
       "        }    #T_d3a11e62_5cef_11e9_87a8_0242ac110002row9_col0 {\n",
       "            background-color:  #dcdaeb;\n",
       "        }    #T_d3a11e62_5cef_11e9_87a8_0242ac110002row9_col1 {\n",
       "            background-color:  #f9f2f8;\n",
       "        }    #T_d3a11e62_5cef_11e9_87a8_0242ac110002row9_col2 {\n",
       "            background-color:  #056ba9;\n",
       "        }    #T_d3a11e62_5cef_11e9_87a8_0242ac110002row9_col3 {\n",
       "            background-color:  #2484ba;\n",
       "        }    #T_d3a11e62_5cef_11e9_87a8_0242ac110002row9_col4 {\n",
       "            background-color:  #fff7fb;\n",
       "        }    #T_d3a11e62_5cef_11e9_87a8_0242ac110002row9_col5 {\n",
       "            background-color:  #fff7fb;\n",
       "        }    #T_d3a11e62_5cef_11e9_87a8_0242ac110002row9_col6 {\n",
       "            background-color:  #fff7fb;\n",
       "        }    #T_d3a11e62_5cef_11e9_87a8_0242ac110002row9_col7 {\n",
       "            background-color:  #ced0e6;\n",
       "        }    #T_d3a11e62_5cef_11e9_87a8_0242ac110002row9_col8 {\n",
       "            background-color:  #69a5cc;\n",
       "        }    #T_d3a11e62_5cef_11e9_87a8_0242ac110002row9_col9 {\n",
       "            background-color:  #023858;\n",
       "        }</style>  \n",
       "<table id=\"T_d3a11e62_5cef_11e9_87a8_0242ac110002\" > \n",
       "<thead>    <tr> \n",
       "        <th class=\"blank level0\" ></th> \n",
       "        <th class=\"col_heading level0 col0\" >temporal_canny-cosine</th> \n",
       "        <th class=\"col_heading level0 col1\" >temporal_canny-euclidean</th> \n",
       "        <th class=\"col_heading level0 col2\" >temporal_cross_correlation-cosine</th> \n",
       "        <th class=\"col_heading level0 col3\" >temporal_cross_correlation-euclidean</th> \n",
       "        <th class=\"col_heading level0 col4\" >temporal_difference-cosine</th> \n",
       "        <th class=\"col_heading level0 col5\" >temporal_difference-euclidean</th> \n",
       "        <th class=\"col_heading level0 col6\" >temporal_histogram_distance-euclidean</th> \n",
       "        <th class=\"col_heading level0 col7\" >vmaf</th> \n",
       "        <th class=\"col_heading level0 col8\" >attack_ID</th> \n",
       "        <th class=\"col_heading level0 col9\" >dimension</th> \n",
       "    </tr></thead> \n",
       "<tbody>    <tr> \n",
       "        <th id=\"T_d3a11e62_5cef_11e9_87a8_0242ac110002level0_row0\" class=\"row_heading level0 row0\" >temporal_canny-cosine</th> \n",
       "        <td id=\"T_d3a11e62_5cef_11e9_87a8_0242ac110002row0_col0\" class=\"data row0 col0\" >1</td> \n",
       "        <td id=\"T_d3a11e62_5cef_11e9_87a8_0242ac110002row0_col1\" class=\"data row0 col1\" >0.88</td> \n",
       "        <td id=\"T_d3a11e62_5cef_11e9_87a8_0242ac110002row0_col2\" class=\"data row0 col2\" >0.42</td> \n",
       "        <td id=\"T_d3a11e62_5cef_11e9_87a8_0242ac110002row0_col3\" class=\"data row0 col3\" >0.49</td> \n",
       "        <td id=\"T_d3a11e62_5cef_11e9_87a8_0242ac110002row0_col4\" class=\"data row0 col4\" >0.48</td> \n",
       "        <td id=\"T_d3a11e62_5cef_11e9_87a8_0242ac110002row0_col5\" class=\"data row0 col5\" >0.079</td> \n",
       "        <td id=\"T_d3a11e62_5cef_11e9_87a8_0242ac110002row0_col6\" class=\"data row0 col6\" >0.091</td> \n",
       "        <td id=\"T_d3a11e62_5cef_11e9_87a8_0242ac110002row0_col7\" class=\"data row0 col7\" >-0.35</td> \n",
       "        <td id=\"T_d3a11e62_5cef_11e9_87a8_0242ac110002row0_col8\" class=\"data row0 col8\" >-0.16</td> \n",
       "        <td id=\"T_d3a11e62_5cef_11e9_87a8_0242ac110002row0_col9\" class=\"data row0 col9\" >-0.079</td> \n",
       "    </tr>    <tr> \n",
       "        <th id=\"T_d3a11e62_5cef_11e9_87a8_0242ac110002level0_row1\" class=\"row_heading level0 row1\" >temporal_canny-euclidean</th> \n",
       "        <td id=\"T_d3a11e62_5cef_11e9_87a8_0242ac110002row1_col0\" class=\"data row1 col0\" >0.88</td> \n",
       "        <td id=\"T_d3a11e62_5cef_11e9_87a8_0242ac110002row1_col1\" class=\"data row1 col1\" >1</td> \n",
       "        <td id=\"T_d3a11e62_5cef_11e9_87a8_0242ac110002row1_col2\" class=\"data row1 col2\" >0.22</td> \n",
       "        <td id=\"T_d3a11e62_5cef_11e9_87a8_0242ac110002row1_col3\" class=\"data row1 col3\" >0.41</td> \n",
       "        <td id=\"T_d3a11e62_5cef_11e9_87a8_0242ac110002row1_col4\" class=\"data row1 col4\" >0.59</td> \n",
       "        <td id=\"T_d3a11e62_5cef_11e9_87a8_0242ac110002row1_col5\" class=\"data row1 col5\" >0.13</td> \n",
       "        <td id=\"T_d3a11e62_5cef_11e9_87a8_0242ac110002row1_col6\" class=\"data row1 col6\" >0.079</td> \n",
       "        <td id=\"T_d3a11e62_5cef_11e9_87a8_0242ac110002row1_col7\" class=\"data row1 col7\" >-0.24</td> \n",
       "        <td id=\"T_d3a11e62_5cef_11e9_87a8_0242ac110002row1_col8\" class=\"data row1 col8\" >-0.14</td> \n",
       "        <td id=\"T_d3a11e62_5cef_11e9_87a8_0242ac110002row1_col9\" class=\"data row1 col9\" >-0.19</td> \n",
       "    </tr>    <tr> \n",
       "        <th id=\"T_d3a11e62_5cef_11e9_87a8_0242ac110002level0_row2\" class=\"row_heading level0 row2\" >temporal_cross_correlation-cosine</th> \n",
       "        <td id=\"T_d3a11e62_5cef_11e9_87a8_0242ac110002row2_col0\" class=\"data row2 col0\" >0.42</td> \n",
       "        <td id=\"T_d3a11e62_5cef_11e9_87a8_0242ac110002row2_col1\" class=\"data row2 col1\" >0.22</td> \n",
       "        <td id=\"T_d3a11e62_5cef_11e9_87a8_0242ac110002row2_col2\" class=\"data row2 col2\" >1</td> \n",
       "        <td id=\"T_d3a11e62_5cef_11e9_87a8_0242ac110002row2_col3\" class=\"data row2 col3\" >0.92</td> \n",
       "        <td id=\"T_d3a11e62_5cef_11e9_87a8_0242ac110002row2_col4\" class=\"data row2 col4\" >-0.33</td> \n",
       "        <td id=\"T_d3a11e62_5cef_11e9_87a8_0242ac110002row2_col5\" class=\"data row2 col5\" >-0.62</td> \n",
       "        <td id=\"T_d3a11e62_5cef_11e9_87a8_0242ac110002row2_col6\" class=\"data row2 col6\" >-0.7</td> \n",
       "        <td id=\"T_d3a11e62_5cef_11e9_87a8_0242ac110002row2_col7\" class=\"data row2 col7\" >-0.94</td> \n",
       "        <td id=\"T_d3a11e62_5cef_11e9_87a8_0242ac110002row2_col8\" class=\"data row2 col8\" >-0.28</td> \n",
       "        <td id=\"T_d3a11e62_5cef_11e9_87a8_0242ac110002row2_col9\" class=\"data row2 col9\" >0.56</td> \n",
       "    </tr>    <tr> \n",
       "        <th id=\"T_d3a11e62_5cef_11e9_87a8_0242ac110002level0_row3\" class=\"row_heading level0 row3\" >temporal_cross_correlation-euclidean</th> \n",
       "        <td id=\"T_d3a11e62_5cef_11e9_87a8_0242ac110002row3_col0\" class=\"data row3 col0\" >0.49</td> \n",
       "        <td id=\"T_d3a11e62_5cef_11e9_87a8_0242ac110002row3_col1\" class=\"data row3 col1\" >0.41</td> \n",
       "        <td id=\"T_d3a11e62_5cef_11e9_87a8_0242ac110002row3_col2\" class=\"data row3 col2\" >0.92</td> \n",
       "        <td id=\"T_d3a11e62_5cef_11e9_87a8_0242ac110002row3_col3\" class=\"data row3 col3\" >1</td> \n",
       "        <td id=\"T_d3a11e62_5cef_11e9_87a8_0242ac110002row3_col4\" class=\"data row3 col4\" >-0.16</td> \n",
       "        <td id=\"T_d3a11e62_5cef_11e9_87a8_0242ac110002row3_col5\" class=\"data row3 col5\" >-0.43</td> \n",
       "        <td id=\"T_d3a11e62_5cef_11e9_87a8_0242ac110002row3_col6\" class=\"data row3 col6\" >-0.54</td> \n",
       "        <td id=\"T_d3a11e62_5cef_11e9_87a8_0242ac110002row3_col7\" class=\"data row3 col7\" >-0.95</td> \n",
       "        <td id=\"T_d3a11e62_5cef_11e9_87a8_0242ac110002row3_col8\" class=\"data row3 col8\" >-0.49</td> \n",
       "        <td id=\"T_d3a11e62_5cef_11e9_87a8_0242ac110002row3_col9\" class=\"data row3 col9\" >0.36</td> \n",
       "    </tr>    <tr> \n",
       "        <th id=\"T_d3a11e62_5cef_11e9_87a8_0242ac110002level0_row4\" class=\"row_heading level0 row4\" >temporal_difference-cosine</th> \n",
       "        <td id=\"T_d3a11e62_5cef_11e9_87a8_0242ac110002row4_col0\" class=\"data row4 col0\" >0.48</td> \n",
       "        <td id=\"T_d3a11e62_5cef_11e9_87a8_0242ac110002row4_col1\" class=\"data row4 col1\" >0.59</td> \n",
       "        <td id=\"T_d3a11e62_5cef_11e9_87a8_0242ac110002row4_col2\" class=\"data row4 col2\" >-0.33</td> \n",
       "        <td id=\"T_d3a11e62_5cef_11e9_87a8_0242ac110002row4_col3\" class=\"data row4 col3\" >-0.16</td> \n",
       "        <td id=\"T_d3a11e62_5cef_11e9_87a8_0242ac110002row4_col4\" class=\"data row4 col4\" >1</td> \n",
       "        <td id=\"T_d3a11e62_5cef_11e9_87a8_0242ac110002row4_col5\" class=\"data row4 col5\" >0.73</td> \n",
       "        <td id=\"T_d3a11e62_5cef_11e9_87a8_0242ac110002row4_col6\" class=\"data row4 col6\" >0.47</td> \n",
       "        <td id=\"T_d3a11e62_5cef_11e9_87a8_0242ac110002row4_col7\" class=\"data row4 col7\" >0.36</td> \n",
       "        <td id=\"T_d3a11e62_5cef_11e9_87a8_0242ac110002row4_col8\" class=\"data row4 col8\" >0.055</td> \n",
       "        <td id=\"T_d3a11e62_5cef_11e9_87a8_0242ac110002row4_col9\" class=\"data row4 col9\" >-0.73</td> \n",
       "    </tr>    <tr> \n",
       "        <th id=\"T_d3a11e62_5cef_11e9_87a8_0242ac110002level0_row5\" class=\"row_heading level0 row5\" >temporal_difference-euclidean</th> \n",
       "        <td id=\"T_d3a11e62_5cef_11e9_87a8_0242ac110002row5_col0\" class=\"data row5 col0\" >0.079</td> \n",
       "        <td id=\"T_d3a11e62_5cef_11e9_87a8_0242ac110002row5_col1\" class=\"data row5 col1\" >0.13</td> \n",
       "        <td id=\"T_d3a11e62_5cef_11e9_87a8_0242ac110002row5_col2\" class=\"data row5 col2\" >-0.62</td> \n",
       "        <td id=\"T_d3a11e62_5cef_11e9_87a8_0242ac110002row5_col3\" class=\"data row5 col3\" >-0.43</td> \n",
       "        <td id=\"T_d3a11e62_5cef_11e9_87a8_0242ac110002row5_col4\" class=\"data row5 col4\" >0.73</td> \n",
       "        <td id=\"T_d3a11e62_5cef_11e9_87a8_0242ac110002row5_col5\" class=\"data row5 col5\" >1</td> \n",
       "        <td id=\"T_d3a11e62_5cef_11e9_87a8_0242ac110002row5_col6\" class=\"data row5 col6\" >0.73</td> \n",
       "        <td id=\"T_d3a11e62_5cef_11e9_87a8_0242ac110002row5_col7\" class=\"data row5 col7\" >0.55</td> \n",
       "        <td id=\"T_d3a11e62_5cef_11e9_87a8_0242ac110002row5_col8\" class=\"data row5 col8\" >-0.2</td> \n",
       "        <td id=\"T_d3a11e62_5cef_11e9_87a8_0242ac110002row5_col9\" class=\"data row5 col9\" >-0.94</td> \n",
       "    </tr>    <tr> \n",
       "        <th id=\"T_d3a11e62_5cef_11e9_87a8_0242ac110002level0_row6\" class=\"row_heading level0 row6\" >temporal_histogram_distance-euclidean</th> \n",
       "        <td id=\"T_d3a11e62_5cef_11e9_87a8_0242ac110002row6_col0\" class=\"data row6 col0\" >0.091</td> \n",
       "        <td id=\"T_d3a11e62_5cef_11e9_87a8_0242ac110002row6_col1\" class=\"data row6 col1\" >0.079</td> \n",
       "        <td id=\"T_d3a11e62_5cef_11e9_87a8_0242ac110002row6_col2\" class=\"data row6 col2\" >-0.7</td> \n",
       "        <td id=\"T_d3a11e62_5cef_11e9_87a8_0242ac110002row6_col3\" class=\"data row6 col3\" >-0.54</td> \n",
       "        <td id=\"T_d3a11e62_5cef_11e9_87a8_0242ac110002row6_col4\" class=\"data row6 col4\" >0.47</td> \n",
       "        <td id=\"T_d3a11e62_5cef_11e9_87a8_0242ac110002row6_col5\" class=\"data row6 col5\" >0.73</td> \n",
       "        <td id=\"T_d3a11e62_5cef_11e9_87a8_0242ac110002row6_col6\" class=\"data row6 col6\" >1</td> \n",
       "        <td id=\"T_d3a11e62_5cef_11e9_87a8_0242ac110002row6_col7\" class=\"data row6 col7\" >0.59</td> \n",
       "        <td id=\"T_d3a11e62_5cef_11e9_87a8_0242ac110002row6_col8\" class=\"data row6 col8\" >-0.067</td> \n",
       "        <td id=\"T_d3a11e62_5cef_11e9_87a8_0242ac110002row6_col9\" class=\"data row6 col9\" >-0.7</td> \n",
       "    </tr>    <tr> \n",
       "        <th id=\"T_d3a11e62_5cef_11e9_87a8_0242ac110002level0_row7\" class=\"row_heading level0 row7\" >vmaf</th> \n",
       "        <td id=\"T_d3a11e62_5cef_11e9_87a8_0242ac110002row7_col0\" class=\"data row7 col0\" >-0.35</td> \n",
       "        <td id=\"T_d3a11e62_5cef_11e9_87a8_0242ac110002row7_col1\" class=\"data row7 col1\" >-0.24</td> \n",
       "        <td id=\"T_d3a11e62_5cef_11e9_87a8_0242ac110002row7_col2\" class=\"data row7 col2\" >-0.94</td> \n",
       "        <td id=\"T_d3a11e62_5cef_11e9_87a8_0242ac110002row7_col3\" class=\"data row7 col3\" >-0.95</td> \n",
       "        <td id=\"T_d3a11e62_5cef_11e9_87a8_0242ac110002row7_col4\" class=\"data row7 col4\" >0.36</td> \n",
       "        <td id=\"T_d3a11e62_5cef_11e9_87a8_0242ac110002row7_col5\" class=\"data row7 col5\" >0.55</td> \n",
       "        <td id=\"T_d3a11e62_5cef_11e9_87a8_0242ac110002row7_col6\" class=\"data row7 col6\" >0.59</td> \n",
       "        <td id=\"T_d3a11e62_5cef_11e9_87a8_0242ac110002row7_col7\" class=\"data row7 col7\" >1</td> \n",
       "        <td id=\"T_d3a11e62_5cef_11e9_87a8_0242ac110002row7_col8\" class=\"data row7 col8\" >0.47</td> \n",
       "        <td id=\"T_d3a11e62_5cef_11e9_87a8_0242ac110002row7_col9\" class=\"data row7 col9\" >-0.45</td> \n",
       "    </tr>    <tr> \n",
       "        <th id=\"T_d3a11e62_5cef_11e9_87a8_0242ac110002level0_row8\" class=\"row_heading level0 row8\" >attack_ID</th> \n",
       "        <td id=\"T_d3a11e62_5cef_11e9_87a8_0242ac110002row8_col0\" class=\"data row8 col0\" >-0.16</td> \n",
       "        <td id=\"T_d3a11e62_5cef_11e9_87a8_0242ac110002row8_col1\" class=\"data row8 col1\" >-0.14</td> \n",
       "        <td id=\"T_d3a11e62_5cef_11e9_87a8_0242ac110002row8_col2\" class=\"data row8 col2\" >-0.28</td> \n",
       "        <td id=\"T_d3a11e62_5cef_11e9_87a8_0242ac110002row8_col3\" class=\"data row8 col3\" >-0.49</td> \n",
       "        <td id=\"T_d3a11e62_5cef_11e9_87a8_0242ac110002row8_col4\" class=\"data row8 col4\" >0.055</td> \n",
       "        <td id=\"T_d3a11e62_5cef_11e9_87a8_0242ac110002row8_col5\" class=\"data row8 col5\" >-0.2</td> \n",
       "        <td id=\"T_d3a11e62_5cef_11e9_87a8_0242ac110002row8_col6\" class=\"data row8 col6\" >-0.067</td> \n",
       "        <td id=\"T_d3a11e62_5cef_11e9_87a8_0242ac110002row8_col7\" class=\"data row8 col7\" >0.47</td> \n",
       "        <td id=\"T_d3a11e62_5cef_11e9_87a8_0242ac110002row8_col8\" class=\"data row8 col8\" >1</td> \n",
       "        <td id=\"T_d3a11e62_5cef_11e9_87a8_0242ac110002row8_col9\" class=\"data row8 col9\" >0.28</td> \n",
       "    </tr>    <tr> \n",
       "        <th id=\"T_d3a11e62_5cef_11e9_87a8_0242ac110002level0_row9\" class=\"row_heading level0 row9\" >dimension</th> \n",
       "        <td id=\"T_d3a11e62_5cef_11e9_87a8_0242ac110002row9_col0\" class=\"data row9 col0\" >-0.079</td> \n",
       "        <td id=\"T_d3a11e62_5cef_11e9_87a8_0242ac110002row9_col1\" class=\"data row9 col1\" >-0.19</td> \n",
       "        <td id=\"T_d3a11e62_5cef_11e9_87a8_0242ac110002row9_col2\" class=\"data row9 col2\" >0.56</td> \n",
       "        <td id=\"T_d3a11e62_5cef_11e9_87a8_0242ac110002row9_col3\" class=\"data row9 col3\" >0.36</td> \n",
       "        <td id=\"T_d3a11e62_5cef_11e9_87a8_0242ac110002row9_col4\" class=\"data row9 col4\" >-0.73</td> \n",
       "        <td id=\"T_d3a11e62_5cef_11e9_87a8_0242ac110002row9_col5\" class=\"data row9 col5\" >-0.94</td> \n",
       "        <td id=\"T_d3a11e62_5cef_11e9_87a8_0242ac110002row9_col6\" class=\"data row9 col6\" >-0.7</td> \n",
       "        <td id=\"T_d3a11e62_5cef_11e9_87a8_0242ac110002row9_col7\" class=\"data row9 col7\" >-0.45</td> \n",
       "        <td id=\"T_d3a11e62_5cef_11e9_87a8_0242ac110002row9_col8\" class=\"data row9 col8\" >0.28</td> \n",
       "        <td id=\"T_d3a11e62_5cef_11e9_87a8_0242ac110002row9_col9\" class=\"data row9 col9\" >1</td> \n",
       "    </tr></tbody> \n",
       "</table> "
      ],
      "text/plain": [
       "<pandas.io.formats.style.Styler at 0x7f516f4cdb38>"
      ]
     },
     "execution_count": 6,
     "metadata": {},
     "output_type": "execute_result"
    },
    {
     "data": {
      "text/plain": [
       "<Figure size 720x720 with 0 Axes>"
      ]
     },
     "metadata": {},
     "output_type": "display_data"
    }
   ],
   "source": [
    "plt.figure(figsize=(10,10))\n",
    "corr = df_corr.corr('spearman')\n",
    "corr.style.background_gradient().set_precision(2)"
   ]
  },
  {
   "cell_type": "markdown",
   "metadata": {},
   "source": [
    "# Define model (Keras neural network)"
   ]
  },
  {
   "cell_type": "markdown",
   "metadata": {},
   "source": [
    "We choose the input of our model (we try to make balanced dataset)"
   ]
  },
  {
   "cell_type": "code",
   "execution_count": 7,
   "metadata": {},
   "outputs": [
    {
     "data": {
      "text/plain": [
       "4636"
      ]
     },
     "execution_count": 7,
     "metadata": {},
     "output_type": "execute_result"
    }
   ],
   "source": [
    "int(df.shape[0]*0.8)"
   ]
  },
  {
   "cell_type": "code",
   "execution_count": 8,
   "metadata": {},
   "outputs": [],
   "source": [
    "num_train = int(df.shape[0]*0.8)\n",
    "\n",
    "df_train_all = df[0:num_train]\n",
    "df_train_1 = df_train_all[df_train_all['attack_ID'] == 1]\n",
    "df_train_0 = df_train_all[df_train_all['attack_ID'] == 0]\n",
    "df_sample = df_train_0.sample(int(df_train_0.shape[0]*0.95))\n",
    "df_train = df_train_1.append(df_sample)\n",
    "df_train = df_train.sample(frac=1)\n",
    "\n",
    "df_test_all = df[num_train:]\n",
    "df_test_1 = df_test_all[df_test_all['attack_ID'] == 1]\n",
    "df_test_0 = df_test_all[df_test_all['attack_ID'] == 0]\n",
    "df_sample_test = df_test_0.sample(int(df_test_0.shape[0]*0.95))\n",
    "df_test = df_test_1.append(df_sample_test)\n",
    "df_test = df_test.sample(frac=1)\n",
    "\n",
    "X_train = df_train.drop(['title',\n",
    "                         'attack', \n",
    "                         'attack_ID',\n",
    "                         'vmaf'],axis=1)\n",
    "y_train = df_train['attack_ID']\n",
    "X_train = np.asarray(X_train)\n",
    "y_train = np.asarray(y_train)\n",
    "\n",
    "X_test = df_test.drop(['title',  \n",
    "                     'attack', \n",
    "                     'attack_ID',\n",
    "                     'vmaf'],axis=1)\n",
    "y_test = df_test['attack_ID']\n",
    "X_test = np.asarray(X_test)\n",
    "y_test = np.asarray(y_test)\n",
    "\n"
   ]
  },
  {
   "cell_type": "markdown",
   "metadata": {},
   "source": [
    "First we define a model where we take all variables :"
   ]
  },
  {
   "cell_type": "code",
   "execution_count": 9,
   "metadata": {},
   "outputs": [
    {
     "name": "stdout",
     "output_type": "stream",
     "text": [
      "TRAIN: (4437, 8)\n",
      "TEST: (1110, 8)\n"
     ]
    }
   ],
   "source": [
    "print('TRAIN:', X_train.shape)\n",
    "print('TEST:', X_test.shape)"
   ]
  },
  {
   "cell_type": "code",
   "execution_count": 10,
   "metadata": {
    "scrolled": true
   },
   "outputs": [],
   "source": [
    "def model():\n",
    "    global network_history\n",
    "    model = Sequential()\n",
    "    model.add(Dense(32,input_shape=(X_train.shape[1],)))\n",
    "    model.add(Dropout(0.2))\n",
    "    model.add(Dense(64, kernel_initializer='glorot_uniform'))\n",
    "    model.add(Dropout(0.5))\n",
    "    model.add(Dense(64, kernel_initializer='normal', activation='sigmoid'))\n",
    "    model.add(Dense(1, activation='relu'))\n",
    "    \n",
    "    model.compile(loss='binary_crossentropy', optimizer=Adam(lr=0.0001), metrics=['accuracy'])\n",
    "    \n",
    "    network_history = model.fit(X_train, y_train, batch_size=128, epochs=2000, verbose=0)\n",
    "    return model\n",
    "\n",
    "model = model()"
   ]
  },
  {
   "cell_type": "markdown",
   "metadata": {},
   "source": [
    "visualization loss and accuracy"
   ]
  },
  {
   "cell_type": "code",
   "execution_count": 11,
   "metadata": {},
   "outputs": [
    {
     "name": "stdout",
     "output_type": "stream",
     "text": [
      "['loss', 'acc']\n"
     ]
    }
   ],
   "source": [
    "print(model.metrics_names)"
   ]
  },
  {
   "cell_type": "code",
   "execution_count": 12,
   "metadata": {
    "scrolled": false
   },
   "outputs": [],
   "source": [
    "def plot_history(network_history,title='Loss and accuracy (Keras model)'):\n",
    "    plt.figure(figsize=(15,10))\n",
    "    plt.subplot(211)\n",
    "    plt.title(title)\n",
    "    plt.xlabel('Epochs')\n",
    "    plt.ylabel('Loss')\n",
    "    plt.plot(network_history.history['loss'])\n",
    "    #plt.plot(network_history.history['val_loss'])\n",
    "    plt.legend(['Training', 'Validation'])\n",
    "\n",
    "    plt.subplot(212)\n",
    "    plt.xlabel('Epochs')\n",
    "    plt.ylabel('Accuracy')\n",
    "    plt.plot(network_history.history['acc'])\n",
    "    #plt.plot(network_history.history['val_acc'])\n",
    "    plt.legend(['Training', 'Validation'], loc='lower right')\n",
    "    plt.show()"
   ]
  },
  {
   "cell_type": "code",
   "execution_count": 13,
   "metadata": {
    "scrolled": false
   },
   "outputs": [
    {
     "data": {
      "image/png": "[encoded data removed]",
      "text/plain": [
       "<Figure size 1080x720 with 2 Axes>"
      ]
     },
     "metadata": {
      "needs_background": "light"
     },
     "output_type": "display_data"
    }
   ],
   "source": [
    "plot_history(network_history)"
   ]
  },
  {
   "cell_type": "code",
   "execution_count": 14,
   "metadata": {},
   "outputs": [
    {
     "name": "stdout",
     "output_type": "stream",
     "text": [
      "['loss', 'acc']\n",
      "1110/1110 [==============================] - 0s 58us/step\n"
     ]
    },
    {
     "data": {
      "text/plain": [
       "[0.56371315591507132, 0.85135135188833011]"
      ]
     },
     "execution_count": 14,
     "metadata": {},
     "output_type": "execute_result"
    }
   ],
   "source": [
    "print(model.metrics_names)\n",
    "model.evaluate(X_test, y_test)\n"
   ]
  },
  {
   "cell_type": "code",
   "execution_count": 15,
   "metadata": {},
   "outputs": [],
   "source": [
    "prediction = model.predict(X_test)"
   ]
  },
  {
   "cell_type": "code",
   "execution_count": 16,
   "metadata": {
    "scrolled": false
   },
   "outputs": [
    {
     "data": {
      "text/plain": [
       "(array([ 571.,   33.,   35.,   11.,   13.,   35.,   19.,   13.,   63.,  317.]),\n",
       " array([ 0.        ,  0.03488539,  0.06977078,  0.10465617,  0.13954157,\n",
       "         0.17442696,  0.20931235,  0.24419774,  0.27908313,  0.31396852,\n",
       "         0.34885392]),\n",
       " <a list of 10 Patch objects>)"
      ]
     },
     "execution_count": 16,
     "metadata": {},
     "output_type": "execute_result"
    },
    {
     "data": {
      "image/png": "[encoded data removed]",
      "text/plain": [
       "<Figure size 1080x576 with 1 Axes>"
      ]
     },
     "metadata": {
      "needs_background": "light"
     },
     "output_type": "display_data"
    }
   ],
   "source": [
    "plt.figure(figsize=(15,8))\n",
    "plt.title('Histogram prediction')\n",
    "plt.hist(prediction)"
   ]
  },
  {
   "cell_type": "code",
   "execution_count": 17,
   "metadata": {
    "scrolled": true
   },
   "outputs": [
    {
     "data": {
      "text/plain": [
       "array([[945,   0],\n",
       "       [165,   0]])"
      ]
     },
     "execution_count": 17,
     "metadata": {},
     "output_type": "execute_result"
    }
   ],
   "source": [
    "prediction_bin = prediction > 0.5\n",
    "prediction_bin = prediction_bin.astype(int)\n",
    "confusion_matrix(y_test, prediction_bin)"
   ]
  },
  {
   "cell_type": "markdown",
   "metadata": {},
   "source": [
    "Test only with Class : 0"
   ]
  },
  {
   "cell_type": "code",
   "execution_count": 18,
   "metadata": {},
   "outputs": [],
   "source": [
    "df_test_0_only = df_test_0.sample(100)\n",
    "X_test_0 = df_test_0_only.drop(['title', \n",
    "                                 'attack', \n",
    "                                 'attack_ID',\n",
    "                                 'vmaf'], axis=1)\n",
    "y_test_0 = df_test_0_only['attack_ID']\n",
    "X_test_0 = np.asarray(X_test_0)\n",
    "y_test_0 = np.asanyarray(y_test_0)"
   ]
  },
  {
   "cell_type": "code",
   "execution_count": 19,
   "metadata": {},
   "outputs": [
    {
     "name": "stdout",
     "output_type": "stream",
     "text": [
      "100/100 [==============================] - 0s 30us/step\n"
     ]
    },
    {
     "data": {
      "text/plain": [
       "[0.12668779373168945, 1.0]"
      ]
     },
     "execution_count": 19,
     "metadata": {},
     "output_type": "execute_result"
    }
   ],
   "source": [
    "model.evaluate(X_test_0, y_test_0)"
   ]
  },
  {
   "cell_type": "code",
   "execution_count": 20,
   "metadata": {},
   "outputs": [
    {
     "data": {
      "text/plain": [
       "array([[100]])"
      ]
     },
     "execution_count": 20,
     "metadata": {},
     "output_type": "execute_result"
    }
   ],
   "source": [
    "prediction_0 = model.predict(X_test_0)\n",
    "prediction_0_bin = prediction_0 > 0.5\n",
    "prediction_0_bin = prediction_0_bin.astype(int)\n",
    "confusion_matrix(y_test_0, prediction_0_bin)"
   ]
  },
  {
   "cell_type": "code",
   "execution_count": 21,
   "metadata": {
    "scrolled": false
   },
   "outputs": [
    {
     "data": {
      "text/plain": [
       "Text(0.5,1,'Histogram prediction')"
      ]
     },
     "execution_count": 21,
     "metadata": {},
     "output_type": "execute_result"
    },
    {
     "data": {
      "image/png": "[encoded data removed]",
      "text/plain": [
       "<Figure size 1080x576 with 1 Axes>"
      ]
     },
     "metadata": {
      "needs_background": "light"
     },
     "output_type": "display_data"
    }
   ],
   "source": [
    "plt.figure(figsize=(15,8))\n",
    "plt.hist(prediction_0)\n",
    "plt.title('Histogram prediction')\n"
   ]
  },
  {
   "cell_type": "code",
   "execution_count": 22,
   "metadata": {},
   "outputs": [],
   "source": [
    "X_test_all = df_test_all.drop(['title', \n",
    "                             'attack', \n",
    "                             'attack_ID',\n",
    "                             'vmaf'],axis=1)\n",
    "y_test_all = df_test_all['attack_ID']\n",
    "X_test_all = np.asarray(X_test_all)\n",
    "y_test_all = np.asarray(y_test_all)"
   ]
  },
  {
   "cell_type": "code",
   "execution_count": 23,
   "metadata": {},
   "outputs": [
    {
     "name": "stdout",
     "output_type": "stream",
     "text": [
      "1160/1160 [==============================] - 0s 13us/step\n"
     ]
    },
    {
     "data": {
      "text/plain": [
       "[0.54554850726292048, 0.85775862068965514]"
      ]
     },
     "execution_count": 23,
     "metadata": {},
     "output_type": "execute_result"
    }
   ],
   "source": [
    "model.evaluate(X_test_all,y_test_all)"
   ]
  },
  {
   "cell_type": "code",
   "execution_count": 24,
   "metadata": {},
   "outputs": [],
   "source": [
    "prediction_all = model.predict(X_test_all)"
   ]
  },
  {
   "cell_type": "code",
   "execution_count": 25,
   "metadata": {},
   "outputs": [
    {
     "data": {
      "text/plain": [
       "(array([ 599.,   36.,   35.,   12.,   13.,   38.,   19.,   14.,   65.,  329.]),\n",
       " array([ 0.        ,  0.03488539,  0.06977078,  0.10465617,  0.13954157,\n",
       "         0.17442696,  0.20931235,  0.24419774,  0.27908313,  0.31396852,\n",
       "         0.34885392]),\n",
       " <a list of 10 Patch objects>)"
      ]
     },
     "execution_count": 25,
     "metadata": {},
     "output_type": "execute_result"
    },
    {
     "data": {
      "image/png": "[encoded data removed]",
      "text/plain": [
       "<Figure size 1080x576 with 1 Axes>"
      ]
     },
     "metadata": {
      "needs_background": "light"
     },
     "output_type": "display_data"
    }
   ],
   "source": [
    "plt.figure(figsize=(15,8))\n",
    "plt.subplot(121)\n",
    "plt.title('Histogram prediction')\n",
    "plt.hist(prediction_all)"
   ]
  },
  {
   "cell_type": "code",
   "execution_count": 26,
   "metadata": {},
   "outputs": [
    {
     "data": {
      "text/plain": [
       "array([[995,   0],\n",
       "       [165,   0]])"
      ]
     },
     "execution_count": 26,
     "metadata": {},
     "output_type": "execute_result"
    }
   ],
   "source": [
    "prediction_all_bin = prediction_all > 0.5\n",
    "prediction_all_bin = prediction_all_bin.astype(int)\n",
    "confusion_matrix(y_test_all, prediction_all_bin)"
   ]
  },
  {
   "cell_type": "markdown",
   "metadata": {},
   "source": [
    "# Random forest with scikit-learn"
   ]
  },
  {
   "cell_type": "code",
   "execution_count": 27,
   "metadata": {},
   "outputs": [
    {
     "data": {
      "text/plain": [
       "RandomForestClassifier(bootstrap=True, class_weight=None, criterion='gini',\n",
       "            max_depth=None, max_features='auto', max_leaf_nodes=None,\n",
       "            min_impurity_decrease=0.0, min_impurity_split=None,\n",
       "            min_samples_leaf=1, min_samples_split=2,\n",
       "            min_weight_fraction_leaf=0.0, n_estimators=15, n_jobs=None,\n",
       "            oob_score=False, random_state=None, verbose=0,\n",
       "            warm_start=False)"
      ]
     },
     "execution_count": 27,
     "metadata": {},
     "output_type": "execute_result"
    }
   ],
   "source": [
    "random_forest = RandomForestClassifier(n_estimators=15,)\n",
    "random_forest.fit(X_train,y_train)"
   ]
  },
  {
   "cell_type": "code",
   "execution_count": 28,
   "metadata": {},
   "outputs": [
    {
     "data": {
      "text/plain": [
       "0.9387387387387387"
      ]
     },
     "execution_count": 28,
     "metadata": {},
     "output_type": "execute_result"
    }
   ],
   "source": [
    "random_forest.score(X_test,y_test)"
   ]
  },
  {
   "cell_type": "code",
   "execution_count": 29,
   "metadata": {},
   "outputs": [],
   "source": [
    "prediction_RF = random_forest.predict(X_test)"
   ]
  },
  {
   "cell_type": "code",
   "execution_count": 30,
   "metadata": {},
   "outputs": [
    {
     "data": {
      "text/plain": [
       "array([[902,  43],\n",
       "       [ 25, 140]])"
      ]
     },
     "execution_count": 30,
     "metadata": {},
     "output_type": "execute_result"
    }
   ],
   "source": [
    "confusion_matrix(y_test, prediction_RF)"
   ]
  },
  {
   "cell_type": "code",
   "execution_count": 31,
   "metadata": {},
   "outputs": [
    {
     "data": {
      "text/plain": [
       "0.95999999999999996"
      ]
     },
     "execution_count": 31,
     "metadata": {},
     "output_type": "execute_result"
    }
   ],
   "source": [
    "random_forest.score(X_test_0,y_test_0)"
   ]
  },
  {
   "cell_type": "code",
   "execution_count": 32,
   "metadata": {},
   "outputs": [
    {
     "data": {
      "text/plain": [
       "array([[96,  4],\n",
       "       [ 0,  0]])"
      ]
     },
     "execution_count": 32,
     "metadata": {},
     "output_type": "execute_result"
    }
   ],
   "source": [
    "prediction_RF_0 = random_forest.predict(X_test_0)\n",
    "confusion_matrix(y_test_0,prediction_RF_0)"
   ]
  },
  {
   "cell_type": "code",
   "execution_count": 33,
   "metadata": {},
   "outputs": [
    {
     "data": {
      "text/plain": [
       "0.94137931034482758"
      ]
     },
     "execution_count": 33,
     "metadata": {},
     "output_type": "execute_result"
    }
   ],
   "source": [
    "random_forest.score(X_test_all,y_test_all)"
   ]
  },
  {
   "cell_type": "code",
   "execution_count": 34,
   "metadata": {},
   "outputs": [
    {
     "data": {
      "text/plain": [
       "array([[952,  43],\n",
       "       [ 25, 140]])"
      ]
     },
     "execution_count": 34,
     "metadata": {},
     "output_type": "execute_result"
    }
   ],
   "source": [
    "prediction_RF_all = random_forest.predict(X_test_all)\n",
    "confusion_matrix(y_test_all, prediction_RF_all)"
   ]
  },
  {
   "cell_type": "markdown",
   "metadata": {},
   "source": [
    "# AdaBoost with scikit-learn"
   ]
  },
  {
   "cell_type": "code",
   "execution_count": 35,
   "metadata": {},
   "outputs": [
    {
     "data": {
      "text/plain": [
       "AdaBoostClassifier(algorithm='SAMME.R', base_estimator=None,\n",
       "          learning_rate=0.1, n_estimators=50, random_state=None)"
      ]
     },
     "execution_count": 35,
     "metadata": {},
     "output_type": "execute_result"
    }
   ],
   "source": [
    "AdaBoost = AdaBoostClassifier(learning_rate=0.1)\n",
    "AdaBoost.fit(X_train, y_train)"
   ]
  },
  {
   "cell_type": "code",
   "execution_count": 36,
   "metadata": {},
   "outputs": [
    {
     "data": {
      "text/plain": [
       "0.92522522522522521"
      ]
     },
     "execution_count": 36,
     "metadata": {},
     "output_type": "execute_result"
    }
   ],
   "source": [
    "AdaBoost.score(X_test, y_test)"
   ]
  },
  {
   "cell_type": "code",
   "execution_count": 37,
   "metadata": {},
   "outputs": [],
   "source": [
    "prediction_AdaBoost = AdaBoost.predict(X_test)"
   ]
  },
  {
   "cell_type": "code",
   "execution_count": 38,
   "metadata": {},
   "outputs": [
    {
     "data": {
      "text/plain": [
       "array([[902,  43],\n",
       "       [ 40, 125]])"
      ]
     },
     "execution_count": 38,
     "metadata": {},
     "output_type": "execute_result"
    }
   ],
   "source": [
    "confusion_matrix(y_test, prediction_AdaBoost)"
   ]
  },
  {
   "cell_type": "code",
   "execution_count": 39,
   "metadata": {},
   "outputs": [
    {
     "data": {
      "text/plain": [
       "0.95999999999999996"
      ]
     },
     "execution_count": 39,
     "metadata": {},
     "output_type": "execute_result"
    }
   ],
   "source": [
    "AdaBoost.score(X_test_0,y_test_0)"
   ]
  },
  {
   "cell_type": "code",
   "execution_count": 40,
   "metadata": {},
   "outputs": [
    {
     "data": {
      "text/plain": [
       "array([[96,  4],\n",
       "       [ 0,  0]])"
      ]
     },
     "execution_count": 40,
     "metadata": {},
     "output_type": "execute_result"
    }
   ],
   "source": [
    "prediction_AdaBoost_0 = AdaBoost.predict(X_test_0)\n",
    "confusion_matrix(y_test_0,prediction_AdaBoost_0)"
   ]
  },
  {
   "cell_type": "code",
   "execution_count": 41,
   "metadata": {},
   "outputs": [
    {
     "data": {
      "text/plain": [
       "0.92672413793103448"
      ]
     },
     "execution_count": 41,
     "metadata": {},
     "output_type": "execute_result"
    }
   ],
   "source": [
    "AdaBoost.score(X_test_all,y_test_all)"
   ]
  },
  {
   "cell_type": "code",
   "execution_count": 42,
   "metadata": {},
   "outputs": [
    {
     "data": {
      "text/plain": [
       "array([[950,  45],\n",
       "       [ 40, 125]])"
      ]
     },
     "execution_count": 42,
     "metadata": {},
     "output_type": "execute_result"
    }
   ],
   "source": [
    "prediction_AdaBoost_all = AdaBoost.predict(X_test_all)\n",
    "confusion_matrix(y_test_all, prediction_AdaBoost_all)"
   ]
  },
  {
   "cell_type": "markdown",
   "metadata": {},
   "source": [
    "# SVM with scikit-learn"
   ]
  },
  {
   "cell_type": "code",
   "execution_count": 43,
   "metadata": {},
   "outputs": [],
   "source": [
    "from sklearn.preprocessing import StandardScaler\n",
    "scaling = StandardScaler().fit(X_train)\n",
    "X_train = scaling.transform(X_train)\n",
    "X_test = scaling.transform(X_test)"
   ]
  },
  {
   "cell_type": "code",
   "execution_count": 44,
   "metadata": {},
   "outputs": [],
   "source": [
    "classifier = svm.SVC(kernel='rbf')\n",
    "classifier.fit(X_train, y_train)\n",
    "prediction_SVM = classifier.predict(X_test)"
   ]
  },
  {
   "cell_type": "code",
   "execution_count": 45,
   "metadata": {},
   "outputs": [
    {
     "data": {
      "text/plain": [
       "0.89549549549549545"
      ]
     },
     "execution_count": 45,
     "metadata": {},
     "output_type": "execute_result"
    }
   ],
   "source": [
    "classifier.score(X_test,y_test)"
   ]
  },
  {
   "cell_type": "code",
   "execution_count": 46,
   "metadata": {},
   "outputs": [
    {
     "data": {
      "text/plain": [
       "array([[917,  28],\n",
       "       [ 88,  77]])"
      ]
     },
     "execution_count": 46,
     "metadata": {},
     "output_type": "execute_result"
    }
   ],
   "source": [
    "confusion_matrix(y_test, prediction_SVM)"
   ]
  },
  {
   "cell_type": "code",
   "execution_count": 47,
   "metadata": {},
   "outputs": [
    {
     "data": {
      "text/plain": [
       "1.0"
      ]
     },
     "execution_count": 47,
     "metadata": {},
     "output_type": "execute_result"
    }
   ],
   "source": [
    "classifier.score(X_test_0,y_test_0)"
   ]
  },
  {
   "cell_type": "code",
   "execution_count": 48,
   "metadata": {},
   "outputs": [
    {
     "data": {
      "text/plain": [
       "array([[100]])"
      ]
     },
     "execution_count": 48,
     "metadata": {},
     "output_type": "execute_result"
    }
   ],
   "source": [
    "prediction_SVM_0 = classifier.predict(X_test_0)\n",
    "confusion_matrix(y_test_0,prediction_SVM_0)"
   ]
  },
  {
   "cell_type": "code",
   "execution_count": 49,
   "metadata": {},
   "outputs": [
    {
     "data": {
      "text/plain": [
       "0.85775862068965514"
      ]
     },
     "execution_count": 49,
     "metadata": {},
     "output_type": "execute_result"
    }
   ],
   "source": [
    "classifier.score(X_test_all,y_test_all)"
   ]
  },
  {
   "cell_type": "code",
   "execution_count": 50,
   "metadata": {},
   "outputs": [
    {
     "data": {
      "text/plain": [
       "array([[995,   0],\n",
       "       [165,   0]])"
      ]
     },
     "execution_count": 50,
     "metadata": {},
     "output_type": "execute_result"
    }
   ],
   "source": [
    "prediction_SVM_all = classifier.predict(X_test_all)\n",
    "confusion_matrix(y_test_all, prediction_SVM_all)"
   ]
  },
  {
   "cell_type": "code",
   "execution_count": null,
   "metadata": {},
   "outputs": [],
   "source": []
  }
 ],
 "metadata": {
  "kernelspec": {
   "display_name": "Python 3",
   "language": "python",
   "name": "python3"
  },
  "language_info": {
   "codemirror_mode": {
    "name": "ipython",
    "version": 3
   },
   "file_extension": ".py",
   "mimetype": "text/x-python",
   "name": "python",
   "nbconvert_exporter": "python",
   "pygments_lexer": "ipython3",
   "version": "3.6.7"
  }
 },
 "nbformat": 4,
 "nbformat_minor": 1
}
