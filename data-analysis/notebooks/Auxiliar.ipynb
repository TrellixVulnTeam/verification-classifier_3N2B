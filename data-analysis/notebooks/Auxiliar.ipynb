{
 "cells": [
  {
   "cell_type": "markdown",
   "metadata": {},
   "source": [
    "# Auxiliary notebook for experimental code\n",
    "\n",
    "Inter here your auxiliary cells"
   ]
  },
  {
   "cell_type": "markdown",
   "metadata": {},
   "source": [
    "## Test metrics prior to implementing using jpeg sequences"
   ]
  },
  {
   "cell_type": "code",
   "execution_count": null,
   "metadata": {},
   "outputs": [],
   "source": [
    "def evaluate_difference_instant(current_frame, next_frame, frame_pos):\n",
    "    # Function to compute the instantaneous difference between a frame\n",
    "    # and its subsequent\n",
    "\n",
    "    # Compute the number of different pixels\n",
    "    total_pixels = current_frame.shape[0] * current_frame.shape[1]\n",
    "    difference = np.array(next_frame - current_frame)\n",
    "    difference_ratio = np.count_nonzero(difference) / total_pixels\n",
    "\n",
    "    cv2.imwrite('Difference-{}.jpg'.format(frame_pos),difference)\n",
    "    return difference_ratio"
   ]
  },
  {
   "cell_type": "code",
   "execution_count": null,
   "metadata": {},
   "outputs": [],
   "source": [
    "import glob\n",
    "import numpy as np\n",
    "import cv2\n",
    "import pandas as pd\n",
    "\n",
    "filenames = [img for img in glob.glob(\"*.jpg\")]\n",
    "\n",
    "filenames.sort() # ADD THIS LINE\n",
    "values = []\n",
    "images = []\n",
    "for i in range(len(filenames)-1):\n",
    "    current = cv2.imread(filenames[i])\n",
    "    next = cv2.imread(filenames[i + 1])\n",
    "    \n",
    "    values.append(evaluate_difference_instant(current, next, i))\n",
    "\n",
    "df =  pd.DataFrame()\n",
    "\n",
    "df['u'] = np.array(values)\n",
    "df.plot()"
   ]
  },
  {
   "cell_type": "code",
   "execution_count": null,
   "metadata": {},
   "outputs": [],
   "source": [
    "df.plot()"
   ]
  },
  {
   "cell_type": "markdown",
   "metadata": {},
   "source": [
    "## Histogram plotting"
   ]
  },
  {
   "cell_type": "code",
   "execution_count": null,
   "metadata": {},
   "outputs": [],
   "source": [
    "import cv2\n",
    "import numpy as np\n",
    "from matplotlib import pyplot as plt\n",
    "\n",
    "img = cv2.imread('../output/bunny.jpg')\n",
    "img = cv2.cvtColor(img, cv2.COLOR_BGR2HLS)\n",
    "color = ('b','g','r')\n",
    "for channel,col in enumerate(color):\n",
    "    histr = cv2.calcHist([img],[channel],None,[256],[0,256])\n",
    "    plt.plot(histr,color = col)\n",
    "    plt.xlim([0,256])\n",
    "plt.title('Histogram for color scale picture')\n",
    "plt.show()\n",
    "\n",
    "while True:\n",
    "    k = cv2.waitKey(0) & 0xFF     \n",
    "    if k == 27: break             # ESC key to exit \n",
    "cv2.destroyAllWindows()"
   ]
  },
  {
   "cell_type": "code",
   "execution_count": null,
   "metadata": {},
   "outputs": [],
   "source": []
  }
 ],
 "metadata": {
  "kernelspec": {
   "display_name": "Python 3",
   "language": "python",
   "name": "python3"
  },
  "language_info": {
   "codemirror_mode": {
    "name": "ipython",
    "version": 3
   },
   "file_extension": ".py",
   "mimetype": "text/x-python",
   "name": "python",
   "nbconvert_exporter": "python",
   "pygments_lexer": "ipython3",
   "version": "3.6.7"
  }
 },
 "nbformat": 4,
 "nbformat_minor": 2
}
