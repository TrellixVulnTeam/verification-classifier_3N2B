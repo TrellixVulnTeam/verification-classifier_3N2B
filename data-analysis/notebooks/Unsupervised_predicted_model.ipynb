{
 "cells": [
  {
   "cell_type": "code",
   "execution_count": null,
   "metadata": {},
   "outputs": [],
   "source": [
    "import pandas as pd\n",
    "import numpy as np\n",
    "from keras.models import Sequential\n",
    "from keras.layers import Dense, Dropout, Input\n",
    "from keras.optimizers import Adam\n",
    "from keras.models import Model\n",
    "from keras import regularizers\n",
    "import keras.backend as K\n",
    "from sklearn import preprocessing\n",
    "from sklearn.metrics import confusion_matrix\n",
    "from sklearn.ensemble import RandomForestClassifier\n",
    "from sklearn.ensemble import AdaBoostClassifier\n",
    "from sklearn import svm\n",
    "from itertools import product\n",
    "import matplotlib.pyplot as plt\n",
    "import matplotlib.mlab as mlab\n",
    "import seaborn\n",
    "\n",
    "%matplotlib inline"
   ]
  },
  {
   "cell_type": "code",
   "execution_count": null,
   "metadata": {},
   "outputs": [],
   "source": [
    "data = pd.read_csv('../output/metrics.csv')\n",
    "df = pd.DataFrame(data)\n",
    "df['title'] = df['level_0']\n",
    "attack_series = []\n",
    "attack_IDs = []\n",
    "dimensions_series = []\n",
    "for _, row in df.iterrows():\n",
    "    attack_series.append(row['level_1'].split('/')[-2])\n",
    "\n",
    "df['attack'] = attack_series\n",
    "\n",
    "for _, row in df.iterrows():\n",
    "    dimension = int(row['attack'].split('_')[0].replace('p',''))\n",
    "    dimensions_series.append(dimension)\n",
    "\n",
    "    if row['attack'] in ['1080p', '720p', '480p', '360p', '240p', '144p']:\n",
    "            attack_IDs.append(1)\n",
    "    else:\n",
    "        attack_IDs.append(0)\n",
    "\n",
    "df['attack_ID'] = attack_IDs\n",
    "df['dimension'] = dimensions_series\n",
    "df = df.drop(['Unnamed: 0',\n",
    "         'temporal_canny-series',\n",
    "         'temporal_canny-cosine',\n",
    "         'temporal_canny-cross-correlation',\n",
    "         'temporal_cross_correlation-series',\n",
    "         'temporal_cross_correlation-cosine',\n",
    "         'temporal_cross_correlation-cross-correlation',\n",
    "         'temporal_difference-series',\n",
    "         'temporal_difference-cosine',\n",
    "         'temporal_difference-cross-correlation',\n",
    "         'temporal_histogram_distance-series', \n",
    "         'temporal_histogram_distance-cosine',\n",
    "         'temporal_histogram_distance-cross-correlation',\n",
    "         'temporal_dct-series', \n",
    "         'temporal_dct-cosine',\n",
    "         'temporal_dct-cross-correlation',\n",
    "         'level_0', \n",
    "         'level_1'],axis=1)"
   ]
  },
  {
   "cell_type": "code",
   "execution_count": null,
   "metadata": {},
   "outputs": [],
   "source": [
    "df.head(5)"
   ]
  },
  {
   "cell_type": "code",
   "execution_count": null,
   "metadata": {},
   "outputs": [],
   "source": [
    "df.describe()"
   ]
  },
  {
   "cell_type": "code",
   "execution_count": null,
   "metadata": {
    "scrolled": false
   },
   "outputs": [],
   "source": [
    "df_corr = df.corr()\n",
    "plt.figure(figsize=(10,10))\n",
    "corr = df_corr.corr('spearman')\n",
    "corr.style.background_gradient().set_precision(2)"
   ]
  },
  {
   "cell_type": "code",
   "execution_count": null,
   "metadata": {},
   "outputs": [],
   "source": [
    "train_prop = 0.8\n",
    "\n",
    "df_1 = df[df['attack_ID'] == 1]\n",
    "df_0 = df[df['attack_ID'] == 0]\n",
    "\n",
    "\n",
    "num_train = int(df_1.shape[0]*0.8)\n",
    "df_train = df_1[0:num_train]\n",
    "df_test = df_1[num_train:]\n",
    "df_attacks = df_0\n",
    "\n",
    "df_train = df_train.sample(frac=1)\n",
    "df_test = df_test.sample(frac=1)\n",
    "df_attacks = df_attacks.sample(frac=1)\n",
    "\n",
    "X_train = df_train.drop(['title',\n",
    "                         'attack', \n",
    "                         'attack_ID',\n",
    "                         'dimension',\n",
    "                         'vmaf'],axis=1)\n",
    "X_train = np.asarray(X_train)\n",
    "\n",
    "X_test = df_test.drop(['title',  \n",
    "                     'attack', \n",
    "                     'attack_ID',\n",
    "                     'dimension',  \n",
    "                     'vmaf'],axis=1)\n",
    "X_test = np.asarray(X_test)\n",
    "\n",
    "X_attacks = df_attacks.drop(['title',  \n",
    "                     'attack', \n",
    "                     'attack_ID',\n",
    "                     'dimension',\n",
    "                     'vmaf'],axis=1)\n",
    "\n",
    "X_attacks = np.asarray(X_attacks)\n",
    "\n",
    "print('Shape of train: {}'.format(X_train.shape))\n",
    "print('Shape of test: {}'.format(X_test.shape))\n",
    "print('Shape of attacks: {}'.format(X_attacks.shape))\n"
   ]
  },
  {
   "cell_type": "code",
   "execution_count": null,
   "metadata": {},
   "outputs": [],
   "source": [
    "from sklearn.decomposition import PCA\n",
    "from sklearn.preprocessing import StandardScaler\n",
    "\n",
    "ss = StandardScaler()\n",
    "\n",
    "x_train = ss.fit_transform(X_train)\n",
    "x_test = ss.transform(X_test)\n",
    "x_attacks = ss.transform(X_attacks)\n",
    "\n",
    "variances = []\n",
    "components = reversed(range(1,x_test.shape[1]+1))\n",
    "for i in components:\n",
    "    pca = PCA(n_components=i)\n",
    "    pca.fit(x_train)\n",
    "    variances.append(sum(pca.explained_variance_ratio_))\n",
    "plt.plot(list(reversed(range(1,x_test.shape[1]+1))), variances)   \n",
    "plt.grid()\n",
    "plt.title('PCA')\n",
    "plt.xlabel('Number of components')\n",
    "plt.ylabel('Explained variance')"
   ]
  },
  {
   "cell_type": "code",
   "execution_count": null,
   "metadata": {},
   "outputs": [],
   "source": [
    "pca = PCA(n_components=2)\n",
    "X_reduced = pca.fit_transform(x_train)\n",
    "test_reduced = pca.transform(x_test)\n",
    "attack_reduced = pca.transform(x_attacks)\n"
   ]
  },
  {
   "cell_type": "code",
   "execution_count": null,
   "metadata": {},
   "outputs": [],
   "source": [
    "f, ax = plt.subplots(1,3, figsize=(25,10))\n",
    "ax[0].set_title(\"Train set\")\n",
    "ax[1].set_title(\"Test set\")\n",
    "ax[2].set_title(\"Attack set\")\n",
    "ax[0].scatter(X_reduced[:,0], X_reduced[:,1], color='black')\n",
    "ax[1].scatter(test_reduced[:,0], test_reduced[:,1], color='red')\n",
    "ax[2].scatter(attack_reduced[:,0], attack_reduced[:,1], color='blue')"
   ]
  },
  {
   "cell_type": "code",
   "execution_count": null,
   "metadata": {},
   "outputs": [],
   "source": [
    "plt.figure(figsize=(20,10))\n",
    "plt.scatter(attack_reduced[:,0], attack_reduced[:,1], color='red', label='attack')\n",
    "plt.scatter(X_reduced[:,0], X_reduced[:,1], color='green', label='Train')\n",
    "plt.scatter(test_reduced[:,0], test_reduced[:,1], color='yellow', label='Test')\n",
    "plt.legend()\n"
   ]
  },
  {
   "cell_type": "markdown",
   "metadata": {},
   "source": [
    "# One Class SVM"
   ]
  },
  {
   "cell_type": "code",
   "execution_count": null,
   "metadata": {
    "scrolled": true
   },
   "outputs": [],
   "source": [
    "from sklearn import metrics \n",
    "\n",
    "nus = [0.1, 0.01, 0.001, 0.0001]\n",
    "\n",
    "svm_results = pd.DataFrame(columns=['gamma', 'nu', 'n_components', 'TPR_train', \n",
    "                                    'TPR_test', 'TNR', 'model', 'auc', 'f_beta'])\n",
    "for n in reversed(range(1,x_test.shape[1]+1)):\n",
    "    pca = PCA(n_components=n)\n",
    "    X_reduced = pca.fit_transform(x_train)\n",
    "    test_reduced = pca.transform(x_test)\n",
    "    attack_reduced = pca.transform(x_attacks)\n",
    "\n",
    "    gammas = [X_reduced.shape[1], 2*X_reduced.shape[1], X_reduced.shape[1]/2, 'auto']                                 \n",
    "    for nu in nus:\n",
    "        for gamma in gammas:\n",
    "            classifier = svm.OneClassSVM(kernel='rbf',gamma=gamma, nu=nu, cache_size=5000)\n",
    "            classifier.fit(X_reduced)\n",
    "            y_pred_train = classifier.predict(X_reduced)\n",
    "            y_pred_test = classifier.predict(test_reduced)\n",
    "            y_pred_outliers = classifier.predict(attack_reduced)\n",
    "            n_accurate_train = y_pred_train[y_pred_train == 1].size\n",
    "            n_accurate_test = y_pred_test[y_pred_test == 1].size\n",
    "            n_accurate_outliers = y_pred_outliers[y_pred_outliers == -1].size\n",
    "            \n",
    "            \n",
    "            fpr, tpr, _ = metrics.roc_curve(np.concatenate([np.ones(y_pred_test.shape[0]),\n",
    "                                                             -1*np.ones(y_pred_outliers.shape[0])]), \n",
    "                                              np.concatenate([y_pred_test, y_pred_outliers]) , pos_label=1)\n",
    "            fb = metrics.fbeta_score(np.concatenate([np.ones(y_pred_test.shape[0]),\n",
    "                                                             -1*np.ones(y_pred_outliers.shape[0])]), \n",
    "                                              np.concatenate([y_pred_test, y_pred_outliers]),beta=20 ,pos_label=1)\n",
    "            \n",
    "            svm_results = svm_results.append({'nu': nu, 'gamma': gamma, 'n_components': n, 'TPR_train': n_accurate_train/X_reduced.shape[0],\n",
    "                           'TPR_test': n_accurate_test/test_reduced.shape[0], 'TNR': n_accurate_outliers/attack_reduced.shape[0],\n",
    "                           'model': 'svm', 'auc': metrics.auc(fpr, tpr), 'f_beta': fb}, ignore_index=True)\n"
   ]
  },
  {
   "cell_type": "code",
   "execution_count": null,
   "metadata": {},
   "outputs": [],
   "source": [
    "svm_results.sort_values('f_beta', ascending=False).head(10)"
   ]
  },
  {
   "cell_type": "code",
   "execution_count": null,
   "metadata": {},
   "outputs": [],
   "source": [
    "svm_results.sort_values('auc', ascending=False).head(20)"
   ]
  },
  {
   "cell_type": "code",
   "execution_count": null,
   "metadata": {},
   "outputs": [],
   "source": [
    "# Let's create a metric in order to find a best model from that metric\n",
    "# We will get just accuracies from test y attack above 0.7, and will add them"
   ]
  },
  {
   "cell_type": "code",
   "execution_count": null,
   "metadata": {},
   "outputs": [],
   "source": [
    "def metric(row, th=0.7):\n",
    "    if row['test_acc'] < th or row['attack_acc'] < th:\n",
    "        return 0\n",
    "    else:\n",
    "        return row['test_acc'] + row['attack_acc']"
   ]
  },
  {
   "cell_type": "code",
   "execution_count": null,
   "metadata": {},
   "outputs": [],
   "source": [
    "svm_results['score'] = svm_results.apply(metric, axis=1)"
   ]
  },
  {
   "cell_type": "code",
   "execution_count": null,
   "metadata": {},
   "outputs": [],
   "source": [
    "svm_results[svm_results['test_acc'] > svm_results['attack_acc']].sort_values('score', ascending=False).head(10)"
   ]
  },
  {
   "cell_type": "markdown",
   "metadata": {},
   "source": [
    "# Isolation Forest"
   ]
  },
  {
   "cell_type": "code",
   "execution_count": null,
   "metadata": {},
   "outputs": [],
   "source": [
    "from sklearn.ensemble import IsolationForest\n",
    "\n",
    "estimators = [100, 150, 200]\n",
    "contaminations = [0.01]\n",
    "isolation_results = pd.DataFrame(columns=['estimators', 'contamination', 'n_components', 'max_features',\n",
    "                                          'TPR_test','TPR_train' , 'TNR', 'model', 'auc', 'f_beta'])\n",
    "for n in reversed(range(1,x_test.shape[1]+1)):\n",
    "    pca = PCA(n_components=n)\n",
    "    X_reduced = pca.fit_transform(x_train)\n",
    "    test_reduced = pca.transform(x_test)\n",
    "    attack_reduced = pca.transform(x_attacks)\n",
    "    max_features = list(range(1, n + 1))\n",
    "    for estimator in estimators:\n",
    "        for contamination in contaminations:\n",
    "            for max_feature in max_features:\n",
    "                classifier = IsolationForest(n_estimators=estimator,\n",
    "                                             contamination=contamination,\n",
    "                                             max_features=max_feature,\n",
    "                                            n_jobs=5)\n",
    "                \n",
    "                classifier.fit(X_reduced)\n",
    "                y_pred_train = classifier.predict(X_reduced)\n",
    "                y_pred_test = classifier.predict(test_reduced)\n",
    "                y_pred_outliers = classifier.predict(attack_reduced)\n",
    "                n_error_train = y_pred_train[y_pred_train == 1].size\n",
    "                n_error_test = y_pred_test[y_pred_test == 1].size\n",
    "                n_error_outliers = y_pred_outliers[y_pred_outliers == -1].size\n",
    "                \n",
    "                fpr, tpr, _ = metrics.roc_curve(np.concatenate([np.ones(y_pred_test.shape[0]),\n",
    "                                                 -1*np.ones(y_pred_outliers.shape[0])]), \n",
    "                                  np.concatenate([y_pred_test, y_pred_outliers]) , pos_label=1)\n",
    "                \n",
    "                fb = metrics.fbeta_score(np.concatenate([np.ones(y_pred_test.shape[0]),\n",
    "                                                             -1*np.ones(y_pred_outliers.shape[0])]), \n",
    "                                              np.concatenate([y_pred_test, y_pred_outliers]),beta=20 ,pos_label=1)\n",
    "\n",
    "                isolation_results = isolation_results.append({'estimators': estimator, 'contamination': contamination,\n",
    "                                                              'n_components': n, 'max_features': max_feature,\n",
    "                                                              'TPR_train': n_error_train/X_reduced.shape[0],\n",
    "                                                              'TPR_test': n_error_train/X_reduced.shape[0],\n",
    "                                                              'TNR': n_error_outliers/attack_reduced.shape[0],\n",
    "                                                              'model': 'isolation_forest',\n",
    "                                                              'auc': metrics.auc(fpr, tpr),\n",
    "                                                              'f_beta': fb}, ignore_index=True)"
   ]
  },
  {
   "cell_type": "code",
   "execution_count": null,
   "metadata": {},
   "outputs": [
    {
     "ename": "NameError",
     "evalue": "name 'metric' is not defined",
     "output_type": "error",
     "traceback": [
      "\u001b[0;31m---------------------------------------------------------------------------\u001b[0m",
      "\u001b[0;31mNameError\u001b[0m                                 Traceback (most recent call last)",
      "\u001b[0;32m<ipython-input-138-8f9d21f2adac>\u001b[0m in \u001b[0;36m<module>\u001b[0;34m\u001b[0m\n\u001b[0;32m----> 1\u001b[0;31m \u001b[0misolation_results\u001b[0m\u001b[0;34m[\u001b[0m\u001b[0;34m'score'\u001b[0m\u001b[0;34m]\u001b[0m \u001b[0;34m=\u001b[0m \u001b[0misolation_results\u001b[0m\u001b[0;34m.\u001b[0m\u001b[0mapply\u001b[0m\u001b[0;34m(\u001b[0m\u001b[0mmetric\u001b[0m\u001b[0;34m,\u001b[0m \u001b[0maxis\u001b[0m\u001b[0;34m=\u001b[0m\u001b[0;36m1\u001b[0m\u001b[0;34m)\u001b[0m\u001b[0;34m\u001b[0m\u001b[0;34m\u001b[0m\u001b[0m\n\u001b[0m",
      "\u001b[0;31mNameError\u001b[0m: name 'metric' is not defined"
     ]
    }
   ],
   "source": [
    "isolation_results['score'] = isolation_results.apply(metric, axis=1)"
   ]
  },
  {
   "cell_type": "code",
   "execution_count": null,
   "metadata": {},
   "outputs": [],
   "source": [
    "isolation_results[isolation_results['test_acc'] > isolation_results['attack_acc']].sort_values('test_acc', ascending=False).head(10)"
   ]
  },
  {
   "cell_type": "code",
   "execution_count": null,
   "metadata": {},
   "outputs": [],
   "source": [
    "isolation_results.sort_values('f_beta', ascending=False).head(10)"
   ]
  },
  {
   "cell_type": "markdown",
   "metadata": {},
   "source": [
    "# Let's plot ROCs"
   ]
  },
  {
   "cell_type": "code",
   "execution_count": null,
   "metadata": {},
   "outputs": [],
   "source": [
    "def plot_roc(fpr, tpr, title):\n",
    "    roc_auc = metrics.auc(fpr, tpr)\n",
    "    plt.figure()\n",
    "    lw = 2\n",
    "    plt.plot(fpr, tpr, color='darkorange',\n",
    "            lw=lw, label='ROC curve (area = %0.2f)' % roc_auc)\n",
    "    plt.plot([0, 1], [0, 1], color='navy', lw=lw, linestyle='--')\n",
    "    plt.xlim([0.0, 1.0])\n",
    "    plt.ylim([0.0, 1.05])\n",
    "    plt.xlabel('False Positive Rate')\n",
    "    plt.ylabel('True Positive Rate')\n",
    "    plt.title('Receiver operating characteristic: {}'.format(title))\n",
    "    plt.legend(loc=\"lower right\")\n",
    "    plt.show()"
   ]
  },
  {
   "cell_type": "code",
   "execution_count": null,
   "metadata": {},
   "outputs": [],
   "source": [
    "best_svm = svm_results.sort_values('f_beta', ascending=False).iloc[0]\n",
    "pca = PCA(n_components=best_svm['n_components'])\n",
    "X_reduced = pca.fit_transform(x_train)\n",
    "test_reduced = pca.transform(x_test)\n",
    "attack_reduced = pca.transform(x_attacks)\n",
    "classifier = svm.OneClassSVM(kernel='rbf',gamma=best_svm['gamma'], nu=best_svm['nu'], cache_size=5000)\n",
    "classifier.fit(X_reduced)\n",
    "\n",
    "y_pred_train = classifier.predict(X_reduced)\n",
    "y_pred_test = classifier.predict(test_reduced)\n",
    "y_pred_outliers = classifier.predict(attack_reduced)\n",
    "n_accurate_train = y_pred_train[y_pred_train == 1].size\n",
    "n_accurate_test = y_pred_test[y_pred_test == 1].size\n",
    "n_accurate_outliers = y_pred_outliers[y_pred_outliers == -1].size\n",
    "\n",
    "fpr, tpr, _ = metrics.roc_curve(np.concatenate([np.ones(y_pred_test.shape[0]),\n",
    "                                                 -1*np.ones(y_pred_outliers.shape[0])]), \n",
    "                                  np.concatenate([y_pred_test, y_pred_outliers]) , pos_label=1)\n",
    "\n",
    "plot_roc(fpr, tpr, 'One Class SVM')"
   ]
  },
  {
   "cell_type": "code",
   "execution_count": null,
   "metadata": {},
   "outputs": [],
   "source": [
    "pca = PCA(n_components=1)\n",
    "X_reduced = pca.fit_transform(x_train)\n",
    "test_reduced = pca.transform(x_test)\n",
    "attack_reduced = pca.transform(x_attacks)\n",
    "\n",
    "\n",
    "classifier = IsolationForest(n_estimators=150,\n",
    "                            contamination=0.01,\n",
    "                            max_features=1,\n",
    "                            n_jobs=5)\n",
    "classifier.fit(X_reduced)\n",
    "y_pred_train = classifier.predict(X_reduced)\n",
    "y_pred_test = classifier.predict(test_reduced)\n",
    "y_pred_outliers = classifier.predict(attack_reduced)\n",
    "n_accurate_train = y_pred_train[y_pred_train == 1].size\n",
    "n_accurate_test = y_pred_test[y_pred_test == 1].size\n",
    "n_accurate_outliers = y_pred_outliers[y_pred_outliers == -1].size\n",
    "\n",
    "fpr, tpr, _ = metrics.roc_curve(np.concatenate([np.ones(y_pred_test.shape[0]),\n",
    "                                                 -1*np.ones(y_pred_outliers.shape[0])]), \n",
    "                                  np.concatenate([y_pred_test, y_pred_outliers]) , pos_label=1)\n",
    "\n",
    "plot_roc(fpr, tpr, 'Isolation Forest')"
   ]
  },
  {
   "cell_type": "code",
   "execution_count": null,
   "metadata": {},
   "outputs": [],
   "source": [
    "best_svm = svm_results.sort_values('f_beta', ascending=False).iloc[0]\n",
    "pca = PCA(n_components=best_svm['n_components']-1)\n",
    "X_reduced = pca.fit_transform(x_train)\n",
    "test_reduced = pca.transform(x_test)\n",
    "attack_reduced = pca.transform(x_attacks)\n",
    "classifier = svm.OneClassSVM(kernel='rbf',gamma=best_svm['gamma'], nu=best_svm['nu'], cache_size=5000)\n",
    "# pca = PCA(n_components=1)\n",
    "# X_reduced = pca.fit_transform(x_train)\n",
    "# test_reduced = pca.transform(x_test)\n",
    "# attack_reduced = pca.transform(x_attacks)\n",
    "\n",
    "\n",
    "# classifier = IsolationForest(n_estimators=150,\n",
    "#                             contamination=0.01,\n",
    "#                             max_features=1,\n",
    "#                             n_jobs=5)\n",
    "classifier.fit(X_reduced)\n",
    "classifier.fit(X_reduced)"
   ]
  },
  {
   "cell_type": "code",
   "execution_count": null,
   "metadata": {},
   "outputs": [],
   "source": [
    "y_pred_outliers = classifier.predict(attack_reduced)"
   ]
  },
  {
   "cell_type": "code",
   "execution_count": null,
   "metadata": {},
   "outputs": [],
   "source": [
    "df_attacks_reset = df_attacks.reset_index()\n",
    "\n",
    "accurate_outliers_df = pd.DataFrame(y_pred_outliers, columns=['pred']) \n",
    "undetected = df_attacks_reset[accurate_outliers_df['pred'] == 1][['attack', 'title', 'dimension']]\n"
   ]
  },
  {
   "cell_type": "code",
   "execution_count": null,
   "metadata": {},
   "outputs": [],
   "source": [
    "undetected.groupby(['dimension', 'attack']).count()"
   ]
  },
  {
   "cell_type": "code",
   "execution_count": null,
   "metadata": {},
   "outputs": [],
   "source": [
    "undetected.groupby('title').count().sort_values(['attack'], ascending=False)"
   ]
  },
  {
   "cell_type": "code",
   "execution_count": null,
   "metadata": {},
   "outputs": [],
   "source": [
    "import matplotlib.font_manager\n",
    "\n",
    "xx, yy = np.meshgrid(np.linspace(-3, 30, 500), np.linspace(-3, 30, 500))\n",
    "\n",
    "y_pred_train = classifier.predict(X_reduced)\n",
    "y_pred_test = classifier.predict(test_reduced)\n",
    "y_pred_outliers = classifier.predict(attack_reduced)\n",
    "n_error_train = y_pred_train[y_pred_train == -1].size\n",
    "n_error_test = y_pred_test[y_pred_test == -1].size\n",
    "n_error_outliers = y_pred_outliers[y_pred_outliers == 1].size\n",
    "\n",
    "# plot the line, the points, and the nearest vectors to the plane\n",
    "Z = classifier.decision_function(np.c_[xx.ravel(), yy.ravel()])\n",
    "Z = Z.reshape(xx.shape)\n",
    "\n",
    "plt.figure(figsize=(15,10))\n",
    "plt.title(\"Novelty Detection\")\n",
    "plt.contourf(xx, yy, Z, levels=np.linspace(Z.min(), 0, 7), cmap=plt.cm.PuBu)\n",
    "a = plt.contour(xx, yy, Z, levels=[0], linewidths=2, colors='darkred')\n",
    "plt.contourf(xx, yy, Z, levels=[0, Z.max()], colors='palevioletred')\n",
    "\n",
    "s = 40\n",
    "c = plt.scatter(attack_reduced[:, 1], attack_reduced[:, 0], c='gold', s=s,\n",
    "                edgecolors='k')\n",
    "b2 = plt.scatter(X_test[:, 1], X_test[:, 0], c='blueviolet', s=s,\n",
    "                 edgecolors='k')\n",
    "\n",
    "b1 = plt.scatter(X_train[:, 1], X_train[:, 0], c='white', s=s, edgecolors='k')\n",
    "\n",
    "plt.axis('tight')\n",
    "plt.xlim((-3, 30))\n",
    "plt.ylim((-3, 30))\n",
    "plt.legend([a.collections[0], b1, b2, c],\n",
    "           [\"learned frontier\", \"training observations\",\n",
    "            \"new regular observations\", \"new abnormal observations\"],\n",
    "           loc=\"upper right\",\n",
    "           prop=matplotlib.font_manager.FontProperties(size=11))\n",
    "plt.xlabel(\n",
    "    \"train: %d ; novel regular: %d ; \"\n",
    "    \"novel abnormal: %d\"\n",
    "    % (n_error_train, n_error_test, n_error_outliers))\n",
    "plt.show()"
   ]
  },
  {
   "cell_type": "markdown",
   "metadata": {},
   "source": [
    "# Conclusions\n",
    "\n",
    "After the analysis made with the results of the best SVM, we have reached some interesting results:\n",
    "* The attacks that pass through the system belong to the same attacks: watermarks and low bitrate\n",
    "* The attacks that pass through the network do not belong to the same resolution\n",
    "\n",
    "This means that we might be able to generalize into other attacks and resolutions"
   ]
  },
  {
   "cell_type": "markdown",
   "metadata": {},
   "source": [
    "# Autoencoder"
   ]
  },
  {
   "cell_type": "code",
   "execution_count": null,
   "metadata": {
    "scrolled": false
   },
   "outputs": [
    {
     "name": "stdout",
     "output_type": "stream",
     "text": [
      "Train on 662 samples, validate on 166 samples\n",
      "Epoch 1/100\n",
      "662/662 [==============================] - 2s 2ms/step - loss: 1.3305 - val_loss: 2.0243\n",
      "Epoch 2/100\n",
      "662/662 [==============================] - 0s 675us/step - loss: 1.2302 - val_loss: 1.8546\n",
      "Epoch 3/100\n",
      "662/662 [==============================] - 0s 722us/step - loss: 1.1556 - val_loss: 1.7299\n",
      "Epoch 4/100\n",
      "662/662 [==============================] - 0s 684us/step - loss: 1.0989 - val_loss: 1.6336\n",
      "Epoch 5/100\n",
      "662/662 [==============================] - 0s 709us/step - loss: 1.0526 - val_loss: 1.5548\n",
      "Epoch 6/100\n",
      "662/662 [==============================] - 0s 727us/step - loss: 1.0135 - val_loss: 1.4678\n",
      "Epoch 7/100\n",
      "662/662 [==============================] - 1s 868us/step - loss: 0.9832 - val_loss: 1.4031\n",
      "Epoch 8/100\n",
      "662/662 [==============================] - 1s 762us/step - loss: 0.9546 - val_loss: 1.3564\n",
      "Epoch 9/100\n",
      "662/662 [==============================] - 0s 655us/step - loss: 0.9301 - val_loss: 1.3099\n",
      "Epoch 10/100\n",
      "662/662 [==============================] - 1s 798us/step - loss: 0.9066 - val_loss: 1.2745\n",
      "Epoch 11/100\n",
      "662/662 [==============================] - 1s 823us/step - loss: 0.8850 - val_loss: 1.2349\n",
      "Epoch 12/100\n",
      "662/662 [==============================] - 1s 770us/step - loss: 0.8628 - val_loss: 1.1971\n",
      "Epoch 13/100\n",
      "662/662 [==============================] - 1s 873us/step - loss: 0.8407 - val_loss: 1.1600\n",
      "Epoch 14/100\n",
      "662/662 [==============================] - 1s 831us/step - loss: 0.8178 - val_loss: 1.1213\n",
      "Epoch 15/100\n",
      "662/662 [==============================] - 0s 730us/step - loss: 0.7934 - val_loss: 1.0871\n",
      "Epoch 16/100\n",
      "662/662 [==============================] - 1s 767us/step - loss: 0.7686 - val_loss: 1.0522\n",
      "Epoch 17/100\n",
      "662/662 [==============================] - 0s 622us/step - loss: 0.7431 - val_loss: 1.0154\n",
      "Epoch 18/100\n",
      "662/662 [==============================] - 0s 619us/step - loss: 0.7164 - val_loss: 0.9842\n",
      "Epoch 19/100\n",
      "662/662 [==============================] - 0s 690us/step - loss: 0.6904 - val_loss: 0.9475\n",
      "Epoch 20/100\n",
      "662/662 [==============================] - 0s 673us/step - loss: 0.6640 - val_loss: 0.9145\n",
      "Epoch 21/100\n",
      "662/662 [==============================] - 0s 658us/step - loss: 0.6394 - val_loss: 0.8864\n",
      "Epoch 22/100\n",
      "662/662 [==============================] - 0s 687us/step - loss: 0.6154 - val_loss: 0.8485\n",
      "Epoch 23/100\n",
      "662/662 [==============================] - 1s 756us/step - loss: 0.5937 - val_loss: 0.8187\n",
      "Epoch 24/100\n",
      "662/662 [==============================] - 1s 763us/step - loss: 0.5736 - val_loss: 0.7938\n",
      "Epoch 25/100\n",
      "662/662 [==============================] - 0s 698us/step - loss: 0.5549 - val_loss: 0.7676\n",
      "Epoch 26/100\n",
      "662/662 [==============================] - 0s 656us/step - loss: 0.5370 - val_loss: 0.7382\n",
      "Epoch 27/100\n",
      "662/662 [==============================] - 1s 757us/step - loss: 0.5210 - val_loss: 0.7134\n",
      "Epoch 28/100\n",
      "662/662 [==============================] - 0s 685us/step - loss: 0.5061 - val_loss: 0.6897\n",
      "Epoch 29/100\n",
      "662/662 [==============================] - 1s 910us/step - loss: 0.4928 - val_loss: 0.6642\n",
      "Epoch 30/100\n",
      "662/662 [==============================] - 1s 791us/step - loss: 0.4799 - val_loss: 0.6477\n",
      "Epoch 31/100\n",
      "662/662 [==============================] - 1s 873us/step - loss: 0.4689 - val_loss: 0.6199\n",
      "Epoch 32/100\n",
      "662/662 [==============================] - 1s 756us/step - loss: 0.4565 - val_loss: 0.6050\n",
      "Epoch 33/100\n",
      "662/662 [==============================] - 1s 825us/step - loss: 0.4471 - val_loss: 0.5848\n",
      "Epoch 34/100\n",
      "662/662 [==============================] - 1s 774us/step - loss: 0.4380 - val_loss: 0.5648\n",
      "Epoch 35/100\n",
      "662/662 [==============================] - 1s 800us/step - loss: 0.4293 - val_loss: 0.5500\n",
      "Epoch 36/100\n",
      "662/662 [==============================] - 0s 694us/step - loss: 0.4214 - val_loss: 0.5335\n",
      "Epoch 37/100\n",
      "662/662 [==============================] - 1s 878us/step - loss: 0.4142 - val_loss: 0.5166\n",
      "Epoch 38/100\n",
      "662/662 [==============================] - 0s 754us/step - loss: 0.4072 - val_loss: 0.5033\n",
      "Epoch 39/100\n",
      "662/662 [==============================] - 1s 757us/step - loss: 0.4011 - val_loss: 0.4921\n",
      "Epoch 40/100\n",
      "662/662 [==============================] - 1s 812us/step - loss: 0.3953 - val_loss: 0.4794\n",
      "Epoch 41/100\n",
      "662/662 [==============================] - 1s 1ms/step - loss: 0.3905 - val_loss: 0.4692\n",
      "Epoch 42/100\n",
      "662/662 [==============================] - 1s 1ms/step - loss: 0.3857 - val_loss: 0.4588\n",
      "Epoch 43/100\n",
      "662/662 [==============================] - 1s 973us/step - loss: 0.3816 - val_loss: 0.4495\n",
      "Epoch 44/100\n",
      "662/662 [==============================] - 1s 910us/step - loss: 0.3777 - val_loss: 0.4414\n",
      "Epoch 45/100\n",
      "662/662 [==============================] - 1s 910us/step - loss: 0.3740 - val_loss: 0.4336\n",
      "Epoch 46/100\n",
      "662/662 [==============================] - 1s 935us/step - loss: 0.3712 - val_loss: 0.4257\n",
      "Epoch 47/100\n",
      "662/662 [==============================] - 1s 919us/step - loss: 0.3680 - val_loss: 0.4180\n",
      "Epoch 48/100\n",
      "662/662 [==============================] - 1s 802us/step - loss: 0.3655 - val_loss: 0.4124\n",
      "Epoch 49/100\n",
      "662/662 [==============================] - 1s 765us/step - loss: 0.3630 - val_loss: 0.4066\n",
      "Epoch 50/100\n",
      "662/662 [==============================] - 1s 842us/step - loss: 0.3608 - val_loss: 0.4016\n",
      "Epoch 51/100\n",
      "662/662 [==============================] - 0s 681us/step - loss: 0.3586 - val_loss: 0.3974\n",
      "Epoch 52/100\n",
      "662/662 [==============================] - 1s 783us/step - loss: 0.3568 - val_loss: 0.3932\n",
      "Epoch 53/100\n",
      "662/662 [==============================] - 0s 745us/step - loss: 0.3552 - val_loss: 0.3883\n",
      "Epoch 54/100\n",
      "662/662 [==============================] - 1s 787us/step - loss: 0.3536 - val_loss: 0.3846\n",
      "Epoch 55/100\n",
      "662/662 [==============================] - 0s 746us/step - loss: 0.3522 - val_loss: 0.3821\n",
      "Epoch 56/100\n",
      "662/662 [==============================] - 1s 1ms/step - loss: 0.3506 - val_loss: 0.3787\n",
      "Epoch 57/100\n",
      "662/662 [==============================] - 1s 915us/step - loss: 0.3494 - val_loss: 0.3768\n",
      "Epoch 58/100\n",
      "662/662 [==============================] - 1s 843us/step - loss: 0.3482 - val_loss: 0.3734\n",
      "Epoch 59/100\n",
      "662/662 [==============================] - 1s 904us/step - loss: 0.3471 - val_loss: 0.3716\n",
      "Epoch 60/100\n",
      "662/662 [==============================] - 1s 827us/step - loss: 0.3461 - val_loss: 0.3701\n",
      "Epoch 61/100\n",
      "662/662 [==============================] - 1s 910us/step - loss: 0.3451 - val_loss: 0.3695\n",
      "Epoch 62/100\n",
      "662/662 [==============================] - 1s 827us/step - loss: 0.3443 - val_loss: 0.3668\n",
      "Epoch 63/100\n",
      "662/662 [==============================] - 1s 930us/step - loss: 0.3436 - val_loss: 0.3651\n",
      "Epoch 64/100\n",
      "662/662 [==============================] - 1s 1ms/step - loss: 0.3425 - val_loss: 0.3628\n",
      "Epoch 65/100\n",
      "662/662 [==============================] - 1s 814us/step - loss: 0.3418 - val_loss: 0.3624\n",
      "Epoch 66/100\n",
      "662/662 [==============================] - 1s 1ms/step - loss: 0.3413 - val_loss: 0.3597\n",
      "Epoch 67/100\n",
      "662/662 [==============================] - 1s 1ms/step - loss: 0.3404 - val_loss: 0.3586\n",
      "Epoch 68/100\n",
      "662/662 [==============================] - 1s 804us/step - loss: 0.3398 - val_loss: 0.3571\n",
      "Epoch 69/100\n",
      "662/662 [==============================] - 1s 761us/step - loss: 0.3392 - val_loss: 0.3587\n",
      "Epoch 70/100\n",
      "662/662 [==============================] - 1s 792us/step - loss: 0.3384 - val_loss: 0.3565\n",
      "Epoch 71/100\n",
      "662/662 [==============================] - 1s 1ms/step - loss: 0.3376 - val_loss: 0.3558\n",
      "Epoch 72/100\n",
      "662/662 [==============================] - 1s 958us/step - loss: 0.3372 - val_loss: 0.3562\n",
      "Epoch 73/100\n",
      "662/662 [==============================] - 0s 712us/step - loss: 0.3364 - val_loss: 0.3538\n",
      "Epoch 74/100\n",
      "662/662 [==============================] - 1s 760us/step - loss: 0.3357 - val_loss: 0.3537\n",
      "Epoch 75/100\n",
      "662/662 [==============================] - 0s 702us/step - loss: 0.3352 - val_loss: 0.3528\n",
      "Epoch 76/100\n",
      "662/662 [==============================] - 1s 969us/step - loss: 0.3347 - val_loss: 0.3527\n",
      "Epoch 77/100\n",
      "662/662 [==============================] - 1s 865us/step - loss: 0.3340 - val_loss: 0.3518\n",
      "Epoch 78/100\n",
      "662/662 [==============================] - 1s 863us/step - loss: 0.3334 - val_loss: 0.3521\n",
      "Epoch 79/100\n"
     ]
    },
    {
     "name": "stdout",
     "output_type": "stream",
     "text": [
      "662/662 [==============================] - 0s 660us/step - loss: 0.3330 - val_loss: 0.3530\n",
      "Epoch 80/100\n",
      "662/662 [==============================] - 1s 847us/step - loss: 0.3325 - val_loss: 0.3524\n",
      "Epoch 81/100\n",
      "662/662 [==============================] - 0s 729us/step - loss: 0.3322 - val_loss: 0.3503\n",
      "Epoch 82/100\n",
      "662/662 [==============================] - 1s 842us/step - loss: 0.3319 - val_loss: 0.3524\n",
      "Epoch 83/100\n",
      "662/662 [==============================] - 1s 773us/step - loss: 0.3312 - val_loss: 0.3499\n",
      "Epoch 84/100\n",
      "662/662 [==============================] - 1s 944us/step - loss: 0.3309 - val_loss: 0.3498\n",
      "Epoch 85/100\n",
      "662/662 [==============================] - 1s 1ms/step - loss: 0.3305 - val_loss: 0.3498\n",
      "Epoch 86/100\n",
      "662/662 [==============================] - 1s 944us/step - loss: 0.3301 - val_loss: 0.3493\n",
      "Epoch 87/100\n",
      "662/662 [==============================] - 1s 821us/step - loss: 0.3299 - val_loss: 0.3495\n",
      "Epoch 88/100\n",
      "662/662 [==============================] - 0s 699us/step - loss: 0.3293 - val_loss: 0.3503\n",
      "Epoch 89/100\n",
      "662/662 [==============================] - 1s 1ms/step - loss: 0.3289 - val_loss: 0.3502\n",
      "Epoch 90/100\n",
      "662/662 [==============================] - 1s 854us/step - loss: 0.3288 - val_loss: 0.3501\n",
      "Epoch 91/100\n",
      "662/662 [==============================] - 0s 728us/step - loss: 0.3284 - val_loss: 0.3499\n",
      "Epoch 92/100\n",
      "662/662 [==============================] - 0s 735us/step - loss: 0.3282 - val_loss: 0.3496\n",
      "Epoch 93/100\n",
      "662/662 [==============================] - 1s 829us/step - loss: 0.3280 - val_loss: 0.3507\n",
      "Epoch 94/100\n",
      "662/662 [==============================] - 0s 733us/step - loss: 0.3275 - val_loss: 0.3484\n",
      "Epoch 95/100\n",
      "662/662 [==============================] - 0s 708us/step - loss: 0.3274 - val_loss: 0.3501\n",
      "Epoch 96/100\n",
      "662/662 [==============================] - 0s 711us/step - loss: 0.3272 - val_loss: 0.3497\n",
      "Epoch 97/100\n",
      "662/662 [==============================] - 0s 739us/step - loss: 0.3268 - val_loss: 0.3508\n",
      "Epoch 98/100\n",
      "662/662 [==============================] - 0s 747us/step - loss: 0.3266 - val_loss: 0.3493\n",
      "Epoch 99/100\n",
      "662/662 [==============================] - 0s 727us/step - loss: 0.3265 - val_loss: 0.3504\n",
      "Epoch 100/100\n",
      "662/662 [==============================] - 0s 723us/step - loss: 0.3260 - val_loss: 0.3489\n"
     ]
    }
   ],
   "source": [
    "latent_dim = 3\n",
    "input_vector = Input(shape=(X_train.shape[1],))\n",
    "encoded = Dense(latent_dim, activation='relu')(input_vector)\n",
    "decoded = Dense(X_train.shape[1], activity_regularizer=regularizers.l1(10e-5))(encoded)\n",
    "autoencoder = Model(input_vector, decoded)\n",
    "encoder = Model(input_vector, encoded)\n",
    "autoencoder.compile(optimizer=Adam(lr=0.001), loss='mse')\n",
    "network_history = autoencoder.fit(x_train, x_train, shuffle=True, batch_size=16, epochs=100,\n",
    "                                  validation_data=(x_test, x_test), verbose=True)\n"
   ]
  },
  {
   "cell_type": "code",
   "execution_count": null,
   "metadata": {},
   "outputs": [],
   "source": [
    "def plot_history(network_history,title='Autoencoder Loss'):\n",
    "    plt.figure(figsize=(10,5))\n",
    "    plt.title(title)\n",
    "    plt.xlabel('Epochs')\n",
    "    plt.ylabel('Loss')\n",
    "    plt.plot(network_history.history['loss'])\n",
    "    plt.plot(network_history.history['val_loss'])\n",
    "    plt.legend(['Training', 'Validation'])\n",
    "    plt.show()"
   ]
  },
  {
   "cell_type": "code",
   "execution_count": null,
   "metadata": {},
   "outputs": [],
   "source": [
    "plot_history(network_history)"
   ]
  },
  {
   "cell_type": "code",
   "execution_count": null,
   "metadata": {
    "scrolled": true
   },
   "outputs": [],
   "source": [
    "print('Mean loss on train: {}'.format(autoencoder.evaluate(x_train, x_train, batch_size=8, verbose=False)))\n",
    "print('Mean loss on test: {}'.format(autoencoder.evaluate(x_test, x_test, batch_size=8, verbose=False)))\n",
    "print('Mean loss on attacks: {}'.format(autoencoder.evaluate(x_attacks, x_attacks, batch_size=8, verbose=False)))"
   ]
  },
  {
   "cell_type": "code",
   "execution_count": null,
   "metadata": {},
   "outputs": [],
   "source": [
    "x_train_pred = autoencoder.predict(x_train, batch_size=8)\n",
    "x_test_pred = autoencoder.predict(x_test, batch_size=8)\n",
    "x_attacks_pred = autoencoder.predict(x_attacks, batch_size=8)"
   ]
  },
  {
   "cell_type": "code",
   "execution_count": null,
   "metadata": {},
   "outputs": [],
   "source": [
    "mse_train = (((x_train - x_train_pred)**2).mean(axis=1))\n",
    "mse_test = (((x_test - x_test_pred)**2).mean(axis=1))\n",
    "mse_attacks = (((x_attacks - x_attacks_pred)**2).mean(axis=1))\n",
    "\n",
    "plt.figure()\n",
    "kwargs = dict(histtype='stepfilled', alpha=0.3, normed=True, bins=200)\n",
    "\n",
    "plt.hist(mse_train, **kwargs)\n",
    "plt.hist(mse_test, **kwargs)\n",
    "plt.hist(mse_attacks, **kwargs)\n",
    "plt.legend(['Train', 'Test', 'Attacks'])\n",
    "plt.title('Histograms of mse')\n",
    "plt.xlim([0, 5])\n"
   ]
  },
  {
   "cell_type": "code",
   "execution_count": null,
   "metadata": {},
   "outputs": [],
   "source": [
    "x_train_red = encoder.predict(x_train, batch_size=8)\n",
    "x_test_red = encoder.predict(x_test, batch_size=8)\n",
    "x_attacks_red = encoder.predict(x_attacks, batch_size=8)"
   ]
  },
  {
   "cell_type": "code",
   "execution_count": null,
   "metadata": {},
   "outputs": [],
   "source": [
    "plt.figure(figsize=(20,10))\n",
    "plt.scatter(x_attacks_red[:,0], x_attacks_red[:,1], color='red', label='attack')\n",
    "plt.scatter(x_train_red[:,0], x_train_red[:,1], color='green', label='Train')\n",
    "plt.scatter(x_test_red[:,0], x_test_red[:,1], color='yellow', label='Test')\n",
    "plt.legend()"
   ]
  },
  {
   "cell_type": "code",
   "execution_count": null,
   "metadata": {},
   "outputs": [],
   "source": [
    "ae_svm_results = pd.DataFrame(columns=['gamma', 'nu', 'n_components', 'TPR_train', \n",
    "                                    'TPR_test', 'TNR', 'model', 'auc', 'f_beta'])\n",
    "\n",
    "gammas = [x_train_red.shape[1], 2*x_train_red.shape[1], x_train_red.shape[1]/2, 'auto']                                 \n",
    "for nu in nus:\n",
    "    for gamma in gammas:\n",
    "        classifier = svm.OneClassSVM(kernel='rbf',gamma=gamma, nu=nu, cache_size=5000)\n",
    "        classifier.fit(X_reduced)\n",
    "        y_pred_train = classifier.predict(X_reduced)\n",
    "        y_pred_test = classifier.predict(test_reduced)\n",
    "        y_pred_outliers = classifier.predict(attack_reduced)\n",
    "        n_accurate_train = y_pred_train[y_pred_train == 1].size\n",
    "        n_accurate_test = y_pred_test[y_pred_test == 1].size\n",
    "        n_accurate_outliers = y_pred_outliers[y_pred_outliers == -1].size\n",
    "\n",
    "\n",
    "        fpr, tpr, _ = metrics.roc_curve(np.concatenate([np.ones(y_pred_test.shape[0]),\n",
    "                                                         -1*np.ones(y_pred_outliers.shape[0])]), \n",
    "                                          np.concatenate([y_pred_test, y_pred_outliers]) , pos_label=1)\n",
    "        fb = metrics.fbeta_score(np.concatenate([np.ones(y_pred_test.shape[0]),\n",
    "                                                         -1*np.ones(y_pred_outliers.shape[0])]), \n",
    "                                          np.concatenate([y_pred_test, y_pred_outliers]),beta=20 ,pos_label=1)\n",
    "\n",
    "        ae_svm_results = ae_svm_results.append({'nu': nu, 'gamma': gamma, 'n_components': n, 'TPR_train': n_accurate_train/X_reduced.shape[0],\n",
    "                       'TPR_test': n_accurate_test/test_reduced.shape[0], 'TNR': n_accurate_outliers/attack_reduced.shape[0],\n",
    "                       'model': 'ae-svm', 'auc': metrics.auc(fpr, tpr), 'f_beta': fb}, ignore_index=True)\n"
   ]
  },
  {
   "cell_type": "code",
   "execution_count": null,
   "metadata": {},
   "outputs": [],
   "source": [
    "ae_svm_results.sort_values('f_beta', ascending=False).head(10)"
   ]
  },
  {
   "cell_type": "code",
   "execution_count": null,
   "metadata": {},
   "outputs": [],
   "source": []
  }
 ],
 "metadata": {
  "kernelspec": {
   "display_name": "Python 3",
   "language": "python",
   "name": "python3"
  },
  "language_info": {
   "codemirror_mode": {
    "name": "ipython",
    "version": 3
   },
   "file_extension": ".py",
   "mimetype": "text/x-python",
   "name": "python",
   "nbconvert_exporter": "python",
   "pygments_lexer": "ipython3",
   "version": "3.6.7"
  }
 },
 "nbformat": 4,
 "nbformat_minor": 2
}
