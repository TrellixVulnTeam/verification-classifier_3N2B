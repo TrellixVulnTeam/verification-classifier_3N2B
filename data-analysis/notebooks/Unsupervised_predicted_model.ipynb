{
 "cells": [
  {
   "cell_type": "code",
   "execution_count": null,
   "metadata": {},
   "outputs": [],
   "source": [
    "mport pandas as pd\n",
    "import numpy as np\n",
    "from keras.models import Sequential\n",
    "from keras.layers import Dense, Dropout\n",
    "from keras.optimizers import Adam\n",
    "import keras.backend as K\n",
    "from sklearn import preprocessing\n",
    "from sklearn.metrics import confusion_matrix\n",
    "from sklearn.ensemble import RandomForestClassifier\n",
    "from sklearn.ensemble import AdaBoostClassifier\n",
    "from sklearn import svm\n",
    "from itertools import product\n",
    "import matplotlib.pyplot as plt\n",
    "import matplotlib.mlab as mlab\n",
    "import seaborn\n",
    "\n",
    "%matplotlib inline"
   ]
  },
  {
   "cell_type": "code",
   "execution_count": null,
   "metadata": {},
   "outputs": [],
   "source": [
    "data = pd.read_csv(r'../../output/metrics.csv')\n",
    "df = pd.DataFrame(data)\n",
    "df['title'] = df['level_0']\n",
    "attack_series = []\n",
    "attack_IDs = []\n",
    "dimensions_series = []\n",
    "for _, row in df.iterrows():\n",
    "    attack_series.append(row['level_1'].split('/')[-2])\n",
    "\n",
    "df['attack'] = attack_series\n",
    "\n",
    "for _, row in df.iterrows():\n",
    "    dimension = int(row['attack'].split('_')[0].replace('p',''))\n",
    "    dimensions_series.append(dimension)\n",
    "    if row['attack'] in ['1080p', '720p', '480p', '360p', '240p', '144p']:\n",
    "            attack_IDs.append(1)\n",
    "    else:\n",
    "        attack_IDs.append(0)\n",
    "\n",
    "df['attack_ID'] = attack_IDs\n",
    "df['dimension'] = dimensions_series\n",
    "df = df.drop(['Unnamed: 0',\n",
    "         'temporal_canny-series',\n",
    "         'temporal_cross_correlation-series', \n",
    "         'temporal_difference-series', \n",
    "         'temporal_histogram_distance-series', \n",
    "         'temporal_histogram_distance-cosine',\n",
    "         'level_0', \n",
    "          'dimension',\n",
    "#           'temporal_canny-cosine',\n",
    "#           'temporal_cross_correlation-cosine',\n",
    "#               'temporal_difference-cosine',\n",
    "         'level_1'],axis=1)"
   ]
  },
  {
   "cell_type": "code",
   "execution_count": null,
   "metadata": {},
   "outputs": [],
   "source": [
    "df.head(25)"
   ]
  },
  {
   "cell_type": "code",
   "execution_count": null,
   "metadata": {},
   "outputs": [],
   "source": [
    "df.describe()"
   ]
  },
  {
   "cell_type": "code",
   "execution_count": null,
   "metadata": {
    "scrolled": true
   },
   "outputs": [],
   "source": [
    "df_corr = df.corr()\n",
    "plt.figure(figsize=(10,10))\n",
    "corr = df_corr.corr('spearman')\n",
    "corr.style.background_gradient().set_precision(2)"
   ]
  },
  {
   "cell_type": "code",
   "execution_count": null,
   "metadata": {},
   "outputs": [],
   "source": [
    "train_prop = 0.8\n",
    "\n",
    "df_1 = df[df['attack_ID'] == 1]\n",
    "df_0 = df[df['attack_ID'] == 0]\n",
    "\n",
    "\n",
    "num_train = int(df_1.shape[0]*0.8)\n",
    "df_train = df_1[0:num_train]\n",
    "df_test = df_1[num_train:]\n",
    "df_attacks = df_0\n",
    "\n",
    "df_train = df_train.sample(frac=1)\n",
    "df_test = df_test.sample(frac=1)\n",
    "df_attacks = df_attacks.sample(frac=1)\n",
    "\n",
    "X_train = df_train.drop(['title',\n",
    "                         'attack', \n",
    "                         'attack_ID',\n",
    "                         'vmaf'],axis=1)\n",
    "X_train = np.asarray(X_train)\n",
    "\n",
    "X_test = df_test.drop(['title',  \n",
    "                     'attack', \n",
    "                     'attack_ID',\n",
    "                     'vmaf'],axis=1)\n",
    "X_test = np.asarray(X_test)\n",
    "\n",
    "X_attacks = df_attacks.drop(['title',  \n",
    "                     'attack', \n",
    "                     'attack_ID',\n",
    "                     'vmaf'],axis=1)\n",
    "\n",
    "X_attacks = np.asarray(X_attacks)\n",
    "\n",
    "print('Shape of train: {}'.format(X_train.shape))\n",
    "print('Shape of test: {}'.format(X_test.shape))\n",
    "print('Shape of attacks: {}'.format(X_attacks.shape))"
   ]
  },
  {
   "cell_type": "code",
   "execution_count": null,
   "metadata": {},
   "outputs": [],
   "source": [
    "from sklearn.decomposition import PCA\n",
    "from sklearn.preprocessing import StandardScaler\n",
    "\n",
    "ss = StandardScaler()\n",
    "\n",
    "x_train = ss.fit_transform(X_train)\n",
    "x_test = ss.transform(X_test)\n",
    "x_attacks = ss.transform(X_attacks)\n",
    "\n",
    "variances = []\n",
    "components = reversed(range(1,x_test.shape[1]+1))\n",
    "for i in components:\n",
    "    pca = PCA(n_components=i)\n",
    "    pca.fit(x_train)\n",
    "    variances.append(sum(pca.explained_variance_ratio_))\n",
    "plt.plot(list(reversed(range(1,x_test.shape[1]+1))), variances)   \n",
    "plt.grid()\n",
    "plt.title('PCA')\n",
    "plt.xlabel('Number of components')\n",
    "plt.ylabel('Explained variance')"
   ]
  },
  {
   "cell_type": "code",
   "execution_count": null,
   "metadata": {},
   "outputs": [],
   "source": [
    "pca = PCA(n_components=2)\n",
    "X_reduced = pca.fit_transform(x_train)\n",
    "test_reduced = pca.transform(x_test)\n",
    "attack_reduced = pca.transform(x_attacks)\n"
   ]
  },
  {
   "cell_type": "code",
   "execution_count": null,
   "metadata": {},
   "outputs": [],
   "source": [
    "f, ax = plt.subplots(1,3, figsize=(25,10))\n",
    "ax[0].set_title(\"Train set\")\n",
    "ax[1].set_title(\"Test set\")\n",
    "ax[2].set_title(\"Attack set\")\n",
    "ax[0].scatter(X_reduced[:,0], X_reduced[:,1], color='black')\n",
    "ax[1].scatter(test_reduced[:,0], test_reduced[:,1], color='red')\n",
    "ax[2].scatter(attack_reduced[:,0], attack_reduced[:,1], color='blue')"
   ]
  },
  {
   "cell_type": "code",
   "execution_count": null,
   "metadata": {},
   "outputs": [],
   "source": [
    "plt.figure(figsize=(20,10))\n",
    "plt.scatter(attack_reduced[:,0], attack_reduced[:,1], color='red', label='attack')\n",
    "plt.scatter(X_reduced[:,0], X_reduced[:,1], color='green', label='Train')\n",
    "plt.scatter(test_reduced[:,0], test_reduced[:,1], color='yellow', label='Test')\n",
    "plt.legend()\n"
   ]
  },
  {
   "cell_type": "code",
   "execution_count": null,
   "metadata": {},
   "outputs": [],
   "source": [
    "from sklearn import metrics \n",
    "\n",
    "nus = [0.1, 0.01, 0.001, 0.0001]\n",
    "\n",
    "svm_results = pd.DataFrame(columns=['gamma', 'nu', 'n_components', 'train_acc', 'test_acc', 'attack_acc', 'model', 'auc'])\n",
    "for n in reversed(range(1,x_test.shape[1]+1)):\n",
    "    pca = PCA(n_components=n)\n",
    "    X_reduced = pca.fit_transform(x_train)\n",
    "    test_reduced = pca.transform(x_test)\n",
    "    attack_reduced = pca.transform(x_attacks)\n",
    "\n",
    "    gammas = [X_reduced.shape[1], 2*X_reduced.shape[1], X_reduced.shape[1]/2, 'auto']                                 \n",
    "    for nu in nus:\n",
    "        for gamma in gammas:\n",
    "            classifier = svm.OneClassSVM(kernel='rbf',gamma=gamma, nu=nu, cache_size=5000)\n",
    "            classifier.fit(X_reduced)\n",
    "            y_pred_train = classifier.predict(X_reduced)\n",
    "            y_pred_test = classifier.predict(test_reduced)\n",
    "            y_pred_outliers = classifier.predict(attack_reduced)\n",
    "            n_accurate_train = y_pred_train[y_pred_train == 1].size\n",
    "            n_accurate_test = y_pred_test[y_pred_test == 1].size\n",
    "            n_accurate_outliers = y_pred_outliers[y_pred_outliers == -1].size\n",
    "            \n",
    "            fpr, tpr, _ = metrics.roc_curve(np.concatenate([np.ones(y_pred_test.shape[0]),\n",
    "                                                             -1*np.ones(y_pred_outliers.shape[0])]), \n",
    "                                              np.concatenate([y_pred_test, y_pred_outliers]) , pos_label=1)\n",
    "            \n",
    "            svm_results = svm_results.append({'nu': nu, 'gamma': gamma, 'n_components': n, 'train_acc': n_accurate_train/X_reduced.shape[0],\n",
    "                           'test_acc': n_accurate_train/X_reduced.shape[0], 'attack_acc': n_accurate_outliers/attack_reduced.shape[0],\n",
    "                           'model': 'svm', 'auc': metrics.auc(fpr, tpr)}, ignore_index=True)\n"
   ]
  },
  {
   "cell_type": "code",
   "execution_count": null,
   "metadata": {},
   "outputs": [],
   "source": [
    "svm_results.sort_values('auc', ascending=False).head(10)"
   ]
  },
  {
   "cell_type": "code",
   "execution_count": null,
   "metadata": {},
   "outputs": [],
   "source": [
    "# Let's create a metric in order to find a best model from that metric\n",
    "# We will get just accuracies from test y attack above 0.7, and will add them"
   ]
  },
  {
   "cell_type": "code",
   "execution_count": null,
   "metadata": {},
   "outputs": [],
   "source": [
    "def metric(row, th=0.7):\n",
    "    if row['test_acc'] < th or row['attack_acc'] < th:\n",
    "        return 0\n",
    "    else:\n",
    "        return row['test_acc'] + row['attack_acc']"
   ]
  },
  {
   "cell_type": "code",
   "execution_count": null,
   "metadata": {},
   "outputs": [],
   "source": [
    "svm_results['score'] = svm_results.apply(metric, axis=1)"
   ]
  },
  {
   "cell_type": "code",
   "execution_count": null,
   "metadata": {},
   "outputs": [],
   "source": [
    "svm_results[svm_results['test_acc'] > svm_results['attack_acc']].sort_values('score', ascending=False).head(10)"
   ]
  },
  {
   "cell_type": "code",
   "execution_count": null,
   "metadata": {},
   "outputs": [],
   "source": [
    "from sklearn.ensemble import IsolationForest\n",
    "\n",
    "estimators = [50, 100, 150, 200, 500]\n",
    "contaminations = [0.01, 0.05, 0.1]\n",
    "isolation_results = pd.DataFrame(columns=['estimators', 'contamination', 'n_components', 'max_features',\n",
    "                                          'test_acc', 'attack_acc', 'model', 'auc'])\n",
    "for n in reversed(range(1,x_test.shape[1]+1)):\n",
    "    pca = PCA(n_components=n)\n",
    "    X_reduced = pca.fit_transform(x_train)\n",
    "    test_reduced = pca.transform(x_test)\n",
    "    attack_reduced = pca.transform(x_attacks)\n",
    "    max_features = list(range(1, n + 1))\n",
    "    for estimator in estimators:\n",
    "        for contamination in contaminations:\n",
    "            for max_feature in max_features:\n",
    "                classifier = IsolationForest(n_estimators=estimator,\n",
    "                                             contamination=contamination,\n",
    "                                             max_features=max_feature,\n",
    "                                            n_jobs=5)\n",
    "                \n",
    "                classifier.fit(X_reduced)\n",
    "                y_pred_train = classifier.predict(X_reduced)\n",
    "                y_pred_test = classifier.predict(test_reduced)\n",
    "                y_pred_outliers = classifier.predict(attack_reduced)\n",
    "                n_error_train = y_pred_train[y_pred_train == 1].size\n",
    "                n_error_test = y_pred_test[y_pred_test == 1].size\n",
    "                n_error_outliers = y_pred_outliers[y_pred_outliers == -1].size\n",
    "                \n",
    "                fpr, tpr, _ = metrics.roc_curve(np.concatenate([np.ones(y_pred_test.shape[0]),\n",
    "                                                 -1*np.ones(y_pred_outliers.shape[0])]), \n",
    "                                  np.concatenate([y_pred_test, y_pred_outliers]) , pos_label=1)\n",
    "\n",
    "                isolation_results = isolation_results.append({'estimators': estimator, 'contamination': contamination,\n",
    "                                                              'n_components': n, 'max_features': max_feature,\n",
    "                                                              'train_acc': n_error_train/X_reduced.shape[0],\n",
    "                                                              'test_acc': n_error_train/X_reduced.shape[0],\n",
    "                                                              'attack_acc': n_error_outliers/attack_reduced.shape[0],\n",
    "                                                              'model': 'isolation_forest',\n",
    "                                                              'auc': metrics.auc(fpr, tpr)}, ignore_index=True)"
   ]
  },
  {
   "cell_type": "code",
   "execution_count": null,
   "metadata": {},
   "outputs": [],
   "source": [
    "isolation_results['score'] = isolation_results.apply(metric, axis=1)"
   ]
  },
  {
   "cell_type": "code",
   "execution_count": null,
   "metadata": {},
   "outputs": [],
   "source": [
    "isolation_results[isolation_results['test_acc'] > isolation_results['attack_acc']].sort_values('test_acc', ascending=False).head(10)"
   ]
  },
  {
   "cell_type": "code",
   "execution_count": null,
   "metadata": {},
   "outputs": [],
   "source": [
    "isolation_results.sort_values('auc', ascending=False).head(10)"
   ]
  },
  {
   "cell_type": "markdown",
   "metadata": {},
   "source": [
    "# Let's plot ROCs"
   ]
  },
  {
   "cell_type": "code",
   "execution_count": null,
   "metadata": {},
   "outputs": [],
   "source": [
    "def plot_roc(fpr, tpr, title):\n",
    "    roc_auc = metrics.auc(fpr, tpr)\n",
    "    plt.figure()\n",
    "    lw = 2\n",
    "    plt.plot(fpr, tpr, color='darkorange',\n",
    "            lw=lw, label='ROC curve (area = %0.2f)' % roc_auc)\n",
    "    plt.plot([0, 1], [0, 1], color='navy', lw=lw, linestyle='--')\n",
    "    plt.xlim([0.0, 1.0])\n",
    "    plt.ylim([0.0, 1.05])\n",
    "    plt.xlabel('False Positive Rate')\n",
    "    plt.ylabel('True Positive Rate')\n",
    "    plt.title('Receiver operating characteristic: {}'.format(title))\n",
    "    plt.legend(loc=\"lower right\")\n",
    "    plt.show()"
   ]
  },
  {
   "cell_type": "code",
   "execution_count": null,
   "metadata": {},
   "outputs": [],
   "source": [
    "pca = PCA(n_components=4)\n",
    "X_reduced = pca.fit_transform(x_train)\n",
    "test_reduced = pca.transform(x_test)\n",
    "attack_reduced = pca.transform(x_attacks)\n",
    "\n",
    "\n",
    "classifier = svm.OneClassSVM(kernel='rbf',gamma=2, nu=0.001, cache_size=5000)\n",
    "classifier.fit(X_reduced)\n",
    "y_pred_train = classifier.predict(X_reduced)\n",
    "y_pred_test = classifier.predict(test_reduced)\n",
    "y_pred_outliers = classifier.predict(attack_reduced)\n",
    "n_accurate_train = y_pred_train[y_pred_train == 1].size\n",
    "n_accurate_test = y_pred_test[y_pred_test == 1].size\n",
    "n_accurate_outliers = y_pred_outliers[y_pred_outliers == -1].size\n",
    "\n",
    "fpr, tpr, _ = metrics.roc_curve(np.concatenate([np.ones(y_pred_test.shape[0]),\n",
    "                                                 -1*np.ones(y_pred_outliers.shape[0])]), \n",
    "                                  np.concatenate([y_pred_test, y_pred_outliers]) , pos_label=1)\n",
    "\n",
    "plot_roc(fpr, tpr, 'One Class SVM')"
   ]
  },
  {
   "cell_type": "code",
   "execution_count": null,
   "metadata": {},
   "outputs": [],
   "source": [
    "pca = PCA(n_components=2)\n",
    "X_reduced = pca.fit_transform(x_train)\n",
    "test_reduced = pca.transform(x_test)\n",
    "attack_reduced = pca.transform(x_attacks)\n",
    "\n",
    "\n",
    "classifier = IsolationForest(n_estimators=500,\n",
    "                            contamination=0.1,\n",
    "                            max_features=2,\n",
    "                            n_jobs=5)\n",
    "classifier.fit(X_reduced)\n",
    "y_pred_train = classifier.predict(X_reduced)\n",
    "y_pred_test = classifier.predict(test_reduced)\n",
    "y_pred_outliers = classifier.predict(attack_reduced)\n",
    "n_accurate_train = y_pred_train[y_pred_train == 1].size\n",
    "n_accurate_test = y_pred_test[y_pred_test == 1].size\n",
    "n_accurate_outliers = y_pred_outliers[y_pred_outliers == -1].size\n",
    "\n",
    "fpr, tpr, _ = metrics.roc_curve(np.concatenate([np.ones(y_pred_test.shape[0]),\n",
    "                                                 -1*np.ones(y_pred_outliers.shape[0])]), \n",
    "                                  np.concatenate([y_pred_test, y_pred_outliers]) , pos_label=1)\n",
    "\n",
    "plot_roc(fpr, tpr, 'Isolation Forest')"
   ]
  },
  {
   "cell_type": "code",
   "execution_count": null,
   "metadata": {},
   "outputs": [],
   "source": []
  },
  {
   "cell_type": "code",
   "execution_count": null,
   "metadata": {},
   "outputs": [],
   "source": []
  },
  {
   "cell_type": "code",
   "execution_count": null,
   "metadata": {},
   "outputs": [],
   "source": []
  }
 ],
 "metadata": {
  "kernelspec": {
   "display_name": "Python 3",
   "language": "python",
   "name": "python3"
  },
  "language_info": {
   "codemirror_mode": {
    "name": "ipython",
    "version": 3
   },
   "file_extension": ".py",
   "mimetype": "text/x-python",
   "name": "python",
   "nbconvert_exporter": "python",
   "pygments_lexer": "ipython3",
   "version": "3.6.7"
  }
 },
 "nbformat": 4,
 "nbformat_minor": 2
}
